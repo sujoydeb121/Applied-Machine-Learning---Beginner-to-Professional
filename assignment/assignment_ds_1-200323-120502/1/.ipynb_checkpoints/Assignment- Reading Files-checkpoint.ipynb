{
 "cells": [
  {
   "cell_type": "markdown",
   "metadata": {},
   "source": [
    "---\n",
    "---\n",
    "\n",
    "<center> <h1>📍 📍 Assignment: Reading Files 📍 📍</h1> </center>\n",
    "\n",
    "---\n",
    "\n",
    "#### `1. READ THE BIG MART SALES DATA`\n",
    "\n",
    "\n",
    "\n",
    "---"
   ]
  },
  {
   "cell_type": "code",
   "execution_count": 9,
   "metadata": {},
   "outputs": [],
   "source": [
    "import pandas as pd"
   ]
  },
  {
   "cell_type": "code",
   "execution_count": 15,
   "metadata": {},
   "outputs": [
    {
     "data": {
      "text/plain": "     Item_Identifier  Item_Weight Item_Fat_Content  Item_Visibility  \\\n0              FDA15        9.300          Low Fat         0.016047   \n1              DRC01        5.920          Regular         0.019278   \n2              FDN15       17.500          Low Fat         0.016760   \n3              FDX07       19.200          Regular         0.000000   \n4              NCD19        8.930          Low Fat         0.000000   \n...              ...          ...              ...              ...   \n8518           FDF22        6.865          Low Fat         0.056783   \n8519           FDS36        8.380          Regular         0.046982   \n8520           NCJ29       10.600          Low Fat         0.035186   \n8521           FDN46        7.210          Regular         0.145221   \n8522           DRG01       14.800          Low Fat         0.044878   \n\n                  Item_Type  Item_MRP Outlet_Identifier  \\\n0                     Dairy  249.8092            OUT049   \n1               Soft Drinks   48.2692            OUT018   \n2                      Meat  141.6180            OUT049   \n3     Fruits and Vegetables  182.0950            OUT010   \n4                 Household   53.8614            OUT013   \n...                     ...       ...               ...   \n8518            Snack Foods  214.5218            OUT013   \n8519           Baking Goods  108.1570            OUT045   \n8520     Health and Hygiene   85.1224            OUT035   \n8521            Snack Foods  103.1332            OUT018   \n8522            Soft Drinks   75.4670            OUT046   \n\n      Outlet_Establishment_Year Outlet_Size Outlet_Location_Type  \\\n0                          1999      Medium               Tier 1   \n1                          2009      Medium               Tier 3   \n2                          1999      Medium               Tier 1   \n3                          1998         NaN               Tier 3   \n4                          1987        High               Tier 3   \n...                         ...         ...                  ...   \n8518                       1987        High               Tier 3   \n8519                       2002         NaN               Tier 2   \n8520                       2004       Small               Tier 2   \n8521                       2009      Medium               Tier 3   \n8522                       1997       Small               Tier 1   \n\n            Outlet_Type  Item_Outlet_Sales  \n0     Supermarket Type1          3735.1380  \n1     Supermarket Type2           443.4228  \n2     Supermarket Type1          2097.2700  \n3         Grocery Store           732.3800  \n4     Supermarket Type1           994.7052  \n...                 ...                ...  \n8518  Supermarket Type1          2778.3834  \n8519  Supermarket Type1           549.2850  \n8520  Supermarket Type1          1193.1136  \n8521  Supermarket Type2          1845.5976  \n8522  Supermarket Type1           765.6700  \n\n[8523 rows x 12 columns]",
      "text/html": "<div>\n<style scoped>\n    .dataframe tbody tr th:only-of-type {\n        vertical-align: middle;\n    }\n\n    .dataframe tbody tr th {\n        vertical-align: top;\n    }\n\n    .dataframe thead th {\n        text-align: right;\n    }\n</style>\n<table border=\"1\" class=\"dataframe\">\n  <thead>\n    <tr style=\"text-align: right;\">\n      <th></th>\n      <th>Item_Identifier</th>\n      <th>Item_Weight</th>\n      <th>Item_Fat_Content</th>\n      <th>Item_Visibility</th>\n      <th>Item_Type</th>\n      <th>Item_MRP</th>\n      <th>Outlet_Identifier</th>\n      <th>Outlet_Establishment_Year</th>\n      <th>Outlet_Size</th>\n      <th>Outlet_Location_Type</th>\n      <th>Outlet_Type</th>\n      <th>Item_Outlet_Sales</th>\n    </tr>\n  </thead>\n  <tbody>\n    <tr>\n      <th>0</th>\n      <td>FDA15</td>\n      <td>9.300</td>\n      <td>Low Fat</td>\n      <td>0.016047</td>\n      <td>Dairy</td>\n      <td>249.8092</td>\n      <td>OUT049</td>\n      <td>1999</td>\n      <td>Medium</td>\n      <td>Tier 1</td>\n      <td>Supermarket Type1</td>\n      <td>3735.1380</td>\n    </tr>\n    <tr>\n      <th>1</th>\n      <td>DRC01</td>\n      <td>5.920</td>\n      <td>Regular</td>\n      <td>0.019278</td>\n      <td>Soft Drinks</td>\n      <td>48.2692</td>\n      <td>OUT018</td>\n      <td>2009</td>\n      <td>Medium</td>\n      <td>Tier 3</td>\n      <td>Supermarket Type2</td>\n      <td>443.4228</td>\n    </tr>\n    <tr>\n      <th>2</th>\n      <td>FDN15</td>\n      <td>17.500</td>\n      <td>Low Fat</td>\n      <td>0.016760</td>\n      <td>Meat</td>\n      <td>141.6180</td>\n      <td>OUT049</td>\n      <td>1999</td>\n      <td>Medium</td>\n      <td>Tier 1</td>\n      <td>Supermarket Type1</td>\n      <td>2097.2700</td>\n    </tr>\n    <tr>\n      <th>3</th>\n      <td>FDX07</td>\n      <td>19.200</td>\n      <td>Regular</td>\n      <td>0.000000</td>\n      <td>Fruits and Vegetables</td>\n      <td>182.0950</td>\n      <td>OUT010</td>\n      <td>1998</td>\n      <td>NaN</td>\n      <td>Tier 3</td>\n      <td>Grocery Store</td>\n      <td>732.3800</td>\n    </tr>\n    <tr>\n      <th>4</th>\n      <td>NCD19</td>\n      <td>8.930</td>\n      <td>Low Fat</td>\n      <td>0.000000</td>\n      <td>Household</td>\n      <td>53.8614</td>\n      <td>OUT013</td>\n      <td>1987</td>\n      <td>High</td>\n      <td>Tier 3</td>\n      <td>Supermarket Type1</td>\n      <td>994.7052</td>\n    </tr>\n    <tr>\n      <th>...</th>\n      <td>...</td>\n      <td>...</td>\n      <td>...</td>\n      <td>...</td>\n      <td>...</td>\n      <td>...</td>\n      <td>...</td>\n      <td>...</td>\n      <td>...</td>\n      <td>...</td>\n      <td>...</td>\n      <td>...</td>\n    </tr>\n    <tr>\n      <th>8518</th>\n      <td>FDF22</td>\n      <td>6.865</td>\n      <td>Low Fat</td>\n      <td>0.056783</td>\n      <td>Snack Foods</td>\n      <td>214.5218</td>\n      <td>OUT013</td>\n      <td>1987</td>\n      <td>High</td>\n      <td>Tier 3</td>\n      <td>Supermarket Type1</td>\n      <td>2778.3834</td>\n    </tr>\n    <tr>\n      <th>8519</th>\n      <td>FDS36</td>\n      <td>8.380</td>\n      <td>Regular</td>\n      <td>0.046982</td>\n      <td>Baking Goods</td>\n      <td>108.1570</td>\n      <td>OUT045</td>\n      <td>2002</td>\n      <td>NaN</td>\n      <td>Tier 2</td>\n      <td>Supermarket Type1</td>\n      <td>549.2850</td>\n    </tr>\n    <tr>\n      <th>8520</th>\n      <td>NCJ29</td>\n      <td>10.600</td>\n      <td>Low Fat</td>\n      <td>0.035186</td>\n      <td>Health and Hygiene</td>\n      <td>85.1224</td>\n      <td>OUT035</td>\n      <td>2004</td>\n      <td>Small</td>\n      <td>Tier 2</td>\n      <td>Supermarket Type1</td>\n      <td>1193.1136</td>\n    </tr>\n    <tr>\n      <th>8521</th>\n      <td>FDN46</td>\n      <td>7.210</td>\n      <td>Regular</td>\n      <td>0.145221</td>\n      <td>Snack Foods</td>\n      <td>103.1332</td>\n      <td>OUT018</td>\n      <td>2009</td>\n      <td>Medium</td>\n      <td>Tier 3</td>\n      <td>Supermarket Type2</td>\n      <td>1845.5976</td>\n    </tr>\n    <tr>\n      <th>8522</th>\n      <td>DRG01</td>\n      <td>14.800</td>\n      <td>Low Fat</td>\n      <td>0.044878</td>\n      <td>Soft Drinks</td>\n      <td>75.4670</td>\n      <td>OUT046</td>\n      <td>1997</td>\n      <td>Small</td>\n      <td>Tier 1</td>\n      <td>Supermarket Type1</td>\n      <td>765.6700</td>\n    </tr>\n  </tbody>\n</table>\n<p>8523 rows × 12 columns</p>\n</div>"
     },
     "execution_count": 15,
     "metadata": {},
     "output_type": "execute_result"
    }
   ],
   "source": [
    "data = pd.read_csv('../dataset/big_mart_sales.csv', sep=',', skiprows=5)\n",
    "data"
   ]
  },
  {
   "cell_type": "markdown",
   "metadata": {},
   "source": [
    "---\n",
    "\n",
    "***So, we are getting an error. You task is to find out the error and read the file using pandas. Here is the screenshot of the CSV file.***\n",
    "\n",
    "![](images/csv.png)\n",
    "\n",
    "---"
   ]
  },
  {
   "cell_type": "code",
   "execution_count": 3,
   "metadata": {},
   "outputs": [],
   "source": [
    "### WRITE YOUR CODE HERE"
   ]
  },
  {
   "cell_type": "markdown",
   "metadata": {},
   "source": [
    "----\n",
    "\n",
    "####  `2. READ THE JSON DATA`\n",
    "\n",
    "----"
   ]
  },
  {
   "cell_type": "code",
   "execution_count": 18,
   "metadata": {},
   "outputs": [
    {
     "data": {
      "text/plain": "       name  age grade\n0     Andew   12     A\n1    Bhuvan   18     B\n2   Clinton   11     A\n3     Drake   12     C\n4     Eisha   13     B\n5    Farhan   22     C\n6    Garima   11     A\n7  Himanshu   19     A\n8    Ishaan   10     D\n9     Jason    9     B",
      "text/html": "<div>\n<style scoped>\n    .dataframe tbody tr th:only-of-type {\n        vertical-align: middle;\n    }\n\n    .dataframe tbody tr th {\n        vertical-align: top;\n    }\n\n    .dataframe thead th {\n        text-align: right;\n    }\n</style>\n<table border=\"1\" class=\"dataframe\">\n  <thead>\n    <tr style=\"text-align: right;\">\n      <th></th>\n      <th>name</th>\n      <th>age</th>\n      <th>grade</th>\n    </tr>\n  </thead>\n  <tbody>\n    <tr>\n      <th>0</th>\n      <td>Andew</td>\n      <td>12</td>\n      <td>A</td>\n    </tr>\n    <tr>\n      <th>1</th>\n      <td>Bhuvan</td>\n      <td>18</td>\n      <td>B</td>\n    </tr>\n    <tr>\n      <th>2</th>\n      <td>Clinton</td>\n      <td>11</td>\n      <td>A</td>\n    </tr>\n    <tr>\n      <th>3</th>\n      <td>Drake</td>\n      <td>12</td>\n      <td>C</td>\n    </tr>\n    <tr>\n      <th>4</th>\n      <td>Eisha</td>\n      <td>13</td>\n      <td>B</td>\n    </tr>\n    <tr>\n      <th>5</th>\n      <td>Farhan</td>\n      <td>22</td>\n      <td>C</td>\n    </tr>\n    <tr>\n      <th>6</th>\n      <td>Garima</td>\n      <td>11</td>\n      <td>A</td>\n    </tr>\n    <tr>\n      <th>7</th>\n      <td>Himanshu</td>\n      <td>19</td>\n      <td>A</td>\n    </tr>\n    <tr>\n      <th>8</th>\n      <td>Ishaan</td>\n      <td>10</td>\n      <td>D</td>\n    </tr>\n    <tr>\n      <th>9</th>\n      <td>Jason</td>\n      <td>9</td>\n      <td>B</td>\n    </tr>\n  </tbody>\n</table>\n</div>"
     },
     "execution_count": 18,
     "metadata": {},
     "output_type": "execute_result"
    }
   ],
   "source": [
    "# read the json file\n",
    "json_data = pd.read_json('../dataset/simple.json', lines=True)\n",
    "json_data"
   ]
  },
  {
   "cell_type": "markdown",
   "metadata": {},
   "source": [
    "---\n",
    "\n",
    "***Open the JSON file in the text editor and see what can you do to read the file.***\n",
    "\n",
    "---"
   ]
  },
  {
   "cell_type": "code",
   "execution_count": 7,
   "metadata": {},
   "outputs": [],
   "source": [
    "#### WRITE YOUR CODE HERE"
   ]
  },
  {
   "cell_type": "code",
   "execution_count": 20,
   "metadata": {},
   "outputs": [
    {
     "data": {
      "text/plain": "      name  age grade\n0    Andew   12     A\n1   Bhuvan   18     B\n2  Clinton   11     A\n3    Drake   12     C\n4    Eisha   13     B",
      "text/html": "<div>\n<style scoped>\n    .dataframe tbody tr th:only-of-type {\n        vertical-align: middle;\n    }\n\n    .dataframe tbody tr th {\n        vertical-align: top;\n    }\n\n    .dataframe thead th {\n        text-align: right;\n    }\n</style>\n<table border=\"1\" class=\"dataframe\">\n  <thead>\n    <tr style=\"text-align: right;\">\n      <th></th>\n      <th>name</th>\n      <th>age</th>\n      <th>grade</th>\n    </tr>\n  </thead>\n  <tbody>\n    <tr>\n      <th>0</th>\n      <td>Andew</td>\n      <td>12</td>\n      <td>A</td>\n    </tr>\n    <tr>\n      <th>1</th>\n      <td>Bhuvan</td>\n      <td>18</td>\n      <td>B</td>\n    </tr>\n    <tr>\n      <th>2</th>\n      <td>Clinton</td>\n      <td>11</td>\n      <td>A</td>\n    </tr>\n    <tr>\n      <th>3</th>\n      <td>Drake</td>\n      <td>12</td>\n      <td>C</td>\n    </tr>\n    <tr>\n      <th>4</th>\n      <td>Eisha</td>\n      <td>13</td>\n      <td>B</td>\n    </tr>\n  </tbody>\n</table>\n</div>"
     },
     "execution_count": 20,
     "metadata": {},
     "output_type": "execute_result"
    }
   ],
   "source": [
    "json_data.head()\n"
   ]
  },
  {
   "cell_type": "code",
   "execution_count": 21,
   "outputs": [
    {
     "data": {
      "text/plain": "<bound method DataFrame.info of        name  age grade\n0     Andew   12     A\n1    Bhuvan   18     B\n2   Clinton   11     A\n3     Drake   12     C\n4     Eisha   13     B\n5    Farhan   22     C\n6    Garima   11     A\n7  Himanshu   19     A\n8    Ishaan   10     D\n9     Jason    9     B>"
     },
     "execution_count": 21,
     "metadata": {},
     "output_type": "execute_result"
    }
   ],
   "source": [
    "json_data.info\n"
   ],
   "metadata": {
    "collapsed": false
   }
  },
  {
   "cell_type": "code",
   "execution_count": 22,
   "outputs": [
    {
     "data": {
      "text/plain": "RangeIndex(start=0, stop=10, step=1)"
     },
     "execution_count": 22,
     "metadata": {},
     "output_type": "execute_result"
    }
   ],
   "source": [
    "json_data.index\n"
   ],
   "metadata": {
    "collapsed": false
   }
  },
  {
   "cell_type": "code",
   "execution_count": null,
   "outputs": [],
   "source": [],
   "metadata": {
    "collapsed": false
   }
  }
 ],
 "metadata": {
  "kernelspec": {
   "display_name": "Python 3",
   "language": "python",
   "name": "python3"
  },
  "language_info": {
   "codemirror_mode": {
    "name": "ipython",
    "version": 3
   },
   "file_extension": ".py",
   "mimetype": "text/x-python",
   "name": "python",
   "nbconvert_exporter": "python",
   "pygments_lexer": "ipython3",
   "version": "3.7.3"
  }
 },
 "nbformat": 4,
 "nbformat_minor": 2
}
