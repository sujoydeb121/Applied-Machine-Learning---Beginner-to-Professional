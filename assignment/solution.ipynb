{
 "cells": [
  {
   "cell_type": "code",
   "execution_count": 222,
   "metadata": {
    "collapsed": true
   },
   "outputs": [],
   "source": [
    "student_marks = [\n",
    "    ['Name', ['A', 'B', \"C\", \"D\", \"E\"]],\n",
    "    ['Ankit', [41,  34, 45, 55, 65]],\n",
    "    ['Aravind',[42, 23, 34, 44, 53]],\n",
    "    ['lakshay',[32, 23, 13, 54, 67]],\n",
    "    ['Gyan',   [23, 82, 23, 63,  34]],\n",
    "    ['Pranav', [21, 23, 25, 56, 56]]\n",
    "]\n"
   ]
  },
  {
   "cell_type": "markdown",
   "source": [
    "\n",
    "- Who scored the highest marks in the subject B?\n",
    "- What is the average marks scored in the subject C?\n",
    "- Who scored the highest percentage of marks?\n",
    "- If considered only top-4 subjects of a candidate, then who scored the highest\n",
    "percentage of marks?"
   ],
   "metadata": {
    "collapsed": false
   }
  },
  {
   "cell_type": "markdown",
   "source": [],
   "metadata": {
    "collapsed": false
   }
  },
  {
   "cell_type": "markdown",
   "source": [],
   "metadata": {
    "collapsed": false
   }
  },
  {
   "cell_type": "code",
   "execution_count": 223,
   "outputs": [],
   "source": [
    "# list to store the marks\n",
    "student_with_marks_in_B = []\n",
    "for marks in student_marks[1:]:\n",
    "    name = marks[0]\n",
    "    marks_in_B = marks[1][1]\n",
    "\n",
    "    student_with_marks_in_B.append([marks_in_B, name])"
   ],
   "metadata": {
    "collapsed": false
   }
  },
  {
   "cell_type": "code",
   "execution_count": 224,
   "outputs": [
    {
     "data": {
      "text/plain": "[[34, 'Ankit'], [23, 'Aravind'], [23, 'lakshay'], [82, 'Gyan'], [23, 'Pranav']]"
     },
     "execution_count": 224,
     "metadata": {},
     "output_type": "execute_result"
    }
   ],
   "source": [
    "student_with_marks_in_B"
   ],
   "metadata": {
    "collapsed": false
   }
  },
  {
   "cell_type": "code",
   "execution_count": 225,
   "outputs": [
    {
     "data": {
      "text/plain": "[82, 'Gyan']"
     },
     "execution_count": 225,
     "metadata": {},
     "output_type": "execute_result"
    }
   ],
   "source": [
    "highest_mark_b = sorted(student_with_marks_in_B,reverse=True)[0]\n",
    "highest_mark_b"
   ],
   "metadata": {
    "collapsed": false
   }
  },
  {
   "cell_type": "code",
   "execution_count": 226,
   "outputs": [],
   "source": [
    "marks_of_C = []\n",
    "for items in student_marks[1:]:\n",
    "    marks_of_C.append(items[1][2])\n"
   ],
   "metadata": {
    "collapsed": false
   }
  },
  {
   "cell_type": "code",
   "execution_count": 227,
   "outputs": [
    {
     "data": {
      "text/plain": "[45, 34, 13, 23, 25]"
     },
     "execution_count": 227,
     "metadata": {},
     "output_type": "execute_result"
    }
   ],
   "source": [
    "marks_of_C"
   ],
   "metadata": {
    "collapsed": false
   }
  },
  {
   "cell_type": "code",
   "execution_count": 228,
   "outputs": [
    {
     "name": "stdout",
     "output_type": "stream",
     "text": [
      "the average marks scored in c:  28.0\n"
     ]
    }
   ],
   "source": [
    "average_marks_in_c = sum(marks_of_C) / (len(student_marks) - 1)\n",
    "print('the average marks scored in c: ', average_marks_in_c)"
   ],
   "metadata": {
    "collapsed": false
   }
  },
  {
   "cell_type": "code",
   "execution_count": 229,
   "outputs": [],
   "source": [
    "# Who scored the highest percentage of marks??\n",
    "highest_mark_total = []\n",
    "for marks in student_marks[1:]:\n",
    "    # print(marks)\n",
    "    sums = 0\n",
    "    name = marks[0]\n",
    "    for items in marks[1:]:\n",
    "        sums += sum(items)\n",
    "        highest_mark_total.append([sums, name])\n",
    "\n"
   ],
   "metadata": {
    "collapsed": false
   }
  },
  {
   "cell_type": "code",
   "execution_count": 230,
   "outputs": [
    {
     "data": {
      "text/plain": "[[240, 'Ankit'],\n [196, 'Aravind'],\n [189, 'lakshay'],\n [225, 'Gyan'],\n [181, 'Pranav']]"
     },
     "execution_count": 230,
     "metadata": {},
     "output_type": "execute_result"
    }
   ],
   "source": [
    "highest_mark_total"
   ],
   "metadata": {
    "collapsed": false
   }
  },
  {
   "cell_type": "code",
   "execution_count": 230,
   "outputs": [],
   "source": [],
   "metadata": {
    "collapsed": false
   }
  },
  {
   "cell_type": "code",
   "execution_count": 231,
   "outputs": [
    {
     "name": "stdout",
     "output_type": "stream",
     "text": [
      "the highest marks scored [240, 'Ankit']\n"
     ]
    }
   ],
   "source": [
    "print('the highest marks scored', max(highest_mark_total))"
   ],
   "metadata": {
    "collapsed": false
   }
  },
  {
   "cell_type": "code",
   "execution_count": 232,
   "outputs": [],
   "source": [
    "# If considered only top-4 subjects of a candidate, then who scored the highest\n",
    "# percentage of marks?\n"
   ],
   "metadata": {
    "collapsed": false
   }
  },
  {
   "cell_type": "code",
   "execution_count": 233,
   "outputs": [
    {
     "data": {
      "text/plain": "[['Ankit', [65, 55, 45, 41, 34]],\n ['Aravind', [53, 44, 42, 34, 23]],\n ['lakshay', [67, 54, 32, 23, 13]],\n ['Gyan', [82, 63, 34, 23, 23]],\n ['Pranav', [56, 56, 25, 23, 21]]]"
     },
     "execution_count": 233,
     "metadata": {},
     "output_type": "execute_result"
    }
   ],
   "source": [
    "marks_in_all = []\n",
    "for marks in student_marks[1:]:\n",
    "    # print(marks)\n",
    "    name = marks[0]\n",
    "    for items in marks[1:]:\n",
    "       # sorted(items)\n",
    "       marks_in_all.append([name, sorted(items, reverse=True)])\n",
    "\n",
    "marks_in_all"
   ],
   "metadata": {
    "collapsed": false
   }
  },
  {
   "cell_type": "code",
   "execution_count": 234,
   "outputs": [
    {
     "data": {
      "text/plain": "[[206, 'Ankit'],\n [173, 'Aravind'],\n [176, 'lakshay'],\n [202, 'Gyan'],\n [160, 'Pranav']]"
     },
     "execution_count": 234,
     "metadata": {},
     "output_type": "execute_result"
    }
   ],
   "source": [
    "marks_top_4 = []\n",
    "for m in marks_in_all:\n",
    "    name = m[0]\n",
    "    for i in m[1:]:\n",
    "        sums = 0\n",
    "        for j in i[:-1]:\n",
    "            # print(j)\n",
    "            sums += j\n",
    "        marks_top_4.append([sums, name])\n",
    "marks_top_4"
   ],
   "metadata": {
    "collapsed": false
   }
  },
  {
   "cell_type": "code",
   "execution_count": 235,
   "outputs": [
    {
     "name": "stdout",
     "output_type": "stream",
     "text": [
      "the student with highest mark with top four sub:  Ankit\n"
     ]
    }
   ],
   "source": [
    "print(\"the student with highest mark with top four sub: \", max(marks_top_4)[1])"
   ],
   "metadata": {
    "collapsed": false
   }
  },
  {
   "cell_type": "code",
   "execution_count": 235,
   "outputs": [],
   "source": [],
   "metadata": {
    "collapsed": false
   }
  },
  {
   "cell_type": "code",
   "execution_count": 235,
   "outputs": [],
   "source": [],
   "metadata": {
    "collapsed": false
   }
  },
  {
   "cell_type": "code",
   "execution_count": 235,
   "outputs": [],
   "source": [],
   "metadata": {
    "collapsed": false
   }
  }
 ],
 "metadata": {
  "kernelspec": {
   "display_name": "Python 3",
   "language": "python",
   "name": "python3"
  },
  "language_info": {
   "codemirror_mode": {
    "name": "ipython",
    "version": 2
   },
   "file_extension": ".py",
   "mimetype": "text/x-python",
   "name": "python",
   "nbconvert_exporter": "python",
   "pygments_lexer": "ipython2",
   "version": "2.7.6"
  }
 },
 "nbformat": 4,
 "nbformat_minor": 0
}
