{
 "nbformat": 4,
 "nbformat_minor": 0,
 "metadata": {
  "kernelspec": {
   "display_name": "Python 3",
   "language": "python",
   "name": "python3"
  },
  "language_info": {
   "codemirror_mode": {
    "name": "ipython",
    "version": 3
   },
   "file_extension": ".py",
   "mimetype": "text/x-python",
   "name": "python",
   "nbconvert_exporter": "python",
   "pygments_lexer": "ipython3",
   "version": "3.7.3"
  },
  "colab": {
   "name": "2. Conditional Statements.ipynb",
   "provenance": []
  }
 },
 "cells": [
  {
   "cell_type": "markdown",
   "metadata": {
    "id": "y0SA9Evx0A7m",
    "colab_type": "text"
   },
   "source": [
    "---\n",
    "\n",
    "## 📌📌 Indentation and Comments in Python\n",
    "\n",
    "***Before we start Conditional Statements, let's have a look at `indentation` and `comments` in Python.***\n",
    "\n",
    "#### `INDENTATION`\n",
    "\n",
    "\n",
    " - Indentation means `(spaces and tabs)` that are used at the beginning of any statement. The statements with the same indentation belong to the same group also called as `suite`. \n",
    "\n",
    "---"
   ]
  },
  {
   "cell_type": "code",
   "metadata": {
    "id": "XNZdtCFi0A7v",
    "colab_type": "code",
    "colab": {},
    "outputId": "a9547e32-cdb1-49e4-c680-3d1170a23e83"
   },
   "source": [
    "a = 5\n",
    "b = 6 # unexpected extra space will give us an error"
   ],
   "execution_count": 1,
   "outputs": []
  },
  {
   "cell_type": "code",
   "metadata": {
    "id": "LlBHrpqe0A8K",
    "colab_type": "code",
    "colab": {},
    "outputId": "75575af8-9e94-4e04-c7bf-89d3161f1292"
   },
   "source": [
    "if (2 == 2):\n",
    "    print('True Statement')"
   ],
   "execution_count": 4,
   "outputs": [
    {
     "name": "stdout",
     "output_type": "stream",
     "text": [
      "True Statement\n"
     ]
    }
   ]
  },
  {
   "cell_type": "markdown",
   "metadata": {
    "id": "Z1MpYst20A8c",
    "colab_type": "text"
   },
   "source": [
    "***The above code snippet contains the `if` statement which expects to perform some lines of code if the condition is true. So, all of that code should belong to a group which python finds out by `indented` block of code.***\n",
    "\n",
    "---"
   ]
  },
  {
   "cell_type": "code",
   "metadata": {
    "id": "dm2r9ozf0A8h",
    "colab_type": "code",
    "colab": {},
    "outputId": "4d1ab61f-eade-4c3b-e698-51426b508ae5"
   },
   "source": [
    "if (2 == 2):\n",
    "    print('True Statement')"
   ],
   "execution_count": 5,
   "outputs": [
    {
     "name": "stdout",
     "output_type": "stream",
     "text": [
      "True Statement\n"
     ]
    }
   ]
  },
  {
   "cell_type": "markdown",
   "metadata": {
    "id": "nkDiSUxF0A8x",
    "colab_type": "text"
   },
   "source": [
    "---\n",
    "\n",
    "#### `COMMENTS`\n",
    "\n",
    "To write a comment in Python, simply put the hash mark # before your desired comment:\n",
    "\n",
    "---"
   ]
  },
  {
   "cell_type": "code",
   "metadata": {
    "id": "Gr0loO_h0A82",
    "colab_type": "code",
    "colab": {},
    "outputId": "9a1c0769-eb04-4171-91ae-38455b6c909c"
   },
   "source": [
    "print('This line will be executed')\n",
    "# print('This is a comment')\n",
    "# This line does nothing !!!"
   ],
   "execution_count": 0,
   "outputs": [
    {
     "output_type": "stream",
     "text": [
      "This line will be executed\n"
     ],
     "name": "stdout"
    }
   ]
  },
  {
   "cell_type": "markdown",
   "metadata": {
    "id": "lL6Wgn9C0A9F",
    "colab_type": "text"
   },
   "source": [
    "---\n",
    "\n",
    "<center><h1> 📍 📍 Conditional Statements 📍 📍 </h1></center>\n",
    "\n",
    "\n",
    "---\n",
    "***CONDITIONAL OPERATORS***\n",
    "\n",
    "* ***Double Equals:*** a == b\n",
    "* ***Not Equals:*** a != b\n",
    "* ***Less than:*** a < b\n",
    "* ***Less than or equal to:*** a <= b\n",
    "* ***Greater than:*** a > b\n",
    "* ***Greater than or equal to:*** a >= b\n",
    "\n",
    "\n",
    "---"
   ]
  },
  {
   "cell_type": "code",
   "metadata": {
    "id": "0Zbslyf20A9K",
    "colab_type": "code",
    "colab": {},
    "outputId": "226d99f2-c51c-4bdd-cd36-71a5b17a3272"
   },
   "source": [
    "# if statement\n",
    "\n",
    "x = 1\n",
    "\n",
    "if x == 1:\n",
    "    print('The condition in the if statement is True.')"
   ],
   "execution_count": 6,
   "outputs": [
    {
     "name": "stdout",
     "output_type": "stream",
     "text": [
      "The condition in the if statement is True.\n"
     ]
    }
   ]
  },
  {
   "cell_type": "code",
   "metadata": {
    "id": "ZjzLtBYQ0A9W",
    "colab_type": "code",
    "colab": {}
   },
   "source": [
    "# if \"The condition in the if statement is False\"\n",
    "\n",
    "if x == 3:\n",
    "    print('The condition in the if statement is True')\n",
    "    \n",
    "# Here we will not get any output."
   ],
   "execution_count": 7,
   "outputs": []
  },
  {
   "cell_type": "code",
   "metadata": {
    "id": "1dP6DdZW0A9i",
    "colab_type": "code",
    "colab": {},
    "outputId": "9d6f00b3-360e-42d0-9e8f-61d65cb2bdb4"
   },
   "source": [
    "# with one condition\n",
    "a = 5\n",
    "b = 10\n",
    "\n",
    "if a > b:\n",
    "    print('a is greater than b.')\n",
    "else :\n",
    "    print('a is smaller than b.')"
   ],
   "execution_count": 8,
   "outputs": [
    {
     "name": "stdout",
     "output_type": "stream",
     "text": [
      "a is smaller than b.\n"
     ]
    }
   ]
  },
  {
   "cell_type": "code",
   "metadata": {
    "id": "po4ObPfb0A9y",
    "colab_type": "code",
    "colab": {},
    "outputId": "13725a01-6ba8-4c08-c5bb-ede2c25af486"
   },
   "source": [
    "# multiple conditions\n",
    "a = 8\n",
    "b = 10\n",
    "\n",
    "if (a > 10) and (b > 10):\n",
    "    print('Both the numbers are greater than 10.')\n",
    "    \n",
    "elif (a > 5) and (b > 5):\n",
    "    print('Both the numbers are greater than 5')\n",
    "    \n",
    "else:\n",
    "    print('Conditions are not Satisfied.')"
   ],
   "execution_count": 0,
   "outputs": [
    {
     "output_type": "stream",
     "text": [
      "Both the numbers are greater than 5\n"
     ],
     "name": "stdout"
    }
   ]
  },
  {
   "cell_type": "markdown",
   "metadata": {
    "id": "5MKz8yyX0A98",
    "colab_type": "text"
   },
   "source": [
    "#### 📍 📍 Problem 1 : Take an input from a user in variable x and print \"Even\" if the number is divisible by 2, otherwise print \"Odd\".\n",
    "\n",
    "---"
   ]
  },
  {
   "cell_type": "code",
   "metadata": {
    "id": "3NrAps7b0A-C",
    "colab_type": "code",
    "colab": {},
    "outputId": "851a8a5e-78e2-437a-de95-b3440674fa94"
   },
   "source": [
    "# take the input from the user by using the input function\n",
    "x = input()\n",
    "\n",
    "# by default the type is string, so we need to convert the type first\n",
    "x = int(x)\n",
    "\n",
    "if x % 2 == 0:\n",
    "    print(\"Even\")\n",
    "else:\n",
    "    print(\"Odd\")"
   ],
   "execution_count": 0,
   "outputs": [
    {
     "output_type": "stream",
     "text": [
      "22\n",
      "Even\n"
     ],
     "name": "stdout"
    }
   ]
  },
  {
   "cell_type": "markdown",
   "metadata": {
    "id": "bh6THx4G0A-P",
    "colab_type": "text"
   },
   "source": [
    "#### 📍 📍Problem 2 : Take input from the user in variable y and print \"`Grade A`\" if y is greater than 90, \"`Grade B`\" if y is greater than 60 but less than or equal to 90 and \"`Grade F`\" Otherwise.\n",
    "\n",
    "---"
   ]
  },
  {
   "cell_type": "code",
   "metadata": {
    "id": "_5NJRM1Q0A-S",
    "colab_type": "code",
    "colab": {
     "base_uri": "https://localhost:8080/",
     "height": 52
    },
    "outputId": "b12424d7-69b5-4d57-89e9-8c8cd8bc561a",
    "executionInfo": {
     "status": "ok",
     "timestamp": 1584361278610,
     "user_tz": -330,
     "elapsed": 18769,
     "user": {
      "displayName": "Abhiraj Suresh",
      "photoUrl": "",
      "userId": "02561716271917562052"
     }
    }
   },
   "source": [
    "# take the input from the user by using the input function\n",
    "y = input()\n",
    "\n",
    "# by default the type is string, so we need to convert the type first\n",
    "y = int(y)\n",
    "\n",
    "if y > 90:\n",
    "    print(\"Grade A\")\n",
    "\n",
    "elif y > 60:\n",
    "    print(\"Grade B\")\n",
    "\n",
    "else:\n",
    "    print(\"Grade F\")"
   ],
   "execution_count": 9,
   "outputs": [
    {
     "ename": "ValueError",
     "evalue": "invalid literal for int() with base 10: ''",
     "output_type": "error",
     "traceback": [
      "\u001B[1;31m---------------------------------------------------------------------------\u001B[0m",
      "\u001B[1;31mValueError\u001B[0m                                Traceback (most recent call last)",
      "Cell \u001B[1;32mIn[9], line 5\u001B[0m\n\u001B[0;32m      2\u001B[0m y \u001B[38;5;241m=\u001B[39m \u001B[38;5;28minput\u001B[39m()\n\u001B[0;32m      4\u001B[0m \u001B[38;5;66;03m# by default the type is string, so we need to convert the type first\u001B[39;00m\n\u001B[1;32m----> 5\u001B[0m y \u001B[38;5;241m=\u001B[39m \u001B[38;5;28;43mint\u001B[39;49m\u001B[43m(\u001B[49m\u001B[43my\u001B[49m\u001B[43m)\u001B[49m\n\u001B[0;32m      7\u001B[0m \u001B[38;5;28;01mif\u001B[39;00m y \u001B[38;5;241m>\u001B[39m \u001B[38;5;241m90\u001B[39m:\n\u001B[0;32m      8\u001B[0m     \u001B[38;5;28mprint\u001B[39m(\u001B[38;5;124m\"\u001B[39m\u001B[38;5;124mGrade A\u001B[39m\u001B[38;5;124m\"\u001B[39m)\n",
      "\u001B[1;31mValueError\u001B[0m: invalid literal for int() with base 10: ''"
     ]
    }
   ]
  },
  {
   "cell_type": "code",
   "metadata": {
    "id": "lIPUVB_T0A-d",
    "colab_type": "code",
    "colab": {}
   },
   "source": [],
   "execution_count": 0,
   "outputs": []
  }
 ]
}
