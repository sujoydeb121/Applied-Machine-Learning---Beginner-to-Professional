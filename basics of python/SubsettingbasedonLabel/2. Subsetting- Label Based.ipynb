{
 "cells": [
  {
   "cell_type": "markdown",
   "metadata": {},
   "source": [
    "---\n",
    "---\n",
    "\n",
    "<center><h1>📍 📍 Subsetting: Label Based 📍 📍</h1></center>\n",
    "\n",
    "---\n",
    "\n",
    "\n",
    "### `TABLE OF CONTENTS`\n",
    "\n",
    "- How to select rows using the label of the index?\n",
    "- Difference between loc and iloc  \n",
    "  \n",
    "\n",
    "---\n",
    "\n",
    "####  `READ THE DATA`\n",
    "\n",
    "- In this notebook, we are going to use the big mart sales data that we have used previously. It is stored in the folder name `datasets`.\n",
    "---"
   ]
  },
  {
   "cell_type": "code",
   "execution_count": 4,
   "metadata": {},
   "outputs": [],
   "source": [
    "# import the pandas library\n",
    "import pandas as pd "
   ]
  },
  {
   "cell_type": "code",
   "execution_count": 5,
   "metadata": {},
   "outputs": [],
   "source": [
    "# read the big mart sales data\n",
    "data = pd.read_csv('datasets/big_mart_sales.csv')"
   ]
  },
  {
   "cell_type": "code",
   "execution_count": 7,
   "metadata": {},
   "outputs": [
    {
     "data": {
      "text/plain": "  Item_Identifier  Item_Weight Item_Fat_Content  Item_Visibility  \\\n0           FDA15         9.30          Low Fat         0.016047   \n1           DRC01         5.92          Regular         0.019278   \n2           FDN15        17.50          Low Fat         0.016760   \n3           FDX07        19.20          Regular         0.000000   \n4           NCD19         8.93          Low Fat         0.000000   \n\n               Item_Type  Item_MRP Outlet_Identifier  \\\n0                  Dairy  249.8092            OUT049   \n1            Soft Drinks   48.2692            OUT018   \n2                   Meat  141.6180            OUT049   \n3  Fruits and Vegetables  182.0950            OUT010   \n4              Household   53.8614            OUT013   \n\n   Outlet_Establishment_Year Outlet_Size Outlet_Location_Type  \\\n0                       1999      Medium               Tier 1   \n1                       2009      Medium               Tier 3   \n2                       1999      Medium               Tier 1   \n3                       1998         NaN               Tier 3   \n4                       1987        High               Tier 3   \n\n         Outlet_Type  Item_Outlet_Sales  \n0  Supermarket Type1          3735.1380  \n1  Supermarket Type2           443.4228  \n2  Supermarket Type1          2097.2700  \n3      Grocery Store           732.3800  \n4  Supermarket Type1           994.7052  ",
      "text/html": "<div>\n<style scoped>\n    .dataframe tbody tr th:only-of-type {\n        vertical-align: middle;\n    }\n\n    .dataframe tbody tr th {\n        vertical-align: top;\n    }\n\n    .dataframe thead th {\n        text-align: right;\n    }\n</style>\n<table border=\"1\" class=\"dataframe\">\n  <thead>\n    <tr style=\"text-align: right;\">\n      <th></th>\n      <th>Item_Identifier</th>\n      <th>Item_Weight</th>\n      <th>Item_Fat_Content</th>\n      <th>Item_Visibility</th>\n      <th>Item_Type</th>\n      <th>Item_MRP</th>\n      <th>Outlet_Identifier</th>\n      <th>Outlet_Establishment_Year</th>\n      <th>Outlet_Size</th>\n      <th>Outlet_Location_Type</th>\n      <th>Outlet_Type</th>\n      <th>Item_Outlet_Sales</th>\n    </tr>\n  </thead>\n  <tbody>\n    <tr>\n      <th>0</th>\n      <td>FDA15</td>\n      <td>9.30</td>\n      <td>Low Fat</td>\n      <td>0.016047</td>\n      <td>Dairy</td>\n      <td>249.8092</td>\n      <td>OUT049</td>\n      <td>1999</td>\n      <td>Medium</td>\n      <td>Tier 1</td>\n      <td>Supermarket Type1</td>\n      <td>3735.1380</td>\n    </tr>\n    <tr>\n      <th>1</th>\n      <td>DRC01</td>\n      <td>5.92</td>\n      <td>Regular</td>\n      <td>0.019278</td>\n      <td>Soft Drinks</td>\n      <td>48.2692</td>\n      <td>OUT018</td>\n      <td>2009</td>\n      <td>Medium</td>\n      <td>Tier 3</td>\n      <td>Supermarket Type2</td>\n      <td>443.4228</td>\n    </tr>\n    <tr>\n      <th>2</th>\n      <td>FDN15</td>\n      <td>17.50</td>\n      <td>Low Fat</td>\n      <td>0.016760</td>\n      <td>Meat</td>\n      <td>141.6180</td>\n      <td>OUT049</td>\n      <td>1999</td>\n      <td>Medium</td>\n      <td>Tier 1</td>\n      <td>Supermarket Type1</td>\n      <td>2097.2700</td>\n    </tr>\n    <tr>\n      <th>3</th>\n      <td>FDX07</td>\n      <td>19.20</td>\n      <td>Regular</td>\n      <td>0.000000</td>\n      <td>Fruits and Vegetables</td>\n      <td>182.0950</td>\n      <td>OUT010</td>\n      <td>1998</td>\n      <td>NaN</td>\n      <td>Tier 3</td>\n      <td>Grocery Store</td>\n      <td>732.3800</td>\n    </tr>\n    <tr>\n      <th>4</th>\n      <td>NCD19</td>\n      <td>8.93</td>\n      <td>Low Fat</td>\n      <td>0.000000</td>\n      <td>Household</td>\n      <td>53.8614</td>\n      <td>OUT013</td>\n      <td>1987</td>\n      <td>High</td>\n      <td>Tier 3</td>\n      <td>Supermarket Type1</td>\n      <td>994.7052</td>\n    </tr>\n  </tbody>\n</table>\n</div>"
     },
     "execution_count": 7,
     "metadata": {},
     "output_type": "execute_result"
    }
   ],
   "source": [
    "data.head()"
   ]
  },
  {
   "cell_type": "code",
   "execution_count": 8,
   "metadata": {},
   "outputs": [],
   "source": [
    "# set the Item_Identifier as the index of the dataframe.\n",
    "# data.set_index('Item_Identifier',inplace=True, drop=True)\n",
    "data.set_index('Item_Identifier', inplace=True, drop=True)"
   ]
  },
  {
   "cell_type": "code",
   "execution_count": 9,
   "metadata": {},
   "outputs": [
    {
     "data": {
      "text/plain": "                 Item_Weight Item_Fat_Content  Item_Visibility  \\\nItem_Identifier                                                  \nFDA15                   9.30          Low Fat         0.016047   \nDRC01                   5.92          Regular         0.019278   \nFDN15                  17.50          Low Fat         0.016760   \nFDX07                  19.20          Regular         0.000000   \nNCD19                   8.93          Low Fat         0.000000   \n\n                             Item_Type  Item_MRP Outlet_Identifier  \\\nItem_Identifier                                                      \nFDA15                            Dairy  249.8092            OUT049   \nDRC01                      Soft Drinks   48.2692            OUT018   \nFDN15                             Meat  141.6180            OUT049   \nFDX07            Fruits and Vegetables  182.0950            OUT010   \nNCD19                        Household   53.8614            OUT013   \n\n                 Outlet_Establishment_Year Outlet_Size Outlet_Location_Type  \\\nItem_Identifier                                                               \nFDA15                                 1999      Medium               Tier 1   \nDRC01                                 2009      Medium               Tier 3   \nFDN15                                 1999      Medium               Tier 1   \nFDX07                                 1998         NaN               Tier 3   \nNCD19                                 1987        High               Tier 3   \n\n                       Outlet_Type  Item_Outlet_Sales  \nItem_Identifier                                        \nFDA15            Supermarket Type1          3735.1380  \nDRC01            Supermarket Type2           443.4228  \nFDN15            Supermarket Type1          2097.2700  \nFDX07                Grocery Store           732.3800  \nNCD19            Supermarket Type1           994.7052  ",
      "text/html": "<div>\n<style scoped>\n    .dataframe tbody tr th:only-of-type {\n        vertical-align: middle;\n    }\n\n    .dataframe tbody tr th {\n        vertical-align: top;\n    }\n\n    .dataframe thead th {\n        text-align: right;\n    }\n</style>\n<table border=\"1\" class=\"dataframe\">\n  <thead>\n    <tr style=\"text-align: right;\">\n      <th></th>\n      <th>Item_Weight</th>\n      <th>Item_Fat_Content</th>\n      <th>Item_Visibility</th>\n      <th>Item_Type</th>\n      <th>Item_MRP</th>\n      <th>Outlet_Identifier</th>\n      <th>Outlet_Establishment_Year</th>\n      <th>Outlet_Size</th>\n      <th>Outlet_Location_Type</th>\n      <th>Outlet_Type</th>\n      <th>Item_Outlet_Sales</th>\n    </tr>\n    <tr>\n      <th>Item_Identifier</th>\n      <th></th>\n      <th></th>\n      <th></th>\n      <th></th>\n      <th></th>\n      <th></th>\n      <th></th>\n      <th></th>\n      <th></th>\n      <th></th>\n      <th></th>\n    </tr>\n  </thead>\n  <tbody>\n    <tr>\n      <th>FDA15</th>\n      <td>9.30</td>\n      <td>Low Fat</td>\n      <td>0.016047</td>\n      <td>Dairy</td>\n      <td>249.8092</td>\n      <td>OUT049</td>\n      <td>1999</td>\n      <td>Medium</td>\n      <td>Tier 1</td>\n      <td>Supermarket Type1</td>\n      <td>3735.1380</td>\n    </tr>\n    <tr>\n      <th>DRC01</th>\n      <td>5.92</td>\n      <td>Regular</td>\n      <td>0.019278</td>\n      <td>Soft Drinks</td>\n      <td>48.2692</td>\n      <td>OUT018</td>\n      <td>2009</td>\n      <td>Medium</td>\n      <td>Tier 3</td>\n      <td>Supermarket Type2</td>\n      <td>443.4228</td>\n    </tr>\n    <tr>\n      <th>FDN15</th>\n      <td>17.50</td>\n      <td>Low Fat</td>\n      <td>0.016760</td>\n      <td>Meat</td>\n      <td>141.6180</td>\n      <td>OUT049</td>\n      <td>1999</td>\n      <td>Medium</td>\n      <td>Tier 1</td>\n      <td>Supermarket Type1</td>\n      <td>2097.2700</td>\n    </tr>\n    <tr>\n      <th>FDX07</th>\n      <td>19.20</td>\n      <td>Regular</td>\n      <td>0.000000</td>\n      <td>Fruits and Vegetables</td>\n      <td>182.0950</td>\n      <td>OUT010</td>\n      <td>1998</td>\n      <td>NaN</td>\n      <td>Tier 3</td>\n      <td>Grocery Store</td>\n      <td>732.3800</td>\n    </tr>\n    <tr>\n      <th>NCD19</th>\n      <td>8.93</td>\n      <td>Low Fat</td>\n      <td>0.000000</td>\n      <td>Household</td>\n      <td>53.8614</td>\n      <td>OUT013</td>\n      <td>1987</td>\n      <td>High</td>\n      <td>Tier 3</td>\n      <td>Supermarket Type1</td>\n      <td>994.7052</td>\n    </tr>\n  </tbody>\n</table>\n</div>"
     },
     "execution_count": 9,
     "metadata": {},
     "output_type": "execute_result"
    }
   ],
   "source": [
    "data.head()"
   ]
  },
  {
   "cell_type": "markdown",
   "metadata": {},
   "source": [
    "#### `HOW TO SELECT ROWS USING THE LABEL OF THE INDEX?`\n",
    "\n",
    "---"
   ]
  },
  {
   "cell_type": "code",
   "execution_count": 10,
   "metadata": {
    "scrolled": false
   },
   "outputs": [
    {
     "data": {
      "text/plain": "                 Item_Weight Item_Fat_Content  Item_Visibility Item_Type  \\\nItem_Identifier                                                            \nFDA15                    9.3          Low Fat         0.016047     Dairy   \nFDA15                    9.3          Low Fat         0.016055     Dairy   \nFDA15                    9.3          Low Fat         0.016019     Dairy   \nFDA15                    9.3          Low Fat         0.016088     Dairy   \nFDA15                    9.3          Low Fat         0.026818     Dairy   \nFDA15                    9.3          Low Fat         0.016009     Dairy   \nFDA15                    NaN          Low Fat         0.015945     Dairy   \nFDA15                    9.3               LF         0.016113     Dairy   \n\n                 Item_MRP Outlet_Identifier  Outlet_Establishment_Year  \\\nItem_Identifier                                                          \nFDA15            249.8092            OUT049                       1999   \nFDA15            250.2092            OUT045                       2002   \nFDA15            248.5092            OUT035                       2004   \nFDA15            249.6092            OUT018                       2009   \nFDA15            248.9092            OUT010                       1998   \nFDA15            250.6092            OUT013                       1987   \nFDA15            249.5092            OUT027                       1985   \nFDA15            248.8092            OUT017                       2007   \n\n                Outlet_Size Outlet_Location_Type        Outlet_Type  \\\nItem_Identifier                                                       \nFDA15                Medium               Tier 1  Supermarket Type1   \nFDA15                   NaN               Tier 2  Supermarket Type1   \nFDA15                 Small               Tier 2  Supermarket Type1   \nFDA15                Medium               Tier 3  Supermarket Type2   \nFDA15                   NaN               Tier 3      Grocery Store   \nFDA15                  High               Tier 3  Supermarket Type1   \nFDA15                Medium               Tier 3  Supermarket Type3   \nFDA15                   NaN               Tier 2  Supermarket Type1   \n\n                 Item_Outlet_Sales  \nItem_Identifier                     \nFDA15                    3735.1380  \nFDA15                    5976.2208  \nFDA15                    6474.2392  \nFDA15                    5976.2208  \nFDA15                     498.0184  \nFDA15                    6474.2392  \nFDA15                    6474.2392  \nFDA15                    5976.2208  ",
      "text/html": "<div>\n<style scoped>\n    .dataframe tbody tr th:only-of-type {\n        vertical-align: middle;\n    }\n\n    .dataframe tbody tr th {\n        vertical-align: top;\n    }\n\n    .dataframe thead th {\n        text-align: right;\n    }\n</style>\n<table border=\"1\" class=\"dataframe\">\n  <thead>\n    <tr style=\"text-align: right;\">\n      <th></th>\n      <th>Item_Weight</th>\n      <th>Item_Fat_Content</th>\n      <th>Item_Visibility</th>\n      <th>Item_Type</th>\n      <th>Item_MRP</th>\n      <th>Outlet_Identifier</th>\n      <th>Outlet_Establishment_Year</th>\n      <th>Outlet_Size</th>\n      <th>Outlet_Location_Type</th>\n      <th>Outlet_Type</th>\n      <th>Item_Outlet_Sales</th>\n    </tr>\n    <tr>\n      <th>Item_Identifier</th>\n      <th></th>\n      <th></th>\n      <th></th>\n      <th></th>\n      <th></th>\n      <th></th>\n      <th></th>\n      <th></th>\n      <th></th>\n      <th></th>\n      <th></th>\n    </tr>\n  </thead>\n  <tbody>\n    <tr>\n      <th>FDA15</th>\n      <td>9.3</td>\n      <td>Low Fat</td>\n      <td>0.016047</td>\n      <td>Dairy</td>\n      <td>249.8092</td>\n      <td>OUT049</td>\n      <td>1999</td>\n      <td>Medium</td>\n      <td>Tier 1</td>\n      <td>Supermarket Type1</td>\n      <td>3735.1380</td>\n    </tr>\n    <tr>\n      <th>FDA15</th>\n      <td>9.3</td>\n      <td>Low Fat</td>\n      <td>0.016055</td>\n      <td>Dairy</td>\n      <td>250.2092</td>\n      <td>OUT045</td>\n      <td>2002</td>\n      <td>NaN</td>\n      <td>Tier 2</td>\n      <td>Supermarket Type1</td>\n      <td>5976.2208</td>\n    </tr>\n    <tr>\n      <th>FDA15</th>\n      <td>9.3</td>\n      <td>Low Fat</td>\n      <td>0.016019</td>\n      <td>Dairy</td>\n      <td>248.5092</td>\n      <td>OUT035</td>\n      <td>2004</td>\n      <td>Small</td>\n      <td>Tier 2</td>\n      <td>Supermarket Type1</td>\n      <td>6474.2392</td>\n    </tr>\n    <tr>\n      <th>FDA15</th>\n      <td>9.3</td>\n      <td>Low Fat</td>\n      <td>0.016088</td>\n      <td>Dairy</td>\n      <td>249.6092</td>\n      <td>OUT018</td>\n      <td>2009</td>\n      <td>Medium</td>\n      <td>Tier 3</td>\n      <td>Supermarket Type2</td>\n      <td>5976.2208</td>\n    </tr>\n    <tr>\n      <th>FDA15</th>\n      <td>9.3</td>\n      <td>Low Fat</td>\n      <td>0.026818</td>\n      <td>Dairy</td>\n      <td>248.9092</td>\n      <td>OUT010</td>\n      <td>1998</td>\n      <td>NaN</td>\n      <td>Tier 3</td>\n      <td>Grocery Store</td>\n      <td>498.0184</td>\n    </tr>\n    <tr>\n      <th>FDA15</th>\n      <td>9.3</td>\n      <td>Low Fat</td>\n      <td>0.016009</td>\n      <td>Dairy</td>\n      <td>250.6092</td>\n      <td>OUT013</td>\n      <td>1987</td>\n      <td>High</td>\n      <td>Tier 3</td>\n      <td>Supermarket Type1</td>\n      <td>6474.2392</td>\n    </tr>\n    <tr>\n      <th>FDA15</th>\n      <td>NaN</td>\n      <td>Low Fat</td>\n      <td>0.015945</td>\n      <td>Dairy</td>\n      <td>249.5092</td>\n      <td>OUT027</td>\n      <td>1985</td>\n      <td>Medium</td>\n      <td>Tier 3</td>\n      <td>Supermarket Type3</td>\n      <td>6474.2392</td>\n    </tr>\n    <tr>\n      <th>FDA15</th>\n      <td>9.3</td>\n      <td>LF</td>\n      <td>0.016113</td>\n      <td>Dairy</td>\n      <td>248.8092</td>\n      <td>OUT017</td>\n      <td>2007</td>\n      <td>NaN</td>\n      <td>Tier 2</td>\n      <td>Supermarket Type1</td>\n      <td>5976.2208</td>\n    </tr>\n  </tbody>\n</table>\n</div>"
     },
     "execution_count": 10,
     "metadata": {},
     "output_type": "execute_result"
    }
   ],
   "source": [
    "# select rows with index value 'FDA03'\n",
    "data.loc['FDA15']"
   ]
  },
  {
   "cell_type": "code",
   "execution_count": 11,
   "metadata": {
    "scrolled": false
   },
   "outputs": [
    {
     "data": {
      "text/plain": "                 Item_Weight Item_Fat_Content  Item_Visibility Item_Type  \\\nItem_Identifier                                                            \nFDA15                    9.3          Low Fat         0.016047     Dairy   \nFDA15                    9.3          Low Fat         0.016055     Dairy   \nFDA15                    9.3          Low Fat         0.016019     Dairy   \nFDA15                    9.3          Low Fat         0.016088     Dairy   \nFDA15                    9.3          Low Fat         0.026818     Dairy   \nFDA15                    9.3          Low Fat         0.016009     Dairy   \nFDA15                    NaN          Low Fat         0.015945     Dairy   \nFDA15                    9.3               LF         0.016113     Dairy   \nFDA03                   18.5          Regular         0.045464     Dairy   \nFDA03                    NaN          Regular         0.045244     Dairy   \nFDA03                   18.5          Regular         0.000000     Dairy   \nFDA03                   18.5          Regular         0.076097     Dairy   \nFDA03                   18.5          Regular         0.045426     Dairy   \nFDA03                   18.5          Regular         0.045534     Dairy   \n\n                 Item_MRP Outlet_Identifier  Outlet_Establishment_Year  \\\nItem_Identifier                                                          \nFDA15            249.8092            OUT049                       1999   \nFDA15            250.2092            OUT045                       2002   \nFDA15            248.5092            OUT035                       2004   \nFDA15            249.6092            OUT018                       2009   \nFDA15            248.9092            OUT010                       1998   \nFDA15            250.6092            OUT013                       1987   \nFDA15            249.5092            OUT027                       1985   \nFDA15            248.8092            OUT017                       2007   \nFDA03            144.1102            OUT046                       1997   \nFDA03            146.8102            OUT027                       1985   \nFDA03            144.2102            OUT035                       2004   \nFDA03            145.8102            OUT010                       1998   \nFDA03            144.9102            OUT013                       1987   \nFDA03            146.3102            OUT049                       1999   \n\n                Outlet_Size Outlet_Location_Type        Outlet_Type  \\\nItem_Identifier                                                       \nFDA15                Medium               Tier 1  Supermarket Type1   \nFDA15                   NaN               Tier 2  Supermarket Type1   \nFDA15                 Small               Tier 2  Supermarket Type1   \nFDA15                Medium               Tier 3  Supermarket Type2   \nFDA15                   NaN               Tier 3      Grocery Store   \nFDA15                  High               Tier 3  Supermarket Type1   \nFDA15                Medium               Tier 3  Supermarket Type3   \nFDA15                   NaN               Tier 2  Supermarket Type1   \nFDA03                 Small               Tier 1  Supermarket Type1   \nFDA03                Medium               Tier 3  Supermarket Type3   \nFDA03                 Small               Tier 2  Supermarket Type1   \nFDA03                   NaN               Tier 3      Grocery Store   \nFDA03                  High               Tier 3  Supermarket Type1   \nFDA03                Medium               Tier 1  Supermarket Type1   \n\n                 Item_Outlet_Sales  \nItem_Identifier                     \nFDA15                    3735.1380  \nFDA15                    5976.2208  \nFDA15                    6474.2392  \nFDA15                    5976.2208  \nFDA15                     498.0184  \nFDA15                    6474.2392  \nFDA15                    6474.2392  \nFDA15                    5976.2208  \nFDA03                    2187.1530  \nFDA03                    3499.4448  \nFDA03                    2041.3428  \nFDA03                     291.6204  \nFDA03                    1895.5326  \nFDA03                    3645.2550  ",
      "text/html": "<div>\n<style scoped>\n    .dataframe tbody tr th:only-of-type {\n        vertical-align: middle;\n    }\n\n    .dataframe tbody tr th {\n        vertical-align: top;\n    }\n\n    .dataframe thead th {\n        text-align: right;\n    }\n</style>\n<table border=\"1\" class=\"dataframe\">\n  <thead>\n    <tr style=\"text-align: right;\">\n      <th></th>\n      <th>Item_Weight</th>\n      <th>Item_Fat_Content</th>\n      <th>Item_Visibility</th>\n      <th>Item_Type</th>\n      <th>Item_MRP</th>\n      <th>Outlet_Identifier</th>\n      <th>Outlet_Establishment_Year</th>\n      <th>Outlet_Size</th>\n      <th>Outlet_Location_Type</th>\n      <th>Outlet_Type</th>\n      <th>Item_Outlet_Sales</th>\n    </tr>\n    <tr>\n      <th>Item_Identifier</th>\n      <th></th>\n      <th></th>\n      <th></th>\n      <th></th>\n      <th></th>\n      <th></th>\n      <th></th>\n      <th></th>\n      <th></th>\n      <th></th>\n      <th></th>\n    </tr>\n  </thead>\n  <tbody>\n    <tr>\n      <th>FDA15</th>\n      <td>9.3</td>\n      <td>Low Fat</td>\n      <td>0.016047</td>\n      <td>Dairy</td>\n      <td>249.8092</td>\n      <td>OUT049</td>\n      <td>1999</td>\n      <td>Medium</td>\n      <td>Tier 1</td>\n      <td>Supermarket Type1</td>\n      <td>3735.1380</td>\n    </tr>\n    <tr>\n      <th>FDA15</th>\n      <td>9.3</td>\n      <td>Low Fat</td>\n      <td>0.016055</td>\n      <td>Dairy</td>\n      <td>250.2092</td>\n      <td>OUT045</td>\n      <td>2002</td>\n      <td>NaN</td>\n      <td>Tier 2</td>\n      <td>Supermarket Type1</td>\n      <td>5976.2208</td>\n    </tr>\n    <tr>\n      <th>FDA15</th>\n      <td>9.3</td>\n      <td>Low Fat</td>\n      <td>0.016019</td>\n      <td>Dairy</td>\n      <td>248.5092</td>\n      <td>OUT035</td>\n      <td>2004</td>\n      <td>Small</td>\n      <td>Tier 2</td>\n      <td>Supermarket Type1</td>\n      <td>6474.2392</td>\n    </tr>\n    <tr>\n      <th>FDA15</th>\n      <td>9.3</td>\n      <td>Low Fat</td>\n      <td>0.016088</td>\n      <td>Dairy</td>\n      <td>249.6092</td>\n      <td>OUT018</td>\n      <td>2009</td>\n      <td>Medium</td>\n      <td>Tier 3</td>\n      <td>Supermarket Type2</td>\n      <td>5976.2208</td>\n    </tr>\n    <tr>\n      <th>FDA15</th>\n      <td>9.3</td>\n      <td>Low Fat</td>\n      <td>0.026818</td>\n      <td>Dairy</td>\n      <td>248.9092</td>\n      <td>OUT010</td>\n      <td>1998</td>\n      <td>NaN</td>\n      <td>Tier 3</td>\n      <td>Grocery Store</td>\n      <td>498.0184</td>\n    </tr>\n    <tr>\n      <th>FDA15</th>\n      <td>9.3</td>\n      <td>Low Fat</td>\n      <td>0.016009</td>\n      <td>Dairy</td>\n      <td>250.6092</td>\n      <td>OUT013</td>\n      <td>1987</td>\n      <td>High</td>\n      <td>Tier 3</td>\n      <td>Supermarket Type1</td>\n      <td>6474.2392</td>\n    </tr>\n    <tr>\n      <th>FDA15</th>\n      <td>NaN</td>\n      <td>Low Fat</td>\n      <td>0.015945</td>\n      <td>Dairy</td>\n      <td>249.5092</td>\n      <td>OUT027</td>\n      <td>1985</td>\n      <td>Medium</td>\n      <td>Tier 3</td>\n      <td>Supermarket Type3</td>\n      <td>6474.2392</td>\n    </tr>\n    <tr>\n      <th>FDA15</th>\n      <td>9.3</td>\n      <td>LF</td>\n      <td>0.016113</td>\n      <td>Dairy</td>\n      <td>248.8092</td>\n      <td>OUT017</td>\n      <td>2007</td>\n      <td>NaN</td>\n      <td>Tier 2</td>\n      <td>Supermarket Type1</td>\n      <td>5976.2208</td>\n    </tr>\n    <tr>\n      <th>FDA03</th>\n      <td>18.5</td>\n      <td>Regular</td>\n      <td>0.045464</td>\n      <td>Dairy</td>\n      <td>144.1102</td>\n      <td>OUT046</td>\n      <td>1997</td>\n      <td>Small</td>\n      <td>Tier 1</td>\n      <td>Supermarket Type1</td>\n      <td>2187.1530</td>\n    </tr>\n    <tr>\n      <th>FDA03</th>\n      <td>NaN</td>\n      <td>Regular</td>\n      <td>0.045244</td>\n      <td>Dairy</td>\n      <td>146.8102</td>\n      <td>OUT027</td>\n      <td>1985</td>\n      <td>Medium</td>\n      <td>Tier 3</td>\n      <td>Supermarket Type3</td>\n      <td>3499.4448</td>\n    </tr>\n    <tr>\n      <th>FDA03</th>\n      <td>18.5</td>\n      <td>Regular</td>\n      <td>0.000000</td>\n      <td>Dairy</td>\n      <td>144.2102</td>\n      <td>OUT035</td>\n      <td>2004</td>\n      <td>Small</td>\n      <td>Tier 2</td>\n      <td>Supermarket Type1</td>\n      <td>2041.3428</td>\n    </tr>\n    <tr>\n      <th>FDA03</th>\n      <td>18.5</td>\n      <td>Regular</td>\n      <td>0.076097</td>\n      <td>Dairy</td>\n      <td>145.8102</td>\n      <td>OUT010</td>\n      <td>1998</td>\n      <td>NaN</td>\n      <td>Tier 3</td>\n      <td>Grocery Store</td>\n      <td>291.6204</td>\n    </tr>\n    <tr>\n      <th>FDA03</th>\n      <td>18.5</td>\n      <td>Regular</td>\n      <td>0.045426</td>\n      <td>Dairy</td>\n      <td>144.9102</td>\n      <td>OUT013</td>\n      <td>1987</td>\n      <td>High</td>\n      <td>Tier 3</td>\n      <td>Supermarket Type1</td>\n      <td>1895.5326</td>\n    </tr>\n    <tr>\n      <th>FDA03</th>\n      <td>18.5</td>\n      <td>Regular</td>\n      <td>0.045534</td>\n      <td>Dairy</td>\n      <td>146.3102</td>\n      <td>OUT049</td>\n      <td>1999</td>\n      <td>Medium</td>\n      <td>Tier 1</td>\n      <td>Supermarket Type1</td>\n      <td>3645.2550</td>\n    </tr>\n  </tbody>\n</table>\n</div>"
     },
     "execution_count": 11,
     "metadata": {},
     "output_type": "execute_result"
    }
   ],
   "source": [
    "data.loc[['FDA15', 'FDA03']]"
   ]
  },
  {
   "cell_type": "markdown",
   "metadata": {},
   "source": [
    "#### `HOW TO SELECT ROWS & COLUMNS USING THE LABEL OF THE INDEX?`\n",
    "\n",
    "---"
   ]
  },
  {
   "cell_type": "code",
   "execution_count": 12,
   "metadata": {
    "scrolled": true
   },
   "outputs": [
    {
     "data": {
      "text/plain": "Item_Identifier\nFDA15    Low Fat\nFDA15    Low Fat\nFDA15    Low Fat\nFDA15    Low Fat\nFDA15    Low Fat\nFDA15    Low Fat\nFDA15    Low Fat\nFDA15         LF\nFDA03    Regular\nFDA03    Regular\nFDA03    Regular\nFDA03    Regular\nFDA03    Regular\nFDA03    Regular\nName: Item_Fat_Content, dtype: object"
     },
     "execution_count": 12,
     "metadata": {},
     "output_type": "execute_result"
    }
   ],
   "source": [
    "data.loc[['FDA15', 'FDA03'], 'Item_Fat_Content']"
   ]
  },
  {
   "cell_type": "code",
   "execution_count": 13,
   "outputs": [
    {
     "data": {
      "text/plain": "Index(['Item_Weight', 'Item_Fat_Content', 'Item_Visibility', 'Item_Type',\n       'Item_MRP', 'Outlet_Identifier', 'Outlet_Establishment_Year',\n       'Outlet_Size', 'Outlet_Location_Type', 'Outlet_Type',\n       'Item_Outlet_Sales'],\n      dtype='object')"
     },
     "execution_count": 13,
     "metadata": {},
     "output_type": "execute_result"
    }
   ],
   "source": [
    "data.columns"
   ],
   "metadata": {
    "collapsed": false
   }
  },
  {
   "cell_type": "code",
   "execution_count": 14,
   "metadata": {
    "scrolled": false
   },
   "outputs": [
    {
     "data": {
      "text/plain": "                Item_Fat_Content Item_Type  Outlet_Establishment_Year  \\\nItem_Identifier                                                         \nFDA15                    Low Fat     Dairy                       1999   \nFDA15                    Low Fat     Dairy                       2002   \nFDA15                    Low Fat     Dairy                       2004   \nFDA15                    Low Fat     Dairy                       2009   \nFDA15                    Low Fat     Dairy                       1998   \nFDA15                    Low Fat     Dairy                       1987   \nFDA15                    Low Fat     Dairy                       1985   \nFDA15                         LF     Dairy                       2007   \nFDA03                    Regular     Dairy                       1997   \nFDA03                    Regular     Dairy                       1985   \nFDA03                    Regular     Dairy                       2004   \nFDA03                    Regular     Dairy                       1998   \nFDA03                    Regular     Dairy                       1987   \nFDA03                    Regular     Dairy                       1999   \n\n                 Item_MRP  \nItem_Identifier            \nFDA15            249.8092  \nFDA15            250.2092  \nFDA15            248.5092  \nFDA15            249.6092  \nFDA15            248.9092  \nFDA15            250.6092  \nFDA15            249.5092  \nFDA15            248.8092  \nFDA03            144.1102  \nFDA03            146.8102  \nFDA03            144.2102  \nFDA03            145.8102  \nFDA03            144.9102  \nFDA03            146.3102  ",
      "text/html": "<div>\n<style scoped>\n    .dataframe tbody tr th:only-of-type {\n        vertical-align: middle;\n    }\n\n    .dataframe tbody tr th {\n        vertical-align: top;\n    }\n\n    .dataframe thead th {\n        text-align: right;\n    }\n</style>\n<table border=\"1\" class=\"dataframe\">\n  <thead>\n    <tr style=\"text-align: right;\">\n      <th></th>\n      <th>Item_Fat_Content</th>\n      <th>Item_Type</th>\n      <th>Outlet_Establishment_Year</th>\n      <th>Item_MRP</th>\n    </tr>\n    <tr>\n      <th>Item_Identifier</th>\n      <th></th>\n      <th></th>\n      <th></th>\n      <th></th>\n    </tr>\n  </thead>\n  <tbody>\n    <tr>\n      <th>FDA15</th>\n      <td>Low Fat</td>\n      <td>Dairy</td>\n      <td>1999</td>\n      <td>249.8092</td>\n    </tr>\n    <tr>\n      <th>FDA15</th>\n      <td>Low Fat</td>\n      <td>Dairy</td>\n      <td>2002</td>\n      <td>250.2092</td>\n    </tr>\n    <tr>\n      <th>FDA15</th>\n      <td>Low Fat</td>\n      <td>Dairy</td>\n      <td>2004</td>\n      <td>248.5092</td>\n    </tr>\n    <tr>\n      <th>FDA15</th>\n      <td>Low Fat</td>\n      <td>Dairy</td>\n      <td>2009</td>\n      <td>249.6092</td>\n    </tr>\n    <tr>\n      <th>FDA15</th>\n      <td>Low Fat</td>\n      <td>Dairy</td>\n      <td>1998</td>\n      <td>248.9092</td>\n    </tr>\n    <tr>\n      <th>FDA15</th>\n      <td>Low Fat</td>\n      <td>Dairy</td>\n      <td>1987</td>\n      <td>250.6092</td>\n    </tr>\n    <tr>\n      <th>FDA15</th>\n      <td>Low Fat</td>\n      <td>Dairy</td>\n      <td>1985</td>\n      <td>249.5092</td>\n    </tr>\n    <tr>\n      <th>FDA15</th>\n      <td>LF</td>\n      <td>Dairy</td>\n      <td>2007</td>\n      <td>248.8092</td>\n    </tr>\n    <tr>\n      <th>FDA03</th>\n      <td>Regular</td>\n      <td>Dairy</td>\n      <td>1997</td>\n      <td>144.1102</td>\n    </tr>\n    <tr>\n      <th>FDA03</th>\n      <td>Regular</td>\n      <td>Dairy</td>\n      <td>1985</td>\n      <td>146.8102</td>\n    </tr>\n    <tr>\n      <th>FDA03</th>\n      <td>Regular</td>\n      <td>Dairy</td>\n      <td>2004</td>\n      <td>144.2102</td>\n    </tr>\n    <tr>\n      <th>FDA03</th>\n      <td>Regular</td>\n      <td>Dairy</td>\n      <td>1998</td>\n      <td>145.8102</td>\n    </tr>\n    <tr>\n      <th>FDA03</th>\n      <td>Regular</td>\n      <td>Dairy</td>\n      <td>1987</td>\n      <td>144.9102</td>\n    </tr>\n    <tr>\n      <th>FDA03</th>\n      <td>Regular</td>\n      <td>Dairy</td>\n      <td>1999</td>\n      <td>146.3102</td>\n    </tr>\n  </tbody>\n</table>\n</div>"
     },
     "execution_count": 14,
     "metadata": {},
     "output_type": "execute_result"
    }
   ],
   "source": [
    "data.loc[['FDA15', 'FDA03'], ['Item_Fat_Content', 'Item_Type', 'Outlet_Establishment_Year', 'Item_MRP']]"
   ]
  },
  {
   "cell_type": "markdown",
   "metadata": {},
   "source": [
    "\n",
    "\n",
    "---\n",
    "\n",
    "#### `DIFFERENCE BETWEEN LOC AND ILOC`\n",
    "\n",
    "---\n",
    "\n",
    "***Let's create a sample dataframe***\n",
    "\n",
    "---"
   ]
  },
  {
   "cell_type": "code",
   "execution_count": 15,
   "metadata": {},
   "outputs": [
    {
     "data": {
      "text/plain": "  gender grade  marks    id\n0      M     A     22  A101\n1      F     A     21  A102\n2      M     B     12  A103\n3      M     B     14  A104\n4      F     A     20  A105",
      "text/html": "<div>\n<style scoped>\n    .dataframe tbody tr th:only-of-type {\n        vertical-align: middle;\n    }\n\n    .dataframe tbody tr th {\n        vertical-align: top;\n    }\n\n    .dataframe thead th {\n        text-align: right;\n    }\n</style>\n<table border=\"1\" class=\"dataframe\">\n  <thead>\n    <tr style=\"text-align: right;\">\n      <th></th>\n      <th>gender</th>\n      <th>grade</th>\n      <th>marks</th>\n      <th>id</th>\n    </tr>\n  </thead>\n  <tbody>\n    <tr>\n      <th>0</th>\n      <td>M</td>\n      <td>A</td>\n      <td>22</td>\n      <td>A101</td>\n    </tr>\n    <tr>\n      <th>1</th>\n      <td>F</td>\n      <td>A</td>\n      <td>21</td>\n      <td>A102</td>\n    </tr>\n    <tr>\n      <th>2</th>\n      <td>M</td>\n      <td>B</td>\n      <td>12</td>\n      <td>A103</td>\n    </tr>\n    <tr>\n      <th>3</th>\n      <td>M</td>\n      <td>B</td>\n      <td>14</td>\n      <td>A104</td>\n    </tr>\n    <tr>\n      <th>4</th>\n      <td>F</td>\n      <td>A</td>\n      <td>20</td>\n      <td>A105</td>\n    </tr>\n  </tbody>\n</table>\n</div>"
     },
     "execution_count": 15,
     "metadata": {},
     "output_type": "execute_result"
    }
   ],
   "source": [
    "sample_df = pd.DataFrame({\n",
    "    'gender' : ['M', 'F', 'M', 'M', 'F'],\n",
    "    'grade'  : ['A', 'A', 'B', 'B', 'A'],\n",
    "    'marks'  : [ 22,  21,  12,  14,  20],\n",
    "    'id'     : ['A101', 'A102', 'A103', 'A104', 'A105']\n",
    "})\n",
    "sample_df"
   ]
  },
  {
   "cell_type": "markdown",
   "metadata": {},
   "source": [
    " ---\n",
    "\n",
    "***Now, when we define a dataframe by default the index is a range of numbers. Let's see what happens if try to slice the dataframe using both `loc` and `iloc`***\n",
    "\n",
    "---"
   ]
  },
  {
   "cell_type": "code",
   "execution_count": 16,
   "metadata": {},
   "outputs": [
    {
     "data": {
      "text/plain": "  gender grade  marks    id\n2      M     B     12  A103\n3      M     B     14  A104\n4      F     A     20  A105",
      "text/html": "<div>\n<style scoped>\n    .dataframe tbody tr th:only-of-type {\n        vertical-align: middle;\n    }\n\n    .dataframe tbody tr th {\n        vertical-align: top;\n    }\n\n    .dataframe thead th {\n        text-align: right;\n    }\n</style>\n<table border=\"1\" class=\"dataframe\">\n  <thead>\n    <tr style=\"text-align: right;\">\n      <th></th>\n      <th>gender</th>\n      <th>grade</th>\n      <th>marks</th>\n      <th>id</th>\n    </tr>\n  </thead>\n  <tbody>\n    <tr>\n      <th>2</th>\n      <td>M</td>\n      <td>B</td>\n      <td>12</td>\n      <td>A103</td>\n    </tr>\n    <tr>\n      <th>3</th>\n      <td>M</td>\n      <td>B</td>\n      <td>14</td>\n      <td>A104</td>\n    </tr>\n    <tr>\n      <th>4</th>\n      <td>F</td>\n      <td>A</td>\n      <td>20</td>\n      <td>A105</td>\n    </tr>\n  </tbody>\n</table>\n</div>"
     },
     "execution_count": 16,
     "metadata": {},
     "output_type": "execute_result"
    }
   ],
   "source": [
    "sample_df.loc[2:4]"
   ]
  },
  {
   "cell_type": "code",
   "execution_count": 17,
   "metadata": {},
   "outputs": [
    {
     "data": {
      "text/plain": "  gender grade  marks    id\n2      M     B     12  A103\n3      M     B     14  A104",
      "text/html": "<div>\n<style scoped>\n    .dataframe tbody tr th:only-of-type {\n        vertical-align: middle;\n    }\n\n    .dataframe tbody tr th {\n        vertical-align: top;\n    }\n\n    .dataframe thead th {\n        text-align: right;\n    }\n</style>\n<table border=\"1\" class=\"dataframe\">\n  <thead>\n    <tr style=\"text-align: right;\">\n      <th></th>\n      <th>gender</th>\n      <th>grade</th>\n      <th>marks</th>\n      <th>id</th>\n    </tr>\n  </thead>\n  <tbody>\n    <tr>\n      <th>2</th>\n      <td>M</td>\n      <td>B</td>\n      <td>12</td>\n      <td>A103</td>\n    </tr>\n    <tr>\n      <th>3</th>\n      <td>M</td>\n      <td>B</td>\n      <td>14</td>\n      <td>A104</td>\n    </tr>\n  </tbody>\n</table>\n</div>"
     },
     "execution_count": 17,
     "metadata": {},
     "output_type": "execute_result"
    }
   ],
   "source": [
    "sample_df.iloc[2:4]"
   ]
  },
  {
   "cell_type": "markdown",
   "metadata": {},
   "source": [
    "---\n",
    "\n",
    "- When we try to slice the dataframe using the `loc` function on `range(2 to 4)` it first finds out the index with a `label 2` and goes till it finds the index with a `label 4`. \n",
    "- On the other hand, when we try to silce the dataframe using the `iloc` function on `range(2 to 4)` it starts with the `starting point index 2` and goes till `end point - 1 which is 3`.\n",
    "\n",
    "---\n",
    "\n",
    "\n",
    "***Let's verify this by sorting the dataframe by marks column.***\n",
    "\n",
    "---"
   ]
  },
  {
   "cell_type": "code",
   "execution_count": 34,
   "metadata": {},
   "outputs": [
    {
     "data": {
      "text/html": [
       "<div>\n",
       "<style scoped>\n",
       "    .dataframe tbody tr th:only-of-type {\n",
       "        vertical-align: middle;\n",
       "    }\n",
       "\n",
       "    .dataframe tbody tr th {\n",
       "        vertical-align: top;\n",
       "    }\n",
       "\n",
       "    .dataframe thead th {\n",
       "        text-align: right;\n",
       "    }\n",
       "</style>\n",
       "<table border=\"1\" class=\"dataframe\">\n",
       "  <thead>\n",
       "    <tr style=\"text-align: right;\">\n",
       "      <th></th>\n",
       "      <th>gender</th>\n",
       "      <th>grade</th>\n",
       "      <th>marks</th>\n",
       "      <th>id</th>\n",
       "    </tr>\n",
       "  </thead>\n",
       "  <tbody>\n",
       "    <tr>\n",
       "      <td>2</td>\n",
       "      <td>M</td>\n",
       "      <td>B</td>\n",
       "      <td>12</td>\n",
       "      <td>A103</td>\n",
       "    </tr>\n",
       "    <tr>\n",
       "      <td>3</td>\n",
       "      <td>M</td>\n",
       "      <td>B</td>\n",
       "      <td>14</td>\n",
       "      <td>A104</td>\n",
       "    </tr>\n",
       "    <tr>\n",
       "      <td>4</td>\n",
       "      <td>F</td>\n",
       "      <td>A</td>\n",
       "      <td>20</td>\n",
       "      <td>A105</td>\n",
       "    </tr>\n",
       "    <tr>\n",
       "      <td>1</td>\n",
       "      <td>F</td>\n",
       "      <td>A</td>\n",
       "      <td>21</td>\n",
       "      <td>A102</td>\n",
       "    </tr>\n",
       "    <tr>\n",
       "      <td>0</td>\n",
       "      <td>M</td>\n",
       "      <td>A</td>\n",
       "      <td>22</td>\n",
       "      <td>A101</td>\n",
       "    </tr>\n",
       "  </tbody>\n",
       "</table>\n",
       "</div>"
      ],
      "text/plain": [
       "  gender grade  marks    id\n",
       "2      M     B     12  A103\n",
       "3      M     B     14  A104\n",
       "4      F     A     20  A105\n",
       "1      F     A     21  A102\n",
       "0      M     A     22  A101"
      ]
     },
     "execution_count": 34,
     "metadata": {},
     "output_type": "execute_result"
    }
   ],
   "source": [
    "sample_df = sample_df.sort_values(by=['marks'])\n",
    "sample_df"
   ]
  },
  {
   "cell_type": "markdown",
   "metadata": {},
   "source": [
    "---\n",
    "\n",
    "***Now that we have sorted the dataframes, the indices are shuffled accordingly. Let's try to slice the dataframes again.***\n",
    "\n",
    "---"
   ]
  },
  {
   "cell_type": "code",
   "execution_count": 35,
   "metadata": {},
   "outputs": [
    {
     "data": {
      "text/html": [
       "<div>\n",
       "<style scoped>\n",
       "    .dataframe tbody tr th:only-of-type {\n",
       "        vertical-align: middle;\n",
       "    }\n",
       "\n",
       "    .dataframe tbody tr th {\n",
       "        vertical-align: top;\n",
       "    }\n",
       "\n",
       "    .dataframe thead th {\n",
       "        text-align: right;\n",
       "    }\n",
       "</style>\n",
       "<table border=\"1\" class=\"dataframe\">\n",
       "  <thead>\n",
       "    <tr style=\"text-align: right;\">\n",
       "      <th></th>\n",
       "      <th>gender</th>\n",
       "      <th>grade</th>\n",
       "      <th>marks</th>\n",
       "      <th>id</th>\n",
       "    </tr>\n",
       "  </thead>\n",
       "  <tbody>\n",
       "    <tr>\n",
       "      <td>2</td>\n",
       "      <td>M</td>\n",
       "      <td>B</td>\n",
       "      <td>12</td>\n",
       "      <td>A103</td>\n",
       "    </tr>\n",
       "    <tr>\n",
       "      <td>3</td>\n",
       "      <td>M</td>\n",
       "      <td>B</td>\n",
       "      <td>14</td>\n",
       "      <td>A104</td>\n",
       "    </tr>\n",
       "    <tr>\n",
       "      <td>4</td>\n",
       "      <td>F</td>\n",
       "      <td>A</td>\n",
       "      <td>20</td>\n",
       "      <td>A105</td>\n",
       "    </tr>\n",
       "  </tbody>\n",
       "</table>\n",
       "</div>"
      ],
      "text/plain": [
       "  gender grade  marks    id\n",
       "2      M     B     12  A103\n",
       "3      M     B     14  A104\n",
       "4      F     A     20  A105"
      ]
     },
     "execution_count": 35,
     "metadata": {},
     "output_type": "execute_result"
    }
   ],
   "source": [
    "sample_df.loc[2:4]"
   ]
  },
  {
   "cell_type": "code",
   "execution_count": 36,
   "metadata": {},
   "outputs": [
    {
     "data": {
      "text/html": [
       "<div>\n",
       "<style scoped>\n",
       "    .dataframe tbody tr th:only-of-type {\n",
       "        vertical-align: middle;\n",
       "    }\n",
       "\n",
       "    .dataframe tbody tr th {\n",
       "        vertical-align: top;\n",
       "    }\n",
       "\n",
       "    .dataframe thead th {\n",
       "        text-align: right;\n",
       "    }\n",
       "</style>\n",
       "<table border=\"1\" class=\"dataframe\">\n",
       "  <thead>\n",
       "    <tr style=\"text-align: right;\">\n",
       "      <th></th>\n",
       "      <th>gender</th>\n",
       "      <th>grade</th>\n",
       "      <th>marks</th>\n",
       "      <th>id</th>\n",
       "    </tr>\n",
       "  </thead>\n",
       "  <tbody>\n",
       "    <tr>\n",
       "      <td>4</td>\n",
       "      <td>F</td>\n",
       "      <td>A</td>\n",
       "      <td>20</td>\n",
       "      <td>A105</td>\n",
       "    </tr>\n",
       "    <tr>\n",
       "      <td>1</td>\n",
       "      <td>F</td>\n",
       "      <td>A</td>\n",
       "      <td>21</td>\n",
       "      <td>A102</td>\n",
       "    </tr>\n",
       "  </tbody>\n",
       "</table>\n",
       "</div>"
      ],
      "text/plain": [
       "  gender grade  marks    id\n",
       "4      F     A     20  A105\n",
       "1      F     A     21  A102"
      ]
     },
     "execution_count": 36,
     "metadata": {},
     "output_type": "execute_result"
    }
   ],
   "source": [
    "sample_df.iloc[2:4]"
   ]
  },
  {
   "cell_type": "markdown",
   "metadata": {},
   "source": [
    "----\n",
    "\n",
    "- You can see that when we tried to slice the dataframe using the `loc` function it finds out the name of start and end point and slice the data whereas `iloc` still gives the 2nd and 3rd value of the dataframe.\n",
    "\n",
    "----"
   ]
  },
  {
   "cell_type": "markdown",
   "metadata": {},
   "source": [
    "***Let's change the index of the dataframe to a categorical variable.***\n",
    "\n",
    "---"
   ]
  },
  {
   "cell_type": "code",
   "execution_count": 37,
   "metadata": {},
   "outputs": [
    {
     "data": {
      "text/html": [
       "<div>\n",
       "<style scoped>\n",
       "    .dataframe tbody tr th:only-of-type {\n",
       "        vertical-align: middle;\n",
       "    }\n",
       "\n",
       "    .dataframe tbody tr th {\n",
       "        vertical-align: top;\n",
       "    }\n",
       "\n",
       "    .dataframe thead th {\n",
       "        text-align: right;\n",
       "    }\n",
       "</style>\n",
       "<table border=\"1\" class=\"dataframe\">\n",
       "  <thead>\n",
       "    <tr style=\"text-align: right;\">\n",
       "      <th></th>\n",
       "      <th>gender</th>\n",
       "      <th>grade</th>\n",
       "      <th>marks</th>\n",
       "    </tr>\n",
       "    <tr>\n",
       "      <th>id</th>\n",
       "      <th></th>\n",
       "      <th></th>\n",
       "      <th></th>\n",
       "    </tr>\n",
       "  </thead>\n",
       "  <tbody>\n",
       "    <tr>\n",
       "      <td>A103</td>\n",
       "      <td>M</td>\n",
       "      <td>B</td>\n",
       "      <td>12</td>\n",
       "    </tr>\n",
       "    <tr>\n",
       "      <td>A104</td>\n",
       "      <td>M</td>\n",
       "      <td>B</td>\n",
       "      <td>14</td>\n",
       "    </tr>\n",
       "    <tr>\n",
       "      <td>A105</td>\n",
       "      <td>F</td>\n",
       "      <td>A</td>\n",
       "      <td>20</td>\n",
       "    </tr>\n",
       "    <tr>\n",
       "      <td>A102</td>\n",
       "      <td>F</td>\n",
       "      <td>A</td>\n",
       "      <td>21</td>\n",
       "    </tr>\n",
       "    <tr>\n",
       "      <td>A101</td>\n",
       "      <td>M</td>\n",
       "      <td>A</td>\n",
       "      <td>22</td>\n",
       "    </tr>\n",
       "  </tbody>\n",
       "</table>\n",
       "</div>"
      ],
      "text/plain": [
       "     gender grade  marks\n",
       "id                      \n",
       "A103      M     B     12\n",
       "A104      M     B     14\n",
       "A105      F     A     20\n",
       "A102      F     A     21\n",
       "A101      M     A     22"
      ]
     },
     "execution_count": 37,
     "metadata": {},
     "output_type": "execute_result"
    }
   ],
   "source": [
    "sample_df.set_index('id',inplace=True)\n",
    "sample_df"
   ]
  },
  {
   "cell_type": "markdown",
   "metadata": {},
   "source": [
    "---\n",
    "\n",
    "***Now, try to slice the dataframe using the loc and iloc function.***\n",
    "\n",
    "---"
   ]
  },
  {
   "cell_type": "code",
   "execution_count": 38,
   "metadata": {},
   "outputs": [
    {
     "data": {
      "text/html": [
       "<div>\n",
       "<style scoped>\n",
       "    .dataframe tbody tr th:only-of-type {\n",
       "        vertical-align: middle;\n",
       "    }\n",
       "\n",
       "    .dataframe tbody tr th {\n",
       "        vertical-align: top;\n",
       "    }\n",
       "\n",
       "    .dataframe thead th {\n",
       "        text-align: right;\n",
       "    }\n",
       "</style>\n",
       "<table border=\"1\" class=\"dataframe\">\n",
       "  <thead>\n",
       "    <tr style=\"text-align: right;\">\n",
       "      <th></th>\n",
       "      <th>gender</th>\n",
       "      <th>grade</th>\n",
       "      <th>marks</th>\n",
       "    </tr>\n",
       "    <tr>\n",
       "      <th>id</th>\n",
       "      <th></th>\n",
       "      <th></th>\n",
       "      <th></th>\n",
       "    </tr>\n",
       "  </thead>\n",
       "  <tbody>\n",
       "    <tr>\n",
       "      <td>A105</td>\n",
       "      <td>F</td>\n",
       "      <td>A</td>\n",
       "      <td>20</td>\n",
       "    </tr>\n",
       "    <tr>\n",
       "      <td>A102</td>\n",
       "      <td>F</td>\n",
       "      <td>A</td>\n",
       "      <td>21</td>\n",
       "    </tr>\n",
       "  </tbody>\n",
       "</table>\n",
       "</div>"
      ],
      "text/plain": [
       "     gender grade  marks\n",
       "id                      \n",
       "A105      F     A     20\n",
       "A102      F     A     21"
      ]
     },
     "execution_count": 38,
     "metadata": {},
     "output_type": "execute_result"
    }
   ],
   "source": [
    "sample_df.iloc[2:4]"
   ]
  },
  {
   "cell_type": "code",
   "execution_count": 39,
   "metadata": {},
   "outputs": [
    {
     "ename": "TypeError",
     "evalue": "cannot do slice indexing on <class 'pandas.core.indexes.base.Index'> with these indexers [2] of <class 'int'>",
     "output_type": "error",
     "traceback": [
      "\u001B[0;31m---------------------------------------------------------------------------\u001B[0m",
      "\u001B[0;31mTypeError\u001B[0m                                 Traceback (most recent call last)",
      "\u001B[0;32m<ipython-input-39-a0b024ef820d>\u001B[0m in \u001B[0;36m<module>\u001B[0;34m\u001B[0m\n\u001B[0;32m----> 1\u001B[0;31m \u001B[0msample_df\u001B[0m\u001B[0;34m.\u001B[0m\u001B[0mloc\u001B[0m\u001B[0;34m[\u001B[0m\u001B[0;36m2\u001B[0m\u001B[0;34m:\u001B[0m\u001B[0;36m4\u001B[0m\u001B[0;34m]\u001B[0m\u001B[0;34m\u001B[0m\u001B[0;34m\u001B[0m\u001B[0m\n\u001B[0m",
      "\u001B[0;32m~/anaconda3/lib/python3.7/site-packages/pandas/core/indexing.py\u001B[0m in \u001B[0;36m__getitem__\u001B[0;34m(self, key)\u001B[0m\n\u001B[1;32m   1422\u001B[0m \u001B[0;34m\u001B[0m\u001B[0m\n\u001B[1;32m   1423\u001B[0m             \u001B[0mmaybe_callable\u001B[0m \u001B[0;34m=\u001B[0m \u001B[0mcom\u001B[0m\u001B[0;34m.\u001B[0m\u001B[0mapply_if_callable\u001B[0m\u001B[0;34m(\u001B[0m\u001B[0mkey\u001B[0m\u001B[0;34m,\u001B[0m \u001B[0mself\u001B[0m\u001B[0;34m.\u001B[0m\u001B[0mobj\u001B[0m\u001B[0;34m)\u001B[0m\u001B[0;34m\u001B[0m\u001B[0;34m\u001B[0m\u001B[0m\n\u001B[0;32m-> 1424\u001B[0;31m             \u001B[0;32mreturn\u001B[0m \u001B[0mself\u001B[0m\u001B[0;34m.\u001B[0m\u001B[0m_getitem_axis\u001B[0m\u001B[0;34m(\u001B[0m\u001B[0mmaybe_callable\u001B[0m\u001B[0;34m,\u001B[0m \u001B[0maxis\u001B[0m\u001B[0;34m=\u001B[0m\u001B[0maxis\u001B[0m\u001B[0;34m)\u001B[0m\u001B[0;34m\u001B[0m\u001B[0;34m\u001B[0m\u001B[0m\n\u001B[0m\u001B[1;32m   1425\u001B[0m \u001B[0;34m\u001B[0m\u001B[0m\n\u001B[1;32m   1426\u001B[0m     \u001B[0;32mdef\u001B[0m \u001B[0m_is_scalar_access\u001B[0m\u001B[0;34m(\u001B[0m\u001B[0mself\u001B[0m\u001B[0;34m,\u001B[0m \u001B[0mkey\u001B[0m\u001B[0;34m:\u001B[0m \u001B[0mTuple\u001B[0m\u001B[0;34m)\u001B[0m\u001B[0;34m:\u001B[0m\u001B[0;34m\u001B[0m\u001B[0;34m\u001B[0m\u001B[0m\n",
      "\u001B[0;32m~/anaconda3/lib/python3.7/site-packages/pandas/core/indexing.py\u001B[0m in \u001B[0;36m_getitem_axis\u001B[0;34m(self, key, axis)\u001B[0m\n\u001B[1;32m   1795\u001B[0m         \u001B[0;32mif\u001B[0m \u001B[0misinstance\u001B[0m\u001B[0;34m(\u001B[0m\u001B[0mkey\u001B[0m\u001B[0;34m,\u001B[0m \u001B[0mslice\u001B[0m\u001B[0;34m)\u001B[0m\u001B[0;34m:\u001B[0m\u001B[0;34m\u001B[0m\u001B[0;34m\u001B[0m\u001B[0m\n\u001B[1;32m   1796\u001B[0m             \u001B[0mself\u001B[0m\u001B[0;34m.\u001B[0m\u001B[0m_validate_key\u001B[0m\u001B[0;34m(\u001B[0m\u001B[0mkey\u001B[0m\u001B[0;34m,\u001B[0m \u001B[0maxis\u001B[0m\u001B[0;34m)\u001B[0m\u001B[0;34m\u001B[0m\u001B[0;34m\u001B[0m\u001B[0m\n\u001B[0;32m-> 1797\u001B[0;31m             \u001B[0;32mreturn\u001B[0m \u001B[0mself\u001B[0m\u001B[0;34m.\u001B[0m\u001B[0m_get_slice_axis\u001B[0m\u001B[0;34m(\u001B[0m\u001B[0mkey\u001B[0m\u001B[0;34m,\u001B[0m \u001B[0maxis\u001B[0m\u001B[0;34m=\u001B[0m\u001B[0maxis\u001B[0m\u001B[0;34m)\u001B[0m\u001B[0;34m\u001B[0m\u001B[0;34m\u001B[0m\u001B[0m\n\u001B[0m\u001B[1;32m   1798\u001B[0m         \u001B[0;32melif\u001B[0m \u001B[0mcom\u001B[0m\u001B[0;34m.\u001B[0m\u001B[0mis_bool_indexer\u001B[0m\u001B[0;34m(\u001B[0m\u001B[0mkey\u001B[0m\u001B[0;34m)\u001B[0m\u001B[0;34m:\u001B[0m\u001B[0;34m\u001B[0m\u001B[0;34m\u001B[0m\u001B[0m\n\u001B[1;32m   1799\u001B[0m             \u001B[0;32mreturn\u001B[0m \u001B[0mself\u001B[0m\u001B[0;34m.\u001B[0m\u001B[0m_getbool_axis\u001B[0m\u001B[0;34m(\u001B[0m\u001B[0mkey\u001B[0m\u001B[0;34m,\u001B[0m \u001B[0maxis\u001B[0m\u001B[0;34m=\u001B[0m\u001B[0maxis\u001B[0m\u001B[0;34m)\u001B[0m\u001B[0;34m\u001B[0m\u001B[0;34m\u001B[0m\u001B[0m\n",
      "\u001B[0;32m~/anaconda3/lib/python3.7/site-packages/pandas/core/indexing.py\u001B[0m in \u001B[0;36m_get_slice_axis\u001B[0;34m(self, slice_obj, axis)\u001B[0m\n\u001B[1;32m   1452\u001B[0m         \u001B[0mlabels\u001B[0m \u001B[0;34m=\u001B[0m \u001B[0mobj\u001B[0m\u001B[0;34m.\u001B[0m\u001B[0m_get_axis\u001B[0m\u001B[0;34m(\u001B[0m\u001B[0maxis\u001B[0m\u001B[0;34m)\u001B[0m\u001B[0;34m\u001B[0m\u001B[0;34m\u001B[0m\u001B[0m\n\u001B[1;32m   1453\u001B[0m         indexer = labels.slice_indexer(\n\u001B[0;32m-> 1454\u001B[0;31m             \u001B[0mslice_obj\u001B[0m\u001B[0;34m.\u001B[0m\u001B[0mstart\u001B[0m\u001B[0;34m,\u001B[0m \u001B[0mslice_obj\u001B[0m\u001B[0;34m.\u001B[0m\u001B[0mstop\u001B[0m\u001B[0;34m,\u001B[0m \u001B[0mslice_obj\u001B[0m\u001B[0;34m.\u001B[0m\u001B[0mstep\u001B[0m\u001B[0;34m,\u001B[0m \u001B[0mkind\u001B[0m\u001B[0;34m=\u001B[0m\u001B[0mself\u001B[0m\u001B[0;34m.\u001B[0m\u001B[0mname\u001B[0m\u001B[0;34m\u001B[0m\u001B[0;34m\u001B[0m\u001B[0m\n\u001B[0m\u001B[1;32m   1455\u001B[0m         )\n\u001B[1;32m   1456\u001B[0m \u001B[0;34m\u001B[0m\u001B[0m\n",
      "\u001B[0;32m~/anaconda3/lib/python3.7/site-packages/pandas/core/indexes/base.py\u001B[0m in \u001B[0;36mslice_indexer\u001B[0;34m(self, start, end, step, kind)\u001B[0m\n\u001B[1;32m   5032\u001B[0m         \u001B[0mslice\u001B[0m\u001B[0;34m(\u001B[0m\u001B[0;36m1\u001B[0m\u001B[0;34m,\u001B[0m \u001B[0;36m3\u001B[0m\u001B[0;34m)\u001B[0m\u001B[0;34m\u001B[0m\u001B[0;34m\u001B[0m\u001B[0m\n\u001B[1;32m   5033\u001B[0m         \"\"\"\n\u001B[0;32m-> 5034\u001B[0;31m         \u001B[0mstart_slice\u001B[0m\u001B[0;34m,\u001B[0m \u001B[0mend_slice\u001B[0m \u001B[0;34m=\u001B[0m \u001B[0mself\u001B[0m\u001B[0;34m.\u001B[0m\u001B[0mslice_locs\u001B[0m\u001B[0;34m(\u001B[0m\u001B[0mstart\u001B[0m\u001B[0;34m,\u001B[0m \u001B[0mend\u001B[0m\u001B[0;34m,\u001B[0m \u001B[0mstep\u001B[0m\u001B[0;34m=\u001B[0m\u001B[0mstep\u001B[0m\u001B[0;34m,\u001B[0m \u001B[0mkind\u001B[0m\u001B[0;34m=\u001B[0m\u001B[0mkind\u001B[0m\u001B[0;34m)\u001B[0m\u001B[0;34m\u001B[0m\u001B[0;34m\u001B[0m\u001B[0m\n\u001B[0m\u001B[1;32m   5035\u001B[0m \u001B[0;34m\u001B[0m\u001B[0m\n\u001B[1;32m   5036\u001B[0m         \u001B[0;31m# return a slice\u001B[0m\u001B[0;34m\u001B[0m\u001B[0;34m\u001B[0m\u001B[0;34m\u001B[0m\u001B[0m\n",
      "\u001B[0;32m~/anaconda3/lib/python3.7/site-packages/pandas/core/indexes/base.py\u001B[0m in \u001B[0;36mslice_locs\u001B[0;34m(self, start, end, step, kind)\u001B[0m\n\u001B[1;32m   5246\u001B[0m         \u001B[0mstart_slice\u001B[0m \u001B[0;34m=\u001B[0m \u001B[0;32mNone\u001B[0m\u001B[0;34m\u001B[0m\u001B[0;34m\u001B[0m\u001B[0m\n\u001B[1;32m   5247\u001B[0m         \u001B[0;32mif\u001B[0m \u001B[0mstart\u001B[0m \u001B[0;32mis\u001B[0m \u001B[0;32mnot\u001B[0m \u001B[0;32mNone\u001B[0m\u001B[0;34m:\u001B[0m\u001B[0;34m\u001B[0m\u001B[0;34m\u001B[0m\u001B[0m\n\u001B[0;32m-> 5248\u001B[0;31m             \u001B[0mstart_slice\u001B[0m \u001B[0;34m=\u001B[0m \u001B[0mself\u001B[0m\u001B[0;34m.\u001B[0m\u001B[0mget_slice_bound\u001B[0m\u001B[0;34m(\u001B[0m\u001B[0mstart\u001B[0m\u001B[0;34m,\u001B[0m \u001B[0;34m\"left\"\u001B[0m\u001B[0;34m,\u001B[0m \u001B[0mkind\u001B[0m\u001B[0;34m)\u001B[0m\u001B[0;34m\u001B[0m\u001B[0;34m\u001B[0m\u001B[0m\n\u001B[0m\u001B[1;32m   5249\u001B[0m         \u001B[0;32mif\u001B[0m \u001B[0mstart_slice\u001B[0m \u001B[0;32mis\u001B[0m \u001B[0;32mNone\u001B[0m\u001B[0;34m:\u001B[0m\u001B[0;34m\u001B[0m\u001B[0;34m\u001B[0m\u001B[0m\n\u001B[1;32m   5250\u001B[0m             \u001B[0mstart_slice\u001B[0m \u001B[0;34m=\u001B[0m \u001B[0;36m0\u001B[0m\u001B[0;34m\u001B[0m\u001B[0;34m\u001B[0m\u001B[0m\n",
      "\u001B[0;32m~/anaconda3/lib/python3.7/site-packages/pandas/core/indexes/base.py\u001B[0m in \u001B[0;36mget_slice_bound\u001B[0;34m(self, label, side, kind)\u001B[0m\n\u001B[1;32m   5158\u001B[0m         \u001B[0;31m# For datetime indices label may be a string that has to be converted\u001B[0m\u001B[0;34m\u001B[0m\u001B[0;34m\u001B[0m\u001B[0;34m\u001B[0m\u001B[0m\n\u001B[1;32m   5159\u001B[0m         \u001B[0;31m# to datetime boundary according to its resolution.\u001B[0m\u001B[0;34m\u001B[0m\u001B[0;34m\u001B[0m\u001B[0;34m\u001B[0m\u001B[0m\n\u001B[0;32m-> 5160\u001B[0;31m         \u001B[0mlabel\u001B[0m \u001B[0;34m=\u001B[0m \u001B[0mself\u001B[0m\u001B[0;34m.\u001B[0m\u001B[0m_maybe_cast_slice_bound\u001B[0m\u001B[0;34m(\u001B[0m\u001B[0mlabel\u001B[0m\u001B[0;34m,\u001B[0m \u001B[0mside\u001B[0m\u001B[0;34m,\u001B[0m \u001B[0mkind\u001B[0m\u001B[0;34m)\u001B[0m\u001B[0;34m\u001B[0m\u001B[0;34m\u001B[0m\u001B[0m\n\u001B[0m\u001B[1;32m   5161\u001B[0m \u001B[0;34m\u001B[0m\u001B[0m\n\u001B[1;32m   5162\u001B[0m         \u001B[0;31m# we need to look up the label\u001B[0m\u001B[0;34m\u001B[0m\u001B[0;34m\u001B[0m\u001B[0;34m\u001B[0m\u001B[0m\n",
      "\u001B[0;32m~/anaconda3/lib/python3.7/site-packages/pandas/core/indexes/base.py\u001B[0m in \u001B[0;36m_maybe_cast_slice_bound\u001B[0;34m(self, label, side, kind)\u001B[0m\n\u001B[1;32m   5110\u001B[0m         \u001B[0;31m# this is rejected (generally .loc gets you here)\u001B[0m\u001B[0;34m\u001B[0m\u001B[0;34m\u001B[0m\u001B[0;34m\u001B[0m\u001B[0m\n\u001B[1;32m   5111\u001B[0m         \u001B[0;32melif\u001B[0m \u001B[0mis_integer\u001B[0m\u001B[0;34m(\u001B[0m\u001B[0mlabel\u001B[0m\u001B[0;34m)\u001B[0m\u001B[0;34m:\u001B[0m\u001B[0;34m\u001B[0m\u001B[0;34m\u001B[0m\u001B[0m\n\u001B[0;32m-> 5112\u001B[0;31m             \u001B[0mself\u001B[0m\u001B[0;34m.\u001B[0m\u001B[0m_invalid_indexer\u001B[0m\u001B[0;34m(\u001B[0m\u001B[0;34m\"slice\"\u001B[0m\u001B[0;34m,\u001B[0m \u001B[0mlabel\u001B[0m\u001B[0;34m)\u001B[0m\u001B[0;34m\u001B[0m\u001B[0;34m\u001B[0m\u001B[0m\n\u001B[0m\u001B[1;32m   5113\u001B[0m \u001B[0;34m\u001B[0m\u001B[0m\n\u001B[1;32m   5114\u001B[0m         \u001B[0;32mreturn\u001B[0m \u001B[0mlabel\u001B[0m\u001B[0;34m\u001B[0m\u001B[0;34m\u001B[0m\u001B[0m\n",
      "\u001B[0;32m~/anaconda3/lib/python3.7/site-packages/pandas/core/indexes/base.py\u001B[0m in \u001B[0;36m_invalid_indexer\u001B[0;34m(self, form, key)\u001B[0m\n\u001B[1;32m   3338\u001B[0m             \u001B[0;34m\"cannot do {form} indexing on {klass} with these \"\u001B[0m\u001B[0;34m\u001B[0m\u001B[0;34m\u001B[0m\u001B[0m\n\u001B[1;32m   3339\u001B[0m             \"indexers [{key}] of {kind}\".format(\n\u001B[0;32m-> 3340\u001B[0;31m                 \u001B[0mform\u001B[0m\u001B[0;34m=\u001B[0m\u001B[0mform\u001B[0m\u001B[0;34m,\u001B[0m \u001B[0mklass\u001B[0m\u001B[0;34m=\u001B[0m\u001B[0mtype\u001B[0m\u001B[0;34m(\u001B[0m\u001B[0mself\u001B[0m\u001B[0;34m)\u001B[0m\u001B[0;34m,\u001B[0m \u001B[0mkey\u001B[0m\u001B[0;34m=\u001B[0m\u001B[0mkey\u001B[0m\u001B[0;34m,\u001B[0m \u001B[0mkind\u001B[0m\u001B[0;34m=\u001B[0m\u001B[0mtype\u001B[0m\u001B[0;34m(\u001B[0m\u001B[0mkey\u001B[0m\u001B[0;34m)\u001B[0m\u001B[0;34m\u001B[0m\u001B[0;34m\u001B[0m\u001B[0m\n\u001B[0m\u001B[1;32m   3341\u001B[0m             )\n\u001B[1;32m   3342\u001B[0m         )\n",
      "\u001B[0;31mTypeError\u001B[0m: cannot do slice indexing on <class 'pandas.core.indexes.base.Index'> with these indexers [2] of <class 'int'>"
     ]
    }
   ],
   "source": [
    "sample_df.loc[2:4]"
   ]
  },
  {
   "cell_type": "markdown",
   "metadata": {},
   "source": [
    "***Now, we got an error because no index was with the name 2 and 4 in the dataframe.***\n",
    "\n",
    "---"
   ]
  },
  {
   "cell_type": "code",
   "execution_count": 40,
   "metadata": {},
   "outputs": [
    {
     "data": {
      "text/html": [
       "<div>\n",
       "<style scoped>\n",
       "    .dataframe tbody tr th:only-of-type {\n",
       "        vertical-align: middle;\n",
       "    }\n",
       "\n",
       "    .dataframe tbody tr th {\n",
       "        vertical-align: top;\n",
       "    }\n",
       "\n",
       "    .dataframe thead th {\n",
       "        text-align: right;\n",
       "    }\n",
       "</style>\n",
       "<table border=\"1\" class=\"dataframe\">\n",
       "  <thead>\n",
       "    <tr style=\"text-align: right;\">\n",
       "      <th></th>\n",
       "      <th>gender</th>\n",
       "      <th>grade</th>\n",
       "      <th>marks</th>\n",
       "    </tr>\n",
       "    <tr>\n",
       "      <th>id</th>\n",
       "      <th></th>\n",
       "      <th></th>\n",
       "      <th></th>\n",
       "    </tr>\n",
       "  </thead>\n",
       "  <tbody>\n",
       "    <tr>\n",
       "      <td>A104</td>\n",
       "      <td>M</td>\n",
       "      <td>B</td>\n",
       "      <td>14</td>\n",
       "    </tr>\n",
       "    <tr>\n",
       "      <td>A105</td>\n",
       "      <td>F</td>\n",
       "      <td>A</td>\n",
       "      <td>20</td>\n",
       "    </tr>\n",
       "    <tr>\n",
       "      <td>A102</td>\n",
       "      <td>F</td>\n",
       "      <td>A</td>\n",
       "      <td>21</td>\n",
       "    </tr>\n",
       "  </tbody>\n",
       "</table>\n",
       "</div>"
      ],
      "text/plain": [
       "     gender grade  marks\n",
       "id                      \n",
       "A104      M     B     14\n",
       "A105      F     A     20\n",
       "A102      F     A     21"
      ]
     },
     "execution_count": 40,
     "metadata": {},
     "output_type": "execute_result"
    }
   ],
   "source": [
    "sample_df.loc['A104':'A102']"
   ]
  },
  {
   "cell_type": "markdown",
   "metadata": {},
   "source": [
    "---"
   ]
  },
  {
   "cell_type": "code",
   "execution_count": null,
   "metadata": {},
   "outputs": [],
   "source": []
  }
 ],
 "metadata": {
  "kernelspec": {
   "display_name": "Python 3",
   "language": "python",
   "name": "python3"
  },
  "language_info": {
   "codemirror_mode": {
    "name": "ipython",
    "version": 3
   },
   "file_extension": ".py",
   "mimetype": "text/x-python",
   "name": "python",
   "nbconvert_exporter": "python",
   "pygments_lexer": "ipython3",
   "version": "3.7.4"
  }
 },
 "nbformat": 4,
 "nbformat_minor": 2
}
