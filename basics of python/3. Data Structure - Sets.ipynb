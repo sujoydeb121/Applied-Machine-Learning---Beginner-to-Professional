{
 "nbformat": 4,
 "nbformat_minor": 0,
 "metadata": {
  "kernelspec": {
   "display_name": "Python 3",
   "language": "python",
   "name": "python3"
  },
  "language_info": {
   "codemirror_mode": {
    "name": "ipython",
    "version": 3
   },
   "file_extension": ".py",
   "mimetype": "text/x-python",
   "name": "python",
   "nbconvert_exporter": "python",
   "pygments_lexer": "ipython3",
   "version": "3.7.3"
  },
  "colab": {
   "name": "Data Structure - Sets.ipynb",
   "provenance": []
  }
 },
 "cells": [
  {
   "cell_type": "markdown",
   "metadata": {
    "id": "GkuR4xVcdVrb",
    "colab_type": "text"
   },
   "source": [
    "---\n",
    "---\n",
    "\n",
    "<center><h1> Data Structure - Set 📍📍 </h1></center>\n",
    "\n",
    "---"
   ]
  },
  {
   "cell_type": "markdown",
   "metadata": {
    "id": "3MqvgR3xdVrp",
    "colab_type": "text"
   },
   "source": [
    "#### Defining a set in Python\n",
    "\n",
    "---"
   ]
  },
  {
   "cell_type": "code",
   "metadata": {
    "id": "hgbdSpyDdVrx",
    "colab_type": "code",
    "colab": {}
   },
   "source": [
    "my_set = {'A', 'B', 'C', 'D', 1, 'E', 2, 4}"
   ],
   "execution_count": 1,
   "outputs": []
  },
  {
   "cell_type": "code",
   "metadata": {
    "id": "j9U1ez2vdVsE",
    "colab_type": "code",
    "colab": {},
    "outputId": "ce186df6-dc24-4573-d93f-695799e325d4"
   },
   "source": [
    "my_set"
   ],
   "execution_count": 2,
   "outputs": [
    {
     "data": {
      "text/plain": "{1, 2, 4, 'A', 'B', 'C', 'D', 'E'}"
     },
     "execution_count": 2,
     "metadata": {},
     "output_type": "execute_result"
    }
   ]
  },
  {
   "cell_type": "code",
   "metadata": {
    "id": "QChHg6oBdVsS",
    "colab_type": "code",
    "colab": {}
   },
   "source": [
    "my_set = {'A', 'B', 'C', 'D', 1, 'E', 2, 4, 2 , 2}"
   ],
   "execution_count": 3,
   "outputs": []
  },
  {
   "cell_type": "code",
   "metadata": {
    "id": "w22G75_WdVse",
    "colab_type": "code",
    "colab": {},
    "outputId": "2c4b9f50-6a61-4dd7-d4aa-9792cee0324e"
   },
   "source": [
    "my_set"
   ],
   "execution_count": 4,
   "outputs": [
    {
     "data": {
      "text/plain": "{1, 2, 4, 'A', 'B', 'C', 'D', 'E'}"
     },
     "execution_count": 4,
     "metadata": {},
     "output_type": "execute_result"
    }
   ]
  },
  {
   "cell_type": "markdown",
   "metadata": {
    "id": "cAKelVCEdVsp",
    "colab_type": "text"
   },
   "source": [
    "#### Defining a set from a List  and Tuple\n",
    "\n",
    "---"
   ]
  },
  {
   "cell_type": "code",
   "metadata": {
    "id": "_6BizPVmdVss",
    "colab_type": "code",
    "colab": {}
   },
   "source": [
    "my_list = ['A', 'B', 1, 2, 'B', 'A']\n",
    "my_set_from_list = set(my_list)"
   ],
   "execution_count": 5,
   "outputs": []
  },
  {
   "cell_type": "code",
   "metadata": {
    "id": "m-Qgd_vjdVs2",
    "colab_type": "code",
    "colab": {},
    "outputId": "f1e1878e-643f-4d0d-a047-4daf4ed77ed5"
   },
   "source": [
    "my_set_from_list"
   ],
   "execution_count": 6,
   "outputs": [
    {
     "data": {
      "text/plain": "{1, 2, 'A', 'B'}"
     },
     "execution_count": 6,
     "metadata": {},
     "output_type": "execute_result"
    }
   ]
  },
  {
   "cell_type": "code",
   "metadata": {
    "id": "CUnpOARjdVtA",
    "colab_type": "code",
    "colab": {}
   },
   "source": [
    "my_tuple = ('A', 'B', 1, 2, 'B', 'A')\n",
    "my_set_from_tuple = set(my_tuple)"
   ],
   "execution_count": 7,
   "outputs": []
  },
  {
   "cell_type": "code",
   "metadata": {
    "id": "vR1MqK5hdVtG",
    "colab_type": "code",
    "colab": {},
    "outputId": "23118953-5460-4983-a250-d846ef33fb44"
   },
   "source": [
    "my_set_from_tuple"
   ],
   "execution_count": 8,
   "outputs": [
    {
     "data": {
      "text/plain": "{1, 2, 'A', 'B'}"
     },
     "execution_count": 8,
     "metadata": {},
     "output_type": "execute_result"
    }
   ]
  },
  {
   "cell_type": "markdown",
   "metadata": {
    "id": "dHLllxcrdVtL",
    "colab_type": "text"
   },
   "source": [
    "#### Add an element to the set\n",
    "\n",
    "---"
   ]
  },
  {
   "cell_type": "code",
   "metadata": {
    "id": "KfFCL3phdVtN",
    "colab_type": "code",
    "colab": {}
   },
   "source": [
    "my_set.add('O')"
   ],
   "execution_count": 9,
   "outputs": []
  },
  {
   "cell_type": "code",
   "metadata": {
    "id": "95LU3t5rdVtT",
    "colab_type": "code",
    "colab": {},
    "outputId": "182697b9-32ae-403e-9aed-54aacda99708"
   },
   "source": [
    "my_set"
   ],
   "execution_count": 10,
   "outputs": [
    {
     "data": {
      "text/plain": "{1, 2, 4, 'A', 'B', 'C', 'D', 'E', 'O'}"
     },
     "execution_count": 10,
     "metadata": {},
     "output_type": "execute_result"
    }
   ]
  },
  {
   "cell_type": "markdown",
   "metadata": {
    "id": "ivDskOwldVta",
    "colab_type": "text"
   },
   "source": [
    "#### Delete an element from the list\n",
    "\n",
    "* Discard - It will not throw an error, if the element you want to remove is not present in the set.\n",
    "* remove - It will throw an error, if the element you want to remove is not present in the set.\n",
    "\n",
    "---\n",
    "\n"
   ]
  },
  {
   "cell_type": "code",
   "metadata": {
    "id": "RSiU9_hJdVtb",
    "colab_type": "code",
    "colab": {}
   },
   "source": [
    "my_set = {1, 2, 4, 'A', 'B', 'C', 'D', 'E', 'O'}"
   ],
   "execution_count": 11,
   "outputs": []
  },
  {
   "cell_type": "code",
   "metadata": {
    "id": "V-EpIkwHdVtg",
    "colab_type": "code",
    "colab": {}
   },
   "source": [
    "my_set.discard('A')"
   ],
   "execution_count": 12,
   "outputs": []
  },
  {
   "cell_type": "code",
   "metadata": {
    "id": "Y5kfukGfdVtr",
    "colab_type": "code",
    "colab": {},
    "outputId": "8248b05f-e346-4413-ce49-12df5019dc0d"
   },
   "source": [
    "my_set"
   ],
   "execution_count": 13,
   "outputs": [
    {
     "data": {
      "text/plain": "{1, 2, 4, 'B', 'C', 'D', 'E', 'O'}"
     },
     "execution_count": 13,
     "metadata": {},
     "output_type": "execute_result"
    }
   ]
  },
  {
   "cell_type": "code",
   "metadata": {
    "id": "w8NZGe59dVt2",
    "colab_type": "code",
    "colab": {}
   },
   "source": [
    "my_set.discard('X')"
   ],
   "execution_count": 14,
   "outputs": []
  },
  {
   "cell_type": "code",
   "metadata": {
    "scrolled": true,
    "id": "Qb8SKy-bdVuA",
    "colab_type": "code",
    "colab": {},
    "outputId": "8a84e675-90c4-4eb2-c896-9b768ffa5332"
   },
   "source": [
    "my_set.remove('X')"
   ],
   "execution_count": 15,
   "outputs": [
    {
     "ename": "KeyError",
     "evalue": "'X'",
     "output_type": "error",
     "traceback": [
      "\u001B[1;31m---------------------------------------------------------------------------\u001B[0m",
      "\u001B[1;31mKeyError\u001B[0m                                  Traceback (most recent call last)",
      "Cell \u001B[1;32mIn[15], line 1\u001B[0m\n\u001B[1;32m----> 1\u001B[0m \u001B[43mmy_set\u001B[49m\u001B[38;5;241;43m.\u001B[39;49m\u001B[43mremove\u001B[49m\u001B[43m(\u001B[49m\u001B[38;5;124;43m'\u001B[39;49m\u001B[38;5;124;43mX\u001B[39;49m\u001B[38;5;124;43m'\u001B[39;49m\u001B[43m)\u001B[49m\n",
      "\u001B[1;31mKeyError\u001B[0m: 'X'"
     ]
    }
   ]
  },
  {
   "cell_type": "markdown",
   "metadata": {
    "id": "Rw7jUza9dVuI",
    "colab_type": "text"
   },
   "source": [
    "#### Difference between two Sets\n",
    "\n",
    "## A-B\n",
    "\n",
    "![](images/difference.png)\n",
    "---"
   ]
  },
  {
   "cell_type": "code",
   "metadata": {
    "id": "MkMNOxuydVuK",
    "colab_type": "code",
    "colab": {},
    "outputId": "f0af8ec8-7848-4a7d-f592-5e9cec07e03e"
   },
   "source": [
    "# Set 1\n",
    "my_set"
   ],
   "execution_count": 16,
   "outputs": [
    {
     "data": {
      "text/plain": "{1, 2, 4, 'B', 'C', 'D', 'E', 'O'}"
     },
     "execution_count": 16,
     "metadata": {},
     "output_type": "execute_result"
    }
   ]
  },
  {
   "cell_type": "code",
   "metadata": {
    "id": "W8xAoHDpdVuO",
    "colab_type": "code",
    "colab": {},
    "outputId": "d6e3df39-9a74-4838-bb6d-d73e47991b20"
   },
   "source": [
    "# Set 2\n",
    "my_set_from_list"
   ],
   "execution_count": 17,
   "outputs": [
    {
     "data": {
      "text/plain": "{1, 2, 'A', 'B'}"
     },
     "execution_count": 17,
     "metadata": {},
     "output_type": "execute_result"
    }
   ]
  },
  {
   "cell_type": "code",
   "metadata": {
    "id": "pZS_ckfQdVuW",
    "colab_type": "code",
    "colab": {},
    "outputId": "b142cb7e-1e0d-475c-b0a9-55c5336d3f7d"
   },
   "source": [
    "# difference of 2 sets\n",
    "my_set.difference(my_set_from_list)"
   ],
   "execution_count": 18,
   "outputs": [
    {
     "data": {
      "text/plain": "{4, 'C', 'D', 'E', 'O'}"
     },
     "execution_count": 18,
     "metadata": {},
     "output_type": "execute_result"
    }
   ]
  },
  {
   "cell_type": "code",
   "metadata": {
    "id": "utaan_92dVug",
    "colab_type": "code",
    "colab": {},
    "outputId": "bf3e2eba-5de0-4a37-c13e-4abc6207b5f5"
   },
   "source": [
    "# it will not update the results, if not stored in a variable\n",
    "my_set"
   ],
   "execution_count": 19,
   "outputs": [
    {
     "data": {
      "text/plain": "{1, 2, 4, 'B', 'C', 'D', 'E', 'O'}"
     },
     "execution_count": 19,
     "metadata": {},
     "output_type": "execute_result"
    }
   ]
  },
  {
   "cell_type": "code",
   "metadata": {
    "id": "cqwq2_vvdVup",
    "colab_type": "code",
    "colab": {}
   },
   "source": [
    "# use the difference_update to store the results directly\n",
    "my_set.difference_update(my_set_from_list)"
   ],
   "execution_count": 20,
   "outputs": []
  },
  {
   "cell_type": "code",
   "metadata": {
    "id": "9G-1gWAhdVuu",
    "colab_type": "code",
    "colab": {},
    "outputId": "2321cc5f-c8ae-4ab0-b5b9-b49886420b97"
   },
   "source": [
    "# updated set\n",
    "my_set"
   ],
   "execution_count": 21,
   "outputs": [
    {
     "data": {
      "text/plain": "{4, 'C', 'D', 'E', 'O'}"
     },
     "execution_count": 21,
     "metadata": {},
     "output_type": "execute_result"
    }
   ]
  },
  {
   "cell_type": "markdown",
   "metadata": {
    "id": "VmvoAeArdVuy",
    "colab_type": "text"
   },
   "source": [
    "#### Intersection of two sets\n",
    "\n",
    "\n",
    "![](images/intersection.png)\n",
    "\n",
    "---"
   ]
  },
  {
   "cell_type": "code",
   "metadata": {
    "id": "z-7NNBaxdVu0",
    "colab_type": "code",
    "colab": {}
   },
   "source": [
    "# Set 1\n",
    "my_set = {1, 2, 4, 'A', 'B', 'C', 'D', 'E', 'O'}"
   ],
   "execution_count": 22,
   "outputs": []
  },
  {
   "cell_type": "code",
   "metadata": {
    "id": "6FpQbpsHdVu8",
    "colab_type": "code",
    "colab": {},
    "outputId": "842985fc-6452-40ce-ee43-f646229dbe6a"
   },
   "source": [
    "# Set 2 \n",
    "my_set_from_list"
   ],
   "execution_count": 23,
   "outputs": [
    {
     "data": {
      "text/plain": "{1, 2, 'A', 'B'}"
     },
     "execution_count": 23,
     "metadata": {},
     "output_type": "execute_result"
    }
   ]
  },
  {
   "cell_type": "code",
   "metadata": {
    "id": "QIvF4YyOdVvG",
    "colab_type": "code",
    "colab": {},
    "outputId": "9c1b6fbd-6c6e-4d5e-8804-5446a207c82f"
   },
   "source": [
    "# intersection of 2 sets\n",
    "my_set.intersection(my_set_from_list)"
   ],
   "execution_count": 24,
   "outputs": [
    {
     "data": {
      "text/plain": "{1, 2, 'A', 'B'}"
     },
     "execution_count": 24,
     "metadata": {},
     "output_type": "execute_result"
    }
   ]
  },
  {
   "cell_type": "code",
   "metadata": {
    "id": "0qXvUeKgdVvR",
    "colab_type": "code",
    "colab": {},
    "outputId": "f91e80fc-5ec8-4e06-e644-a9a87b535876"
   },
   "source": [
    "# it will not update the results, if not stored in a variable\n",
    "my_set"
   ],
   "execution_count": 25,
   "outputs": [
    {
     "data": {
      "text/plain": "{1, 2, 4, 'A', 'B', 'C', 'D', 'E', 'O'}"
     },
     "execution_count": 25,
     "metadata": {},
     "output_type": "execute_result"
    }
   ]
  },
  {
   "cell_type": "code",
   "metadata": {
    "id": "K05y2YVtdVvV",
    "colab_type": "code",
    "colab": {}
   },
   "source": [
    "# to update directly, use intersection_update\n",
    "my_set.intersection_update(my_set_from_list)"
   ],
   "execution_count": 26,
   "outputs": []
  },
  {
   "cell_type": "code",
   "metadata": {
    "id": "rJ7CWNKNdVvb",
    "colab_type": "code",
    "colab": {},
    "outputId": "9b59732b-5df2-45a4-b1e4-721e1c6cccc1"
   },
   "source": [
    "# updated set\n",
    "my_set"
   ],
   "execution_count": 27,
   "outputs": [
    {
     "data": {
      "text/plain": "{1, 2, 'A', 'B'}"
     },
     "execution_count": 27,
     "metadata": {},
     "output_type": "execute_result"
    }
   ]
  },
  {
   "cell_type": "markdown",
   "metadata": {
    "id": "R7ugFNO1dVvg",
    "colab_type": "text"
   },
   "source": [
    "#### Other operations on set\n",
    "\n",
    "* is_disjoint\n",
    "* is_subset\n",
    "* is_superset\n",
    "* union\n",
    "\n",
    "---"
   ]
  },
  {
   "cell_type": "code",
   "metadata": {
    "id": "a0-b10pedVvj",
    "colab_type": "code",
    "colab": {}
   },
   "source": [
    "# define 3 random sets\n",
    "sample_set_1 = {'A', 'B', 'C', 'D', 'E', 'F'}\n",
    "sample_set_2 = {'A', 'D', 'E'}\n",
    "sample_set_3 = {'S', 'T', 'U'}"
   ],
   "execution_count": 28,
   "outputs": []
  },
  {
   "cell_type": "code",
   "metadata": {
    "id": "CdukRgokdVvo",
    "colab_type": "code",
    "colab": {},
    "outputId": "5ef02533-0c65-48ab-d74e-ba702e51e4de"
   },
   "source": [
    "# check if 2 sets are disjoint sets\n",
    "sample_set_1.isdisjoint(sample_set_2)"
   ],
   "execution_count": 29,
   "outputs": [
    {
     "data": {
      "text/plain": "False"
     },
     "execution_count": 29,
     "metadata": {},
     "output_type": "execute_result"
    }
   ]
  },
  {
   "cell_type": "code",
   "metadata": {
    "id": "1ElEgF29dVvv",
    "colab_type": "code",
    "colab": {},
    "outputId": "f4aa5489-eabe-4695-a67e-72c3ea8e10f2"
   },
   "source": [
    "sample_set_1.isdisjoint(sample_set_3)"
   ],
   "execution_count": null,
   "outputs": []
  },
  {
   "cell_type": "code",
   "metadata": {
    "id": "51e1DYEcdVv2",
    "colab_type": "code",
    "colab": {},
    "outputId": "dcb4b634-b73f-4876-e753-7105323118ec"
   },
   "source": [
    "# check if one set is subset of another set\n",
    "sample_set_2.issubset(sample_set_1)"
   ],
   "execution_count": null,
   "outputs": []
  },
  {
   "cell_type": "code",
   "metadata": {
    "id": "H-A7aAV_dVv_",
    "colab_type": "code",
    "colab": {},
    "outputId": "3ae10d58-ae0a-431b-eba9-df189d89d70c"
   },
   "source": [
    "# check if one set is superset of another\n",
    "sample_set_1.issuperset(sample_set_2)"
   ],
   "execution_count": null,
   "outputs": []
  },
  {
   "cell_type": "code",
   "metadata": {
    "id": "BFjri6cvdVwG",
    "colab_type": "code",
    "colab": {},
    "outputId": "2b6a4f08-4777-4c9b-aee5-3aef60e67f69"
   },
   "source": [
    "# union of 2 sets\n",
    "sample_set_1.union(sample_set_3)"
   ],
   "execution_count": null,
   "outputs": []
  },
  {
   "cell_type": "markdown",
   "metadata": {
    "id": "hwWfDltBdVwQ",
    "colab_type": "text"
   },
   "source": [
    "#### Update Set\n",
    "\n",
    "---"
   ]
  },
  {
   "cell_type": "code",
   "metadata": {
    "id": "eury5_2DdVwV",
    "colab_type": "code",
    "colab": {}
   },
   "source": [
    "# update a set with new values, it will add the values which are not present in the original set.\n",
    "sample_set_1.update({'C', 'D', 'E', 'R', 'Z'})"
   ],
   "execution_count": null,
   "outputs": []
  },
  {
   "cell_type": "code",
   "metadata": {
    "id": "oQ_-c0dvdVwa",
    "colab_type": "code",
    "colab": {},
    "outputId": "ef8051ff-3e05-4c83-ef98-30933b9e509f"
   },
   "source": [
    "sample_set_1"
   ],
   "execution_count": null,
   "outputs": []
  },
  {
   "cell_type": "markdown",
   "metadata": {
    "id": "gPh8sLA1dVwf",
    "colab_type": "text"
   },
   "source": [
    "#### Iterate the set\n",
    "\n",
    "---"
   ]
  },
  {
   "cell_type": "code",
   "metadata": {
    "id": "HgzUYemBdVwg",
    "colab_type": "code",
    "colab": {},
    "outputId": "110cfa42-f17e-42b7-ae19-306539f87857"
   },
   "source": [
    "# Iterate the set\n",
    "for element in sample_set_1:\n",
    "    print(element)"
   ],
   "execution_count": null,
   "outputs": []
  },
  {
   "cell_type": "code",
   "metadata": {
    "id": "WqDL35BldVwk",
    "colab_type": "code",
    "colab": {}
   },
   "source": [
    "sample_set_1 = {1,2,3,4,5,6,7}\n",
    "sample_set_2 = {1,4,7}\n"
   ],
   "execution_count": 37,
   "outputs": []
  },
  {
   "cell_type": "code",
   "execution_count": 38,
   "outputs": [
    {
     "data": {
      "text/plain": "False"
     },
     "execution_count": 38,
     "metadata": {},
     "output_type": "execute_result"
    }
   ],
   "source": [
    "sample_set_1.isdisjoint(sample_set_2)\n",
    "# returns true when there is no common elements between the two"
   ],
   "metadata": {
    "collapsed": false
   }
  },
  {
   "cell_type": "code",
   "execution_count": 39,
   "outputs": [
    {
     "data": {
      "text/plain": "True"
     },
     "execution_count": 39,
     "metadata": {},
     "output_type": "execute_result"
    }
   ],
   "source": [
    "sample_set_1.issuperset(sample_set_2)\n"
   ],
   "metadata": {
    "collapsed": false
   }
  },
  {
   "cell_type": "code",
   "execution_count": null,
   "outputs": [],
   "source": [],
   "metadata": {
    "collapsed": false
   }
  }
 ]
}
