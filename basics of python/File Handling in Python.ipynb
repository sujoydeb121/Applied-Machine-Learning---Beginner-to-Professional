{
 "nbformat": 4,
 "nbformat_minor": 0,
 "metadata": {
  "kernelspec": {
   "display_name": "Python 3",
   "language": "python",
   "name": "python3"
  },
  "language_info": {
   "codemirror_mode": {
    "name": "ipython",
    "version": 3
   },
   "file_extension": ".py",
   "mimetype": "text/x-python",
   "name": "python",
   "nbconvert_exporter": "python",
   "pygments_lexer": "ipython3",
   "version": "3.7.3"
  },
  "colab": {
   "name": "File Handling in Python.ipynb",
   "provenance": []
  }
 },
 "cells": [
  {
   "cell_type": "markdown",
   "metadata": {
    "id": "XZlcjGdzhxxR",
    "colab_type": "text"
   },
   "source": [
    "---\n",
    "---\n",
    "\n",
    "<center><h1>📍 📍 FILE HANDLING 📍 📍 </h1></center>\n",
    "\n",
    "\n",
    "#### `TEXT FILES`\n",
    "\n",
    "---\n",
    "\n",
    "* ***.txt***\n",
    "\n",
    "\n",
    "**FILE ACCESS MODES**\n",
    "\n",
    " * ***`Read Only (‘r’)`*** : It opens the text file for reading. If the file does not exists, raises I/O error.\n",
    " * ***`Read and Write (‘r+’)`*** : It opens the file for reading and writing. Raises I/O error if the file does not exists.\n",
    " * ***`Write Only (‘w’)`*** : It opens the file for writing. For existing file, the data over-written. Creates the file if the file does not exists.\n",
    " * ***`Write and Read (‘w+’)`*** : It opens the file for reading and writing. For existing file, data is truncated and over-written.\n",
    " * ***`Append Only (‘a’)`*** : It opens the file for writing. The file is created if it does not exist. The data being written will be inserted at the end, after the existing data.\n",
    " * ***`Append and Read (‘a+’)`*** : It opens the file for reading and writing. The file is created if it does not exist. The data being written will be inserted at the end, after the existing data.\n",
    "\n",
    "---\n",
    "\n",
    "---"
   ]
  },
  {
   "cell_type": "markdown",
   "metadata": {
    "id": "thg1vbcQhxxb",
    "colab_type": "text"
   },
   "source": [
    "#### `READING TEXT FILES`\n",
    "\n",
    "---"
   ]
  },
  {
   "cell_type": "code",
   "metadata": {
    "id": "v-RDWQLShxxj",
    "colab_type": "code",
    "colab": {}
   },
   "source": [
    "# Open the file in read only mode.\n",
    "\n",
    "text_file = open(\"dataset/file_1.txt\", \"r\")"
   ],
   "execution_count": 1,
   "outputs": []
  },
  {
   "cell_type": "code",
   "metadata": {
    "id": "6AGE86_hhxx5",
    "colab_type": "code",
    "colab": {},
    "outputId": "deb94501-20c4-4c2f-b46d-7704d27c83e1"
   },
   "source": [
    "# read the file and store the text in a variable\n",
    "complete_text = text_file.read()\n",
    "complete_text"
   ],
   "execution_count": 2,
   "outputs": [
    {
     "data": {
      "text/plain": "'This is line number 1.\\nThis is line number 2.\\nThis is line number 3.\\nThis is line number 4.\\nThis is line number 5.\\nThis is line number 6.\\nThis is line number 7.\\nThis is line number 8.\\nThis is line number 9.\\nThis is line number 10.\\nThis is line number 11.\\nThis is line number 12.\\nThis is line number 13.\\nThis is line number 14.\\nThis is line number 15.\\nThis is line number 16.\\nThis is line number 17.\\nThis is line number 18.\\nThis is line number 19.\\nThis is line number 20.\\nThis is line number 21.\\nThis is line number 22.\\nThis is line number 23.\\nThis is line number 24.\\nThis is line number 25.\\nThis is line number 26.\\nThis is line number 27.\\nThis is line number 28.\\nThis is line number 29.\\nThis is line number 30.\\n'"
     },
     "execution_count": 2,
     "metadata": {},
     "output_type": "execute_result"
    }
   ]
  },
  {
   "cell_type": "markdown",
   "metadata": {
    "id": "fHI9KsiDhxyM",
    "colab_type": "text"
   },
   "source": [
    "***Read the file again***\n",
    "\n",
    "---"
   ]
  },
  {
   "cell_type": "code",
   "metadata": {
    "id": "wbFhUC5yhxyS",
    "colab_type": "code",
    "colab": {},
    "outputId": "31a45576-c478-4f52-cb6d-772c94bc96db"
   },
   "source": [
    "# read the file again\n",
    "complete_text = text_file.read()\n",
    "\n",
    "complete_text"
   ],
   "execution_count": 3,
   "outputs": [
    {
     "data": {
      "text/plain": "''"
     },
     "execution_count": 3,
     "metadata": {},
     "output_type": "execute_result"
    }
   ]
  },
  {
   "cell_type": "code",
   "metadata": {
    "id": "Ed_NBdXEhxyi",
    "colab_type": "code",
    "colab": {}
   },
   "source": [
    "'''\n",
    "As you can see we got an empty string.\n",
    "This is because the file is already opened \n",
    "and the file pointer is at the end of the file \n",
    "so one way is to close the file first to read it again.\n",
    "'''\n",
    "\n",
    "text_file.close()"
   ],
   "execution_count": 4,
   "outputs": []
  },
  {
   "cell_type": "code",
   "metadata": {
    "id": "5l0294PKhxyw",
    "colab_type": "code",
    "colab": {}
   },
   "source": [
    "complete_text = open(\"dataset/file_1.txt\", \"r\")"
   ],
   "execution_count": 5,
   "outputs": []
  },
  {
   "cell_type": "code",
   "metadata": {
    "id": "OZ_FbxMwhxy8",
    "colab_type": "code",
    "colab": {},
    "outputId": "b8984e82-07a1-4dfb-e551-2d4203c6137e"
   },
   "source": [
    "complete_text.read()"
   ],
   "execution_count": 6,
   "outputs": [
    {
     "data": {
      "text/plain": "'This is line number 1.\\nThis is line number 2.\\nThis is line number 3.\\nThis is line number 4.\\nThis is line number 5.\\nThis is line number 6.\\nThis is line number 7.\\nThis is line number 8.\\nThis is line number 9.\\nThis is line number 10.\\nThis is line number 11.\\nThis is line number 12.\\nThis is line number 13.\\nThis is line number 14.\\nThis is line number 15.\\nThis is line number 16.\\nThis is line number 17.\\nThis is line number 18.\\nThis is line number 19.\\nThis is line number 20.\\nThis is line number 21.\\nThis is line number 22.\\nThis is line number 23.\\nThis is line number 24.\\nThis is line number 25.\\nThis is line number 26.\\nThis is line number 27.\\nThis is line number 28.\\nThis is line number 29.\\nThis is line number 30.\\n'"
     },
     "execution_count": 6,
     "metadata": {},
     "output_type": "execute_result"
    }
   ]
  },
  {
   "cell_type": "markdown",
   "metadata": {
    "id": "gZJrZhPShxzI",
    "colab_type": "text"
   },
   "source": [
    "***Another way to read the file again is by moving the pointer to the starting point again using the `seek` function***\n",
    "\n",
    "---\n"
   ]
  },
  {
   "cell_type": "code",
   "metadata": {
    "id": "gQI7yWSehxzN",
    "colab_type": "code",
    "colab": {},
    "outputId": "71bbeeeb-dc03-462f-a8d3-9ec0b4d28a73"
   },
   "source": [
    "complete_text.seek(0)"
   ],
   "execution_count": 9,
   "outputs": [
    {
     "data": {
      "text/plain": "0"
     },
     "execution_count": 9,
     "metadata": {},
     "output_type": "execute_result"
    }
   ]
  },
  {
   "cell_type": "code",
   "metadata": {
    "id": "BUMzpDFuhxzc",
    "colab_type": "code",
    "colab": {},
    "outputId": "55119180-93a3-43b5-a00c-ba77c027919c"
   },
   "source": [
    "complete_text.read()"
   ],
   "execution_count": 10,
   "outputs": [
    {
     "data": {
      "text/plain": "'This is line number 1.\\nThis is line number 2.\\nThis is line number 3.\\nThis is line number 4.\\nThis is line number 5.\\nThis is line number 6.\\nThis is line number 7.\\nThis is line number 8.\\nThis is line number 9.\\nThis is line number 10.\\nThis is line number 11.\\nThis is line number 12.\\nThis is line number 13.\\nThis is line number 14.\\nThis is line number 15.\\nThis is line number 16.\\nThis is line number 17.\\nThis is line number 18.\\nThis is line number 19.\\nThis is line number 20.\\nThis is line number 21.\\nThis is line number 22.\\nThis is line number 23.\\nThis is line number 24.\\nThis is line number 25.\\nThis is line number 26.\\nThis is line number 27.\\nThis is line number 28.\\nThis is line number 29.\\nThis is line number 30.\\n'"
     },
     "execution_count": 10,
     "metadata": {},
     "output_type": "execute_result"
    }
   ]
  },
  {
   "cell_type": "markdown",
   "metadata": {
    "id": "j70sULbFhxzn",
    "colab_type": "text"
   },
   "source": [
    "***Using the `seek` function, we can move to any point in the file and read the file.***\n",
    "\n",
    "---\n"
   ]
  },
  {
   "cell_type": "code",
   "metadata": {
    "id": "UPaghT12hxzr",
    "colab_type": "code",
    "colab": {},
    "outputId": "baf9fb05-71c9-4ffd-f789-7755175e4330"
   },
   "source": [
    "# read from 300th character in the file\n",
    "complete_text.seek(300)"
   ],
   "execution_count": 11,
   "outputs": [
    {
     "data": {
      "text/plain": "300"
     },
     "execution_count": 11,
     "metadata": {},
     "output_type": "execute_result"
    }
   ]
  },
  {
   "cell_type": "code",
   "metadata": {
    "id": "C0kOqSANhxz6",
    "colab_type": "code",
    "colab": {},
    "outputId": "7f33e47b-c170-463c-a235-476eac0a5ea0"
   },
   "source": [
    "# read the file\n",
    "complete_text.read()"
   ],
   "execution_count": 12,
   "outputs": [
    {
     "data": {
      "text/plain": "'3.\\nThis is line number 14.\\nThis is line number 15.\\nThis is line number 16.\\nThis is line number 17.\\nThis is line number 18.\\nThis is line number 19.\\nThis is line number 20.\\nThis is line number 21.\\nThis is line number 22.\\nThis is line number 23.\\nThis is line number 24.\\nThis is line number 25.\\nThis is line number 26.\\nThis is line number 27.\\nThis is line number 28.\\nThis is line number 29.\\nThis is line number 30.\\n'"
     },
     "execution_count": 12,
     "metadata": {},
     "output_type": "execute_result"
    }
   ]
  },
  {
   "cell_type": "code",
   "metadata": {
    "id": "FwgOwcW1hx0G",
    "colab_type": "code",
    "colab": {}
   },
   "source": [
    "# close the file\n",
    "complete_text.close()"
   ],
   "execution_count": 13,
   "outputs": []
  },
  {
   "cell_type": "markdown",
   "metadata": {
    "id": "VkZ_OMzWhx0T",
    "colab_type": "text"
   },
   "source": [
    "***Read the file line by line***\n",
    "\n",
    "---"
   ]
  },
  {
   "cell_type": "code",
   "metadata": {
    "id": "53iUSxefhx0U",
    "colab_type": "code",
    "colab": {},
    "outputId": "8115acf9-3100-4c02-f370-370ff086e006"
   },
   "source": [
    "# read the file again store each line in a list\n",
    "text_file = open(\"dataset/file_1.txt\", \"r\")\n",
    "\n",
    "lines = text_file.readlines()\n",
    "\n",
    "# no of lines\n",
    "print('No of lines in file is ',format(len(lines)))"
   ],
   "execution_count": 14,
   "outputs": [
    {
     "name": "stdout",
     "output_type": "stream",
     "text": [
      "No of lines in file is  30\n"
     ]
    }
   ]
  },
  {
   "cell_type": "code",
   "execution_count": 16,
   "outputs": [
    {
     "name": "stdout",
     "output_type": "stream",
     "text": [
      "no of lines:  30\n"
     ]
    }
   ],
   "source": [
    "text_file = open(\"dataset/file_1.txt\", 'r')\n",
    "lines = text_file.readlines()\n",
    "print('no of lines: ', len(lines))"
   ],
   "metadata": {
    "collapsed": false
   }
  },
  {
   "cell_type": "code",
   "metadata": {
    "id": "TXiZwNbzhx0e",
    "colab_type": "code",
    "colab": {},
    "outputId": "4b4c5748-df7c-459b-d44a-6336037999fe"
   },
   "source": [
    "# # print each line text\n",
    "# for line in lines :\n",
    "#     print(line)\n",
    "#\n",
    "# # close the file\n",
    "# text_file.close()\n",
    "\n",
    "for lin in lines:\n",
    "    print(lin)"
   ],
   "execution_count": 17,
   "outputs": [
    {
     "name": "stdout",
     "output_type": "stream",
     "text": [
      "This is line number 1.\n",
      "\n",
      "This is line number 2.\n",
      "\n",
      "This is line number 3.\n",
      "\n",
      "This is line number 4.\n",
      "\n",
      "This is line number 5.\n",
      "\n",
      "This is line number 6.\n",
      "\n",
      "This is line number 7.\n",
      "\n",
      "This is line number 8.\n",
      "\n",
      "This is line number 9.\n",
      "\n",
      "This is line number 10.\n",
      "\n",
      "This is line number 11.\n",
      "\n",
      "This is line number 12.\n",
      "\n",
      "This is line number 13.\n",
      "\n",
      "This is line number 14.\n",
      "\n",
      "This is line number 15.\n",
      "\n",
      "This is line number 16.\n",
      "\n",
      "This is line number 17.\n",
      "\n",
      "This is line number 18.\n",
      "\n",
      "This is line number 19.\n",
      "\n",
      "This is line number 20.\n",
      "\n",
      "This is line number 21.\n",
      "\n",
      "This is line number 22.\n",
      "\n",
      "This is line number 23.\n",
      "\n",
      "This is line number 24.\n",
      "\n",
      "This is line number 25.\n",
      "\n",
      "This is line number 26.\n",
      "\n",
      "This is line number 27.\n",
      "\n",
      "This is line number 28.\n",
      "\n",
      "This is line number 29.\n",
      "\n",
      "This is line number 30.\n",
      "\n"
     ]
    }
   ]
  },
  {
   "cell_type": "markdown",
   "metadata": {
    "id": "eJfAiMhVhx0q",
    "colab_type": "text"
   },
   "source": [
    "---\n",
    "\n",
    "***Another way to read text files***\n",
    "\n",
    "---"
   ]
  },
  {
   "cell_type": "code",
   "execution_count": 18,
   "outputs": [],
   "source": [
    "text_file.close()"
   ],
   "metadata": {
    "collapsed": false
   }
  },
  {
   "cell_type": "code",
   "metadata": {
    "id": "FtecXDR0hx0t",
    "colab_type": "code",
    "colab": {}
   },
   "source": [
    "# with open('dataset/file_1.txt','r') as f:\n",
    "#     complete_text =  f.read()"
   ],
   "execution_count": 19,
   "outputs": []
  },
  {
   "cell_type": "code",
   "execution_count": 20,
   "outputs": [],
   "source": [
    "with open('dataset/file_1.txt', 'r') as f:\n",
    "    complete_text = f.read()"
   ],
   "metadata": {
    "collapsed": false
   }
  },
  {
   "cell_type": "code",
   "metadata": {
    "id": "XjnIjU2Khx03",
    "colab_type": "code",
    "colab": {},
    "outputId": "1b132a60-fc84-4005-aa77-8004ea50c8c1"
   },
   "source": [
    "complete_text"
   ],
   "execution_count": 21,
   "outputs": [
    {
     "data": {
      "text/plain": "'This is line number 1.\\nThis is line number 2.\\nThis is line number 3.\\nThis is line number 4.\\nThis is line number 5.\\nThis is line number 6.\\nThis is line number 7.\\nThis is line number 8.\\nThis is line number 9.\\nThis is line number 10.\\nThis is line number 11.\\nThis is line number 12.\\nThis is line number 13.\\nThis is line number 14.\\nThis is line number 15.\\nThis is line number 16.\\nThis is line number 17.\\nThis is line number 18.\\nThis is line number 19.\\nThis is line number 20.\\nThis is line number 21.\\nThis is line number 22.\\nThis is line number 23.\\nThis is line number 24.\\nThis is line number 25.\\nThis is line number 26.\\nThis is line number 27.\\nThis is line number 28.\\nThis is line number 29.\\nThis is line number 30.\\n'"
     },
     "execution_count": 21,
     "metadata": {},
     "output_type": "execute_result"
    }
   ]
  },
  {
   "cell_type": "markdown",
   "metadata": {
    "id": "8OITSz2nhx1A",
    "colab_type": "text"
   },
   "source": [
    "***Using `with` statement, python will automatically closes the file after reading it.***\n",
    "\n",
    "---"
   ]
  },
  {
   "cell_type": "markdown",
   "metadata": {
    "id": "Jc8qx8aChx1D",
    "colab_type": "text"
   },
   "source": [
    "#### `WRITING TEXT FILES`\n",
    "\n",
    "\n",
    "---"
   ]
  },
  {
   "cell_type": "code",
   "execution_count": null,
   "outputs": [],
   "source": [],
   "metadata": {
    "collapsed": false
   }
  },
  {
   "cell_type": "code",
   "metadata": {
    "id": "MvTcwOMKhx1F",
    "colab_type": "code",
    "colab": {},
    "outputId": "72a9048f-0959-4b47-e96c-accf8c08188b"
   },
   "source": [
    "my_file = open('dataset/new_file.txt', 'w+')\n",
    "my_file.read()"
   ],
   "execution_count": 23,
   "outputs": [
    {
     "data": {
      "text/plain": "''"
     },
     "execution_count": 23,
     "metadata": {},
     "output_type": "execute_result"
    }
   ]
  },
  {
   "cell_type": "markdown",
   "metadata": {
    "id": "s6RK7oF9hx1P",
    "colab_type": "text"
   },
   "source": [
    "***`write` function will return the number of characters written in the file.***\n",
    "\n",
    "___"
   ]
  },
  {
   "cell_type": "code",
   "metadata": {
    "id": "FFQyZ40-hx1R",
    "colab_type": "code",
    "colab": {},
    "outputId": "e12f65d9-245f-405f-fc4e-388311c008fe"
   },
   "source": [
    "# # open the file write and read mode\n",
    "# my_file = open('dataset/new_file.txt','w+')\n",
    "# #  read the file\n",
    "# my_file.read()"
   ],
   "execution_count": 24,
   "outputs": [
    {
     "data": {
      "text/plain": "''"
     },
     "execution_count": 24,
     "metadata": {},
     "output_type": "execute_result"
    }
   ]
  },
  {
   "cell_type": "code",
   "metadata": {
    "id": "NqUWMsw6hx1a",
    "colab_type": "code",
    "colab": {}
   },
   "source": [
    "# close the file\n",
    "my_file.close()"
   ],
   "execution_count": 25,
   "outputs": []
  },
  {
   "cell_type": "code",
   "metadata": {
    "id": "-MtvfJO4hx1l",
    "colab_type": "code",
    "colab": {}
   },
   "source": [
    "# Now, add some lines to the file again\n",
    "\n",
    "my_file = open('dataset/new_file.txt','w+')"
   ],
   "execution_count": 26,
   "outputs": []
  },
  {
   "cell_type": "code",
   "metadata": {
    "id": "51gSiFNDhx1s",
    "colab_type": "code",
    "colab": {}
   },
   "source": [
    "# create a list of strings\n",
    "lines = ['Line 1','Line 2','Line 3','Line 4']\n",
    "my_file.writelines(lines)"
   ],
   "execution_count": 27,
   "outputs": []
  },
  {
   "cell_type": "code",
   "metadata": {
    "id": "3ZwdGrArhx10",
    "colab_type": "code",
    "colab": {},
    "outputId": "283cab6c-93ac-4edc-bb62-6dadcac94696"
   },
   "source": [
    "# take the pointer to the initial position\n",
    "# my_file.seek(0)\n",
    "# read the data\n",
    "my_file.seek(0)\n",
    "print(my_file.read())\n",
    "my_file.close()"
   ],
   "execution_count": 28,
   "outputs": [
    {
     "name": "stdout",
     "output_type": "stream",
     "text": [
      "Line 1Line 2Line 3Line 4\n"
     ]
    }
   ]
  },
  {
   "cell_type": "markdown",
   "metadata": {
    "id": "t8_vbKFOhx19",
    "colab_type": "text"
   },
   "source": [
    "***The content is overwritten when we tried to write again on the same file***\n",
    "\n",
    "---\n",
    "\n",
    "####  `APPEND TEXT IN FILE`"
   ]
  },
  {
   "cell_type": "code",
   "metadata": {
    "id": "aOlqrSXdhx2A",
    "colab_type": "code",
    "colab": {}
   },
   "source": [
    "# # open the file in the append and read mode.\n",
    "# my_file = open('dataset/new_file.txt','a+')\n",
    "#\n",
    "# my_file.write('Welcome to the python course')\n",
    "# #  take the pointer to the initial position of the file\n",
    "# my_file.seek(0)\n",
    "#\n",
    "# # read the file\n",
    "# my_file.read()\n"
   ],
   "execution_count": 0,
   "outputs": []
  },
  {
   "cell_type": "code",
   "execution_count": 29,
   "outputs": [
    {
     "data": {
      "text/plain": "0"
     },
     "execution_count": 29,
     "metadata": {},
     "output_type": "execute_result"
    }
   ],
   "source": [
    "my_file = open('dataset/new_file.txt', 'a+')\n",
    "my_file.write('hello this is sujoy deb')\n",
    "my_file.seek(0)\n"
   ],
   "metadata": {
    "collapsed": false
   }
  },
  {
   "cell_type": "code",
   "execution_count": 32,
   "outputs": [
    {
     "data": {
      "text/plain": "''"
     },
     "execution_count": 32,
     "metadata": {},
     "output_type": "execute_result"
    }
   ],
   "source": [
    "my_file.read()"
   ],
   "metadata": {
    "collapsed": false
   }
  },
  {
   "cell_type": "code",
   "execution_count": 33,
   "outputs": [
    {
     "data": {
      "text/plain": "25"
     },
     "execution_count": 33,
     "metadata": {},
     "output_type": "execute_result"
    }
   ],
   "source": [
    "my_file.write(\" \\n data science is awesom\")\n"
   ],
   "metadata": {
    "collapsed": false
   }
  },
  {
   "cell_type": "code",
   "execution_count": 34,
   "outputs": [
    {
     "data": {
      "text/plain": "0"
     },
     "execution_count": 34,
     "metadata": {},
     "output_type": "execute_result"
    }
   ],
   "source": [
    "my_file.seek(0)\n"
   ],
   "metadata": {
    "collapsed": false
   }
  },
  {
   "cell_type": "code",
   "execution_count": 35,
   "outputs": [
    {
     "data": {
      "text/plain": "['Line 1Line 2Line 3Line 4hello this is sujoy deb \\n',\n ' data science is awesom']"
     },
     "execution_count": 35,
     "metadata": {},
     "output_type": "execute_result"
    }
   ],
   "source": [
    "my_file.readlines()\n"
   ],
   "metadata": {
    "collapsed": false
   }
  },
  {
   "cell_type": "code",
   "execution_count": null,
   "outputs": [],
   "source": [],
   "metadata": {
    "collapsed": false
   }
  }
 ]
}
