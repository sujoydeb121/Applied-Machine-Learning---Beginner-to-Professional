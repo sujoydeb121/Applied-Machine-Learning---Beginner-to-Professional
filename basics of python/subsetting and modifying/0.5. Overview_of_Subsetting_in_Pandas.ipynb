{
 "cells": [
  {
   "cell_type": "markdown",
   "metadata": {
    "colab_type": "text",
    "id": "Tp7sihlhfWhz"
   },
   "source": [
    "---\n",
    "---\n",
    "\n",
    "<center><h1>📍 📍 Overview of Subsetting in Pandas 📍 📍</h1></center>\n",
    "\n",
    "\n",
    "\n",
    "---\n",
    "\n",
    "#### `TABLE OF CONTENTS`\n",
    "\n",
    "- What is an index?\n",
    "- How to subset first N rows based on their position index?\n",
    "- Can we change the index?\n",
    "- Will the index be always numeric?\n",
    "- How to subset the data based on a label of the index?\n",
    "- Can we reset the index?\n",
    "- How to subset the data based on a value of a column?\n",
    "\n",
    "---\n",
    "\n",
    "\n",
    "#### `READ THE DATA`\n",
    "\n",
    "- In this notebook, we are going to use the big mart sales data that we have used previously. It is stored in the folder name `datasets`.\n"
   ]
  },
  {
   "cell_type": "code",
   "execution_count": 1,
   "metadata": {
    "colab": {},
    "colab_type": "code",
    "id": "GNzgL1OUfWh2"
   },
   "outputs": [],
   "source": [
    "# import the pandas library\n",
    "import pandas as pd"
   ]
  },
  {
   "cell_type": "code",
   "execution_count": 2,
   "metadata": {
    "colab": {},
    "colab_type": "code",
    "id": "TfYYrQk3fWh9"
   },
   "outputs": [],
   "source": [
    "# read the big mart sales data\n",
    "data = pd.read_csv('datasets/big_mart_sales.csv')"
   ]
  },
  {
   "cell_type": "markdown",
   "metadata": {
    "colab_type": "text",
    "id": "YPSFrdFsfWiK"
   },
   "source": [
    "#### `WHAT IS INDEX?`\n",
    "\n",
    "![](index.png)\n",
    "\n",
    "-  You can see the index object by `DataFrame.index`."
   ]
  },
  {
   "cell_type": "code",
   "execution_count": 3,
   "metadata": {
    "colab": {},
    "colab_type": "code",
    "id": "cU4EzMq6fWiM",
    "outputId": "6d2b0fde-9318-42a8-b452-9219ec73b1c6"
   },
   "outputs": [
    {
     "data": {
      "text/plain": "RangeIndex(start=0, stop=8523, step=1)"
     },
     "execution_count": 3,
     "metadata": {},
     "output_type": "execute_result"
    }
   ],
   "source": [
    "# index of the dataframe\n",
    "data.index"
   ]
  },
  {
   "cell_type": "markdown",
   "metadata": {},
   "source": [
    "***So, In this case, we have the numeric index value start from the 0 and ends at 8523.***\n"
   ]
  },
  {
   "cell_type": "code",
   "execution_count": 4,
   "metadata": {},
   "outputs": [
    {
     "data": {
      "text/plain": "(8523, 12)"
     },
     "execution_count": 4,
     "metadata": {},
     "output_type": "execute_result"
    }
   ],
   "source": [
    "# no. of rows and columns in the data\n",
    "data.shape"
   ]
  },
  {
   "cell_type": "code",
   "execution_count": 5,
   "metadata": {},
   "outputs": [
    {
     "data": {
      "text/plain": "Index(['Item_Identifier', 'Item_Weight', 'Item_Fat_Content', 'Item_Visibility',\n       'Item_Type', 'Item_MRP', 'Outlet_Identifier',\n       'Outlet_Establishment_Year', 'Outlet_Size', 'Outlet_Location_Type',\n       'Outlet_Type', 'Item_Outlet_Sales'],\n      dtype='object')"
     },
     "execution_count": 5,
     "metadata": {},
     "output_type": "execute_result"
    }
   ],
   "source": [
    "# column index\n",
    "data.columns"
   ]
  },
  {
   "cell_type": "markdown",
   "metadata": {},
   "source": [
    "#### `HOW TO SUBSET FIRST 'N' ROWS BASED ON THEIR POSITION INDEX?`\n"
   ]
  },
  {
   "cell_type": "code",
   "execution_count": 9,
   "metadata": {
    "colab": {},
    "colab_type": "code",
    "id": "u7xKfup_fWiD",
    "outputId": "6033cae3-01df-4531-d357-988d4eca3b52"
   },
   "outputs": [
    {
     "data": {
      "text/plain": "  Item_Identifier  Item_Weight Item_Fat_Content  Item_Visibility  \\\n0           FDA15         9.30          Low Fat         0.016047   \n1           DRC01         5.92          Regular         0.019278   \n2           FDN15        17.50          Low Fat         0.016760   \n3           FDX07        19.20          Regular         0.000000   \n4           NCD19         8.93          Low Fat         0.000000   \n\n               Item_Type  Item_MRP Outlet_Identifier  \\\n0                  Dairy  249.8092            OUT049   \n1            Soft Drinks   48.2692            OUT018   \n2                   Meat  141.6180            OUT049   \n3  Fruits and Vegetables  182.0950            OUT010   \n4              Household   53.8614            OUT013   \n\n   Outlet_Establishment_Year Outlet_Size Outlet_Location_Type  \\\n0                       1999      Medium               Tier 1   \n1                       2009      Medium               Tier 3   \n2                       1999      Medium               Tier 1   \n3                       1998         NaN               Tier 3   \n4                       1987        High               Tier 3   \n\n         Outlet_Type  Item_Outlet_Sales  \n0  Supermarket Type1          3735.1380  \n1  Supermarket Type2           443.4228  \n2  Supermarket Type1          2097.2700  \n3      Grocery Store           732.3800  \n4  Supermarket Type1           994.7052  ",
      "text/html": "<div>\n<style scoped>\n    .dataframe tbody tr th:only-of-type {\n        vertical-align: middle;\n    }\n\n    .dataframe tbody tr th {\n        vertical-align: top;\n    }\n\n    .dataframe thead th {\n        text-align: right;\n    }\n</style>\n<table border=\"1\" class=\"dataframe\">\n  <thead>\n    <tr style=\"text-align: right;\">\n      <th></th>\n      <th>Item_Identifier</th>\n      <th>Item_Weight</th>\n      <th>Item_Fat_Content</th>\n      <th>Item_Visibility</th>\n      <th>Item_Type</th>\n      <th>Item_MRP</th>\n      <th>Outlet_Identifier</th>\n      <th>Outlet_Establishment_Year</th>\n      <th>Outlet_Size</th>\n      <th>Outlet_Location_Type</th>\n      <th>Outlet_Type</th>\n      <th>Item_Outlet_Sales</th>\n    </tr>\n  </thead>\n  <tbody>\n    <tr>\n      <th>0</th>\n      <td>FDA15</td>\n      <td>9.30</td>\n      <td>Low Fat</td>\n      <td>0.016047</td>\n      <td>Dairy</td>\n      <td>249.8092</td>\n      <td>OUT049</td>\n      <td>1999</td>\n      <td>Medium</td>\n      <td>Tier 1</td>\n      <td>Supermarket Type1</td>\n      <td>3735.1380</td>\n    </tr>\n    <tr>\n      <th>1</th>\n      <td>DRC01</td>\n      <td>5.92</td>\n      <td>Regular</td>\n      <td>0.019278</td>\n      <td>Soft Drinks</td>\n      <td>48.2692</td>\n      <td>OUT018</td>\n      <td>2009</td>\n      <td>Medium</td>\n      <td>Tier 3</td>\n      <td>Supermarket Type2</td>\n      <td>443.4228</td>\n    </tr>\n    <tr>\n      <th>2</th>\n      <td>FDN15</td>\n      <td>17.50</td>\n      <td>Low Fat</td>\n      <td>0.016760</td>\n      <td>Meat</td>\n      <td>141.6180</td>\n      <td>OUT049</td>\n      <td>1999</td>\n      <td>Medium</td>\n      <td>Tier 1</td>\n      <td>Supermarket Type1</td>\n      <td>2097.2700</td>\n    </tr>\n    <tr>\n      <th>3</th>\n      <td>FDX07</td>\n      <td>19.20</td>\n      <td>Regular</td>\n      <td>0.000000</td>\n      <td>Fruits and Vegetables</td>\n      <td>182.0950</td>\n      <td>OUT010</td>\n      <td>1998</td>\n      <td>NaN</td>\n      <td>Tier 3</td>\n      <td>Grocery Store</td>\n      <td>732.3800</td>\n    </tr>\n    <tr>\n      <th>4</th>\n      <td>NCD19</td>\n      <td>8.93</td>\n      <td>Low Fat</td>\n      <td>0.000000</td>\n      <td>Household</td>\n      <td>53.8614</td>\n      <td>OUT013</td>\n      <td>1987</td>\n      <td>High</td>\n      <td>Tier 3</td>\n      <td>Supermarket Type1</td>\n      <td>994.7052</td>\n    </tr>\n  </tbody>\n</table>\n</div>"
     },
     "execution_count": 9,
     "metadata": {},
     "output_type": "execute_result"
    }
   ],
   "source": [
    "# view the top rows of the data\n",
    "data.head()"
   ]
  },
  {
   "cell_type": "markdown",
   "metadata": {
    "colab_type": "text",
    "id": "5LCJsNZdfWiR"
   },
   "source": [
    "---\n",
    "\n",
    "#### `CAN WE CHANGE THE INDEX?`\n",
    "\n",
    "---\n",
    "\n",
    "***The answer is `Yes`. We can change the index. Let's see how?***\n",
    "\n",
    "---"
   ]
  },
  {
   "cell_type": "markdown",
   "metadata": {
    "colab_type": "text",
    "id": "TIuqwsEsfWiT"
   },
   "source": [
    "#### Create a random list of 8523 numbers and set it as the index\n",
    "---"
   ]
  },
  {
   "cell_type": "code",
   "execution_count": 10,
   "metadata": {
    "colab": {},
    "colab_type": "code",
    "id": "XG8pFSWrfWiV"
   },
   "outputs": [],
   "source": [
    "# create random list\n",
    "import random\n",
    "# random_list = [random.randint(1, 8523) for i in range(8523)]\n",
    "\n",
    "random_list = [random.randint(1, 8523) for i in range(8523)]"
   ]
  },
  {
   "cell_type": "code",
   "execution_count": 11,
   "metadata": {},
   "outputs": [
    {
     "data": {
      "text/plain": "[5950,\n 2492,\n 3408,\n 1867,\n 1206,\n 3452,\n 6994,\n 7243,\n 3943,\n 7828,\n 6955,\n 7013,\n 8001,\n 1561,\n 6993,\n 4845,\n 1525,\n 4758,\n 5168,\n 1604,\n 8470,\n 5888,\n 7234,\n 1239,\n 1287,\n 884,\n 3712,\n 6111,\n 8042,\n 8311,\n 2380,\n 4140,\n 2295,\n 4827,\n 1513,\n 2877,\n 6786,\n 8507,\n 5117,\n 2167,\n 1566,\n 2960,\n 1805,\n 266,\n 3527,\n 7556,\n 2826,\n 1414,\n 907,\n 8384,\n 4301,\n 6330,\n 7269,\n 1144,\n 7423,\n 915,\n 4109,\n 8040,\n 1873,\n 6576,\n 8116,\n 786,\n 2886,\n 2389,\n 787,\n 6976,\n 217,\n 4635,\n 3725,\n 7786,\n 1330,\n 1494,\n 5376,\n 2375,\n 916,\n 3056,\n 2582,\n 2147,\n 4494,\n 1134,\n 1078,\n 7388,\n 4798,\n 2226,\n 2424,\n 8198,\n 3989,\n 7258,\n 2343,\n 6580,\n 3688,\n 5657,\n 2900,\n 2852,\n 957,\n 2642,\n 2602,\n 6328,\n 659,\n 4433,\n 7331,\n 4381,\n 626,\n 1862,\n 7845,\n 1590,\n 2111,\n 2887,\n 2290,\n 2246,\n 8103,\n 4275,\n 3188,\n 4367,\n 375,\n 4064,\n 8359,\n 2208,\n 7320,\n 6991,\n 3890,\n 235,\n 1298,\n 6798,\n 8259,\n 333,\n 2504,\n 6598,\n 7405,\n 7664,\n 7503,\n 5264,\n 8298,\n 3132,\n 2619,\n 4766,\n 2916,\n 7016,\n 3716,\n 7200,\n 4731,\n 3357,\n 8003,\n 6998,\n 5437,\n 7639,\n 5623,\n 2476,\n 6481,\n 6512,\n 1774,\n 3471,\n 1727,\n 7570,\n 6167,\n 43,\n 1926,\n 5320,\n 2562,\n 3653,\n 6455,\n 2442,\n 1099,\n 4962,\n 3631,\n 2107,\n 1734,\n 7525,\n 3792,\n 7863,\n 7530,\n 6270,\n 643,\n 1286,\n 6222,\n 2807,\n 4226,\n 6201,\n 7502,\n 242,\n 71,\n 2634,\n 5387,\n 2265,\n 2867,\n 8523,\n 2988,\n 3247,\n 2475,\n 3904,\n 6156,\n 5996,\n 6520,\n 1512,\n 8214,\n 2814,\n 2499,\n 657,\n 5214,\n 2975,\n 6515,\n 516,\n 6784,\n 4886,\n 2406,\n 4190,\n 3013,\n 3325,\n 2915,\n 5631,\n 3913,\n 4257,\n 1456,\n 4016,\n 6671,\n 1854,\n 7257,\n 6096,\n 1358,\n 4455,\n 4130,\n 608,\n 7082,\n 400,\n 4647,\n 2064,\n 6918,\n 963,\n 2215,\n 4346,\n 562,\n 1161,\n 1800,\n 7003,\n 2923,\n 2210,\n 6360,\n 6033,\n 5694,\n 6106,\n 7616,\n 3983,\n 4375,\n 6386,\n 4249,\n 4918,\n 7005,\n 4918,\n 6612,\n 5843,\n 1149,\n 2984,\n 2274,\n 4719,\n 508,\n 2163,\n 6047,\n 6383,\n 5722,\n 3084,\n 2592,\n 6547,\n 7211,\n 6644,\n 5998,\n 7056,\n 2449,\n 5137,\n 5377,\n 8340,\n 5465,\n 3417,\n 4729,\n 5885,\n 2328,\n 4559,\n 2416,\n 1574,\n 1170,\n 1253,\n 214,\n 5661,\n 7062,\n 1308,\n 2717,\n 4018,\n 98,\n 177,\n 2469,\n 2101,\n 1779,\n 4957,\n 2386,\n 8393,\n 4862,\n 1981,\n 7014,\n 1166,\n 8241,\n 5304,\n 2996,\n 3027,\n 4286,\n 7214,\n 3952,\n 1261,\n 5679,\n 6915,\n 6717,\n 2469,\n 7189,\n 6619,\n 4764,\n 1306,\n 1298,\n 804,\n 319,\n 1024,\n 2784,\n 6955,\n 7635,\n 1898,\n 498,\n 646,\n 2054,\n 1238,\n 4400,\n 7399,\n 1023,\n 4276,\n 3508,\n 2935,\n 668,\n 358,\n 4593,\n 5412,\n 7920,\n 1717,\n 3483,\n 5836,\n 7423,\n 3951,\n 4114,\n 7808,\n 3504,\n 6776,\n 6782,\n 6085,\n 7312,\n 5738,\n 1074,\n 2872,\n 6453,\n 5968,\n 1384,\n 7805,\n 8197,\n 470,\n 3476,\n 7806,\n 3395,\n 7384,\n 1202,\n 1455,\n 4747,\n 1640,\n 5598,\n 3443,\n 87,\n 104,\n 8030,\n 4699,\n 3049,\n 4683,\n 930,\n 4141,\n 3317,\n 4220,\n 3309,\n 8010,\n 7836,\n 278,\n 4808,\n 5210,\n 7796,\n 4092,\n 4716,\n 3580,\n 4274,\n 4290,\n 1752,\n 1793,\n 4427,\n 5466,\n 6472,\n 2645,\n 4733,\n 7485,\n 4560,\n 4249,\n 7633,\n 6884,\n 5756,\n 4012,\n 2222,\n 5566,\n 5280,\n 4317,\n 2719,\n 457,\n 6486,\n 264,\n 6505,\n 8508,\n 392,\n 2652,\n 4461,\n 5312,\n 5239,\n 663,\n 2421,\n 3497,\n 1926,\n 5807,\n 7530,\n 5645,\n 1758,\n 6519,\n 3963,\n 5343,\n 1308,\n 3423,\n 589,\n 2385,\n 1627,\n 4002,\n 4605,\n 8411,\n 8130,\n 751,\n 4133,\n 5839,\n 7256,\n 873,\n 2603,\n 3775,\n 4561,\n 6729,\n 7478,\n 3111,\n 3748,\n 5441,\n 3532,\n 5707,\n 1822,\n 2975,\n 494,\n 2100,\n 1607,\n 6319,\n 3426,\n 7853,\n 1874,\n 993,\n 5405,\n 8487,\n 4166,\n 7099,\n 149,\n 4154,\n 2987,\n 1892,\n 7540,\n 5007,\n 1795,\n 3808,\n 2211,\n 4848,\n 6349,\n 6220,\n 615,\n 3014,\n 1960,\n 1086,\n 522,\n 4094,\n 2895,\n 4774,\n 5570,\n 2548,\n 5079,\n 5678,\n 4534,\n 3507,\n 1556,\n 7887,\n 4993,\n 749,\n 924,\n 6428,\n 7869,\n 1576,\n 3063,\n 6100,\n 5018,\n 2185,\n 7298,\n 3276,\n 4973,\n 3496,\n 7051,\n 923,\n 26,\n 5023,\n 5106,\n 4681,\n 50,\n 4975,\n 4621,\n 4042,\n 5506,\n 238,\n 3316,\n 2159,\n 6031,\n 8411,\n 7077,\n 881,\n 8359,\n 7386,\n 6120,\n 6740,\n 1095,\n 7286,\n 4898,\n 317,\n 8459,\n 4892,\n 3463,\n 1511,\n 4673,\n 8468,\n 4144,\n 3579,\n 1284,\n 760,\n 6725,\n 5381,\n 7798,\n 8042,\n 5737,\n 3299,\n 3246,\n 6794,\n 2137,\n 6534,\n 1036,\n 7846,\n 4577,\n 7263,\n 1718,\n 508,\n 2660,\n 7064,\n 2535,\n 5579,\n 7981,\n 4472,\n 5938,\n 3441,\n 6132,\n 6746,\n 6697,\n 7540,\n 7561,\n 1761,\n 6338,\n 1284,\n 6589,\n 3401,\n 125,\n 3527,\n 3583,\n 314,\n 5274,\n 1861,\n 5952,\n 5732,\n 3589,\n 1853,\n 7892,\n 4974,\n 902,\n 3851,\n 688,\n 4286,\n 245,\n 4577,\n 2247,\n 7245,\n 1527,\n 5663,\n 5182,\n 2276,\n 5653,\n 4184,\n 375,\n 8489,\n 7577,\n 200,\n 1822,\n 8201,\n 5557,\n 2609,\n 905,\n 1889,\n 2439,\n 97,\n 752,\n 4227,\n 5582,\n 764,\n 5025,\n 7935,\n 3149,\n 7795,\n 6575,\n 3323,\n 3751,\n 6594,\n 5517,\n 3725,\n 2977,\n 1873,\n 822,\n 5576,\n 4433,\n 7334,\n 1570,\n 6151,\n 2603,\n 2633,\n 738,\n 6063,\n 4592,\n 4095,\n 3302,\n 7446,\n 5040,\n 109,\n 7225,\n 8060,\n 5371,\n 6917,\n 5588,\n 8313,\n 6385,\n 410,\n 3131,\n 7061,\n 3703,\n 3020,\n 6942,\n 4942,\n 1147,\n 2628,\n 6700,\n 911,\n 4900,\n 4487,\n 3722,\n 2128,\n 3042,\n 2214,\n 1716,\n 239,\n 5898,\n 6806,\n 4586,\n 8520,\n 7041,\n 2853,\n 910,\n 2373,\n 3177,\n 3214,\n 4069,\n 8185,\n 6933,\n 8519,\n 7316,\n 4010,\n 7586,\n 4481,\n 4822,\n 4861,\n 2471,\n 2405,\n 2314,\n 6513,\n 4833,\n 1368,\n 3519,\n 3012,\n 2945,\n 805,\n 3444,\n 57,\n 670,\n 1350,\n 4675,\n 7169,\n 3742,\n 726,\n 6321,\n 1783,\n 1884,\n 8177,\n 4192,\n 1885,\n 4036,\n 7261,\n 318,\n 6983,\n 5418,\n 282,\n 3935,\n 5038,\n 5264,\n 672,\n 4672,\n 8202,\n 6777,\n 2884,\n 7383,\n 750,\n 5183,\n 5839,\n 3366,\n 5976,\n 8165,\n 109,\n 5036,\n 2137,\n 2154,\n 6523,\n 5419,\n 3442,\n 505,\n 6763,\n 4527,\n 7734,\n 2653,\n 6463,\n 4994,\n 936,\n 968,\n 1360,\n 3559,\n 1944,\n 6745,\n 5922,\n 8414,\n 4704,\n 5687,\n 3659,\n 5632,\n 296,\n 8177,\n 7270,\n 1560,\n 556,\n 7160,\n 6166,\n 7674,\n 7555,\n 5229,\n 3915,\n 4072,\n 5367,\n 6326,\n 1445,\n 3861,\n 3496,\n 5712,\n 3683,\n 5623,\n 5864,\n 1373,\n 3361,\n 7513,\n 6573,\n 1841,\n 668,\n 7305,\n 5486,\n 3305,\n 8256,\n 2807,\n 725,\n 6327,\n 2101,\n 212,\n 1228,\n 4865,\n 3237,\n 2055,\n 5625,\n 2396,\n 1120,\n 273,\n 2158,\n 469,\n 306,\n 3422,\n 5404,\n 4393,\n 1106,\n 1229,\n 1810,\n 5316,\n 4739,\n 644,\n 7397,\n 58,\n 8300,\n 2396,\n 1060,\n 4184,\n 304,\n 281,\n 5183,\n 402,\n 7446,\n 4034,\n 8149,\n 6275,\n 901,\n 3809,\n 5805,\n 7908,\n 7686,\n 1454,\n 14,\n 4999,\n 4880,\n 1982,\n 7015,\n 2811,\n 1725,\n 3681,\n 3576,\n 3107,\n 7739,\n 299,\n 1620,\n 2208,\n 6431,\n 3908,\n 2955,\n 2307,\n 2738,\n 934,\n 5395,\n 2242,\n 7858,\n 1939,\n 8077,\n 5497,\n 527,\n 974,\n 1384,\n 6612,\n 6850,\n 5003,\n 4848,\n 7419,\n 3795,\n 1970,\n 5128,\n 639,\n 5793,\n 3283,\n 7231,\n 7829,\n 5596,\n 130,\n 6096,\n 1303,\n 1043,\n 7846,\n 691,\n 5656,\n 6205,\n 7758,\n 1951,\n 7208,\n 7194,\n 7817,\n 6743,\n 7132,\n 4387,\n 6353,\n 20,\n 2684,\n 7617,\n 4747,\n 2978,\n 252,\n 764,\n 416,\n 3572,\n 1357,\n 2022,\n 2502,\n 3338,\n 7994,\n 6106,\n 1383,\n 4751,\n 3232,\n 1674,\n 602,\n 4233,\n 8300,\n 5393,\n 1965,\n 61,\n 1941,\n 6059,\n 471,\n 8198,\n 4449,\n 7570,\n 6984,\n 8319,\n 308,\n 4496,\n 7105,\n 2207,\n 7976,\n 3309,\n 1870,\n 2943,\n 5392,\n 3231,\n 6164,\n 8036,\n 7966,\n 705,\n 985,\n 3294,\n 1690,\n 3786,\n 1953,\n 3346,\n 8073,\n 3928,\n 3863,\n 3842,\n 5652,\n 1847,\n 6244,\n 4229,\n 4030,\n 5201,\n 5463,\n 6913,\n 5267,\n 6308,\n 8238,\n 5486,\n 2959,\n 536,\n 3942,\n 371,\n 7100,\n 7493,\n 6315,\n 7301,\n 1803,\n 6930,\n 677,\n 5397,\n 5874,\n 596,\n 2869,\n 5695,\n 526,\n 5282,\n 7658,\n 1772,\n 3650,\n 2504,\n 6291,\n 7658,\n 5987,\n 6288,\n 2251,\n 7931,\n ...]"
     },
     "execution_count": 11,
     "metadata": {},
     "output_type": "execute_result"
    }
   ],
   "source": [
    "random_list"
   ]
  },
  {
   "cell_type": "code",
   "execution_count": 14,
   "metadata": {},
   "outputs": [],
   "source": [
    "# set the index\n",
    "data.index = random_list"
   ]
  },
  {
   "cell_type": "code",
   "execution_count": 16,
   "metadata": {
    "colab": {},
    "colab_type": "code",
    "id": "Yo3Bbw97fWib",
    "outputId": "8c0b9be9-9f76-4e87-ce7c-caf6a6724ace"
   },
   "outputs": [
    {
     "data": {
      "text/plain": "     Item_Identifier  Item_Weight Item_Fat_Content  Item_Visibility  \\\n5950           FDA15         9.30          Low Fat         0.016047   \n2492           DRC01         5.92          Regular         0.019278   \n3408           FDN15        17.50          Low Fat         0.016760   \n1867           FDX07        19.20          Regular         0.000000   \n1206           NCD19         8.93          Low Fat         0.000000   \n\n                  Item_Type  Item_MRP Outlet_Identifier  \\\n5950                  Dairy  249.8092            OUT049   \n2492            Soft Drinks   48.2692            OUT018   \n3408                   Meat  141.6180            OUT049   \n1867  Fruits and Vegetables  182.0950            OUT010   \n1206              Household   53.8614            OUT013   \n\n      Outlet_Establishment_Year Outlet_Size Outlet_Location_Type  \\\n5950                       1999      Medium               Tier 1   \n2492                       2009      Medium               Tier 3   \n3408                       1999      Medium               Tier 1   \n1867                       1998         NaN               Tier 3   \n1206                       1987        High               Tier 3   \n\n            Outlet_Type  Item_Outlet_Sales  \n5950  Supermarket Type1          3735.1380  \n2492  Supermarket Type2           443.4228  \n3408  Supermarket Type1          2097.2700  \n1867      Grocery Store           732.3800  \n1206  Supermarket Type1           994.7052  ",
      "text/html": "<div>\n<style scoped>\n    .dataframe tbody tr th:only-of-type {\n        vertical-align: middle;\n    }\n\n    .dataframe tbody tr th {\n        vertical-align: top;\n    }\n\n    .dataframe thead th {\n        text-align: right;\n    }\n</style>\n<table border=\"1\" class=\"dataframe\">\n  <thead>\n    <tr style=\"text-align: right;\">\n      <th></th>\n      <th>Item_Identifier</th>\n      <th>Item_Weight</th>\n      <th>Item_Fat_Content</th>\n      <th>Item_Visibility</th>\n      <th>Item_Type</th>\n      <th>Item_MRP</th>\n      <th>Outlet_Identifier</th>\n      <th>Outlet_Establishment_Year</th>\n      <th>Outlet_Size</th>\n      <th>Outlet_Location_Type</th>\n      <th>Outlet_Type</th>\n      <th>Item_Outlet_Sales</th>\n    </tr>\n  </thead>\n  <tbody>\n    <tr>\n      <th>5950</th>\n      <td>FDA15</td>\n      <td>9.30</td>\n      <td>Low Fat</td>\n      <td>0.016047</td>\n      <td>Dairy</td>\n      <td>249.8092</td>\n      <td>OUT049</td>\n      <td>1999</td>\n      <td>Medium</td>\n      <td>Tier 1</td>\n      <td>Supermarket Type1</td>\n      <td>3735.1380</td>\n    </tr>\n    <tr>\n      <th>2492</th>\n      <td>DRC01</td>\n      <td>5.92</td>\n      <td>Regular</td>\n      <td>0.019278</td>\n      <td>Soft Drinks</td>\n      <td>48.2692</td>\n      <td>OUT018</td>\n      <td>2009</td>\n      <td>Medium</td>\n      <td>Tier 3</td>\n      <td>Supermarket Type2</td>\n      <td>443.4228</td>\n    </tr>\n    <tr>\n      <th>3408</th>\n      <td>FDN15</td>\n      <td>17.50</td>\n      <td>Low Fat</td>\n      <td>0.016760</td>\n      <td>Meat</td>\n      <td>141.6180</td>\n      <td>OUT049</td>\n      <td>1999</td>\n      <td>Medium</td>\n      <td>Tier 1</td>\n      <td>Supermarket Type1</td>\n      <td>2097.2700</td>\n    </tr>\n    <tr>\n      <th>1867</th>\n      <td>FDX07</td>\n      <td>19.20</td>\n      <td>Regular</td>\n      <td>0.000000</td>\n      <td>Fruits and Vegetables</td>\n      <td>182.0950</td>\n      <td>OUT010</td>\n      <td>1998</td>\n      <td>NaN</td>\n      <td>Tier 3</td>\n      <td>Grocery Store</td>\n      <td>732.3800</td>\n    </tr>\n    <tr>\n      <th>1206</th>\n      <td>NCD19</td>\n      <td>8.93</td>\n      <td>Low Fat</td>\n      <td>0.000000</td>\n      <td>Household</td>\n      <td>53.8614</td>\n      <td>OUT013</td>\n      <td>1987</td>\n      <td>High</td>\n      <td>Tier 3</td>\n      <td>Supermarket Type1</td>\n      <td>994.7052</td>\n    </tr>\n  </tbody>\n</table>\n</div>"
     },
     "execution_count": 16,
     "metadata": {},
     "output_type": "execute_result"
    }
   ],
   "source": [
    "data.head()"
   ]
  },
  {
   "cell_type": "markdown",
   "metadata": {
    "colab_type": "text",
    "id": "BVUnMqHufWig"
   },
   "source": [
    "***Set another column of the dataframe as the index. We will use the set_index function. You can read more about here: https://pandas.pydata.org/pandas-docs/stable/reference/api/pandas.DataFrame.set_index.html'***\n",
    "\n",
    "---"
   ]
  },
  {
   "cell_type": "code",
   "execution_count": 20,
   "metadata": {
    "colab": {},
    "colab_type": "code",
    "id": "9ZSKPwbDfWih"
   },
   "outputs": [
    {
     "ename": "KeyError",
     "evalue": "\"None of ['Outlet_Establishment_Year'] are in the columns\"",
     "output_type": "error",
     "traceback": [
      "\u001B[1;31m---------------------------------------------------------------------------\u001B[0m",
      "\u001B[1;31mKeyError\u001B[0m                                  Traceback (most recent call last)",
      "Cell \u001B[1;32mIn[20], line 7\u001B[0m\n\u001B[0;32m      1\u001B[0m \u001B[38;5;66;03m# 1. change the index of the dataframe\u001B[39;00m\n\u001B[0;32m      2\u001B[0m \u001B[38;5;66;03m# 2. drop=True is used to drop the column that's set as index\u001B[39;00m\n\u001B[0;32m      3\u001B[0m \u001B[38;5;66;03m# 3. inplace=True is used to make changes in the original dataframe\u001B[39;00m\n\u001B[0;32m      4\u001B[0m \u001B[38;5;66;03m# data = pd.read_csv('datasets/big_mart_sales.csv')\u001B[39;00m\n\u001B[0;32m      5\u001B[0m \n\u001B[0;32m      6\u001B[0m \u001B[38;5;66;03m# data.set_index('Outlet_Establishment_Year', drop=True, inplace=True)\u001B[39;00m\n\u001B[1;32m----> 7\u001B[0m \u001B[43mdata\u001B[49m\u001B[38;5;241;43m.\u001B[39;49m\u001B[43mset_index\u001B[49m\u001B[43m(\u001B[49m\u001B[38;5;124;43m'\u001B[39;49m\u001B[38;5;124;43mOutlet_Establishment_Year\u001B[39;49m\u001B[38;5;124;43m'\u001B[39;49m\u001B[43m,\u001B[49m\u001B[43m \u001B[49m\u001B[43mdrop\u001B[49m\u001B[38;5;241;43m=\u001B[39;49m\u001B[38;5;28;43;01mTrue\u001B[39;49;00m\u001B[43m,\u001B[49m\u001B[43m \u001B[49m\u001B[43minplace\u001B[49m\u001B[38;5;241;43m=\u001B[39;49m\u001B[38;5;28;43;01mTrue\u001B[39;49;00m\u001B[43m)\u001B[49m\n",
      "File \u001B[1;32mc:\\users\\jason\\appdata\\local\\programs\\python\\python39\\lib\\site-packages\\pandas\\util\\_decorators.py:331\u001B[0m, in \u001B[0;36mdeprecate_nonkeyword_arguments.<locals>.decorate.<locals>.wrapper\u001B[1;34m(*args, **kwargs)\u001B[0m\n\u001B[0;32m    325\u001B[0m \u001B[38;5;28;01mif\u001B[39;00m \u001B[38;5;28mlen\u001B[39m(args) \u001B[38;5;241m>\u001B[39m num_allow_args:\n\u001B[0;32m    326\u001B[0m     warnings\u001B[38;5;241m.\u001B[39mwarn(\n\u001B[0;32m    327\u001B[0m         msg\u001B[38;5;241m.\u001B[39mformat(arguments\u001B[38;5;241m=\u001B[39m_format_argument_list(allow_args)),\n\u001B[0;32m    328\u001B[0m         \u001B[38;5;167;01mFutureWarning\u001B[39;00m,\n\u001B[0;32m    329\u001B[0m         stacklevel\u001B[38;5;241m=\u001B[39mfind_stack_level(),\n\u001B[0;32m    330\u001B[0m     )\n\u001B[1;32m--> 331\u001B[0m \u001B[38;5;28;01mreturn\u001B[39;00m func(\u001B[38;5;241m*\u001B[39margs, \u001B[38;5;241m*\u001B[39m\u001B[38;5;241m*\u001B[39mkwargs)\n",
      "File \u001B[1;32mc:\\users\\jason\\appdata\\local\\programs\\python\\python39\\lib\\site-packages\\pandas\\core\\frame.py:6012\u001B[0m, in \u001B[0;36mDataFrame.set_index\u001B[1;34m(self, keys, drop, append, inplace, verify_integrity)\u001B[0m\n\u001B[0;32m   6009\u001B[0m                 missing\u001B[38;5;241m.\u001B[39mappend(col)\n\u001B[0;32m   6011\u001B[0m \u001B[38;5;28;01mif\u001B[39;00m missing:\n\u001B[1;32m-> 6012\u001B[0m     \u001B[38;5;28;01mraise\u001B[39;00m \u001B[38;5;167;01mKeyError\u001B[39;00m(\u001B[38;5;124mf\u001B[39m\u001B[38;5;124m\"\u001B[39m\u001B[38;5;124mNone of \u001B[39m\u001B[38;5;132;01m{\u001B[39;00mmissing\u001B[38;5;132;01m}\u001B[39;00m\u001B[38;5;124m are in the columns\u001B[39m\u001B[38;5;124m\"\u001B[39m)\n\u001B[0;32m   6014\u001B[0m \u001B[38;5;28;01mif\u001B[39;00m inplace:\n\u001B[0;32m   6015\u001B[0m     frame \u001B[38;5;241m=\u001B[39m \u001B[38;5;28mself\u001B[39m\n",
      "\u001B[1;31mKeyError\u001B[0m: \"None of ['Outlet_Establishment_Year'] are in the columns\""
     ]
    }
   ],
   "source": [
    "# 1. change the index of the dataframe\n",
    "# 2. drop=True is used to drop the column that's set as index\n",
    "# 3. inplace=True is used to make changes in the original dataframe\n",
    "# data = pd.read_csv('datasets/big_mart_sales.csv')\n",
    "\n",
    "# data.set_index('Outlet_Establishment_Year', drop=True, inplace=True)\n",
    "data.set_index('Outlet_Establishment_Year', drop=True, inplace=True)"
   ]
  },
  {
   "cell_type": "code",
   "execution_count": 21,
   "metadata": {
    "colab": {},
    "colab_type": "code",
    "id": "rTxf34CsfWim",
    "outputId": "4d71bf3e-0de8-4a22-a34f-146546d2266a"
   },
   "outputs": [
    {
     "data": {
      "text/plain": "                          Item_Identifier  Item_Weight Item_Fat_Content  \\\nOutlet_Establishment_Year                                                 \n1999                                FDA15         9.30          Low Fat   \n2009                                DRC01         5.92          Regular   \n1999                                FDN15        17.50          Low Fat   \n1998                                FDX07        19.20          Regular   \n1987                                NCD19         8.93          Low Fat   \n\n                           Item_Visibility              Item_Type  Item_MRP  \\\nOutlet_Establishment_Year                                                     \n1999                              0.016047                  Dairy  249.8092   \n2009                              0.019278            Soft Drinks   48.2692   \n1999                              0.016760                   Meat  141.6180   \n1998                              0.000000  Fruits and Vegetables  182.0950   \n1987                              0.000000              Household   53.8614   \n\n                          Outlet_Identifier Outlet_Size Outlet_Location_Type  \\\nOutlet_Establishment_Year                                                      \n1999                                 OUT049      Medium               Tier 1   \n2009                                 OUT018      Medium               Tier 3   \n1999                                 OUT049      Medium               Tier 1   \n1998                                 OUT010         NaN               Tier 3   \n1987                                 OUT013        High               Tier 3   \n\n                                 Outlet_Type  Item_Outlet_Sales  \nOutlet_Establishment_Year                                        \n1999                       Supermarket Type1          3735.1380  \n2009                       Supermarket Type2           443.4228  \n1999                       Supermarket Type1          2097.2700  \n1998                           Grocery Store           732.3800  \n1987                       Supermarket Type1           994.7052  ",
      "text/html": "<div>\n<style scoped>\n    .dataframe tbody tr th:only-of-type {\n        vertical-align: middle;\n    }\n\n    .dataframe tbody tr th {\n        vertical-align: top;\n    }\n\n    .dataframe thead th {\n        text-align: right;\n    }\n</style>\n<table border=\"1\" class=\"dataframe\">\n  <thead>\n    <tr style=\"text-align: right;\">\n      <th></th>\n      <th>Item_Identifier</th>\n      <th>Item_Weight</th>\n      <th>Item_Fat_Content</th>\n      <th>Item_Visibility</th>\n      <th>Item_Type</th>\n      <th>Item_MRP</th>\n      <th>Outlet_Identifier</th>\n      <th>Outlet_Size</th>\n      <th>Outlet_Location_Type</th>\n      <th>Outlet_Type</th>\n      <th>Item_Outlet_Sales</th>\n    </tr>\n    <tr>\n      <th>Outlet_Establishment_Year</th>\n      <th></th>\n      <th></th>\n      <th></th>\n      <th></th>\n      <th></th>\n      <th></th>\n      <th></th>\n      <th></th>\n      <th></th>\n      <th></th>\n      <th></th>\n    </tr>\n  </thead>\n  <tbody>\n    <tr>\n      <th>1999</th>\n      <td>FDA15</td>\n      <td>9.30</td>\n      <td>Low Fat</td>\n      <td>0.016047</td>\n      <td>Dairy</td>\n      <td>249.8092</td>\n      <td>OUT049</td>\n      <td>Medium</td>\n      <td>Tier 1</td>\n      <td>Supermarket Type1</td>\n      <td>3735.1380</td>\n    </tr>\n    <tr>\n      <th>2009</th>\n      <td>DRC01</td>\n      <td>5.92</td>\n      <td>Regular</td>\n      <td>0.019278</td>\n      <td>Soft Drinks</td>\n      <td>48.2692</td>\n      <td>OUT018</td>\n      <td>Medium</td>\n      <td>Tier 3</td>\n      <td>Supermarket Type2</td>\n      <td>443.4228</td>\n    </tr>\n    <tr>\n      <th>1999</th>\n      <td>FDN15</td>\n      <td>17.50</td>\n      <td>Low Fat</td>\n      <td>0.016760</td>\n      <td>Meat</td>\n      <td>141.6180</td>\n      <td>OUT049</td>\n      <td>Medium</td>\n      <td>Tier 1</td>\n      <td>Supermarket Type1</td>\n      <td>2097.2700</td>\n    </tr>\n    <tr>\n      <th>1998</th>\n      <td>FDX07</td>\n      <td>19.20</td>\n      <td>Regular</td>\n      <td>0.000000</td>\n      <td>Fruits and Vegetables</td>\n      <td>182.0950</td>\n      <td>OUT010</td>\n      <td>NaN</td>\n      <td>Tier 3</td>\n      <td>Grocery Store</td>\n      <td>732.3800</td>\n    </tr>\n    <tr>\n      <th>1987</th>\n      <td>NCD19</td>\n      <td>8.93</td>\n      <td>Low Fat</td>\n      <td>0.000000</td>\n      <td>Household</td>\n      <td>53.8614</td>\n      <td>OUT013</td>\n      <td>High</td>\n      <td>Tier 3</td>\n      <td>Supermarket Type1</td>\n      <td>994.7052</td>\n    </tr>\n  </tbody>\n</table>\n</div>"
     },
     "execution_count": 21,
     "metadata": {},
     "output_type": "execute_result"
    }
   ],
   "source": [
    "# example of a label based index\n",
    "data.head()"
   ]
  },
  {
   "cell_type": "code",
   "execution_count": 29,
   "metadata": {
    "colab": {},
    "colab_type": "code",
    "id": "054SCKpufWir",
    "outputId": "050ced56-1fa7-4c30-cbe7-f2dadbe2d710"
   },
   "outputs": [
    {
     "data": {
      "text/plain": "Index(['FDA15', 'DRC01', 'FDN15', 'FDX07', 'NCD19', 'FDP36', 'FDO10', 'FDP10',\n       'FDH17', 'FDU28',\n       ...\n       'FDH31', 'FDA01', 'FDH24', 'NCJ19', 'FDF53', 'FDF22', 'FDS36', 'NCJ29',\n       'FDN46', 'DRG01'],\n      dtype='object', name='Item_Identifier', length=8523)"
     },
     "execution_count": 29,
     "metadata": {},
     "output_type": "execute_result"
    }
   ],
   "source": [
    "data.index"
   ]
  },
  {
   "cell_type": "markdown",
   "metadata": {
    "colab_type": "text",
    "id": "-w-aCfHmfWiw"
   },
   "source": [
    "---\n",
    "\n",
    "### `WILL THE INDEX BE ALWAYS NUMERIC?`\n",
    "\n",
    "---\n",
    "\n",
    "\n",
    "***No, We can also have categorical variables as the index of a dataframe.*** \n",
    "\n",
    "---"
   ]
  },
  {
   "cell_type": "code",
   "execution_count": 30,
   "metadata": {
    "colab": {},
    "colab_type": "code",
    "id": "4rSQoldwfWiy"
   },
   "outputs": [
    {
     "ename": "KeyError",
     "evalue": "\"None of ['Item_Identifier'] are in the columns\"",
     "output_type": "error",
     "traceback": [
      "\u001B[1;31m---------------------------------------------------------------------------\u001B[0m",
      "\u001B[1;31mKeyError\u001B[0m                                  Traceback (most recent call last)",
      "Cell \u001B[1;32mIn[30], line 2\u001B[0m\n\u001B[0;32m      1\u001B[0m \u001B[38;5;66;03m# reset the index\u001B[39;00m\n\u001B[1;32m----> 2\u001B[0m \u001B[43mdata\u001B[49m\u001B[38;5;241;43m.\u001B[39;49m\u001B[43mset_index\u001B[49m\u001B[43m(\u001B[49m\u001B[38;5;124;43m'\u001B[39;49m\u001B[38;5;124;43mItem_Identifier\u001B[39;49m\u001B[38;5;124;43m'\u001B[39;49m\u001B[43m,\u001B[49m\u001B[43m \u001B[49m\u001B[43mdrop\u001B[49m\u001B[38;5;241;43m=\u001B[39;49m\u001B[43m \u001B[49m\u001B[38;5;28;43;01mTrue\u001B[39;49;00m\u001B[43m,\u001B[49m\u001B[43m \u001B[49m\u001B[43minplace\u001B[49m\u001B[38;5;241;43m=\u001B[39;49m\u001B[38;5;28;43;01mTrue\u001B[39;49;00m\u001B[43m)\u001B[49m\n",
      "File \u001B[1;32mc:\\users\\jason\\appdata\\local\\programs\\python\\python39\\lib\\site-packages\\pandas\\util\\_decorators.py:331\u001B[0m, in \u001B[0;36mdeprecate_nonkeyword_arguments.<locals>.decorate.<locals>.wrapper\u001B[1;34m(*args, **kwargs)\u001B[0m\n\u001B[0;32m    325\u001B[0m \u001B[38;5;28;01mif\u001B[39;00m \u001B[38;5;28mlen\u001B[39m(args) \u001B[38;5;241m>\u001B[39m num_allow_args:\n\u001B[0;32m    326\u001B[0m     warnings\u001B[38;5;241m.\u001B[39mwarn(\n\u001B[0;32m    327\u001B[0m         msg\u001B[38;5;241m.\u001B[39mformat(arguments\u001B[38;5;241m=\u001B[39m_format_argument_list(allow_args)),\n\u001B[0;32m    328\u001B[0m         \u001B[38;5;167;01mFutureWarning\u001B[39;00m,\n\u001B[0;32m    329\u001B[0m         stacklevel\u001B[38;5;241m=\u001B[39mfind_stack_level(),\n\u001B[0;32m    330\u001B[0m     )\n\u001B[1;32m--> 331\u001B[0m \u001B[38;5;28;01mreturn\u001B[39;00m func(\u001B[38;5;241m*\u001B[39margs, \u001B[38;5;241m*\u001B[39m\u001B[38;5;241m*\u001B[39mkwargs)\n",
      "File \u001B[1;32mc:\\users\\jason\\appdata\\local\\programs\\python\\python39\\lib\\site-packages\\pandas\\core\\frame.py:6012\u001B[0m, in \u001B[0;36mDataFrame.set_index\u001B[1;34m(self, keys, drop, append, inplace, verify_integrity)\u001B[0m\n\u001B[0;32m   6009\u001B[0m                 missing\u001B[38;5;241m.\u001B[39mappend(col)\n\u001B[0;32m   6011\u001B[0m \u001B[38;5;28;01mif\u001B[39;00m missing:\n\u001B[1;32m-> 6012\u001B[0m     \u001B[38;5;28;01mraise\u001B[39;00m \u001B[38;5;167;01mKeyError\u001B[39;00m(\u001B[38;5;124mf\u001B[39m\u001B[38;5;124m\"\u001B[39m\u001B[38;5;124mNone of \u001B[39m\u001B[38;5;132;01m{\u001B[39;00mmissing\u001B[38;5;132;01m}\u001B[39;00m\u001B[38;5;124m are in the columns\u001B[39m\u001B[38;5;124m\"\u001B[39m)\n\u001B[0;32m   6014\u001B[0m \u001B[38;5;28;01mif\u001B[39;00m inplace:\n\u001B[0;32m   6015\u001B[0m     frame \u001B[38;5;241m=\u001B[39m \u001B[38;5;28mself\u001B[39m\n",
      "\u001B[1;31mKeyError\u001B[0m: \"None of ['Item_Identifier'] are in the columns\""
     ]
    }
   ],
   "source": [
    "# reset the index\n",
    "data.set_index('Item_Identifier', drop= True, inplace=True)"
   ]
  },
  {
   "cell_type": "code",
   "execution_count": 31,
   "metadata": {
    "colab": {},
    "colab_type": "code",
    "id": "On0La0qTfWi2",
    "outputId": "f32b034c-39d3-4f8c-f7f0-ade68dbeb1ce"
   },
   "outputs": [
    {
     "data": {
      "text/plain": "                 Item_Weight Item_Fat_Content  Item_Visibility  \\\nItem_Identifier                                                  \nFDA15                   9.30          Low Fat         0.016047   \nDRC01                   5.92          Regular         0.019278   \nFDN15                  17.50          Low Fat         0.016760   \nFDX07                  19.20          Regular         0.000000   \nNCD19                   8.93          Low Fat         0.000000   \n\n                             Item_Type  Item_MRP Outlet_Identifier  \\\nItem_Identifier                                                      \nFDA15                            Dairy  249.8092            OUT049   \nDRC01                      Soft Drinks   48.2692            OUT018   \nFDN15                             Meat  141.6180            OUT049   \nFDX07            Fruits and Vegetables  182.0950            OUT010   \nNCD19                        Household   53.8614            OUT013   \n\n                Outlet_Size Outlet_Location_Type        Outlet_Type  \\\nItem_Identifier                                                       \nFDA15                Medium               Tier 1  Supermarket Type1   \nDRC01                Medium               Tier 3  Supermarket Type2   \nFDN15                Medium               Tier 1  Supermarket Type1   \nFDX07                   NaN               Tier 3      Grocery Store   \nNCD19                  High               Tier 3  Supermarket Type1   \n\n                 Item_Outlet_Sales  \nItem_Identifier                     \nFDA15                    3735.1380  \nDRC01                     443.4228  \nFDN15                    2097.2700  \nFDX07                     732.3800  \nNCD19                     994.7052  ",
      "text/html": "<div>\n<style scoped>\n    .dataframe tbody tr th:only-of-type {\n        vertical-align: middle;\n    }\n\n    .dataframe tbody tr th {\n        vertical-align: top;\n    }\n\n    .dataframe thead th {\n        text-align: right;\n    }\n</style>\n<table border=\"1\" class=\"dataframe\">\n  <thead>\n    <tr style=\"text-align: right;\">\n      <th></th>\n      <th>Item_Weight</th>\n      <th>Item_Fat_Content</th>\n      <th>Item_Visibility</th>\n      <th>Item_Type</th>\n      <th>Item_MRP</th>\n      <th>Outlet_Identifier</th>\n      <th>Outlet_Size</th>\n      <th>Outlet_Location_Type</th>\n      <th>Outlet_Type</th>\n      <th>Item_Outlet_Sales</th>\n    </tr>\n    <tr>\n      <th>Item_Identifier</th>\n      <th></th>\n      <th></th>\n      <th></th>\n      <th></th>\n      <th></th>\n      <th></th>\n      <th></th>\n      <th></th>\n      <th></th>\n      <th></th>\n    </tr>\n  </thead>\n  <tbody>\n    <tr>\n      <th>FDA15</th>\n      <td>9.30</td>\n      <td>Low Fat</td>\n      <td>0.016047</td>\n      <td>Dairy</td>\n      <td>249.8092</td>\n      <td>OUT049</td>\n      <td>Medium</td>\n      <td>Tier 1</td>\n      <td>Supermarket Type1</td>\n      <td>3735.1380</td>\n    </tr>\n    <tr>\n      <th>DRC01</th>\n      <td>5.92</td>\n      <td>Regular</td>\n      <td>0.019278</td>\n      <td>Soft Drinks</td>\n      <td>48.2692</td>\n      <td>OUT018</td>\n      <td>Medium</td>\n      <td>Tier 3</td>\n      <td>Supermarket Type2</td>\n      <td>443.4228</td>\n    </tr>\n    <tr>\n      <th>FDN15</th>\n      <td>17.50</td>\n      <td>Low Fat</td>\n      <td>0.016760</td>\n      <td>Meat</td>\n      <td>141.6180</td>\n      <td>OUT049</td>\n      <td>Medium</td>\n      <td>Tier 1</td>\n      <td>Supermarket Type1</td>\n      <td>2097.2700</td>\n    </tr>\n    <tr>\n      <th>FDX07</th>\n      <td>19.20</td>\n      <td>Regular</td>\n      <td>0.000000</td>\n      <td>Fruits and Vegetables</td>\n      <td>182.0950</td>\n      <td>OUT010</td>\n      <td>NaN</td>\n      <td>Tier 3</td>\n      <td>Grocery Store</td>\n      <td>732.3800</td>\n    </tr>\n    <tr>\n      <th>NCD19</th>\n      <td>8.93</td>\n      <td>Low Fat</td>\n      <td>0.000000</td>\n      <td>Household</td>\n      <td>53.8614</td>\n      <td>OUT013</td>\n      <td>High</td>\n      <td>Tier 3</td>\n      <td>Supermarket Type1</td>\n      <td>994.7052</td>\n    </tr>\n  </tbody>\n</table>\n</div>"
     },
     "execution_count": 31,
     "metadata": {},
     "output_type": "execute_result"
    }
   ],
   "source": [
    "# view the top rows of the data\n",
    "data.head()"
   ]
  },
  {
   "cell_type": "code",
   "execution_count": 32,
   "metadata": {
    "colab": {},
    "colab_type": "code",
    "id": "p7Ad4b0JfWi7",
    "outputId": "dc6c7b61-5025-4ac0-e056-db299bcb0df4"
   },
   "outputs": [
    {
     "data": {
      "text/plain": "Index(['FDA15', 'DRC01', 'FDN15', 'FDX07', 'NCD19', 'FDP36', 'FDO10', 'FDP10',\n       'FDH17', 'FDU28',\n       ...\n       'FDH31', 'FDA01', 'FDH24', 'NCJ19', 'FDF53', 'FDF22', 'FDS36', 'NCJ29',\n       'FDN46', 'DRG01'],\n      dtype='object', name='Item_Identifier', length=8523)"
     },
     "execution_count": 32,
     "metadata": {},
     "output_type": "execute_result"
    }
   ],
   "source": [
    "# index of the data\n",
    "data.index"
   ]
  },
  {
   "cell_type": "markdown",
   "metadata": {
    "colab_type": "text",
    "id": "hpC22dT8fWi_"
   },
   "source": [
    "---\n",
    "\n",
    "#### `HOW TO SUBSET THE DATA BASED ON THE LABEL OF THE INDEX?`\n",
    "\n",
    "- We can subset the data based on the label of the index using the loc function.\n",
    "---"
   ]
  },
  {
   "cell_type": "code",
   "execution_count": 33,
   "metadata": {
    "colab": {},
    "colab_type": "code",
    "id": "q2otzN4jfWjB",
    "outputId": "8aabe7ce-f4a9-4db1-e64d-58bbf6067f23"
   },
   "outputs": [
    {
     "data": {
      "text/plain": "                 Item_Weight Item_Fat_Content  Item_Visibility Item_Type  \\\nItem_Identifier                                                            \nFDA15                    9.3          Low Fat         0.016047     Dairy   \nFDA15                    9.3          Low Fat         0.016055     Dairy   \nFDA15                    9.3          Low Fat         0.016019     Dairy   \nFDA15                    9.3          Low Fat         0.016088     Dairy   \nFDA15                    9.3          Low Fat         0.026818     Dairy   \nFDA15                    9.3          Low Fat         0.016009     Dairy   \nFDA15                    NaN          Low Fat         0.015945     Dairy   \nFDA15                    9.3               LF         0.016113     Dairy   \n\n                 Item_MRP Outlet_Identifier Outlet_Size Outlet_Location_Type  \\\nItem_Identifier                                                                \nFDA15            249.8092            OUT049      Medium               Tier 1   \nFDA15            250.2092            OUT045         NaN               Tier 2   \nFDA15            248.5092            OUT035       Small               Tier 2   \nFDA15            249.6092            OUT018      Medium               Tier 3   \nFDA15            248.9092            OUT010         NaN               Tier 3   \nFDA15            250.6092            OUT013        High               Tier 3   \nFDA15            249.5092            OUT027      Medium               Tier 3   \nFDA15            248.8092            OUT017         NaN               Tier 2   \n\n                       Outlet_Type  Item_Outlet_Sales  \nItem_Identifier                                        \nFDA15            Supermarket Type1          3735.1380  \nFDA15            Supermarket Type1          5976.2208  \nFDA15            Supermarket Type1          6474.2392  \nFDA15            Supermarket Type2          5976.2208  \nFDA15                Grocery Store           498.0184  \nFDA15            Supermarket Type1          6474.2392  \nFDA15            Supermarket Type3          6474.2392  \nFDA15            Supermarket Type1          5976.2208  ",
      "text/html": "<div>\n<style scoped>\n    .dataframe tbody tr th:only-of-type {\n        vertical-align: middle;\n    }\n\n    .dataframe tbody tr th {\n        vertical-align: top;\n    }\n\n    .dataframe thead th {\n        text-align: right;\n    }\n</style>\n<table border=\"1\" class=\"dataframe\">\n  <thead>\n    <tr style=\"text-align: right;\">\n      <th></th>\n      <th>Item_Weight</th>\n      <th>Item_Fat_Content</th>\n      <th>Item_Visibility</th>\n      <th>Item_Type</th>\n      <th>Item_MRP</th>\n      <th>Outlet_Identifier</th>\n      <th>Outlet_Size</th>\n      <th>Outlet_Location_Type</th>\n      <th>Outlet_Type</th>\n      <th>Item_Outlet_Sales</th>\n    </tr>\n    <tr>\n      <th>Item_Identifier</th>\n      <th></th>\n      <th></th>\n      <th></th>\n      <th></th>\n      <th></th>\n      <th></th>\n      <th></th>\n      <th></th>\n      <th></th>\n      <th></th>\n    </tr>\n  </thead>\n  <tbody>\n    <tr>\n      <th>FDA15</th>\n      <td>9.3</td>\n      <td>Low Fat</td>\n      <td>0.016047</td>\n      <td>Dairy</td>\n      <td>249.8092</td>\n      <td>OUT049</td>\n      <td>Medium</td>\n      <td>Tier 1</td>\n      <td>Supermarket Type1</td>\n      <td>3735.1380</td>\n    </tr>\n    <tr>\n      <th>FDA15</th>\n      <td>9.3</td>\n      <td>Low Fat</td>\n      <td>0.016055</td>\n      <td>Dairy</td>\n      <td>250.2092</td>\n      <td>OUT045</td>\n      <td>NaN</td>\n      <td>Tier 2</td>\n      <td>Supermarket Type1</td>\n      <td>5976.2208</td>\n    </tr>\n    <tr>\n      <th>FDA15</th>\n      <td>9.3</td>\n      <td>Low Fat</td>\n      <td>0.016019</td>\n      <td>Dairy</td>\n      <td>248.5092</td>\n      <td>OUT035</td>\n      <td>Small</td>\n      <td>Tier 2</td>\n      <td>Supermarket Type1</td>\n      <td>6474.2392</td>\n    </tr>\n    <tr>\n      <th>FDA15</th>\n      <td>9.3</td>\n      <td>Low Fat</td>\n      <td>0.016088</td>\n      <td>Dairy</td>\n      <td>249.6092</td>\n      <td>OUT018</td>\n      <td>Medium</td>\n      <td>Tier 3</td>\n      <td>Supermarket Type2</td>\n      <td>5976.2208</td>\n    </tr>\n    <tr>\n      <th>FDA15</th>\n      <td>9.3</td>\n      <td>Low Fat</td>\n      <td>0.026818</td>\n      <td>Dairy</td>\n      <td>248.9092</td>\n      <td>OUT010</td>\n      <td>NaN</td>\n      <td>Tier 3</td>\n      <td>Grocery Store</td>\n      <td>498.0184</td>\n    </tr>\n    <tr>\n      <th>FDA15</th>\n      <td>9.3</td>\n      <td>Low Fat</td>\n      <td>0.016009</td>\n      <td>Dairy</td>\n      <td>250.6092</td>\n      <td>OUT013</td>\n      <td>High</td>\n      <td>Tier 3</td>\n      <td>Supermarket Type1</td>\n      <td>6474.2392</td>\n    </tr>\n    <tr>\n      <th>FDA15</th>\n      <td>NaN</td>\n      <td>Low Fat</td>\n      <td>0.015945</td>\n      <td>Dairy</td>\n      <td>249.5092</td>\n      <td>OUT027</td>\n      <td>Medium</td>\n      <td>Tier 3</td>\n      <td>Supermarket Type3</td>\n      <td>6474.2392</td>\n    </tr>\n    <tr>\n      <th>FDA15</th>\n      <td>9.3</td>\n      <td>LF</td>\n      <td>0.016113</td>\n      <td>Dairy</td>\n      <td>248.8092</td>\n      <td>OUT017</td>\n      <td>NaN</td>\n      <td>Tier 2</td>\n      <td>Supermarket Type1</td>\n      <td>5976.2208</td>\n    </tr>\n  </tbody>\n</table>\n</div>"
     },
     "execution_count": 33,
     "metadata": {},
     "output_type": "execute_result"
    }
   ],
   "source": [
    "data.loc['FDA15']"
   ]
  },
  {
   "cell_type": "markdown",
   "metadata": {
    "colab_type": "text",
    "id": "R1GV_5WSfWjH"
   },
   "source": [
    "***What if we want to change the index back to positional?***\n",
    "\n",
    "---\n",
    "\n",
    "#### `CAN WE RESET THE INDEX?`\n",
    "\n",
    "***Yes, we can reset the index. Let's see how? We will use the reset_index function. You can read more about here: https://pandas.pydata.org/pandas-docs/stable/reference/api/pandas.DataFrame.reset_index.html***\n",
    "\n",
    "---"
   ]
  },
  {
   "cell_type": "code",
   "execution_count": 34,
   "metadata": {
    "colab": {},
    "colab_type": "code",
    "id": "cZXnKiv6fWjJ"
   },
   "outputs": [],
   "source": [
    "# reset the index\n",
    "data.reset_index(inplace=True)"
   ]
  },
  {
   "cell_type": "code",
   "execution_count": 35,
   "metadata": {
    "colab": {},
    "colab_type": "code",
    "id": "cEbuLWgJfWjN",
    "outputId": "734fd7d4-dcf5-42b6-f75e-d7515c423c56"
   },
   "outputs": [
    {
     "data": {
      "text/plain": "  Item_Identifier  Item_Weight Item_Fat_Content  Item_Visibility  \\\n0           FDA15         9.30          Low Fat         0.016047   \n1           DRC01         5.92          Regular         0.019278   \n2           FDN15        17.50          Low Fat         0.016760   \n3           FDX07        19.20          Regular         0.000000   \n4           NCD19         8.93          Low Fat         0.000000   \n\n               Item_Type  Item_MRP Outlet_Identifier Outlet_Size  \\\n0                  Dairy  249.8092            OUT049      Medium   \n1            Soft Drinks   48.2692            OUT018      Medium   \n2                   Meat  141.6180            OUT049      Medium   \n3  Fruits and Vegetables  182.0950            OUT010         NaN   \n4              Household   53.8614            OUT013        High   \n\n  Outlet_Location_Type        Outlet_Type  Item_Outlet_Sales  \n0               Tier 1  Supermarket Type1          3735.1380  \n1               Tier 3  Supermarket Type2           443.4228  \n2               Tier 1  Supermarket Type1          2097.2700  \n3               Tier 3      Grocery Store           732.3800  \n4               Tier 3  Supermarket Type1           994.7052  ",
      "text/html": "<div>\n<style scoped>\n    .dataframe tbody tr th:only-of-type {\n        vertical-align: middle;\n    }\n\n    .dataframe tbody tr th {\n        vertical-align: top;\n    }\n\n    .dataframe thead th {\n        text-align: right;\n    }\n</style>\n<table border=\"1\" class=\"dataframe\">\n  <thead>\n    <tr style=\"text-align: right;\">\n      <th></th>\n      <th>Item_Identifier</th>\n      <th>Item_Weight</th>\n      <th>Item_Fat_Content</th>\n      <th>Item_Visibility</th>\n      <th>Item_Type</th>\n      <th>Item_MRP</th>\n      <th>Outlet_Identifier</th>\n      <th>Outlet_Size</th>\n      <th>Outlet_Location_Type</th>\n      <th>Outlet_Type</th>\n      <th>Item_Outlet_Sales</th>\n    </tr>\n  </thead>\n  <tbody>\n    <tr>\n      <th>0</th>\n      <td>FDA15</td>\n      <td>9.30</td>\n      <td>Low Fat</td>\n      <td>0.016047</td>\n      <td>Dairy</td>\n      <td>249.8092</td>\n      <td>OUT049</td>\n      <td>Medium</td>\n      <td>Tier 1</td>\n      <td>Supermarket Type1</td>\n      <td>3735.1380</td>\n    </tr>\n    <tr>\n      <th>1</th>\n      <td>DRC01</td>\n      <td>5.92</td>\n      <td>Regular</td>\n      <td>0.019278</td>\n      <td>Soft Drinks</td>\n      <td>48.2692</td>\n      <td>OUT018</td>\n      <td>Medium</td>\n      <td>Tier 3</td>\n      <td>Supermarket Type2</td>\n      <td>443.4228</td>\n    </tr>\n    <tr>\n      <th>2</th>\n      <td>FDN15</td>\n      <td>17.50</td>\n      <td>Low Fat</td>\n      <td>0.016760</td>\n      <td>Meat</td>\n      <td>141.6180</td>\n      <td>OUT049</td>\n      <td>Medium</td>\n      <td>Tier 1</td>\n      <td>Supermarket Type1</td>\n      <td>2097.2700</td>\n    </tr>\n    <tr>\n      <th>3</th>\n      <td>FDX07</td>\n      <td>19.20</td>\n      <td>Regular</td>\n      <td>0.000000</td>\n      <td>Fruits and Vegetables</td>\n      <td>182.0950</td>\n      <td>OUT010</td>\n      <td>NaN</td>\n      <td>Tier 3</td>\n      <td>Grocery Store</td>\n      <td>732.3800</td>\n    </tr>\n    <tr>\n      <th>4</th>\n      <td>NCD19</td>\n      <td>8.93</td>\n      <td>Low Fat</td>\n      <td>0.000000</td>\n      <td>Household</td>\n      <td>53.8614</td>\n      <td>OUT013</td>\n      <td>High</td>\n      <td>Tier 3</td>\n      <td>Supermarket Type1</td>\n      <td>994.7052</td>\n    </tr>\n  </tbody>\n</table>\n</div>"
     },
     "execution_count": 35,
     "metadata": {},
     "output_type": "execute_result"
    }
   ],
   "source": [
    "# view the top rows of the data\n",
    "data.head()"
   ]
  },
  {
   "cell_type": "markdown",
   "metadata": {
    "colab_type": "text",
    "id": "GS4BcHdKfWjR"
   },
   "source": [
    "#### `HOW TO SUBSET THE DATA BASED ON A VALUE OF A COLUMN?`\n",
    "\n",
    "---"
   ]
  },
  {
   "cell_type": "code",
   "execution_count": 36,
   "metadata": {
    "colab": {},
    "colab_type": "code",
    "id": "_bgNcT8YfWjS",
    "outputId": "aae278e5-f2ef-4ecf-df71-9497a9ee5ee1"
   },
   "outputs": [
    {
     "data": {
      "text/plain": "     Item_Identifier  Item_Weight Item_Fat_Content  Item_Visibility Item_Type  \\\n0              FDA15        9.300          Low Fat         0.016047     Dairy   \n11             FDA03       18.500          Regular         0.045464     Dairy   \n19             FDU02       13.350          Low Fat         0.102492     Dairy   \n28             FDE51        5.925          Regular         0.161467     Dairy   \n30             FDV38       19.250          Low Fat         0.170349     Dairy   \n...              ...          ...              ...              ...       ...   \n8424           FDC39        7.405          Low Fat         0.159165     Dairy   \n8447           FDS26       20.350          Low Fat         0.089975     Dairy   \n8448           FDV50       14.300          Low Fat         0.123071     Dairy   \n8457           FDY50        5.800          Low Fat         0.130931     Dairy   \n8512           FDR26       20.700          Low Fat         0.042801     Dairy   \n\n      Item_MRP Outlet_Identifier Outlet_Size Outlet_Location_Type  \\\n0     249.8092            OUT049      Medium               Tier 1   \n11    144.1102            OUT046       Small               Tier 1   \n19    230.5352            OUT035       Small               Tier 2   \n28     45.5086            OUT010         NaN               Tier 3   \n30     55.7956            OUT010         NaN               Tier 3   \n...        ...               ...         ...                  ...   \n8424  207.1296            OUT035       Small               Tier 2   \n8447  261.6594            OUT017         NaN               Tier 2   \n8448  121.1730            OUT018      Medium               Tier 3   \n8457   89.9172            OUT035       Small               Tier 2   \n8512  178.3028            OUT013        High               Tier 3   \n\n            Outlet_Type  Item_Outlet_Sales  \n0     Supermarket Type1          3735.1380  \n11    Supermarket Type1          2187.1530  \n19    Supermarket Type1          2748.4224  \n28        Grocery Store           178.4344  \n30        Grocery Store           163.7868  \n...                 ...                ...  \n8424  Supermarket Type1          3739.1328  \n8447  Supermarket Type1          7588.1226  \n8448  Supermarket Type2          2093.9410  \n8457  Supermarket Type1          1516.6924  \n8512  Supermarket Type1          2479.4392  \n\n[682 rows x 11 columns]",
      "text/html": "<div>\n<style scoped>\n    .dataframe tbody tr th:only-of-type {\n        vertical-align: middle;\n    }\n\n    .dataframe tbody tr th {\n        vertical-align: top;\n    }\n\n    .dataframe thead th {\n        text-align: right;\n    }\n</style>\n<table border=\"1\" class=\"dataframe\">\n  <thead>\n    <tr style=\"text-align: right;\">\n      <th></th>\n      <th>Item_Identifier</th>\n      <th>Item_Weight</th>\n      <th>Item_Fat_Content</th>\n      <th>Item_Visibility</th>\n      <th>Item_Type</th>\n      <th>Item_MRP</th>\n      <th>Outlet_Identifier</th>\n      <th>Outlet_Size</th>\n      <th>Outlet_Location_Type</th>\n      <th>Outlet_Type</th>\n      <th>Item_Outlet_Sales</th>\n    </tr>\n  </thead>\n  <tbody>\n    <tr>\n      <th>0</th>\n      <td>FDA15</td>\n      <td>9.300</td>\n      <td>Low Fat</td>\n      <td>0.016047</td>\n      <td>Dairy</td>\n      <td>249.8092</td>\n      <td>OUT049</td>\n      <td>Medium</td>\n      <td>Tier 1</td>\n      <td>Supermarket Type1</td>\n      <td>3735.1380</td>\n    </tr>\n    <tr>\n      <th>11</th>\n      <td>FDA03</td>\n      <td>18.500</td>\n      <td>Regular</td>\n      <td>0.045464</td>\n      <td>Dairy</td>\n      <td>144.1102</td>\n      <td>OUT046</td>\n      <td>Small</td>\n      <td>Tier 1</td>\n      <td>Supermarket Type1</td>\n      <td>2187.1530</td>\n    </tr>\n    <tr>\n      <th>19</th>\n      <td>FDU02</td>\n      <td>13.350</td>\n      <td>Low Fat</td>\n      <td>0.102492</td>\n      <td>Dairy</td>\n      <td>230.5352</td>\n      <td>OUT035</td>\n      <td>Small</td>\n      <td>Tier 2</td>\n      <td>Supermarket Type1</td>\n      <td>2748.4224</td>\n    </tr>\n    <tr>\n      <th>28</th>\n      <td>FDE51</td>\n      <td>5.925</td>\n      <td>Regular</td>\n      <td>0.161467</td>\n      <td>Dairy</td>\n      <td>45.5086</td>\n      <td>OUT010</td>\n      <td>NaN</td>\n      <td>Tier 3</td>\n      <td>Grocery Store</td>\n      <td>178.4344</td>\n    </tr>\n    <tr>\n      <th>30</th>\n      <td>FDV38</td>\n      <td>19.250</td>\n      <td>Low Fat</td>\n      <td>0.170349</td>\n      <td>Dairy</td>\n      <td>55.7956</td>\n      <td>OUT010</td>\n      <td>NaN</td>\n      <td>Tier 3</td>\n      <td>Grocery Store</td>\n      <td>163.7868</td>\n    </tr>\n    <tr>\n      <th>...</th>\n      <td>...</td>\n      <td>...</td>\n      <td>...</td>\n      <td>...</td>\n      <td>...</td>\n      <td>...</td>\n      <td>...</td>\n      <td>...</td>\n      <td>...</td>\n      <td>...</td>\n      <td>...</td>\n    </tr>\n    <tr>\n      <th>8424</th>\n      <td>FDC39</td>\n      <td>7.405</td>\n      <td>Low Fat</td>\n      <td>0.159165</td>\n      <td>Dairy</td>\n      <td>207.1296</td>\n      <td>OUT035</td>\n      <td>Small</td>\n      <td>Tier 2</td>\n      <td>Supermarket Type1</td>\n      <td>3739.1328</td>\n    </tr>\n    <tr>\n      <th>8447</th>\n      <td>FDS26</td>\n      <td>20.350</td>\n      <td>Low Fat</td>\n      <td>0.089975</td>\n      <td>Dairy</td>\n      <td>261.6594</td>\n      <td>OUT017</td>\n      <td>NaN</td>\n      <td>Tier 2</td>\n      <td>Supermarket Type1</td>\n      <td>7588.1226</td>\n    </tr>\n    <tr>\n      <th>8448</th>\n      <td>FDV50</td>\n      <td>14.300</td>\n      <td>Low Fat</td>\n      <td>0.123071</td>\n      <td>Dairy</td>\n      <td>121.1730</td>\n      <td>OUT018</td>\n      <td>Medium</td>\n      <td>Tier 3</td>\n      <td>Supermarket Type2</td>\n      <td>2093.9410</td>\n    </tr>\n    <tr>\n      <th>8457</th>\n      <td>FDY50</td>\n      <td>5.800</td>\n      <td>Low Fat</td>\n      <td>0.130931</td>\n      <td>Dairy</td>\n      <td>89.9172</td>\n      <td>OUT035</td>\n      <td>Small</td>\n      <td>Tier 2</td>\n      <td>Supermarket Type1</td>\n      <td>1516.6924</td>\n    </tr>\n    <tr>\n      <th>8512</th>\n      <td>FDR26</td>\n      <td>20.700</td>\n      <td>Low Fat</td>\n      <td>0.042801</td>\n      <td>Dairy</td>\n      <td>178.3028</td>\n      <td>OUT013</td>\n      <td>High</td>\n      <td>Tier 3</td>\n      <td>Supermarket Type1</td>\n      <td>2479.4392</td>\n    </tr>\n  </tbody>\n</table>\n<p>682 rows × 11 columns</p>\n</div>"
     },
     "execution_count": 36,
     "metadata": {},
     "output_type": "execute_result"
    }
   ],
   "source": [
    "data[data['Item_Type'] == 'Dairy']"
   ]
  },
  {
   "cell_type": "markdown",
   "metadata": {
    "colab_type": "text",
    "id": "fmr0TiPrfWjX"
   },
   "source": [
    "----\n",
    "\n",
    "#### `WE WILL SEE HOW TO SUBSET THE DATA BASED ON POSITION, LABEL AND VALUES IN DETAIL`\n",
    "\n",
    "---"
   ]
  },
  {
   "cell_type": "code",
   "execution_count": 0,
   "metadata": {
    "colab": {},
    "colab_type": "code",
    "id": "LVyTkUEXfWjY"
   },
   "outputs": [],
   "source": []
  }
 ],
 "metadata": {
  "colab": {
   "collapsed_sections": [],
   "name": "0.5. Overview of Subsetting in Pandas.ipynb",
   "provenance": []
  },
  "kernelspec": {
   "display_name": "Python 3",
   "language": "python",
   "name": "python3"
  },
  "language_info": {
   "codemirror_mode": {
    "name": "ipython",
    "version": 3
   },
   "file_extension": ".py",
   "mimetype": "text/x-python",
   "name": "python",
   "nbconvert_exporter": "python",
   "pygments_lexer": "ipython3",
   "version": "3.7.4"
  }
 },
 "nbformat": 4,
 "nbformat_minor": 1
}
