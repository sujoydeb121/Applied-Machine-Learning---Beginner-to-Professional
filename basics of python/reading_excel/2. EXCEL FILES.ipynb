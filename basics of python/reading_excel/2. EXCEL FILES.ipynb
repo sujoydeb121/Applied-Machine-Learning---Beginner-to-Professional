{
 "cells": [
  {
   "cell_type": "markdown",
   "metadata": {},
   "source": [
    "---\n",
    "---\n",
    "<center><h1>📍 📍 EXCEL FILES📍 📍</h1></center>\n",
    "\n",
    "\n",
    "---\n",
    "\n",
    "In this notebook, we will see how to read excel files using pandas and what are the challenges while reading the excel files and how to tackle them?\n",
    "\n",
    "---\n",
    "\n",
    "### `Table of Contents`\n",
    "\n",
    "---\n",
    "\n",
    "\n",
    "- ***Reading Excel Files***\n",
    "- ***Challenges with reading the EXCEL file.***\n",
    "    - Reading excel files with multiple sheets.\n",
    "    - Comments in top rows.\n",
    "    - **Assignment**: Read files present in multiple directories.\n",
    "\n",
    "\n",
    "\n",
    "#### `READING EXCEL FILES`\n",
    "\n",
    "---"
   ]
  },
  {
   "cell_type": "code",
   "execution_count": 2,
   "metadata": {},
   "outputs": [],
   "source": [
    "# import the pandas library\n",
    "import pandas as pd"
   ]
  },
  {
   "cell_type": "markdown",
   "metadata": {},
   "source": [
    "***In this notebook, we are going to use the same `big_mart_sales` data.***\n",
    "\n",
    "---\n",
    "\n",
    "- Read the file `big_mart_sales.xlsx` present in the directory `datasets.`\n",
    "\n",
    "---"
   ]
  },
  {
   "cell_type": "code",
   "execution_count": 3,
   "metadata": {},
   "outputs": [],
   "source": [
    "# read the dataset\n",
    "# data = pd.read_excel('datasets/big_mart_sales.xlsx')\n",
    "data = pd.read_excel('datasets/big_mart_sales.xlsx')"
   ]
  },
  {
   "cell_type": "code",
   "execution_count": 4,
   "metadata": {},
   "outputs": [
    {
     "data": {
      "text/plain": "  Item_Identifier  Item_Weight Item_Fat_Content  Item_Visibility  \\\n0           FDA15         9.30          Low Fat         0.016047   \n1           DRC01         5.92          Regular         0.019278   \n2           FDN15        17.50          Low Fat         0.016760   \n3           FDX07        19.20          Regular         0.000000   \n4           NCD19         8.93          Low Fat         0.000000   \n\n               Item_Type  Item_MRP Outlet_Identifier  \\\n0                  Dairy  249.8092            OUT049   \n1            Soft Drinks   48.2692            OUT018   \n2                   Meat  141.6180            OUT049   \n3  Fruits and Vegetables  182.0950            OUT010   \n4              Household   53.8614            OUT013   \n\n   Outlet_Establishment_Year Outlet_Size Outlet_Location_Type  \\\n0                       1999      Medium               Tier 1   \n1                       2009      Medium               Tier 3   \n2                       1999      Medium               Tier 1   \n3                       1998         NaN               Tier 3   \n4                       1987        High               Tier 3   \n\n         Outlet_Type  Item_Outlet_Sales  \n0  Supermarket Type1          3735.1380  \n1  Supermarket Type2           443.4228  \n2  Supermarket Type1          2097.2700  \n3      Grocery Store           732.3800  \n4  Supermarket Type1           994.7052  ",
      "text/html": "<div>\n<style scoped>\n    .dataframe tbody tr th:only-of-type {\n        vertical-align: middle;\n    }\n\n    .dataframe tbody tr th {\n        vertical-align: top;\n    }\n\n    .dataframe thead th {\n        text-align: right;\n    }\n</style>\n<table border=\"1\" class=\"dataframe\">\n  <thead>\n    <tr style=\"text-align: right;\">\n      <th></th>\n      <th>Item_Identifier</th>\n      <th>Item_Weight</th>\n      <th>Item_Fat_Content</th>\n      <th>Item_Visibility</th>\n      <th>Item_Type</th>\n      <th>Item_MRP</th>\n      <th>Outlet_Identifier</th>\n      <th>Outlet_Establishment_Year</th>\n      <th>Outlet_Size</th>\n      <th>Outlet_Location_Type</th>\n      <th>Outlet_Type</th>\n      <th>Item_Outlet_Sales</th>\n    </tr>\n  </thead>\n  <tbody>\n    <tr>\n      <th>0</th>\n      <td>FDA15</td>\n      <td>9.30</td>\n      <td>Low Fat</td>\n      <td>0.016047</td>\n      <td>Dairy</td>\n      <td>249.8092</td>\n      <td>OUT049</td>\n      <td>1999</td>\n      <td>Medium</td>\n      <td>Tier 1</td>\n      <td>Supermarket Type1</td>\n      <td>3735.1380</td>\n    </tr>\n    <tr>\n      <th>1</th>\n      <td>DRC01</td>\n      <td>5.92</td>\n      <td>Regular</td>\n      <td>0.019278</td>\n      <td>Soft Drinks</td>\n      <td>48.2692</td>\n      <td>OUT018</td>\n      <td>2009</td>\n      <td>Medium</td>\n      <td>Tier 3</td>\n      <td>Supermarket Type2</td>\n      <td>443.4228</td>\n    </tr>\n    <tr>\n      <th>2</th>\n      <td>FDN15</td>\n      <td>17.50</td>\n      <td>Low Fat</td>\n      <td>0.016760</td>\n      <td>Meat</td>\n      <td>141.6180</td>\n      <td>OUT049</td>\n      <td>1999</td>\n      <td>Medium</td>\n      <td>Tier 1</td>\n      <td>Supermarket Type1</td>\n      <td>2097.2700</td>\n    </tr>\n    <tr>\n      <th>3</th>\n      <td>FDX07</td>\n      <td>19.20</td>\n      <td>Regular</td>\n      <td>0.000000</td>\n      <td>Fruits and Vegetables</td>\n      <td>182.0950</td>\n      <td>OUT010</td>\n      <td>1998</td>\n      <td>NaN</td>\n      <td>Tier 3</td>\n      <td>Grocery Store</td>\n      <td>732.3800</td>\n    </tr>\n    <tr>\n      <th>4</th>\n      <td>NCD19</td>\n      <td>8.93</td>\n      <td>Low Fat</td>\n      <td>0.000000</td>\n      <td>Household</td>\n      <td>53.8614</td>\n      <td>OUT013</td>\n      <td>1987</td>\n      <td>High</td>\n      <td>Tier 3</td>\n      <td>Supermarket Type1</td>\n      <td>994.7052</td>\n    </tr>\n  </tbody>\n</table>\n</div>"
     },
     "execution_count": 4,
     "metadata": {},
     "output_type": "execute_result"
    }
   ],
   "source": [
    "# view the head\n",
    "data.head()"
   ]
  },
  {
   "cell_type": "markdown",
   "metadata": {},
   "source": [
    "#### `CHALLENGES WITH READING EXCEL FILES`\n",
    "\n",
    "- ***Reading excel files with multiple sheets.***\n",
    "- ***Comments in top rows.***\n",
    "- ***Read files present in multiple directories.***\n",
    "\n",
    "---"
   ]
  },
  {
   "cell_type": "markdown",
   "metadata": {},
   "source": [
    "---\n",
    "\n",
    "#### ***`EXCEL FILES WITH MULTIPLE SHEETS: SPECIFY THE SHEET NAME`***\n",
    "\n",
    "- **`EXCEL`** files most of the time contain multiple sheets. \n",
    "- Using **`sheet_name`** parameter we can read a specific sheet \n",
    "\n",
    "---\n",
    "\n",
    "***Now, we have a excel file `big_mart_sales_with_multiple_sheets.xlsx` that contain different sheets for different years `1985`, `1987`, `1997`***"
   ]
  },
  {
   "cell_type": "code",
   "execution_count": 5,
   "metadata": {},
   "outputs": [],
   "source": [
    "# read the data with multiple sheets\n",
    "# data_with_multiple_sheets = pd.read_excel('datasets/big_mart_sales_with_multiple_sheets.xlsx')\n",
    "data_with_multiple_sheets = pd.read_excel('datasets/big_mart_sales_with_multiple_sheets.xlsx')"
   ]
  },
  {
   "cell_type": "code",
   "execution_count": 6,
   "metadata": {},
   "outputs": [
    {
     "data": {
      "text/plain": "array([1985], dtype=int64)"
     },
     "execution_count": 6,
     "metadata": {},
     "output_type": "execute_result"
    }
   ],
   "source": [
    "# unique year present in the data\n",
    "# data_with_multiple_sheets.Outlet_Establishment_Year.unique()\n",
    "data_with_multiple_sheets.Outlet_Establishment_Year.unique()"
   ]
  },
  {
   "cell_type": "markdown",
   "metadata": {},
   "source": [
    "***We can see that when we read the data with multiple sheets only the first sheet gets read.***\n",
    "\n",
    "---\n",
    "\n",
    "***To read the data from the specific sheet, we need to specify the sheet name. Let's see with the following example.***\n"
   ]
  },
  {
   "cell_type": "code",
   "execution_count": 7,
   "metadata": {},
   "outputs": [],
   "source": [
    "# sheet_1985 = pd.read_excel('datasets/big_mart_sales_with_multiple_sheets.xlsx',sheet_name='1985')\n",
    "sheet_1985 = pd.read_excel('datasets/big_mart_sales_with_multiple_sheets.xlsx', sheet_name='1985')"
   ]
  },
  {
   "cell_type": "code",
   "execution_count": 8,
   "metadata": {},
   "outputs": [
    {
     "data": {
      "text/plain": "  Item_Identifier  Item_Weight Item_Fat_Content  Item_Visibility  \\\n0           FDP10          NaN          Low Fat         0.127470   \n1           DRI11          NaN          Low Fat         0.034238   \n2           FDW12          NaN          Regular         0.035400   \n3           FDC37          NaN          Low Fat         0.057557   \n4           FDC14          NaN          Regular         0.072222   \n\n      Item_Type  Item_MRP Outlet_Identifier  Outlet_Establishment_Year  \\\n0   Snack Foods  107.7622            OUT027                       1985   \n1   Hard Drinks  113.2834            OUT027                       1985   \n2  Baking Goods  144.5444            OUT027                       1985   \n3  Baking Goods  107.6938            OUT019                       1985   \n4        Canned   43.6454            OUT019                       1985   \n\n  Outlet_Size Outlet_Location_Type        Outlet_Type  Item_Outlet_Sales  \n0      Medium               Tier 3  Supermarket Type3          4022.7636  \n1      Medium               Tier 3  Supermarket Type3          2303.6680  \n2      Medium               Tier 3  Supermarket Type3          4064.0432  \n3       Small               Tier 1      Grocery Store           214.3876  \n4       Small               Tier 1      Grocery Store           125.8362  ",
      "text/html": "<div>\n<style scoped>\n    .dataframe tbody tr th:only-of-type {\n        vertical-align: middle;\n    }\n\n    .dataframe tbody tr th {\n        vertical-align: top;\n    }\n\n    .dataframe thead th {\n        text-align: right;\n    }\n</style>\n<table border=\"1\" class=\"dataframe\">\n  <thead>\n    <tr style=\"text-align: right;\">\n      <th></th>\n      <th>Item_Identifier</th>\n      <th>Item_Weight</th>\n      <th>Item_Fat_Content</th>\n      <th>Item_Visibility</th>\n      <th>Item_Type</th>\n      <th>Item_MRP</th>\n      <th>Outlet_Identifier</th>\n      <th>Outlet_Establishment_Year</th>\n      <th>Outlet_Size</th>\n      <th>Outlet_Location_Type</th>\n      <th>Outlet_Type</th>\n      <th>Item_Outlet_Sales</th>\n    </tr>\n  </thead>\n  <tbody>\n    <tr>\n      <th>0</th>\n      <td>FDP10</td>\n      <td>NaN</td>\n      <td>Low Fat</td>\n      <td>0.127470</td>\n      <td>Snack Foods</td>\n      <td>107.7622</td>\n      <td>OUT027</td>\n      <td>1985</td>\n      <td>Medium</td>\n      <td>Tier 3</td>\n      <td>Supermarket Type3</td>\n      <td>4022.7636</td>\n    </tr>\n    <tr>\n      <th>1</th>\n      <td>DRI11</td>\n      <td>NaN</td>\n      <td>Low Fat</td>\n      <td>0.034238</td>\n      <td>Hard Drinks</td>\n      <td>113.2834</td>\n      <td>OUT027</td>\n      <td>1985</td>\n      <td>Medium</td>\n      <td>Tier 3</td>\n      <td>Supermarket Type3</td>\n      <td>2303.6680</td>\n    </tr>\n    <tr>\n      <th>2</th>\n      <td>FDW12</td>\n      <td>NaN</td>\n      <td>Regular</td>\n      <td>0.035400</td>\n      <td>Baking Goods</td>\n      <td>144.5444</td>\n      <td>OUT027</td>\n      <td>1985</td>\n      <td>Medium</td>\n      <td>Tier 3</td>\n      <td>Supermarket Type3</td>\n      <td>4064.0432</td>\n    </tr>\n    <tr>\n      <th>3</th>\n      <td>FDC37</td>\n      <td>NaN</td>\n      <td>Low Fat</td>\n      <td>0.057557</td>\n      <td>Baking Goods</td>\n      <td>107.6938</td>\n      <td>OUT019</td>\n      <td>1985</td>\n      <td>Small</td>\n      <td>Tier 1</td>\n      <td>Grocery Store</td>\n      <td>214.3876</td>\n    </tr>\n    <tr>\n      <th>4</th>\n      <td>FDC14</td>\n      <td>NaN</td>\n      <td>Regular</td>\n      <td>0.072222</td>\n      <td>Canned</td>\n      <td>43.6454</td>\n      <td>OUT019</td>\n      <td>1985</td>\n      <td>Small</td>\n      <td>Tier 1</td>\n      <td>Grocery Store</td>\n      <td>125.8362</td>\n    </tr>\n  </tbody>\n</table>\n</div>"
     },
     "execution_count": 8,
     "metadata": {},
     "output_type": "execute_result"
    }
   ],
   "source": [
    "sheet_1985.head()"
   ]
  },
  {
   "cell_type": "code",
   "execution_count": 9,
   "metadata": {},
   "outputs": [],
   "source": [
    "sheet_1987 = pd.read_excel('datasets/big_mart_sales_with_multiple_sheets.xlsx', sheet_name='1987')"
   ]
  },
  {
   "cell_type": "code",
   "execution_count": 10,
   "metadata": {},
   "outputs": [
    {
     "data": {
      "text/plain": "  Item_Identifier  Item_Weight Item_Fat_Content  Item_Visibility  \\\n0           NCD19         8.93          Low Fat         0.000000   \n1           FDO10        13.65          Regular         0.012741   \n2           FDF32        16.35          Low Fat         0.068024   \n3           FDN22        18.85          Regular         0.138190   \n4           DRJ59        11.65          low fat         0.019356   \n\n               Item_Type  Item_MRP Outlet_Identifier  \\\n0              Household   53.8614            OUT013   \n1            Snack Foods   57.6588            OUT013   \n2  Fruits and Vegetables  196.4426            OUT013   \n3            Snack Foods  250.8724            OUT013   \n4            Hard Drinks   39.1164            OUT013   \n\n   Outlet_Establishment_Year Outlet_Size Outlet_Location_Type  \\\n0                       1987        High               Tier 3   \n1                       1987        High               Tier 3   \n2                       1987        High               Tier 3   \n3                       1987        High               Tier 3   \n4                       1987        High               Tier 3   \n\n         Outlet_Type  Item_Outlet_Sales  \n0  Supermarket Type1           994.7052  \n1  Supermarket Type1           343.5528  \n2  Supermarket Type1          1977.4260  \n3  Supermarket Type1          3775.0860  \n4  Supermarket Type1           308.9312  ",
      "text/html": "<div>\n<style scoped>\n    .dataframe tbody tr th:only-of-type {\n        vertical-align: middle;\n    }\n\n    .dataframe tbody tr th {\n        vertical-align: top;\n    }\n\n    .dataframe thead th {\n        text-align: right;\n    }\n</style>\n<table border=\"1\" class=\"dataframe\">\n  <thead>\n    <tr style=\"text-align: right;\">\n      <th></th>\n      <th>Item_Identifier</th>\n      <th>Item_Weight</th>\n      <th>Item_Fat_Content</th>\n      <th>Item_Visibility</th>\n      <th>Item_Type</th>\n      <th>Item_MRP</th>\n      <th>Outlet_Identifier</th>\n      <th>Outlet_Establishment_Year</th>\n      <th>Outlet_Size</th>\n      <th>Outlet_Location_Type</th>\n      <th>Outlet_Type</th>\n      <th>Item_Outlet_Sales</th>\n    </tr>\n  </thead>\n  <tbody>\n    <tr>\n      <th>0</th>\n      <td>NCD19</td>\n      <td>8.93</td>\n      <td>Low Fat</td>\n      <td>0.000000</td>\n      <td>Household</td>\n      <td>53.8614</td>\n      <td>OUT013</td>\n      <td>1987</td>\n      <td>High</td>\n      <td>Tier 3</td>\n      <td>Supermarket Type1</td>\n      <td>994.7052</td>\n    </tr>\n    <tr>\n      <th>1</th>\n      <td>FDO10</td>\n      <td>13.65</td>\n      <td>Regular</td>\n      <td>0.012741</td>\n      <td>Snack Foods</td>\n      <td>57.6588</td>\n      <td>OUT013</td>\n      <td>1987</td>\n      <td>High</td>\n      <td>Tier 3</td>\n      <td>Supermarket Type1</td>\n      <td>343.5528</td>\n    </tr>\n    <tr>\n      <th>2</th>\n      <td>FDF32</td>\n      <td>16.35</td>\n      <td>Low Fat</td>\n      <td>0.068024</td>\n      <td>Fruits and Vegetables</td>\n      <td>196.4426</td>\n      <td>OUT013</td>\n      <td>1987</td>\n      <td>High</td>\n      <td>Tier 3</td>\n      <td>Supermarket Type1</td>\n      <td>1977.4260</td>\n    </tr>\n    <tr>\n      <th>3</th>\n      <td>FDN22</td>\n      <td>18.85</td>\n      <td>Regular</td>\n      <td>0.138190</td>\n      <td>Snack Foods</td>\n      <td>250.8724</td>\n      <td>OUT013</td>\n      <td>1987</td>\n      <td>High</td>\n      <td>Tier 3</td>\n      <td>Supermarket Type1</td>\n      <td>3775.0860</td>\n    </tr>\n    <tr>\n      <th>4</th>\n      <td>DRJ59</td>\n      <td>11.65</td>\n      <td>low fat</td>\n      <td>0.019356</td>\n      <td>Hard Drinks</td>\n      <td>39.1164</td>\n      <td>OUT013</td>\n      <td>1987</td>\n      <td>High</td>\n      <td>Tier 3</td>\n      <td>Supermarket Type1</td>\n      <td>308.9312</td>\n    </tr>\n  </tbody>\n</table>\n</div>"
     },
     "execution_count": 10,
     "metadata": {},
     "output_type": "execute_result"
    }
   ],
   "source": [
    "sheet_1987.head()"
   ]
  },
  {
   "cell_type": "code",
   "execution_count": 11,
   "metadata": {},
   "outputs": [],
   "source": [
    "sheet_1997 = pd.read_excel('datasets/big_mart_sales_with_multiple_sheets.xlsx', sheet_name='1997')"
   ]
  },
  {
   "cell_type": "code",
   "execution_count": 12,
   "metadata": {},
   "outputs": [
    {
     "data": {
      "text/plain": "  Item_Identifier  Item_Weight Item_Fat_Content  Item_Visibility  \\\n0           FDA03        18.50          Regular         0.045464   \n1           FDS46        17.60          Regular         0.047257   \n2           FDP49         9.00          Regular         0.069089   \n3           FDR28        13.85          Regular         0.025896   \n4           DRH01        17.50          Low Fat         0.097904   \n\n      Item_Type  Item_MRP Outlet_Identifier  Outlet_Establishment_Year  \\\n0         Dairy  144.1102            OUT046                       1997   \n1   Snack Foods  119.6782            OUT046                       1997   \n2     Breakfast   56.3614            OUT046                       1997   \n3  Frozen Foods  165.0210            OUT046                       1997   \n4   Soft Drinks  174.8738            OUT046                       1997   \n\n  Outlet_Size Outlet_Location_Type        Outlet_Type  Item_Outlet_Sales  \n0       Small               Tier 1  Supermarket Type1          2187.1530  \n1       Small               Tier 1  Supermarket Type1          2145.2076  \n2       Small               Tier 1  Supermarket Type1          1547.3192  \n3       Small               Tier 1  Supermarket Type1          4078.0250  \n4       Small               Tier 1  Supermarket Type1          2085.2856  ",
      "text/html": "<div>\n<style scoped>\n    .dataframe tbody tr th:only-of-type {\n        vertical-align: middle;\n    }\n\n    .dataframe tbody tr th {\n        vertical-align: top;\n    }\n\n    .dataframe thead th {\n        text-align: right;\n    }\n</style>\n<table border=\"1\" class=\"dataframe\">\n  <thead>\n    <tr style=\"text-align: right;\">\n      <th></th>\n      <th>Item_Identifier</th>\n      <th>Item_Weight</th>\n      <th>Item_Fat_Content</th>\n      <th>Item_Visibility</th>\n      <th>Item_Type</th>\n      <th>Item_MRP</th>\n      <th>Outlet_Identifier</th>\n      <th>Outlet_Establishment_Year</th>\n      <th>Outlet_Size</th>\n      <th>Outlet_Location_Type</th>\n      <th>Outlet_Type</th>\n      <th>Item_Outlet_Sales</th>\n    </tr>\n  </thead>\n  <tbody>\n    <tr>\n      <th>0</th>\n      <td>FDA03</td>\n      <td>18.50</td>\n      <td>Regular</td>\n      <td>0.045464</td>\n      <td>Dairy</td>\n      <td>144.1102</td>\n      <td>OUT046</td>\n      <td>1997</td>\n      <td>Small</td>\n      <td>Tier 1</td>\n      <td>Supermarket Type1</td>\n      <td>2187.1530</td>\n    </tr>\n    <tr>\n      <th>1</th>\n      <td>FDS46</td>\n      <td>17.60</td>\n      <td>Regular</td>\n      <td>0.047257</td>\n      <td>Snack Foods</td>\n      <td>119.6782</td>\n      <td>OUT046</td>\n      <td>1997</td>\n      <td>Small</td>\n      <td>Tier 1</td>\n      <td>Supermarket Type1</td>\n      <td>2145.2076</td>\n    </tr>\n    <tr>\n      <th>2</th>\n      <td>FDP49</td>\n      <td>9.00</td>\n      <td>Regular</td>\n      <td>0.069089</td>\n      <td>Breakfast</td>\n      <td>56.3614</td>\n      <td>OUT046</td>\n      <td>1997</td>\n      <td>Small</td>\n      <td>Tier 1</td>\n      <td>Supermarket Type1</td>\n      <td>1547.3192</td>\n    </tr>\n    <tr>\n      <th>3</th>\n      <td>FDR28</td>\n      <td>13.85</td>\n      <td>Regular</td>\n      <td>0.025896</td>\n      <td>Frozen Foods</td>\n      <td>165.0210</td>\n      <td>OUT046</td>\n      <td>1997</td>\n      <td>Small</td>\n      <td>Tier 1</td>\n      <td>Supermarket Type1</td>\n      <td>4078.0250</td>\n    </tr>\n    <tr>\n      <th>4</th>\n      <td>DRH01</td>\n      <td>17.50</td>\n      <td>Low Fat</td>\n      <td>0.097904</td>\n      <td>Soft Drinks</td>\n      <td>174.8738</td>\n      <td>OUT046</td>\n      <td>1997</td>\n      <td>Small</td>\n      <td>Tier 1</td>\n      <td>Supermarket Type1</td>\n      <td>2085.2856</td>\n    </tr>\n  </tbody>\n</table>\n</div>"
     },
     "execution_count": 12,
     "metadata": {},
     "output_type": "execute_result"
    }
   ],
   "source": [
    "sheet_1997.head()"
   ]
  },
  {
   "cell_type": "markdown",
   "metadata": {},
   "source": [
    "#### `CONCATENATE ALL SHEETS`\n",
    "\n",
    "---"
   ]
  },
  {
   "cell_type": "code",
   "execution_count": 13,
   "metadata": {},
   "outputs": [],
   "source": [
    "# create an array of dataframes\n",
    "# sheets = [sheet_1985, sheet_1987, sheet_1997]\n",
    "sheets = [sheet_1985, sheet_1987, sheet_1997]\n",
    "\n",
    "# concatenate the array\n",
    "# final_data = pd.concat(sheets)\n",
    "final_data = pd.concat(sheets)"
   ]
  },
  {
   "cell_type": "code",
   "execution_count": 14,
   "metadata": {},
   "outputs": [
    {
     "data": {
      "text/plain": "array([1985, 1987, 1997], dtype=int64)"
     },
     "execution_count": 14,
     "metadata": {},
     "output_type": "execute_result"
    }
   ],
   "source": [
    "# unique years in final data\n",
    "final_data.Outlet_Establishment_Year.unique()"
   ]
  },
  {
   "cell_type": "code",
   "execution_count": 15,
   "outputs": [
    {
     "data": {
      "text/plain": "  Item_Identifier  Item_Weight Item_Fat_Content  Item_Visibility  \\\n0           FDP10          NaN          Low Fat         0.127470   \n1           DRI11          NaN          Low Fat         0.034238   \n2           FDW12          NaN          Regular         0.035400   \n3           FDC37          NaN          Low Fat         0.057557   \n4           FDC14          NaN          Regular         0.072222   \n\n      Item_Type  Item_MRP Outlet_Identifier  Outlet_Establishment_Year  \\\n0   Snack Foods  107.7622            OUT027                       1985   \n1   Hard Drinks  113.2834            OUT027                       1985   \n2  Baking Goods  144.5444            OUT027                       1985   \n3  Baking Goods  107.6938            OUT019                       1985   \n4        Canned   43.6454            OUT019                       1985   \n\n  Outlet_Size Outlet_Location_Type        Outlet_Type  Item_Outlet_Sales  \n0      Medium               Tier 3  Supermarket Type3          4022.7636  \n1      Medium               Tier 3  Supermarket Type3          2303.6680  \n2      Medium               Tier 3  Supermarket Type3          4064.0432  \n3       Small               Tier 1      Grocery Store           214.3876  \n4       Small               Tier 1      Grocery Store           125.8362  ",
      "text/html": "<div>\n<style scoped>\n    .dataframe tbody tr th:only-of-type {\n        vertical-align: middle;\n    }\n\n    .dataframe tbody tr th {\n        vertical-align: top;\n    }\n\n    .dataframe thead th {\n        text-align: right;\n    }\n</style>\n<table border=\"1\" class=\"dataframe\">\n  <thead>\n    <tr style=\"text-align: right;\">\n      <th></th>\n      <th>Item_Identifier</th>\n      <th>Item_Weight</th>\n      <th>Item_Fat_Content</th>\n      <th>Item_Visibility</th>\n      <th>Item_Type</th>\n      <th>Item_MRP</th>\n      <th>Outlet_Identifier</th>\n      <th>Outlet_Establishment_Year</th>\n      <th>Outlet_Size</th>\n      <th>Outlet_Location_Type</th>\n      <th>Outlet_Type</th>\n      <th>Item_Outlet_Sales</th>\n    </tr>\n  </thead>\n  <tbody>\n    <tr>\n      <th>0</th>\n      <td>FDP10</td>\n      <td>NaN</td>\n      <td>Low Fat</td>\n      <td>0.127470</td>\n      <td>Snack Foods</td>\n      <td>107.7622</td>\n      <td>OUT027</td>\n      <td>1985</td>\n      <td>Medium</td>\n      <td>Tier 3</td>\n      <td>Supermarket Type3</td>\n      <td>4022.7636</td>\n    </tr>\n    <tr>\n      <th>1</th>\n      <td>DRI11</td>\n      <td>NaN</td>\n      <td>Low Fat</td>\n      <td>0.034238</td>\n      <td>Hard Drinks</td>\n      <td>113.2834</td>\n      <td>OUT027</td>\n      <td>1985</td>\n      <td>Medium</td>\n      <td>Tier 3</td>\n      <td>Supermarket Type3</td>\n      <td>2303.6680</td>\n    </tr>\n    <tr>\n      <th>2</th>\n      <td>FDW12</td>\n      <td>NaN</td>\n      <td>Regular</td>\n      <td>0.035400</td>\n      <td>Baking Goods</td>\n      <td>144.5444</td>\n      <td>OUT027</td>\n      <td>1985</td>\n      <td>Medium</td>\n      <td>Tier 3</td>\n      <td>Supermarket Type3</td>\n      <td>4064.0432</td>\n    </tr>\n    <tr>\n      <th>3</th>\n      <td>FDC37</td>\n      <td>NaN</td>\n      <td>Low Fat</td>\n      <td>0.057557</td>\n      <td>Baking Goods</td>\n      <td>107.6938</td>\n      <td>OUT019</td>\n      <td>1985</td>\n      <td>Small</td>\n      <td>Tier 1</td>\n      <td>Grocery Store</td>\n      <td>214.3876</td>\n    </tr>\n    <tr>\n      <th>4</th>\n      <td>FDC14</td>\n      <td>NaN</td>\n      <td>Regular</td>\n      <td>0.072222</td>\n      <td>Canned</td>\n      <td>43.6454</td>\n      <td>OUT019</td>\n      <td>1985</td>\n      <td>Small</td>\n      <td>Tier 1</td>\n      <td>Grocery Store</td>\n      <td>125.8362</td>\n    </tr>\n  </tbody>\n</table>\n</div>"
     },
     "execution_count": 15,
     "metadata": {},
     "output_type": "execute_result"
    }
   ],
   "source": [
    "final_data.head()"
   ],
   "metadata": {
    "collapsed": false
   }
  },
  {
   "cell_type": "markdown",
   "metadata": {},
   "source": [
    "---\n",
    "\n",
    "***If we have comments on the top of a file. We can use `skiprows` to skip the first n rows and read the data.***\n",
    "\n",
    "\n",
    "---\n"
   ]
  },
  {
   "cell_type": "code",
   "execution_count": 18,
   "metadata": {},
   "outputs": [],
   "source": [
    "# read the data without skiprows\n",
    "# sheet_with_comments = pd.read_excel('datasets/big_mart_sales_comments.xlsx')\n",
    "sheet_with_comments = pd.read_excel('datasets/big_mart_sales_comments.xlsx')"
   ]
  },
  {
   "cell_type": "code",
   "execution_count": 19,
   "metadata": {},
   "outputs": [
    {
     "data": {
      "text/plain": "   # This is Big Mart Sales Data   Unnamed: 1        Unnamed: 2  \\\n0  # This is Big Mart Sales Data          NaN               NaN   \n1  # This is Big Mart Sales Data          NaN               NaN   \n2                Item_Identifier  Item_Weight  Item_Fat_Content   \n3                          FDA15          9.3           Low Fat   \n4                          DRC01         5.92           Regular   \n\n        Unnamed: 3   Unnamed: 4 Unnamed: 5         Unnamed: 6  \\\n0              NaN          NaN        NaN                NaN   \n1              NaN          NaN        NaN                NaN   \n2  Item_Visibility    Item_Type   Item_MRP  Outlet_Identifier   \n3         0.016047        Dairy   249.8092             OUT049   \n4         0.019278  Soft Drinks    48.2692             OUT018   \n\n                  Unnamed: 7   Unnamed: 8            Unnamed: 9  \\\n0                        NaN          NaN                   NaN   \n1                        NaN          NaN                   NaN   \n2  Outlet_Establishment_Year  Outlet_Size  Outlet_Location_Type   \n3                       1999       Medium                Tier 1   \n4                       2009       Medium                Tier 3   \n\n         Unnamed: 10        Unnamed: 11  \n0                NaN                NaN  \n1                NaN                NaN  \n2        Outlet_Type  Item_Outlet_Sales  \n3  Supermarket Type1           3735.138  \n4  Supermarket Type2           443.4228  ",
      "text/html": "<div>\n<style scoped>\n    .dataframe tbody tr th:only-of-type {\n        vertical-align: middle;\n    }\n\n    .dataframe tbody tr th {\n        vertical-align: top;\n    }\n\n    .dataframe thead th {\n        text-align: right;\n    }\n</style>\n<table border=\"1\" class=\"dataframe\">\n  <thead>\n    <tr style=\"text-align: right;\">\n      <th></th>\n      <th># This is Big Mart Sales Data</th>\n      <th>Unnamed: 1</th>\n      <th>Unnamed: 2</th>\n      <th>Unnamed: 3</th>\n      <th>Unnamed: 4</th>\n      <th>Unnamed: 5</th>\n      <th>Unnamed: 6</th>\n      <th>Unnamed: 7</th>\n      <th>Unnamed: 8</th>\n      <th>Unnamed: 9</th>\n      <th>Unnamed: 10</th>\n      <th>Unnamed: 11</th>\n    </tr>\n  </thead>\n  <tbody>\n    <tr>\n      <th>0</th>\n      <td># This is Big Mart Sales Data</td>\n      <td>NaN</td>\n      <td>NaN</td>\n      <td>NaN</td>\n      <td>NaN</td>\n      <td>NaN</td>\n      <td>NaN</td>\n      <td>NaN</td>\n      <td>NaN</td>\n      <td>NaN</td>\n      <td>NaN</td>\n      <td>NaN</td>\n    </tr>\n    <tr>\n      <th>1</th>\n      <td># This is Big Mart Sales Data</td>\n      <td>NaN</td>\n      <td>NaN</td>\n      <td>NaN</td>\n      <td>NaN</td>\n      <td>NaN</td>\n      <td>NaN</td>\n      <td>NaN</td>\n      <td>NaN</td>\n      <td>NaN</td>\n      <td>NaN</td>\n      <td>NaN</td>\n    </tr>\n    <tr>\n      <th>2</th>\n      <td>Item_Identifier</td>\n      <td>Item_Weight</td>\n      <td>Item_Fat_Content</td>\n      <td>Item_Visibility</td>\n      <td>Item_Type</td>\n      <td>Item_MRP</td>\n      <td>Outlet_Identifier</td>\n      <td>Outlet_Establishment_Year</td>\n      <td>Outlet_Size</td>\n      <td>Outlet_Location_Type</td>\n      <td>Outlet_Type</td>\n      <td>Item_Outlet_Sales</td>\n    </tr>\n    <tr>\n      <th>3</th>\n      <td>FDA15</td>\n      <td>9.3</td>\n      <td>Low Fat</td>\n      <td>0.016047</td>\n      <td>Dairy</td>\n      <td>249.8092</td>\n      <td>OUT049</td>\n      <td>1999</td>\n      <td>Medium</td>\n      <td>Tier 1</td>\n      <td>Supermarket Type1</td>\n      <td>3735.138</td>\n    </tr>\n    <tr>\n      <th>4</th>\n      <td>DRC01</td>\n      <td>5.92</td>\n      <td>Regular</td>\n      <td>0.019278</td>\n      <td>Soft Drinks</td>\n      <td>48.2692</td>\n      <td>OUT018</td>\n      <td>2009</td>\n      <td>Medium</td>\n      <td>Tier 3</td>\n      <td>Supermarket Type2</td>\n      <td>443.4228</td>\n    </tr>\n  </tbody>\n</table>\n</div>"
     },
     "execution_count": 19,
     "metadata": {},
     "output_type": "execute_result"
    }
   ],
   "source": [
    "# top rows of the data\n",
    "sheet_with_comments.head()"
   ]
  },
  {
   "cell_type": "code",
   "execution_count": 20,
   "metadata": {},
   "outputs": [],
   "source": [
    "# read the data with skiprows\n",
    "sheet_with_comments = pd.read_excel('datasets/big_mart_sales_comments.xlsx',skiprows=3)"
   ]
  },
  {
   "cell_type": "code",
   "execution_count": 21,
   "metadata": {},
   "outputs": [
    {
     "data": {
      "text/plain": "  Item_Identifier  Item_Weight Item_Fat_Content  Item_Visibility  \\\n0           FDA15         9.30          Low Fat         0.016047   \n1           DRC01         5.92          Regular         0.019278   \n2           FDN15        17.50          Low Fat         0.016760   \n3           FDX07        19.20          Regular         0.000000   \n4           NCD19         8.93          Low Fat         0.000000   \n\n               Item_Type  Item_MRP Outlet_Identifier  \\\n0                  Dairy  249.8092            OUT049   \n1            Soft Drinks   48.2692            OUT018   \n2                   Meat  141.6180            OUT049   \n3  Fruits and Vegetables  182.0950            OUT010   \n4              Household   53.8614            OUT013   \n\n   Outlet_Establishment_Year Outlet_Size Outlet_Location_Type  \\\n0                       1999      Medium               Tier 1   \n1                       2009      Medium               Tier 3   \n2                       1999      Medium               Tier 1   \n3                       1998         NaN               Tier 3   \n4                       1987        High               Tier 3   \n\n         Outlet_Type  Item_Outlet_Sales  \n0  Supermarket Type1          3735.1380  \n1  Supermarket Type2           443.4228  \n2  Supermarket Type1          2097.2700  \n3      Grocery Store           732.3800  \n4  Supermarket Type1           994.7052  ",
      "text/html": "<div>\n<style scoped>\n    .dataframe tbody tr th:only-of-type {\n        vertical-align: middle;\n    }\n\n    .dataframe tbody tr th {\n        vertical-align: top;\n    }\n\n    .dataframe thead th {\n        text-align: right;\n    }\n</style>\n<table border=\"1\" class=\"dataframe\">\n  <thead>\n    <tr style=\"text-align: right;\">\n      <th></th>\n      <th>Item_Identifier</th>\n      <th>Item_Weight</th>\n      <th>Item_Fat_Content</th>\n      <th>Item_Visibility</th>\n      <th>Item_Type</th>\n      <th>Item_MRP</th>\n      <th>Outlet_Identifier</th>\n      <th>Outlet_Establishment_Year</th>\n      <th>Outlet_Size</th>\n      <th>Outlet_Location_Type</th>\n      <th>Outlet_Type</th>\n      <th>Item_Outlet_Sales</th>\n    </tr>\n  </thead>\n  <tbody>\n    <tr>\n      <th>0</th>\n      <td>FDA15</td>\n      <td>9.30</td>\n      <td>Low Fat</td>\n      <td>0.016047</td>\n      <td>Dairy</td>\n      <td>249.8092</td>\n      <td>OUT049</td>\n      <td>1999</td>\n      <td>Medium</td>\n      <td>Tier 1</td>\n      <td>Supermarket Type1</td>\n      <td>3735.1380</td>\n    </tr>\n    <tr>\n      <th>1</th>\n      <td>DRC01</td>\n      <td>5.92</td>\n      <td>Regular</td>\n      <td>0.019278</td>\n      <td>Soft Drinks</td>\n      <td>48.2692</td>\n      <td>OUT018</td>\n      <td>2009</td>\n      <td>Medium</td>\n      <td>Tier 3</td>\n      <td>Supermarket Type2</td>\n      <td>443.4228</td>\n    </tr>\n    <tr>\n      <th>2</th>\n      <td>FDN15</td>\n      <td>17.50</td>\n      <td>Low Fat</td>\n      <td>0.016760</td>\n      <td>Meat</td>\n      <td>141.6180</td>\n      <td>OUT049</td>\n      <td>1999</td>\n      <td>Medium</td>\n      <td>Tier 1</td>\n      <td>Supermarket Type1</td>\n      <td>2097.2700</td>\n    </tr>\n    <tr>\n      <th>3</th>\n      <td>FDX07</td>\n      <td>19.20</td>\n      <td>Regular</td>\n      <td>0.000000</td>\n      <td>Fruits and Vegetables</td>\n      <td>182.0950</td>\n      <td>OUT010</td>\n      <td>1998</td>\n      <td>NaN</td>\n      <td>Tier 3</td>\n      <td>Grocery Store</td>\n      <td>732.3800</td>\n    </tr>\n    <tr>\n      <th>4</th>\n      <td>NCD19</td>\n      <td>8.93</td>\n      <td>Low Fat</td>\n      <td>0.000000</td>\n      <td>Household</td>\n      <td>53.8614</td>\n      <td>OUT013</td>\n      <td>1987</td>\n      <td>High</td>\n      <td>Tier 3</td>\n      <td>Supermarket Type1</td>\n      <td>994.7052</td>\n    </tr>\n  </tbody>\n</table>\n</div>"
     },
     "execution_count": 21,
     "metadata": {},
     "output_type": "execute_result"
    }
   ],
   "source": [
    "# view the top rows of the data\n",
    "sheet_with_comments.head()"
   ]
  },
  {
   "cell_type": "markdown",
   "metadata": {},
   "source": [
    "---\n",
    "\n",
    "### `ASSIGNMENT: READ FILES FROM MULTIPLE DIRECTORIES` \n",
    "\n",
    "As you have seen in the last notebook, we read csv files from multiple directories using the glob. Use the glob to read the multiple directories to read the files from the folder `multi-directory-excel`\n",
    "\n",
    "---"
   ]
  },
  {
   "cell_type": "code",
   "execution_count": 23,
   "metadata": {},
   "outputs": [],
   "source": [
    "# write your code here\n",
    "# import glob library\n",
    "import glob\n"
   ]
  },
  {
   "cell_type": "code",
   "execution_count": 24,
   "outputs": [
    {
     "name": "stdout",
     "output_type": "stream",
     "text": [
      "datasets/multi-directory-excel\\1985\n",
      "datasets/multi-directory-excel\\1987\n",
      "datasets/multi-directory-excel\\1997\n",
      "datasets/multi-directory-excel\\1998\n",
      "datasets/multi-directory-excel\\1999\n",
      "datasets/multi-directory-excel\\2002\n",
      "datasets/multi-directory-excel\\2004\n",
      "datasets/multi-directory-excel\\2007\n",
      "datasets/multi-directory-excel\\2009\n"
     ]
    }
   ],
   "source": [
    "for directory in glob.glob('datasets/multi-directory-excel/*'):\n",
    "    print(directory)\n"
   ],
   "metadata": {
    "collapsed": false
   }
  },
  {
   "cell_type": "code",
   "execution_count": 25,
   "outputs": [],
   "source": [
    "# Now, each of the folders 1985, 1987, 1997, 1998, 1999, 2002, 2004, 2007 and 2009 contains CSV. We will iterate through each of them and concatenate the files.\n"
   ],
   "metadata": {
    "collapsed": false
   }
  },
  {
   "cell_type": "code",
   "execution_count": 26,
   "outputs": [
    {
     "name": "stdout",
     "output_type": "stream",
     "text": [
      "datasets/multi-directory-excel\\1985\\1985.xlsx\n",
      "datasets/multi-directory-excel\\1987\\1987.xlsx\n",
      "datasets/multi-directory-excel\\1997\\1997.xlsx\n",
      "datasets/multi-directory-excel\\1998\\1998.xlsx\n",
      "datasets/multi-directory-excel\\1999\\1999.xlsx\n",
      "datasets/multi-directory-excel\\2002\\2002.xlsx\n",
      "datasets/multi-directory-excel\\2004\\2004.xlsx\n",
      "datasets/multi-directory-excel\\2007\\2007.xlsx\n",
      "datasets/multi-directory-excel\\2009\\2009.xlsx\n"
     ]
    }
   ],
   "source": [
    "for directory in glob.glob('datasets/multi-directory-excel/*'):\n",
    "    # print(directory)\n",
    "    for items in glob.glob(directory+'/*'):\n",
    "        print(items)\n",
    "\n"
   ],
   "metadata": {
    "collapsed": false
   }
  },
  {
   "cell_type": "code",
   "execution_count": 28,
   "outputs": [],
   "source": [
    "# list to store the data_frame\n",
    "df_list = []\n",
    "# iterate through each folder\n",
    "for directory in glob.glob('datasets/multi-directory-excel/*'):\n",
    "    for items in glob.glob(directory + '/*'):\n",
    "        df_list.append(pd.read_excel(items))\n"
   ],
   "metadata": {
    "collapsed": false
   }
  },
  {
   "cell_type": "code",
   "execution_count": 29,
   "outputs": [
    {
     "data": {
      "text/plain": "[     Item_Identifier  Item_Weight Item_Fat_Content  Item_Visibility  \\\n 0              FDP10          NaN          Low Fat         0.127470   \n 1              DRI11          NaN          Low Fat         0.034238   \n 2              FDW12          NaN          Regular         0.035400   \n 3              FDC37          NaN          Low Fat         0.057557   \n 4              FDC14          NaN          Regular         0.072222   \n ...              ...          ...              ...              ...   \n 1458           DRK37          NaN          Low Fat         0.043792   \n 1459           DRG13          NaN          Low Fat         0.037006   \n 1460           NCN14          NaN          Low Fat         0.091473   \n 1461           FDU44          NaN          Regular         0.102296   \n 1462           NCN18          NaN          Low Fat         0.124111   \n \n                   Item_Type     Item_MRP Outlet_Identifier  \\\n 0               Snack Foods     107.7622            OUT027   \n 1               Hard Drinks     113.2834            OUT027   \n 2              Baking Goods     144.5444            OUT027   \n 3              Baking Goods     107.6938            OUT019   \n 4                    Canned      43.6454            OUT019   \n ...                     ...          ...               ...   \n 1458            Soft Drinks  189053.0000            OUT027   \n 1459            Soft Drinks     164.7526            OUT027   \n 1460                 Others     184.6608            OUT027   \n 1461  Fruits and Vegetables     162.3552            OUT019   \n 1462              Household     111.7544            OUT027   \n \n       Outlet_Establishment_Year Outlet_Size Outlet_Location_Type  \\\n 0                          1985      Medium               Tier 3   \n 1                          1985      Medium               Tier 3   \n 2                          1985      Medium               Tier 3   \n 3                          1985       Small               Tier 1   \n 4                          1985       Small               Tier 1   \n ...                         ...         ...                  ...   \n 1458                       1985      Medium               Tier 3   \n 1459                       1985      Medium               Tier 3   \n 1460                       1985      Medium               Tier 3   \n 1461                       1985       Small               Tier 1   \n 1462                       1985      Medium               Tier 3   \n \n             Outlet_Type  Item_Outlet_Sales  \n 0     Supermarket Type3       4.022764e+03  \n 1     Supermarket Type3       2.303668e+03  \n 2     Supermarket Type3       4.064043e+03  \n 3         Grocery Store       2.143876e+02  \n 4         Grocery Store       1.258362e+02  \n ...                 ...                ...  \n 1458  Supermarket Type3       6.261849e+06  \n 1459  Supermarket Type3       4.111315e+06  \n 1460  Supermarket Type3       2.756412e+03  \n 1461      Grocery Store       4.873656e+02  \n 1462  Supermarket Type3       4.138613e+03  \n \n [1463 rows x 12 columns],\n     Item_Identifier  Item_Weight Item_Fat_Content  Item_Visibility  \\\n 0             NCD19         8.93          Low Fat         0.000000   \n 1             FDO10        13.65          Regular         0.012741   \n 2             FDF32        16.35          Low Fat         0.068024   \n 3             FDN22        18.85          Regular         0.138190   \n 4             DRJ59        11.65          low fat         0.019356   \n ..              ...          ...              ...              ...   \n 927           FDQ31      5785.00          Regular         0.053802   \n 928           FDJ32     10695.00          Low Fat         0.057744   \n 929           DRJ49      6865.00          Low Fat         0.000000   \n 930           FDR26        20.70          Low Fat         0.042801   \n 931           FDF22      6865.00          Low Fat         0.056783   \n \n                  Item_Type  Item_MRP Outlet_Identifier  \\\n 0                Household   53.8614            OUT013   \n 1              Snack Foods   57.6588            OUT013   \n 2    Fruits and Vegetables  196.4426            OUT013   \n 3              Snack Foods  250.8724            OUT013   \n 4              Hard Drinks   39.1164            OUT013   \n ..                     ...       ...               ...   \n 927  Fruits and Vegetables   85.9856            OUT013   \n 928  Fruits and Vegetables   61.2536            OUT013   \n 929            Soft Drinks  129.9652            OUT013   \n 930                  Dairy  178.3028            OUT013   \n 931            Snack Foods  214.5218            OUT013   \n \n      Outlet_Establishment_Year Outlet_Size Outlet_Location_Type  \\\n 0                         1987        High               Tier 3   \n 1                         1987        High               Tier 3   \n 2                         1987        High               Tier 3   \n 3                         1987        High               Tier 3   \n 4                         1987        High               Tier 3   \n ..                         ...         ...                  ...   \n 927                       1987        High               Tier 3   \n 928                       1987        High               Tier 3   \n 929                       1987        High               Tier 3   \n 930                       1987        High               Tier 3   \n 931                       1987        High               Tier 3   \n \n            Outlet_Type  Item_Outlet_Sales  \n 0    Supermarket Type1       9.947052e+02  \n 1    Supermarket Type1       3.435528e+02  \n 2    Supermarket Type1       1.977426e+03  \n 3    Supermarket Type1       3.775086e+06  \n 4    Supermarket Type1       3.089312e+02  \n ..                 ...                ...  \n 927  Supermarket Type1       1.494055e+03  \n 928  Supermarket Type1       6.737896e+02  \n 929  Supermarket Type1       2.324974e+03  \n 930  Supermarket Type1       2.479439e+03  \n 931  Supermarket Type1       2.778383e+03  \n \n [932 rows x 12 columns],\n     Item_Identifier  Item_Weight Item_Fat_Content  Item_Visibility  \\\n 0             FDA03        18.50          Regular         0.045464   \n 1             FDS46        17.60          Regular         0.047257   \n 2             FDP49         9.00          Regular         0.069089   \n 3             FDR28        13.85          Regular         0.025896   \n 4             DRH01        17.50          Low Fat         0.097904   \n ..              ...          ...              ...              ...   \n 925           FDC28      7905.00          Low Fat         0.054987   \n 926           FDB17        13.15          Low Fat         0.036672   \n 927           FDT34         9.30          Low Fat         0.174350   \n 928           FDF53        20.75              reg         0.083607   \n 929           DRG01        14.80          Low Fat         0.044878   \n \n         Item_Type     Item_MRP Outlet_Identifier  Outlet_Establishment_Year  \\\n 0           Dairy     144.1102            OUT046                       1997   \n 1     Snack Foods     119.6782            OUT046                       1997   \n 2       Breakfast      56.3614            OUT046                       1997   \n 3    Frozen Foods  165021.0000            OUT046                       1997   \n 4     Soft Drinks     174.8738            OUT046                       1997   \n ..            ...          ...               ...                        ...   \n 925  Frozen Foods     108.6254            OUT046                       1997   \n 926  Frozen Foods     182.5976            OUT046                       1997   \n 927   Snack Foods     104.4964            OUT046                       1997   \n 928  Frozen Foods     178.8318            OUT046                       1997   \n 929   Soft Drinks   75467.0000            OUT046                       1997   \n \n     Outlet_Size Outlet_Location_Type        Outlet_Type  Item_Outlet_Sales  \n 0         Small               Tier 1  Supermarket Type1       2.187153e+06  \n 1         Small               Tier 1  Supermarket Type1       2.145208e+03  \n 2         Small               Tier 1  Supermarket Type1       1.547319e+03  \n 3         Small               Tier 1  Supermarket Type1       4.078025e+06  \n 4         Small               Tier 1  Supermarket Type1       2.085286e+03  \n ..          ...                  ...                ...                ...  \n 925       Small               Tier 1  Supermarket Type1       1.844932e+03  \n 926       Small               Tier 1  Supermarket Type1       4.165245e+03  \n 927       Small               Tier 1  Supermarket Type1       2.419517e+03  \n 928       Small               Tier 1  Supermarket Type1       3.608636e+06  \n 929       Small               Tier 1  Supermarket Type1       7.656700e+02  \n \n [930 rows x 12 columns],\n     Item_Identifier  Item_Weight Item_Fat_Content  Item_Visibility  \\\n 0             FDX07        19.20          Regular         0.000000   \n 1             FDE51      5925.00          Regular         0.161467   \n 2             FDV38        19.25          Low Fat         0.170349   \n 3             FDM39         6.42               LF         0.089499   \n 4             FDC46        17.70               LF         0.195068   \n ..              ...          ...              ...              ...   \n 550           NCE07         8.18          Low Fat         0.021977   \n 551           FDI16        14.00          Regular         0.227261   \n 552           DRI47        14.70          Low Fat         0.035016   \n 553           FDR20        20.00          Regular         0.000000   \n 554           FDG45         8.10          Low Fat         0.214306   \n \n                  Item_Type     Item_MRP Outlet_Identifier  \\\n 0    Fruits and Vegetables  182095.0000            OUT010   \n 1                    Dairy      45.5086            OUT010   \n 2                    Dairy      55.7956            OUT010   \n 3                    Dairy     178.1002            OUT010   \n 4              Snack Foods     185.4266            OUT010   \n ..                     ...          ...               ...   \n 550              Household     140.6154            OUT010   \n 551           Frozen Foods   54364.0000            OUT010   \n 552            Hard Drinks     144.3128            OUT010   \n 553  Fruits and Vegetables      46.4744            OUT010   \n 554  Fruits and Vegetables     213.9902            OUT010   \n \n      Outlet_Establishment_Year  Outlet_Size Outlet_Location_Type  \\\n 0                         1998          NaN               Tier 3   \n 1                         1998          NaN               Tier 3   \n 2                         1998          NaN               Tier 3   \n 3                         1998          NaN               Tier 3   \n 4                         1998          NaN               Tier 3   \n ..                         ...          ...                  ...   \n 550                       1998          NaN               Tier 3   \n 551                       1998          NaN               Tier 3   \n 552                       1998          NaN               Tier 3   \n 553                       1998          NaN               Tier 3   \n 554                       1998          NaN               Tier 3   \n \n        Outlet_Type  Item_Outlet_Sales  \n 0    Grocery Store           732.3800  \n 1    Grocery Store           178.4344  \n 2    Grocery Store           163.7868  \n 3    Grocery Store           358.2004  \n 4    Grocery Store           184.4266  \n ..             ...                ...  \n 550  Grocery Store           425.4462  \n 551  Grocery Store        159792.0000  \n 552  Grocery Store           431.4384  \n 553  Grocery Store            45.2744  \n 554  Grocery Store           424.7804  \n \n [555 rows x 12 columns],\n     Item_Identifier  Item_Weight Item_Fat_Content  Item_Visibility  \\\n 0             FDA15         9.30          Low Fat         0.016047   \n 1             FDN15        17.50          Low Fat         0.016760   \n 2             FDY07        11.80          Low Fat         0.000000   \n 3             FDX32        15.10          Regular         0.100014   \n 4             FDP49         9.00          Regular         0.069196   \n ..              ...          ...              ...              ...   \n 925           FDK21      7905.00          Low Fat         0.010028   \n 926           FDV31         9.80               LF         0.000000   \n 927           FDW27         5.86          Regular         0.151088   \n 928           NCS17        18.60          Low Fat         0.080627   \n 929           FDL10      8395.00          Low Fat         0.039554   \n \n                  Item_Type     Item_MRP Outlet_Identifier  \\\n 0                    Dairy     249.8092            OUT049   \n 1                     Meat  141618.0000            OUT049   \n 2    Fruits and Vegetables      45.5402            OUT049   \n 3    Fruits and Vegetables     145.4786            OUT049   \n 4                Breakfast      54.3614            OUT049   \n ..                     ...          ...               ...   \n 925            Snack Foods     249.6408            OUT049   \n 926  Fruits and Vegetables  175237.0000            OUT049   \n 927                   Meat     155.1314            OUT049   \n 928     Health and Hygiene      92.5436            OUT049   \n 929            Snack Foods      99.1042            OUT049   \n \n      Outlet_Establishment_Year Outlet_Size Outlet_Location_Type  \\\n 0                         1999      Medium               Tier 1   \n 1                         1999      Medium               Tier 1   \n 2                         1999      Medium               Tier 1   \n 3                         1999      Medium               Tier 1   \n 4                         1999      Medium               Tier 1   \n ..                         ...         ...                  ...   \n 925                       1999      Medium               Tier 1   \n 926                       1999      Medium               Tier 1   \n 927                       1999      Medium               Tier 1   \n 928                       1999      Medium               Tier 1   \n 929                       1999      Medium               Tier 1   \n \n            Outlet_Type  Item_Outlet_Sales  \n 0    Supermarket Type1       3.735138e+06  \n 1    Supermarket Type1       2.097270e+03  \n 2    Supermarket Type1       1.516027e+03  \n 3    Supermarket Type1       1.589265e+03  \n 4    Supermarket Type1       7.183982e+02  \n ..                 ...                ...  \n 925  Supermarket Type1       3.254430e+03  \n 926  Supermarket Type1       3.881614e+06  \n 927  Supermarket Type1       1.551314e+03  \n 928  Supermarket Type1       3.781744e+02  \n 929  Supermarket Type1       2.579309e+03  \n \n [930 rows x 12 columns],\n     Item_Identifier  Item_Weight Item_Fat_Content  Item_Visibility  \\\n 0             FDH17        16.20          Regular         0.016687   \n 1             FDO23        17.85          Low Fat         0.000000   \n 2             NCP05        19.60          Low Fat         0.000000   \n 3             FDV49        10.00          Low Fat         0.025880   \n 4             NCX54      9195.00          Low Fat         0.048157   \n ..              ...          ...              ...              ...   \n 924           DRI11         8.26          Low Fat         0.034474   \n 925           NCH43         8.42          Low Fat         0.070712   \n 926           FDW31        11.35          Regular         0.043246   \n 927           FDA01        15.00          Regular         0.054489   \n 928           FDS36         8.38          Regular         0.046982   \n \n                  Item_Type  Item_MRP Outlet_Identifier  \\\n 0             Frozen Foods   96.9726            OUT045   \n 1                   Breads   93.1436            OUT045   \n 2       Health and Hygiene  153.3024            OUT045   \n 3                   Canned  265.2226            OUT045   \n 4                Household  106.1622            OUT045   \n ..                     ...       ...               ...   \n 924            Hard Drinks  117.0834            OUT045   \n 925              Household  216.4192            OUT045   \n 926  Fruits and Vegetables  199.4742            OUT045   \n 927                 Canned   57.5904            OUT045   \n 928           Baking Goods  108.1570            OUT045   \n \n      Outlet_Establishment_Year  Outlet_Size Outlet_Location_Type  \\\n 0                         2002          NaN               Tier 2   \n 1                         2002          NaN               Tier 2   \n 2                         2002          NaN               Tier 2   \n 3                         2002          NaN               Tier 2   \n 4                         2002          NaN               Tier 2   \n ..                         ...          ...                  ...   \n 924                       2002          NaN               Tier 2   \n 925                       2002          NaN               Tier 2   \n 926                       2002          NaN               Tier 2   \n 927                       2002          NaN               Tier 2   \n 928                       2002          NaN               Tier 2   \n \n            Outlet_Type  Item_Outlet_Sales  \n 0    Supermarket Type1       1.076599e+03  \n 1    Supermarket Type1       2.174503e+03  \n 2    Supermarket Type1       2.428838e+03  \n 3    Supermarket Type1       5.815097e+03  \n 4    Supermarket Type1       2.117244e+06  \n ..                 ...                ...  \n 924  Supermarket Type1       1.612568e+03  \n 925  Supermarket Type1       3.020069e+03  \n 926  Supermarket Type1       2.587965e+03  \n 927  Supermarket Type1       4.687232e+02  \n 928  Supermarket Type1       5.492850e+05  \n \n [929 rows x 12 columns],\n     Item_Identifier  Item_Weight Item_Fat_Content  Item_Visibility  \\\n 0             FDU02        13.35          Low Fat         0.102492   \n 1             NCB30        14.60          Low Fat         0.025698   \n 2             FDV10      7645.00          Regular         0.066693   \n 3             FDH19        19.35          Low Fat         0.033082   \n 4             FDZ55      6055.00          Low Fat         0.025404   \n ..              ...          ...              ...              ...   \n 925           FDQ44        20.50          Low Fat         0.036133   \n 926           FDN28         5.88          Regular         0.030242   \n 927           FDN58        13.80          Regular         0.056862   \n 928           FDH31        12.00          Regular         0.020407   \n 929           NCJ29        10.60          Low Fat         0.035186   \n \n                  Item_Type  Item_MRP Outlet_Identifier  \\\n 0                    Dairy  230.5352            OUT035   \n 1                Household  196.5084            OUT035   \n 2              Snack Foods   42.3112            OUT035   \n 3                     Meat  172.5738            OUT035   \n 4    Fruits and Vegetables  160.9920            OUT035   \n ..                     ...       ...               ...   \n 925  Fruits and Vegetables  120.1756            OUT035   \n 926           Frozen Foods  101.7990            OUT035   \n 927            Snack Foods  231.5984            OUT035   \n 928                   Meat   99.9042            OUT035   \n 929     Health and Hygiene   85.1224            OUT035   \n \n      Outlet_Establishment_Year Outlet_Size Outlet_Location_Type  \\\n 0                         2004       Small               Tier 2   \n 1                         2004       Small               Tier 2   \n 2                         2004       Small               Tier 2   \n 3                         2004       Small               Tier 2   \n 4                         2004       Small               Tier 2   \n ..                         ...         ...                  ...   \n 925                       2004       Small               Tier 2   \n 926                       2004       Small               Tier 2   \n 927                       2004       Small               Tier 2   \n 928                       2004       Small               Tier 2   \n 929                       2004       Small               Tier 2   \n \n            Outlet_Type  Item_Outlet_Sales  \n 0    Supermarket Type1          2748.4224  \n 1    Supermarket Type1          1587.2672  \n 2    Supermarket Type1          1065.2800  \n 3    Supermarket Type1          4865.6664  \n 4    Supermarket Type1          2716.4640  \n ..                 ...                ...  \n 925  Supermarket Type1          3392.9168  \n 926  Supermarket Type1        515995.0000  \n 927  Supermarket Type1          7182.6504  \n 928  Supermarket Type1           595.2252  \n 929  Supermarket Type1          1193.1136  \n \n [930 rows x 12 columns],\n     Item_Identifier  Item_Weight Item_Fat_Content  Item_Visibility  \\\n 0             FDU28        19.20          Regular         0.094450   \n 1             NCD06        13.00          Low Fat         0.099887   \n 2             FDA43     10895.00          Low Fat         0.065042   \n 3             NCP18        12.15          Low Fat         0.028760   \n 4             FDG02      7855.00          Low Fat         0.011325   \n ..              ...          ...              ...              ...   \n 921           FDP21         7.42          Regular         0.025886   \n 922           NCI54        15.20          Low Fat         0.000000   \n 923           FDJ57         7.42          Regular         0.021696   \n 924           NCQ42        20.35          Low Fat         0.000000   \n 925           FDW21         5.34          Regular         0.005998   \n \n                  Item_Type  Item_MRP Outlet_Identifier  \\\n 0             Frozen Foods  187.8214            OUT017   \n 1                Household   45.9060            OUT017   \n 2    Fruits and Vegetables  196.3794            OUT017   \n 3                Household  151.4708            OUT017   \n 4                   Canned  189.6188            OUT017   \n ..                     ...       ...               ...   \n 921            Snack Foods  189.1872            OUT017   \n 922              Household  110.4912            OUT017   \n 923                Seafood  185.3582            OUT017   \n 924              Household  125.1678            OUT017   \n 925            Snack Foods  100.4358            OUT017   \n \n      Outlet_Establishment_Year  Outlet_Size Outlet_Location_Type  \\\n 0                         2007          NaN               Tier 2   \n 1                         2007          NaN               Tier 2   \n 2                         2007          NaN               Tier 2   \n 3                         2007          NaN               Tier 2   \n 4                         2007          NaN               Tier 2   \n ..                         ...          ...                  ...   \n 921                       2007          NaN               Tier 2   \n 922                       2007          NaN               Tier 2   \n 923                       2007          NaN               Tier 2   \n 924                       2007          NaN               Tier 2   \n 925                       2007          NaN               Tier 2   \n \n            Outlet_Type  Item_Outlet_Sales  \n 0    Supermarket Type1       4.710535e+06  \n 1    Supermarket Type1       8.389080e+05  \n 2    Supermarket Type1       3.121270e+03  \n 3    Supermarket Type1       4.815066e+03  \n 4    Supermarket Type1       2.285026e+03  \n ..                 ...                ...  \n 921  Supermarket Type1       4.727180e+03  \n 922  Supermarket Type1       1.637868e+06  \n 923  Supermarket Type1       3.715164e+06  \n 924  Supermarket Type1       1.907517e+06  \n 925  Supermarket Type1       1.508037e+06  \n \n [926 rows x 12 columns],\n     Item_Identifier  Item_Weight Item_Fat_Content  Item_Visibility  \\\n 0             DRC01         5.92          Regular         0.019278   \n 1             FDP36     10395.00          Regular         0.000000   \n 2             NCB42        11.80          Low Fat         0.008596   \n 3             NCS17        18.60          Low Fat         0.080829   \n 4             FDP33        18.70          Low Fat         0.000000   \n ..              ...          ...              ...              ...   \n 923           DRF37        17.25          Low Fat         0.084676   \n 924           FDF05        17.50          Low Fat         0.026980   \n 925           FDH24        20.70          Low Fat         0.021518   \n 926           NCJ19        18.60          Low Fat         0.118661   \n 927           FDN46         7.21          Regular         0.145221   \n \n               Item_Type     Item_MRP Outlet_Identifier  \\\n 0           Soft Drinks      48.2692            OUT018   \n 1          Baking Goods      51.4008            OUT018   \n 2    Health and Hygiene     115.3492            OUT018   \n 3    Health and Hygiene      96.4436            OUT018   \n 4           Snack Foods     256.6672            OUT018   \n ..                  ...          ...               ...   \n 923         Soft Drinks  263191.0000            OUT018   \n 924        Frozen Foods  262591.0000            OUT018   \n 925        Baking Goods     157.5288            OUT018   \n 926              Others      58.7588            OUT018   \n 927         Snack Foods     103.1332            OUT018   \n \n      Outlet_Establishment_Year Outlet_Size Outlet_Location_Type  \\\n 0                         2009      Medium               Tier 3   \n 1                         2009      Medium               Tier 3   \n 2                         2009      Medium               Tier 3   \n 3                         2009      Medium               Tier 3   \n 4                         2009      Medium               Tier 3   \n ..                         ...         ...                  ...   \n 923                       2009      Medium               Tier 3   \n 924                       2009      Medium               Tier 3   \n 925                       2009      Medium               Tier 3   \n 926                       2009      Medium               Tier 3   \n 927                       2009      Medium               Tier 3   \n \n            Outlet_Type  Item_Outlet_Sales  \n 0    Supermarket Type2       4.434228e+02  \n 1    Supermarket Type2       5.566088e+02  \n 2    Supermarket Type2       1.621889e+03  \n 3    Supermarket Type2       2.741764e+03  \n 4    Supermarket Type2       3.068006e+03  \n ..                 ...                ...  \n 923  Supermarket Type2       3.944865e+06  \n 924  Supermarket Type2       4.207856e+06  \n 925  Supermarket Type2       1.571288e+03  \n 926  Supermarket Type2       8.588820e+05  \n 927  Supermarket Type2       1.845598e+03  \n \n [928 rows x 12 columns]]"
     },
     "execution_count": 29,
     "metadata": {},
     "output_type": "execute_result"
    }
   ],
   "source": [
    "# concatenate the dataframes\n",
    "\n"
   ],
   "metadata": {
    "collapsed": false
   }
  },
  {
   "cell_type": "code",
   "execution_count": 46,
   "outputs": [],
   "source": [
    "final_df = pd.concat(df_list)\n"
   ],
   "metadata": {
    "collapsed": false
   }
  },
  {
   "cell_type": "code",
   "execution_count": 47,
   "outputs": [],
   "source": [
    "final_df.to_excel('datasets/merged_big_mart_sales.xlsx', index=False)\n"
   ],
   "metadata": {
    "collapsed": false
   }
  },
  {
   "cell_type": "code",
   "execution_count": 48,
   "outputs": [],
   "source": [
    "merged_df = pd.read_excel('datasets/merged_big_mart_sales.xlsx')\n"
   ],
   "metadata": {
    "collapsed": false
   }
  },
  {
   "cell_type": "code",
   "execution_count": 49,
   "outputs": [
    {
     "data": {
      "text/plain": "     Item_Identifier  Item_Weight Item_Fat_Content  Item_Visibility  \\\n0              FDP10          NaN          Low Fat         0.127470   \n1              DRI11          NaN          Low Fat         0.034238   \n2              FDW12          NaN          Regular         0.035400   \n3              FDC37          NaN          Low Fat         0.057557   \n4              FDC14          NaN          Regular         0.072222   \n...              ...          ...              ...              ...   \n8518           DRF37        17.25          Low Fat         0.084676   \n8519           FDF05        17.50          Low Fat         0.026980   \n8520           FDH24        20.70          Low Fat         0.021518   \n8521           NCJ19        18.60          Low Fat         0.118661   \n8522           FDN46         7.21          Regular         0.145221   \n\n         Item_Type     Item_MRP Outlet_Identifier  Outlet_Establishment_Year  \\\n0      Snack Foods     107.7622            OUT027                       1985   \n1      Hard Drinks     113.2834            OUT027                       1985   \n2     Baking Goods     144.5444            OUT027                       1985   \n3     Baking Goods     107.6938            OUT019                       1985   \n4           Canned      43.6454            OUT019                       1985   \n...            ...          ...               ...                        ...   \n8518   Soft Drinks  263191.0000            OUT018                       2009   \n8519  Frozen Foods  262591.0000            OUT018                       2009   \n8520  Baking Goods     157.5288            OUT018                       2009   \n8521        Others      58.7588            OUT018                       2009   \n8522   Snack Foods     103.1332            OUT018                       2009   \n\n     Outlet_Size Outlet_Location_Type        Outlet_Type  Item_Outlet_Sales  \n0         Medium               Tier 3  Supermarket Type3       4.022764e+03  \n1         Medium               Tier 3  Supermarket Type3       2.303668e+03  \n2         Medium               Tier 3  Supermarket Type3       4.064043e+03  \n3          Small               Tier 1      Grocery Store       2.143876e+02  \n4          Small               Tier 1      Grocery Store       1.258362e+02  \n...          ...                  ...                ...                ...  \n8518      Medium               Tier 3  Supermarket Type2       3.944865e+06  \n8519      Medium               Tier 3  Supermarket Type2       4.207856e+06  \n8520      Medium               Tier 3  Supermarket Type2       1.571288e+03  \n8521      Medium               Tier 3  Supermarket Type2       8.588820e+05  \n8522      Medium               Tier 3  Supermarket Type2       1.845598e+03  \n\n[8523 rows x 12 columns]",
      "text/html": "<div>\n<style scoped>\n    .dataframe tbody tr th:only-of-type {\n        vertical-align: middle;\n    }\n\n    .dataframe tbody tr th {\n        vertical-align: top;\n    }\n\n    .dataframe thead th {\n        text-align: right;\n    }\n</style>\n<table border=\"1\" class=\"dataframe\">\n  <thead>\n    <tr style=\"text-align: right;\">\n      <th></th>\n      <th>Item_Identifier</th>\n      <th>Item_Weight</th>\n      <th>Item_Fat_Content</th>\n      <th>Item_Visibility</th>\n      <th>Item_Type</th>\n      <th>Item_MRP</th>\n      <th>Outlet_Identifier</th>\n      <th>Outlet_Establishment_Year</th>\n      <th>Outlet_Size</th>\n      <th>Outlet_Location_Type</th>\n      <th>Outlet_Type</th>\n      <th>Item_Outlet_Sales</th>\n    </tr>\n  </thead>\n  <tbody>\n    <tr>\n      <th>0</th>\n      <td>FDP10</td>\n      <td>NaN</td>\n      <td>Low Fat</td>\n      <td>0.127470</td>\n      <td>Snack Foods</td>\n      <td>107.7622</td>\n      <td>OUT027</td>\n      <td>1985</td>\n      <td>Medium</td>\n      <td>Tier 3</td>\n      <td>Supermarket Type3</td>\n      <td>4.022764e+03</td>\n    </tr>\n    <tr>\n      <th>1</th>\n      <td>DRI11</td>\n      <td>NaN</td>\n      <td>Low Fat</td>\n      <td>0.034238</td>\n      <td>Hard Drinks</td>\n      <td>113.2834</td>\n      <td>OUT027</td>\n      <td>1985</td>\n      <td>Medium</td>\n      <td>Tier 3</td>\n      <td>Supermarket Type3</td>\n      <td>2.303668e+03</td>\n    </tr>\n    <tr>\n      <th>2</th>\n      <td>FDW12</td>\n      <td>NaN</td>\n      <td>Regular</td>\n      <td>0.035400</td>\n      <td>Baking Goods</td>\n      <td>144.5444</td>\n      <td>OUT027</td>\n      <td>1985</td>\n      <td>Medium</td>\n      <td>Tier 3</td>\n      <td>Supermarket Type3</td>\n      <td>4.064043e+03</td>\n    </tr>\n    <tr>\n      <th>3</th>\n      <td>FDC37</td>\n      <td>NaN</td>\n      <td>Low Fat</td>\n      <td>0.057557</td>\n      <td>Baking Goods</td>\n      <td>107.6938</td>\n      <td>OUT019</td>\n      <td>1985</td>\n      <td>Small</td>\n      <td>Tier 1</td>\n      <td>Grocery Store</td>\n      <td>2.143876e+02</td>\n    </tr>\n    <tr>\n      <th>4</th>\n      <td>FDC14</td>\n      <td>NaN</td>\n      <td>Regular</td>\n      <td>0.072222</td>\n      <td>Canned</td>\n      <td>43.6454</td>\n      <td>OUT019</td>\n      <td>1985</td>\n      <td>Small</td>\n      <td>Tier 1</td>\n      <td>Grocery Store</td>\n      <td>1.258362e+02</td>\n    </tr>\n    <tr>\n      <th>...</th>\n      <td>...</td>\n      <td>...</td>\n      <td>...</td>\n      <td>...</td>\n      <td>...</td>\n      <td>...</td>\n      <td>...</td>\n      <td>...</td>\n      <td>...</td>\n      <td>...</td>\n      <td>...</td>\n      <td>...</td>\n    </tr>\n    <tr>\n      <th>8518</th>\n      <td>DRF37</td>\n      <td>17.25</td>\n      <td>Low Fat</td>\n      <td>0.084676</td>\n      <td>Soft Drinks</td>\n      <td>263191.0000</td>\n      <td>OUT018</td>\n      <td>2009</td>\n      <td>Medium</td>\n      <td>Tier 3</td>\n      <td>Supermarket Type2</td>\n      <td>3.944865e+06</td>\n    </tr>\n    <tr>\n      <th>8519</th>\n      <td>FDF05</td>\n      <td>17.50</td>\n      <td>Low Fat</td>\n      <td>0.026980</td>\n      <td>Frozen Foods</td>\n      <td>262591.0000</td>\n      <td>OUT018</td>\n      <td>2009</td>\n      <td>Medium</td>\n      <td>Tier 3</td>\n      <td>Supermarket Type2</td>\n      <td>4.207856e+06</td>\n    </tr>\n    <tr>\n      <th>8520</th>\n      <td>FDH24</td>\n      <td>20.70</td>\n      <td>Low Fat</td>\n      <td>0.021518</td>\n      <td>Baking Goods</td>\n      <td>157.5288</td>\n      <td>OUT018</td>\n      <td>2009</td>\n      <td>Medium</td>\n      <td>Tier 3</td>\n      <td>Supermarket Type2</td>\n      <td>1.571288e+03</td>\n    </tr>\n    <tr>\n      <th>8521</th>\n      <td>NCJ19</td>\n      <td>18.60</td>\n      <td>Low Fat</td>\n      <td>0.118661</td>\n      <td>Others</td>\n      <td>58.7588</td>\n      <td>OUT018</td>\n      <td>2009</td>\n      <td>Medium</td>\n      <td>Tier 3</td>\n      <td>Supermarket Type2</td>\n      <td>8.588820e+05</td>\n    </tr>\n    <tr>\n      <th>8522</th>\n      <td>FDN46</td>\n      <td>7.21</td>\n      <td>Regular</td>\n      <td>0.145221</td>\n      <td>Snack Foods</td>\n      <td>103.1332</td>\n      <td>OUT018</td>\n      <td>2009</td>\n      <td>Medium</td>\n      <td>Tier 3</td>\n      <td>Supermarket Type2</td>\n      <td>1.845598e+03</td>\n    </tr>\n  </tbody>\n</table>\n<p>8523 rows × 12 columns</p>\n</div>"
     },
     "execution_count": 49,
     "metadata": {},
     "output_type": "execute_result"
    }
   ],
   "source": [
    "merged_df\n"
   ],
   "metadata": {
    "collapsed": false
   }
  },
  {
   "cell_type": "code",
   "execution_count": 51,
   "outputs": [
    {
     "name": "stdout",
     "output_type": "stream",
     "text": [
      "<class 'pandas.core.frame.DataFrame'>\n",
      "RangeIndex: 8523 entries, 0 to 8522\n",
      "Data columns (total 12 columns):\n",
      " #   Column                     Non-Null Count  Dtype  \n",
      "---  ------                     --------------  -----  \n",
      " 0   Item_Identifier            8523 non-null   object \n",
      " 1   Item_Weight                7060 non-null   float64\n",
      " 2   Item_Fat_Content           8523 non-null   object \n",
      " 3   Item_Visibility            8523 non-null   float64\n",
      " 4   Item_Type                  8523 non-null   object \n",
      " 5   Item_MRP                   8523 non-null   float64\n",
      " 6   Outlet_Identifier          8523 non-null   object \n",
      " 7   Outlet_Establishment_Year  8523 non-null   int64  \n",
      " 8   Outlet_Size                6113 non-null   object \n",
      " 9   Outlet_Location_Type       8523 non-null   object \n",
      " 10  Outlet_Type                8523 non-null   object \n",
      " 11  Item_Outlet_Sales          8523 non-null   float64\n",
      "dtypes: float64(4), int64(1), object(7)\n",
      "memory usage: 799.2+ KB\n"
     ]
    }
   ],
   "source": [
    "merged_df.info()\n"
   ],
   "metadata": {
    "collapsed": false
   }
  },
  {
   "cell_type": "code",
   "execution_count": 54,
   "outputs": [
    {
     "data": {
      "text/plain": "(8523, 12)"
     },
     "execution_count": 54,
     "metadata": {},
     "output_type": "execute_result"
    }
   ],
   "source": [
    "merged_df.shape\n"
   ],
   "metadata": {
    "collapsed": false
   }
  },
  {
   "cell_type": "code",
   "execution_count": 53,
   "outputs": [
    {
     "data": {
      "text/plain": "        Item_Weight  Item_Visibility       Item_MRP  \\\ncount   7060.000000      8523.000000    8523.000000   \nmean    1283.722194         0.066132   19087.814628   \nstd     2959.889125         0.051598   53135.756575   \nmin        4.590000         0.000000      31.290000   \n25%       11.300000         0.026989     100.368700   \n50%       15.500000         0.053931     155.099800   \n75%       19.600000         0.094585     220.428500   \nmax    11395.000000         0.328391  264791.000000   \n\n       Outlet_Establishment_Year  Item_Outlet_Sales  \ncount                8523.000000       8.523000e+03  \nmean                 1997.831867       4.814256e+05  \nstd                     8.371760       1.214151e+06  \nmin                  1985.000000       3.329000e+01  \n25%                  1987.000000       1.043974e+03  \n50%                  1999.000000       2.406201e+03  \n75%                  2004.000000       5.532465e+03  \nmax                  2009.000000       1.030658e+07  ",
      "text/html": "<div>\n<style scoped>\n    .dataframe tbody tr th:only-of-type {\n        vertical-align: middle;\n    }\n\n    .dataframe tbody tr th {\n        vertical-align: top;\n    }\n\n    .dataframe thead th {\n        text-align: right;\n    }\n</style>\n<table border=\"1\" class=\"dataframe\">\n  <thead>\n    <tr style=\"text-align: right;\">\n      <th></th>\n      <th>Item_Weight</th>\n      <th>Item_Visibility</th>\n      <th>Item_MRP</th>\n      <th>Outlet_Establishment_Year</th>\n      <th>Item_Outlet_Sales</th>\n    </tr>\n  </thead>\n  <tbody>\n    <tr>\n      <th>count</th>\n      <td>7060.000000</td>\n      <td>8523.000000</td>\n      <td>8523.000000</td>\n      <td>8523.000000</td>\n      <td>8.523000e+03</td>\n    </tr>\n    <tr>\n      <th>mean</th>\n      <td>1283.722194</td>\n      <td>0.066132</td>\n      <td>19087.814628</td>\n      <td>1997.831867</td>\n      <td>4.814256e+05</td>\n    </tr>\n    <tr>\n      <th>std</th>\n      <td>2959.889125</td>\n      <td>0.051598</td>\n      <td>53135.756575</td>\n      <td>8.371760</td>\n      <td>1.214151e+06</td>\n    </tr>\n    <tr>\n      <th>min</th>\n      <td>4.590000</td>\n      <td>0.000000</td>\n      <td>31.290000</td>\n      <td>1985.000000</td>\n      <td>3.329000e+01</td>\n    </tr>\n    <tr>\n      <th>25%</th>\n      <td>11.300000</td>\n      <td>0.026989</td>\n      <td>100.368700</td>\n      <td>1987.000000</td>\n      <td>1.043974e+03</td>\n    </tr>\n    <tr>\n      <th>50%</th>\n      <td>15.500000</td>\n      <td>0.053931</td>\n      <td>155.099800</td>\n      <td>1999.000000</td>\n      <td>2.406201e+03</td>\n    </tr>\n    <tr>\n      <th>75%</th>\n      <td>19.600000</td>\n      <td>0.094585</td>\n      <td>220.428500</td>\n      <td>2004.000000</td>\n      <td>5.532465e+03</td>\n    </tr>\n    <tr>\n      <th>max</th>\n      <td>11395.000000</td>\n      <td>0.328391</td>\n      <td>264791.000000</td>\n      <td>2009.000000</td>\n      <td>1.030658e+07</td>\n    </tr>\n  </tbody>\n</table>\n</div>"
     },
     "execution_count": 53,
     "metadata": {},
     "output_type": "execute_result"
    }
   ],
   "source": [
    "merged_df.describe()\n"
   ],
   "metadata": {
    "collapsed": false
   }
  },
  {
   "cell_type": "code",
   "execution_count": null,
   "outputs": [],
   "source": [],
   "metadata": {
    "collapsed": false
   }
  }
 ],
 "metadata": {
  "kernelspec": {
   "display_name": "Python 3",
   "language": "python",
   "name": "python3"
  },
  "language_info": {
   "codemirror_mode": {
    "name": "ipython",
    "version": 3
   },
   "file_extension": ".py",
   "mimetype": "text/x-python",
   "name": "python",
   "nbconvert_exporter": "python",
   "pygments_lexer": "ipython3",
   "version": "3.7.3"
  }
 },
 "nbformat": 4,
 "nbformat_minor": 2
}
