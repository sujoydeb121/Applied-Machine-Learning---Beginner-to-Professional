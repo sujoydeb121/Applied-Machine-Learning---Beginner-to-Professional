{
 "cells": [
  {
   "cell_type": "markdown",
   "metadata": {},
   "source": [
    "---\n",
    "---\n",
    "\n",
    "<center><h1>📍 📍 Modifying Data 📍 📍</h1></center>\n",
    "\n",
    "---\n",
    "\n",
    "\n",
    "### `TABLE OF CONTENTS`\n",
    "\n",
    "- How to impute the missing values in any column?\n",
    "- How to update the values of a column with a new mapping?\n",
    "- How to create a new column by modifying the existing column?\n",
    "- How to convert categorical variables into numerical?\n",
    "\n",
    "---\n",
    "\n",
    "####  `READ THE DATA`\n",
    "\n",
    "\n",
    "- In this notebook, we are going to use the big mart sales data that we have used previously. It is stored in the folder name `datasets`.\n",
    "\n",
    "---"
   ]
  },
  {
   "cell_type": "code",
   "execution_count": 1,
   "metadata": {},
   "outputs": [],
   "source": [
    "# importing the pandas library\n",
    "import pandas as pd"
   ]
  },
  {
   "cell_type": "code",
   "execution_count": 2,
   "metadata": {},
   "outputs": [],
   "source": [
    "# read the dataset\n",
    "data = pd.read_csv('datasets/big_mart_sales.csv')"
   ]
  },
  {
   "cell_type": "code",
   "execution_count": 3,
   "metadata": {},
   "outputs": [
    {
     "data": {
      "text/plain": "  Item_Identifier  Item_Weight Item_Fat_Content  Item_Visibility  \\\n0           FDA15         9.30          Low Fat         0.016047   \n1           DRC01         5.92          Regular         0.019278   \n2           FDN15        17.50          Low Fat         0.016760   \n3           FDX07        19.20          Regular         0.000000   \n4           NCD19         8.93          Low Fat         0.000000   \n\n               Item_Type  Item_MRP Outlet_Identifier  \\\n0                  Dairy  249.8092            OUT049   \n1            Soft Drinks   48.2692            OUT018   \n2                   Meat  141.6180            OUT049   \n3  Fruits and Vegetables  182.0950            OUT010   \n4              Household   53.8614            OUT013   \n\n   Outlet_Establishment_Year Outlet_Size Outlet_Location_Type  \\\n0                       1999      Medium               Tier 1   \n1                       2009      Medium               Tier 3   \n2                       1999      Medium               Tier 1   \n3                       1998         NaN               Tier 3   \n4                       1987        High               Tier 3   \n\n         Outlet_Type  Item_Outlet_Sales  \n0  Supermarket Type1          3735.1380  \n1  Supermarket Type2           443.4228  \n2  Supermarket Type1          2097.2700  \n3      Grocery Store           732.3800  \n4  Supermarket Type1           994.7052  ",
      "text/html": "<div>\n<style scoped>\n    .dataframe tbody tr th:only-of-type {\n        vertical-align: middle;\n    }\n\n    .dataframe tbody tr th {\n        vertical-align: top;\n    }\n\n    .dataframe thead th {\n        text-align: right;\n    }\n</style>\n<table border=\"1\" class=\"dataframe\">\n  <thead>\n    <tr style=\"text-align: right;\">\n      <th></th>\n      <th>Item_Identifier</th>\n      <th>Item_Weight</th>\n      <th>Item_Fat_Content</th>\n      <th>Item_Visibility</th>\n      <th>Item_Type</th>\n      <th>Item_MRP</th>\n      <th>Outlet_Identifier</th>\n      <th>Outlet_Establishment_Year</th>\n      <th>Outlet_Size</th>\n      <th>Outlet_Location_Type</th>\n      <th>Outlet_Type</th>\n      <th>Item_Outlet_Sales</th>\n    </tr>\n  </thead>\n  <tbody>\n    <tr>\n      <th>0</th>\n      <td>FDA15</td>\n      <td>9.30</td>\n      <td>Low Fat</td>\n      <td>0.016047</td>\n      <td>Dairy</td>\n      <td>249.8092</td>\n      <td>OUT049</td>\n      <td>1999</td>\n      <td>Medium</td>\n      <td>Tier 1</td>\n      <td>Supermarket Type1</td>\n      <td>3735.1380</td>\n    </tr>\n    <tr>\n      <th>1</th>\n      <td>DRC01</td>\n      <td>5.92</td>\n      <td>Regular</td>\n      <td>0.019278</td>\n      <td>Soft Drinks</td>\n      <td>48.2692</td>\n      <td>OUT018</td>\n      <td>2009</td>\n      <td>Medium</td>\n      <td>Tier 3</td>\n      <td>Supermarket Type2</td>\n      <td>443.4228</td>\n    </tr>\n    <tr>\n      <th>2</th>\n      <td>FDN15</td>\n      <td>17.50</td>\n      <td>Low Fat</td>\n      <td>0.016760</td>\n      <td>Meat</td>\n      <td>141.6180</td>\n      <td>OUT049</td>\n      <td>1999</td>\n      <td>Medium</td>\n      <td>Tier 1</td>\n      <td>Supermarket Type1</td>\n      <td>2097.2700</td>\n    </tr>\n    <tr>\n      <th>3</th>\n      <td>FDX07</td>\n      <td>19.20</td>\n      <td>Regular</td>\n      <td>0.000000</td>\n      <td>Fruits and Vegetables</td>\n      <td>182.0950</td>\n      <td>OUT010</td>\n      <td>1998</td>\n      <td>NaN</td>\n      <td>Tier 3</td>\n      <td>Grocery Store</td>\n      <td>732.3800</td>\n    </tr>\n    <tr>\n      <th>4</th>\n      <td>NCD19</td>\n      <td>8.93</td>\n      <td>Low Fat</td>\n      <td>0.000000</td>\n      <td>Household</td>\n      <td>53.8614</td>\n      <td>OUT013</td>\n      <td>1987</td>\n      <td>High</td>\n      <td>Tier 3</td>\n      <td>Supermarket Type1</td>\n      <td>994.7052</td>\n    </tr>\n  </tbody>\n</table>\n</div>"
     },
     "execution_count": 3,
     "metadata": {},
     "output_type": "execute_result"
    }
   ],
   "source": [
    "# view the top rows of the data\n",
    "data.head()"
   ]
  },
  {
   "cell_type": "markdown",
   "metadata": {},
   "source": [
    "---\n",
    "\n",
    "#### `HOW TO IMPUTE THE MISSING VALUES USING LOC IN ANY COLUMN?`\n"
   ]
  },
  {
   "cell_type": "markdown",
   "metadata": {},
   "source": [
    "\n",
    "***Check the columns with null values.***\n",
    "\n",
    "First, we will check the number of missing values in each of the column. Use the function `isna().sum()`.\n",
    "\n",
    "\n",
    "\n",
    "---"
   ]
  },
  {
   "cell_type": "code",
   "execution_count": 4,
   "metadata": {},
   "outputs": [
    {
     "data": {
      "text/plain": "Item_Identifier                 0\nItem_Weight                  1463\nItem_Fat_Content                0\nItem_Visibility                 0\nItem_Type                       0\nItem_MRP                        0\nOutlet_Identifier               0\nOutlet_Establishment_Year       0\nOutlet_Size                  2410\nOutlet_Location_Type            0\nOutlet_Type                     0\nItem_Outlet_Sales               0\ndtype: int64"
     },
     "execution_count": 4,
     "metadata": {},
     "output_type": "execute_result"
    }
   ],
   "source": [
    "# check for the null values\n",
    "# data.isna().sum()\n",
    "data.isnull().sum()"
   ]
  },
  {
   "cell_type": "code",
   "execution_count": 5,
   "outputs": [
    {
     "data": {
      "text/plain": "Item_Identifier                 0\nItem_Weight                  1463\nItem_Fat_Content                0\nItem_Visibility                 0\nItem_Type                       0\nItem_MRP                        0\nOutlet_Identifier               0\nOutlet_Establishment_Year       0\nOutlet_Size                  2410\nOutlet_Location_Type            0\nOutlet_Type                     0\nItem_Outlet_Sales               0\ndtype: int64"
     },
     "execution_count": 5,
     "metadata": {},
     "output_type": "execute_result"
    }
   ],
   "source": [
    "data.isna().sum()"
   ],
   "metadata": {
    "collapsed": false
   }
  },
  {
   "cell_type": "markdown",
   "metadata": {},
   "source": [
    "So, we have missing values in the column `Item_Weight` and `Outlet_Size`.\n",
    "\n",
    "---"
   ]
  },
  {
   "cell_type": "markdown",
   "metadata": {},
   "source": [
    "#### `Select the columns where Item_Weight has missing values using loc`\n",
    "\n",
    "---"
   ]
  },
  {
   "cell_type": "code",
   "execution_count": 6,
   "metadata": {},
   "outputs": [
    {
     "data": {
      "text/plain": "     Item_Identifier  Item_Weight Item_Fat_Content  Item_Visibility  \\\n7              FDP10          NaN          Low Fat         0.127470   \n18             DRI11          NaN          Low Fat         0.034238   \n21             FDW12          NaN          Regular         0.035400   \n23             FDC37          NaN          Low Fat         0.057557   \n29             FDC14          NaN          Regular         0.072222   \n...              ...          ...              ...              ...   \n8485           DRK37          NaN          Low Fat         0.043792   \n8487           DRG13          NaN          Low Fat         0.037006   \n8488           NCN14          NaN          Low Fat         0.091473   \n8490           FDU44          NaN          Regular         0.102296   \n8504           NCN18          NaN          Low Fat         0.124111   \n\n                  Item_Type  Item_MRP Outlet_Identifier  \\\n7               Snack Foods  107.7622            OUT027   \n18              Hard Drinks  113.2834            OUT027   \n21             Baking Goods  144.5444            OUT027   \n23             Baking Goods  107.6938            OUT019   \n29                   Canned   43.6454            OUT019   \n...                     ...       ...               ...   \n8485            Soft Drinks  189.0530            OUT027   \n8487            Soft Drinks  164.7526            OUT027   \n8488                 Others  184.6608            OUT027   \n8490  Fruits and Vegetables  162.3552            OUT019   \n8504              Household  111.7544            OUT027   \n\n      Outlet_Establishment_Year Outlet_Size Outlet_Location_Type  \\\n7                          1985      Medium               Tier 3   \n18                         1985      Medium               Tier 3   \n21                         1985      Medium               Tier 3   \n23                         1985       Small               Tier 1   \n29                         1985       Small               Tier 1   \n...                         ...         ...                  ...   \n8485                       1985      Medium               Tier 3   \n8487                       1985      Medium               Tier 3   \n8488                       1985      Medium               Tier 3   \n8490                       1985       Small               Tier 1   \n8504                       1985      Medium               Tier 3   \n\n            Outlet_Type  Item_Outlet_Sales  \n7     Supermarket Type3          4022.7636  \n18    Supermarket Type3          2303.6680  \n21    Supermarket Type3          4064.0432  \n23        Grocery Store           214.3876  \n29        Grocery Store           125.8362  \n...                 ...                ...  \n8485  Supermarket Type3          6261.8490  \n8487  Supermarket Type3          4111.3150  \n8488  Supermarket Type3          2756.4120  \n8490      Grocery Store           487.3656  \n8504  Supermarket Type3          4138.6128  \n\n[1463 rows x 12 columns]",
      "text/html": "<div>\n<style scoped>\n    .dataframe tbody tr th:only-of-type {\n        vertical-align: middle;\n    }\n\n    .dataframe tbody tr th {\n        vertical-align: top;\n    }\n\n    .dataframe thead th {\n        text-align: right;\n    }\n</style>\n<table border=\"1\" class=\"dataframe\">\n  <thead>\n    <tr style=\"text-align: right;\">\n      <th></th>\n      <th>Item_Identifier</th>\n      <th>Item_Weight</th>\n      <th>Item_Fat_Content</th>\n      <th>Item_Visibility</th>\n      <th>Item_Type</th>\n      <th>Item_MRP</th>\n      <th>Outlet_Identifier</th>\n      <th>Outlet_Establishment_Year</th>\n      <th>Outlet_Size</th>\n      <th>Outlet_Location_Type</th>\n      <th>Outlet_Type</th>\n      <th>Item_Outlet_Sales</th>\n    </tr>\n  </thead>\n  <tbody>\n    <tr>\n      <th>7</th>\n      <td>FDP10</td>\n      <td>NaN</td>\n      <td>Low Fat</td>\n      <td>0.127470</td>\n      <td>Snack Foods</td>\n      <td>107.7622</td>\n      <td>OUT027</td>\n      <td>1985</td>\n      <td>Medium</td>\n      <td>Tier 3</td>\n      <td>Supermarket Type3</td>\n      <td>4022.7636</td>\n    </tr>\n    <tr>\n      <th>18</th>\n      <td>DRI11</td>\n      <td>NaN</td>\n      <td>Low Fat</td>\n      <td>0.034238</td>\n      <td>Hard Drinks</td>\n      <td>113.2834</td>\n      <td>OUT027</td>\n      <td>1985</td>\n      <td>Medium</td>\n      <td>Tier 3</td>\n      <td>Supermarket Type3</td>\n      <td>2303.6680</td>\n    </tr>\n    <tr>\n      <th>21</th>\n      <td>FDW12</td>\n      <td>NaN</td>\n      <td>Regular</td>\n      <td>0.035400</td>\n      <td>Baking Goods</td>\n      <td>144.5444</td>\n      <td>OUT027</td>\n      <td>1985</td>\n      <td>Medium</td>\n      <td>Tier 3</td>\n      <td>Supermarket Type3</td>\n      <td>4064.0432</td>\n    </tr>\n    <tr>\n      <th>23</th>\n      <td>FDC37</td>\n      <td>NaN</td>\n      <td>Low Fat</td>\n      <td>0.057557</td>\n      <td>Baking Goods</td>\n      <td>107.6938</td>\n      <td>OUT019</td>\n      <td>1985</td>\n      <td>Small</td>\n      <td>Tier 1</td>\n      <td>Grocery Store</td>\n      <td>214.3876</td>\n    </tr>\n    <tr>\n      <th>29</th>\n      <td>FDC14</td>\n      <td>NaN</td>\n      <td>Regular</td>\n      <td>0.072222</td>\n      <td>Canned</td>\n      <td>43.6454</td>\n      <td>OUT019</td>\n      <td>1985</td>\n      <td>Small</td>\n      <td>Tier 1</td>\n      <td>Grocery Store</td>\n      <td>125.8362</td>\n    </tr>\n    <tr>\n      <th>...</th>\n      <td>...</td>\n      <td>...</td>\n      <td>...</td>\n      <td>...</td>\n      <td>...</td>\n      <td>...</td>\n      <td>...</td>\n      <td>...</td>\n      <td>...</td>\n      <td>...</td>\n      <td>...</td>\n      <td>...</td>\n    </tr>\n    <tr>\n      <th>8485</th>\n      <td>DRK37</td>\n      <td>NaN</td>\n      <td>Low Fat</td>\n      <td>0.043792</td>\n      <td>Soft Drinks</td>\n      <td>189.0530</td>\n      <td>OUT027</td>\n      <td>1985</td>\n      <td>Medium</td>\n      <td>Tier 3</td>\n      <td>Supermarket Type3</td>\n      <td>6261.8490</td>\n    </tr>\n    <tr>\n      <th>8487</th>\n      <td>DRG13</td>\n      <td>NaN</td>\n      <td>Low Fat</td>\n      <td>0.037006</td>\n      <td>Soft Drinks</td>\n      <td>164.7526</td>\n      <td>OUT027</td>\n      <td>1985</td>\n      <td>Medium</td>\n      <td>Tier 3</td>\n      <td>Supermarket Type3</td>\n      <td>4111.3150</td>\n    </tr>\n    <tr>\n      <th>8488</th>\n      <td>NCN14</td>\n      <td>NaN</td>\n      <td>Low Fat</td>\n      <td>0.091473</td>\n      <td>Others</td>\n      <td>184.6608</td>\n      <td>OUT027</td>\n      <td>1985</td>\n      <td>Medium</td>\n      <td>Tier 3</td>\n      <td>Supermarket Type3</td>\n      <td>2756.4120</td>\n    </tr>\n    <tr>\n      <th>8490</th>\n      <td>FDU44</td>\n      <td>NaN</td>\n      <td>Regular</td>\n      <td>0.102296</td>\n      <td>Fruits and Vegetables</td>\n      <td>162.3552</td>\n      <td>OUT019</td>\n      <td>1985</td>\n      <td>Small</td>\n      <td>Tier 1</td>\n      <td>Grocery Store</td>\n      <td>487.3656</td>\n    </tr>\n    <tr>\n      <th>8504</th>\n      <td>NCN18</td>\n      <td>NaN</td>\n      <td>Low Fat</td>\n      <td>0.124111</td>\n      <td>Household</td>\n      <td>111.7544</td>\n      <td>OUT027</td>\n      <td>1985</td>\n      <td>Medium</td>\n      <td>Tier 3</td>\n      <td>Supermarket Type3</td>\n      <td>4138.6128</td>\n    </tr>\n  </tbody>\n</table>\n<p>1463 rows × 12 columns</p>\n</div>"
     },
     "execution_count": 6,
     "metadata": {},
     "output_type": "execute_result"
    }
   ],
   "source": [
    "# rows with null values in the Item_Weight\n",
    "data.loc[data.Item_Weight.isna() == True]"
   ]
  },
  {
   "cell_type": "code",
   "execution_count": 7,
   "outputs": [
    {
     "data": {
      "text/plain": "      Item_Weight\n7             NaN\n18            NaN\n21            NaN\n23            NaN\n29            NaN\n...           ...\n8485          NaN\n8487          NaN\n8488          NaN\n8490          NaN\n8504          NaN\n\n[1463 rows x 1 columns]",
      "text/html": "<div>\n<style scoped>\n    .dataframe tbody tr th:only-of-type {\n        vertical-align: middle;\n    }\n\n    .dataframe tbody tr th {\n        vertical-align: top;\n    }\n\n    .dataframe thead th {\n        text-align: right;\n    }\n</style>\n<table border=\"1\" class=\"dataframe\">\n  <thead>\n    <tr style=\"text-align: right;\">\n      <th></th>\n      <th>Item_Weight</th>\n    </tr>\n  </thead>\n  <tbody>\n    <tr>\n      <th>7</th>\n      <td>NaN</td>\n    </tr>\n    <tr>\n      <th>18</th>\n      <td>NaN</td>\n    </tr>\n    <tr>\n      <th>21</th>\n      <td>NaN</td>\n    </tr>\n    <tr>\n      <th>23</th>\n      <td>NaN</td>\n    </tr>\n    <tr>\n      <th>29</th>\n      <td>NaN</td>\n    </tr>\n    <tr>\n      <th>...</th>\n      <td>...</td>\n    </tr>\n    <tr>\n      <th>8485</th>\n      <td>NaN</td>\n    </tr>\n    <tr>\n      <th>8487</th>\n      <td>NaN</td>\n    </tr>\n    <tr>\n      <th>8488</th>\n      <td>NaN</td>\n    </tr>\n    <tr>\n      <th>8490</th>\n      <td>NaN</td>\n    </tr>\n    <tr>\n      <th>8504</th>\n      <td>NaN</td>\n    </tr>\n  </tbody>\n</table>\n<p>1463 rows × 1 columns</p>\n</div>"
     },
     "execution_count": 7,
     "metadata": {},
     "output_type": "execute_result"
    }
   ],
   "source": [
    "data.loc[data.Item_Weight.isna() == True, ['Item_Weight']]"
   ],
   "metadata": {
    "collapsed": false
   }
  },
  {
   "cell_type": "code",
   "execution_count": 8,
   "metadata": {},
   "outputs": [
    {
     "data": {
      "text/plain": "12.857645184135976"
     },
     "execution_count": 8,
     "metadata": {},
     "output_type": "execute_result"
    }
   ],
   "source": [
    "data.Item_Weight.mean() "
   ]
  },
  {
   "cell_type": "code",
   "execution_count": 9,
   "metadata": {},
   "outputs": [],
   "source": [
    "# fill the null values in Item_Weight by mean\n",
    "# data.loc[(data.Item_Weight.isna() == True) , 'Item_Weight'] = data.Item_Weight.mean()\n",
    "data.loc[data.Item_Weight.isna() == True, 'Item_Weight'] =data.Item_Weight.mean()"
   ]
  },
  {
   "cell_type": "code",
   "execution_count": 10,
   "metadata": {},
   "outputs": [
    {
     "data": {
      "text/plain": "Item_Identifier                 0\nItem_Weight                     0\nItem_Fat_Content                0\nItem_Visibility                 0\nItem_Type                       0\nItem_MRP                        0\nOutlet_Identifier               0\nOutlet_Establishment_Year       0\nOutlet_Size                  2410\nOutlet_Location_Type            0\nOutlet_Type                     0\nItem_Outlet_Sales               0\ndtype: int64"
     },
     "execution_count": 10,
     "metadata": {},
     "output_type": "execute_result"
    }
   ],
   "source": [
    "data.isna().sum()"
   ]
  },
  {
   "cell_type": "code",
   "execution_count": 11,
   "metadata": {},
   "outputs": [
    {
     "data": {
      "text/plain": "Item_Identifier               object\nItem_Weight                  float64\nItem_Fat_Content              object\nItem_Visibility              float64\nItem_Type                     object\nItem_MRP                     float64\nOutlet_Identifier             object\nOutlet_Establishment_Year      int64\nOutlet_Size                   object\nOutlet_Location_Type          object\nOutlet_Type                   object\nItem_Outlet_Sales            float64\ndtype: object"
     },
     "execution_count": 11,
     "metadata": {},
     "output_type": "execute_result"
    }
   ],
   "source": [
    "data.dtypes"
   ]
  },
  {
   "cell_type": "code",
   "execution_count": 12,
   "metadata": {},
   "outputs": [
    {
     "data": {
      "text/plain": "  Item_Identifier  Item_Weight Item_Fat_Content  Item_Visibility  \\\n0           FDA15         9.30          Low Fat         0.016047   \n1           DRC01         5.92          Regular         0.019278   \n2           FDN15        17.50          Low Fat         0.016760   \n3           FDX07        19.20          Regular         0.000000   \n4           NCD19         8.93          Low Fat         0.000000   \n\n               Item_Type  Item_MRP Outlet_Identifier  \\\n0                  Dairy  249.8092            OUT049   \n1            Soft Drinks   48.2692            OUT018   \n2                   Meat  141.6180            OUT049   \n3  Fruits and Vegetables  182.0950            OUT010   \n4              Household   53.8614            OUT013   \n\n   Outlet_Establishment_Year Outlet_Size Outlet_Location_Type  \\\n0                       1999      Medium               Tier 1   \n1                       2009      Medium               Tier 3   \n2                       1999      Medium               Tier 1   \n3                       1998         NaN               Tier 3   \n4                       1987        High               Tier 3   \n\n         Outlet_Type  Item_Outlet_Sales  \n0  Supermarket Type1          3735.1380  \n1  Supermarket Type2           443.4228  \n2  Supermarket Type1          2097.2700  \n3      Grocery Store           732.3800  \n4  Supermarket Type1           994.7052  ",
      "text/html": "<div>\n<style scoped>\n    .dataframe tbody tr th:only-of-type {\n        vertical-align: middle;\n    }\n\n    .dataframe tbody tr th {\n        vertical-align: top;\n    }\n\n    .dataframe thead th {\n        text-align: right;\n    }\n</style>\n<table border=\"1\" class=\"dataframe\">\n  <thead>\n    <tr style=\"text-align: right;\">\n      <th></th>\n      <th>Item_Identifier</th>\n      <th>Item_Weight</th>\n      <th>Item_Fat_Content</th>\n      <th>Item_Visibility</th>\n      <th>Item_Type</th>\n      <th>Item_MRP</th>\n      <th>Outlet_Identifier</th>\n      <th>Outlet_Establishment_Year</th>\n      <th>Outlet_Size</th>\n      <th>Outlet_Location_Type</th>\n      <th>Outlet_Type</th>\n      <th>Item_Outlet_Sales</th>\n    </tr>\n  </thead>\n  <tbody>\n    <tr>\n      <th>0</th>\n      <td>FDA15</td>\n      <td>9.30</td>\n      <td>Low Fat</td>\n      <td>0.016047</td>\n      <td>Dairy</td>\n      <td>249.8092</td>\n      <td>OUT049</td>\n      <td>1999</td>\n      <td>Medium</td>\n      <td>Tier 1</td>\n      <td>Supermarket Type1</td>\n      <td>3735.1380</td>\n    </tr>\n    <tr>\n      <th>1</th>\n      <td>DRC01</td>\n      <td>5.92</td>\n      <td>Regular</td>\n      <td>0.019278</td>\n      <td>Soft Drinks</td>\n      <td>48.2692</td>\n      <td>OUT018</td>\n      <td>2009</td>\n      <td>Medium</td>\n      <td>Tier 3</td>\n      <td>Supermarket Type2</td>\n      <td>443.4228</td>\n    </tr>\n    <tr>\n      <th>2</th>\n      <td>FDN15</td>\n      <td>17.50</td>\n      <td>Low Fat</td>\n      <td>0.016760</td>\n      <td>Meat</td>\n      <td>141.6180</td>\n      <td>OUT049</td>\n      <td>1999</td>\n      <td>Medium</td>\n      <td>Tier 1</td>\n      <td>Supermarket Type1</td>\n      <td>2097.2700</td>\n    </tr>\n    <tr>\n      <th>3</th>\n      <td>FDX07</td>\n      <td>19.20</td>\n      <td>Regular</td>\n      <td>0.000000</td>\n      <td>Fruits and Vegetables</td>\n      <td>182.0950</td>\n      <td>OUT010</td>\n      <td>1998</td>\n      <td>NaN</td>\n      <td>Tier 3</td>\n      <td>Grocery Store</td>\n      <td>732.3800</td>\n    </tr>\n    <tr>\n      <th>4</th>\n      <td>NCD19</td>\n      <td>8.93</td>\n      <td>Low Fat</td>\n      <td>0.000000</td>\n      <td>Household</td>\n      <td>53.8614</td>\n      <td>OUT013</td>\n      <td>1987</td>\n      <td>High</td>\n      <td>Tier 3</td>\n      <td>Supermarket Type1</td>\n      <td>994.7052</td>\n    </tr>\n  </tbody>\n</table>\n</div>"
     },
     "execution_count": 12,
     "metadata": {},
     "output_type": "execute_result"
    }
   ],
   "source": [
    "data.head()"
   ]
  },
  {
   "cell_type": "markdown",
   "metadata": {},
   "source": [
    "#### `Fill the missing values in the column: Outlet_Size by most frequent value using loc`\n",
    "\n",
    "---\n",
    "\n",
    "***Mode of Outlet Size***"
   ]
  },
  {
   "cell_type": "code",
   "execution_count": 13,
   "outputs": [
    {
     "data": {
      "text/plain": "Medium    2793\nSmall     2388\nHigh       932\nName: Outlet_Size, dtype: int64"
     },
     "execution_count": 13,
     "metadata": {},
     "output_type": "execute_result"
    }
   ],
   "source": [
    "data.Outlet_Size.value_counts()"
   ],
   "metadata": {
    "collapsed": false
   }
  },
  {
   "cell_type": "code",
   "execution_count": 14,
   "metadata": {
    "scrolled": true
   },
   "outputs": [
    {
     "data": {
      "text/plain": "0    Medium\nName: Outlet_Size, dtype: object"
     },
     "execution_count": 14,
     "metadata": {},
     "output_type": "execute_result"
    }
   ],
   "source": [
    "data.Outlet_Size.mode()"
   ]
  },
  {
   "cell_type": "code",
   "execution_count": 15,
   "metadata": {},
   "outputs": [
    {
     "data": {
      "text/plain": "Medium    2793\nSmall     2388\nHigh       932\nName: Outlet_Size, dtype: int64"
     },
     "execution_count": 15,
     "metadata": {},
     "output_type": "execute_result"
    }
   ],
   "source": [
    "data.Outlet_Size.value_counts()"
   ]
  },
  {
   "cell_type": "code",
   "execution_count": 16,
   "metadata": {},
   "outputs": [],
   "source": [
    "# data.loc[(data.Outlet_Size.isna() == True) , 'Outlet_Size'] = 'Medium'\n",
    "data.loc[(data.Outlet_Size.isna() ==True), 'Outlet_Size'] = 'Medium'"
   ]
  },
  {
   "cell_type": "markdown",
   "metadata": {},
   "source": [
    "#### `Use the fillna function to impute the missing values.`\n",
    "\n",
    "- `fillna` function is another way to impute the missing values. Use the parameter `inplace=True` to store the results in the dataframe."
   ]
  },
  {
   "cell_type": "code",
   "execution_count": 17,
   "metadata": {},
   "outputs": [],
   "source": [
    "# fill the null values in Outlet Size by the most frequent value: \"Medium\"\n",
    "data.Outlet_Size.fillna('Medium', inplace=True)"
   ]
  },
  {
   "cell_type": "code",
   "execution_count": 18,
   "metadata": {},
   "outputs": [
    {
     "data": {
      "text/plain": "Item_Identifier              0\nItem_Weight                  0\nItem_Fat_Content             0\nItem_Visibility              0\nItem_Type                    0\nItem_MRP                     0\nOutlet_Identifier            0\nOutlet_Establishment_Year    0\nOutlet_Size                  0\nOutlet_Location_Type         0\nOutlet_Type                  0\nItem_Outlet_Sales            0\ndtype: int64"
     },
     "execution_count": 18,
     "metadata": {},
     "output_type": "execute_result"
    }
   ],
   "source": [
    "# check the null values again\n",
    "data.isna().sum()"
   ]
  },
  {
   "cell_type": "markdown",
   "metadata": {},
   "source": [
    "#### `HOW TO UPDATE THE VALUES OF A COLUMN?`\n",
    "\n",
    "\n",
    "---"
   ]
  },
  {
   "cell_type": "code",
   "execution_count": 19,
   "metadata": {},
   "outputs": [
    {
     "data": {
      "text/plain": "  Item_Identifier  Item_Weight Item_Fat_Content  Item_Visibility  \\\n0           FDA15         9.30          Low Fat         0.016047   \n1           DRC01         5.92          Regular         0.019278   \n2           FDN15        17.50          Low Fat         0.016760   \n3           FDX07        19.20          Regular         0.000000   \n4           NCD19         8.93          Low Fat         0.000000   \n\n               Item_Type  Item_MRP Outlet_Identifier  \\\n0                  Dairy  249.8092            OUT049   \n1            Soft Drinks   48.2692            OUT018   \n2                   Meat  141.6180            OUT049   \n3  Fruits and Vegetables  182.0950            OUT010   \n4              Household   53.8614            OUT013   \n\n   Outlet_Establishment_Year Outlet_Size Outlet_Location_Type  \\\n0                       1999      Medium               Tier 1   \n1                       2009      Medium               Tier 3   \n2                       1999      Medium               Tier 1   \n3                       1998      Medium               Tier 3   \n4                       1987        High               Tier 3   \n\n         Outlet_Type  Item_Outlet_Sales  \n0  Supermarket Type1          3735.1380  \n1  Supermarket Type2           443.4228  \n2  Supermarket Type1          2097.2700  \n3      Grocery Store           732.3800  \n4  Supermarket Type1           994.7052  ",
      "text/html": "<div>\n<style scoped>\n    .dataframe tbody tr th:only-of-type {\n        vertical-align: middle;\n    }\n\n    .dataframe tbody tr th {\n        vertical-align: top;\n    }\n\n    .dataframe thead th {\n        text-align: right;\n    }\n</style>\n<table border=\"1\" class=\"dataframe\">\n  <thead>\n    <tr style=\"text-align: right;\">\n      <th></th>\n      <th>Item_Identifier</th>\n      <th>Item_Weight</th>\n      <th>Item_Fat_Content</th>\n      <th>Item_Visibility</th>\n      <th>Item_Type</th>\n      <th>Item_MRP</th>\n      <th>Outlet_Identifier</th>\n      <th>Outlet_Establishment_Year</th>\n      <th>Outlet_Size</th>\n      <th>Outlet_Location_Type</th>\n      <th>Outlet_Type</th>\n      <th>Item_Outlet_Sales</th>\n    </tr>\n  </thead>\n  <tbody>\n    <tr>\n      <th>0</th>\n      <td>FDA15</td>\n      <td>9.30</td>\n      <td>Low Fat</td>\n      <td>0.016047</td>\n      <td>Dairy</td>\n      <td>249.8092</td>\n      <td>OUT049</td>\n      <td>1999</td>\n      <td>Medium</td>\n      <td>Tier 1</td>\n      <td>Supermarket Type1</td>\n      <td>3735.1380</td>\n    </tr>\n    <tr>\n      <th>1</th>\n      <td>DRC01</td>\n      <td>5.92</td>\n      <td>Regular</td>\n      <td>0.019278</td>\n      <td>Soft Drinks</td>\n      <td>48.2692</td>\n      <td>OUT018</td>\n      <td>2009</td>\n      <td>Medium</td>\n      <td>Tier 3</td>\n      <td>Supermarket Type2</td>\n      <td>443.4228</td>\n    </tr>\n    <tr>\n      <th>2</th>\n      <td>FDN15</td>\n      <td>17.50</td>\n      <td>Low Fat</td>\n      <td>0.016760</td>\n      <td>Meat</td>\n      <td>141.6180</td>\n      <td>OUT049</td>\n      <td>1999</td>\n      <td>Medium</td>\n      <td>Tier 1</td>\n      <td>Supermarket Type1</td>\n      <td>2097.2700</td>\n    </tr>\n    <tr>\n      <th>3</th>\n      <td>FDX07</td>\n      <td>19.20</td>\n      <td>Regular</td>\n      <td>0.000000</td>\n      <td>Fruits and Vegetables</td>\n      <td>182.0950</td>\n      <td>OUT010</td>\n      <td>1998</td>\n      <td>Medium</td>\n      <td>Tier 3</td>\n      <td>Grocery Store</td>\n      <td>732.3800</td>\n    </tr>\n    <tr>\n      <th>4</th>\n      <td>NCD19</td>\n      <td>8.93</td>\n      <td>Low Fat</td>\n      <td>0.000000</td>\n      <td>Household</td>\n      <td>53.8614</td>\n      <td>OUT013</td>\n      <td>1987</td>\n      <td>High</td>\n      <td>Tier 3</td>\n      <td>Supermarket Type1</td>\n      <td>994.7052</td>\n    </tr>\n  </tbody>\n</table>\n</div>"
     },
     "execution_count": 19,
     "metadata": {},
     "output_type": "execute_result"
    }
   ],
   "source": [
    "# look at the data\n",
    "data.head()"
   ]
  },
  {
   "cell_type": "markdown",
   "metadata": {},
   "source": [
    "---\n",
    "\n",
    "***Let's have a look at the count of each category in the column `Item_Fat_Content`. We will use `value_counts` function to to do that.***\n",
    "\n",
    "\n",
    "---"
   ]
  },
  {
   "cell_type": "code",
   "execution_count": 32,
   "metadata": {},
   "outputs": [
    {
     "data": {
      "text/plain": "LF    5517\nR     3006\nName: Item_Fat_Content, dtype: int64"
     },
     "execution_count": 32,
     "metadata": {},
     "output_type": "execute_result"
    }
   ],
   "source": [
    "data.Item_Fat_Content.value_counts()"
   ]
  },
  {
   "cell_type": "markdown",
   "metadata": {},
   "source": [
    "---\n",
    "\n",
    "***We can see that the categories `Low Fat`, `LF` and `low fat` are same and also `Regular`, `reg` are same. So to keep the data clean we will map all these to only two categories to `LF` and `R` using the map function. Let's see how?***"
   ]
  },
  {
   "cell_type": "code",
   "execution_count": 21,
   "metadata": {},
   "outputs": [],
   "source": [
    "# Create a new mapping (dictionary) \n",
    "mapping = {\n",
    "    'Low Fat' : 'LF',\n",
    "    'Regular' : 'R',\n",
    "    'LF' : 'LF',\n",
    "    'reg': 'R',\n",
    "    'low fat' : 'LF'\n",
    "}"
   ]
  },
  {
   "cell_type": "code",
   "execution_count": 22,
   "metadata": {},
   "outputs": [
    {
     "data": {
      "text/plain": "0       LF\n1        R\n2       LF\n3        R\n4       LF\n        ..\n8518    LF\n8519     R\n8520    LF\n8521     R\n8522    LF\nName: Item_Fat_Content, Length: 8523, dtype: object"
     },
     "execution_count": 22,
     "metadata": {},
     "output_type": "execute_result"
    }
   ],
   "source": [
    "# data.Item_Fat_Content.map(mapping)\n",
    "data.Item_Fat_Content.map(mapping)"
   ]
  },
  {
   "cell_type": "code",
   "execution_count": 23,
   "metadata": {},
   "outputs": [],
   "source": [
    "# use the  map function to update the values\n",
    "# data.Item_Fat_Content = data.Item_Fat_Content.map(mapping)\n",
    "data.Item_Fat_Content = data.Item_Fat_Content.map(mapping)"
   ]
  },
  {
   "cell_type": "code",
   "execution_count": 24,
   "metadata": {
    "scrolled": true
   },
   "outputs": [
    {
     "data": {
      "text/plain": "LF    5517\nR     3006\nName: Item_Fat_Content, dtype: int64"
     },
     "execution_count": 24,
     "metadata": {},
     "output_type": "execute_result"
    }
   ],
   "source": [
    "# Count of new categories in the column Item_Fat_Content\n",
    "data.Item_Fat_Content.value_counts()"
   ]
  },
  {
   "cell_type": "markdown",
   "metadata": {},
   "source": [
    "#### `HOW TO CREATE A NEW COLUMN BY MODIFYING THE EXISTING COLUMN?`\n",
    "\n",
    "---"
   ]
  },
  {
   "cell_type": "code",
   "execution_count": 33,
   "metadata": {},
   "outputs": [
    {
     "data": {
      "text/plain": "0       249.8092\n1        48.2692\n2       141.6180\n3       182.0950\n4        53.8614\n          ...   \n8518    214.5218\n8519    108.1570\n8520     85.1224\n8521    103.1332\n8522     75.4670\nName: Item_MRP, Length: 8523, dtype: float64"
     },
     "execution_count": 33,
     "metadata": {},
     "output_type": "execute_result"
    }
   ],
   "source": [
    "# data.Item_MRP\n",
    "data.Item_MRP"
   ]
  },
  {
   "cell_type": "markdown",
   "metadata": {},
   "source": [
    "#### `APPLY`\n",
    "\n",
    "***Create a new column `Item_MRP_in_USD` by dividing the each value in the column `Item_MRP` by 74 using the apply function. Let's see how?***\n",
    "\n",
    "---\n"
   ]
  },
  {
   "cell_type": "code",
   "execution_count": 35,
   "metadata": {
    "scrolled": true
   },
   "outputs": [
    {
     "data": {
      "text/plain": "0       3.375800\n1       0.652286\n2       1.913757\n3       2.460743\n4       0.727857\n          ...   \n8518    2.898943\n8519    1.461581\n8520    1.150303\n8521    1.393692\n8522    1.019824\nName: Item_MRP, Length: 8523, dtype: float64"
     },
     "execution_count": 35,
     "metadata": {},
     "output_type": "execute_result"
    }
   ],
   "source": [
    "# data.Item_MRP.apply(lambda x: x/74)\n",
    "data.Item_MRP.apply(lambda x: x / 74)"
   ]
  },
  {
   "cell_type": "code",
   "execution_count": 34,
   "outputs": [
    {
     "data": {
      "text/plain": "0       3.375800\n1       0.652286\n2       1.913757\n3       2.460743\n4       0.727857\n          ...   \n8518    2.898943\n8519    1.461581\n8520    1.150303\n8521    1.393692\n8522    1.019824\nName: Item_MRP, Length: 8523, dtype: float64"
     },
     "execution_count": 34,
     "metadata": {},
     "output_type": "execute_result"
    }
   ],
   "source": [
    "data.Item_MRP.map(lambda x: x /74)"
   ],
   "metadata": {
    "collapsed": false
   }
  },
  {
   "cell_type": "code",
   "execution_count": 27,
   "metadata": {},
   "outputs": [
    {
     "data": {
      "text/plain": "  Item_Identifier  Item_Weight Item_Fat_Content  Item_Visibility  \\\n0           FDA15         9.30               LF         0.016047   \n1           DRC01         5.92                R         0.019278   \n2           FDN15        17.50               LF         0.016760   \n3           FDX07        19.20                R         0.000000   \n4           NCD19         8.93               LF         0.000000   \n\n               Item_Type  Item_MRP Outlet_Identifier  \\\n0                  Dairy  249.8092            OUT049   \n1            Soft Drinks   48.2692            OUT018   \n2                   Meat  141.6180            OUT049   \n3  Fruits and Vegetables  182.0950            OUT010   \n4              Household   53.8614            OUT013   \n\n   Outlet_Establishment_Year Outlet_Size Outlet_Location_Type  \\\n0                       1999      Medium               Tier 1   \n1                       2009      Medium               Tier 3   \n2                       1999      Medium               Tier 1   \n3                       1998      Medium               Tier 3   \n4                       1987        High               Tier 3   \n\n         Outlet_Type  Item_Outlet_Sales  \n0  Supermarket Type1          3735.1380  \n1  Supermarket Type2           443.4228  \n2  Supermarket Type1          2097.2700  \n3      Grocery Store           732.3800  \n4  Supermarket Type1           994.7052  ",
      "text/html": "<div>\n<style scoped>\n    .dataframe tbody tr th:only-of-type {\n        vertical-align: middle;\n    }\n\n    .dataframe tbody tr th {\n        vertical-align: top;\n    }\n\n    .dataframe thead th {\n        text-align: right;\n    }\n</style>\n<table border=\"1\" class=\"dataframe\">\n  <thead>\n    <tr style=\"text-align: right;\">\n      <th></th>\n      <th>Item_Identifier</th>\n      <th>Item_Weight</th>\n      <th>Item_Fat_Content</th>\n      <th>Item_Visibility</th>\n      <th>Item_Type</th>\n      <th>Item_MRP</th>\n      <th>Outlet_Identifier</th>\n      <th>Outlet_Establishment_Year</th>\n      <th>Outlet_Size</th>\n      <th>Outlet_Location_Type</th>\n      <th>Outlet_Type</th>\n      <th>Item_Outlet_Sales</th>\n    </tr>\n  </thead>\n  <tbody>\n    <tr>\n      <th>0</th>\n      <td>FDA15</td>\n      <td>9.30</td>\n      <td>LF</td>\n      <td>0.016047</td>\n      <td>Dairy</td>\n      <td>249.8092</td>\n      <td>OUT049</td>\n      <td>1999</td>\n      <td>Medium</td>\n      <td>Tier 1</td>\n      <td>Supermarket Type1</td>\n      <td>3735.1380</td>\n    </tr>\n    <tr>\n      <th>1</th>\n      <td>DRC01</td>\n      <td>5.92</td>\n      <td>R</td>\n      <td>0.019278</td>\n      <td>Soft Drinks</td>\n      <td>48.2692</td>\n      <td>OUT018</td>\n      <td>2009</td>\n      <td>Medium</td>\n      <td>Tier 3</td>\n      <td>Supermarket Type2</td>\n      <td>443.4228</td>\n    </tr>\n    <tr>\n      <th>2</th>\n      <td>FDN15</td>\n      <td>17.50</td>\n      <td>LF</td>\n      <td>0.016760</td>\n      <td>Meat</td>\n      <td>141.6180</td>\n      <td>OUT049</td>\n      <td>1999</td>\n      <td>Medium</td>\n      <td>Tier 1</td>\n      <td>Supermarket Type1</td>\n      <td>2097.2700</td>\n    </tr>\n    <tr>\n      <th>3</th>\n      <td>FDX07</td>\n      <td>19.20</td>\n      <td>R</td>\n      <td>0.000000</td>\n      <td>Fruits and Vegetables</td>\n      <td>182.0950</td>\n      <td>OUT010</td>\n      <td>1998</td>\n      <td>Medium</td>\n      <td>Tier 3</td>\n      <td>Grocery Store</td>\n      <td>732.3800</td>\n    </tr>\n    <tr>\n      <th>4</th>\n      <td>NCD19</td>\n      <td>8.93</td>\n      <td>LF</td>\n      <td>0.000000</td>\n      <td>Household</td>\n      <td>53.8614</td>\n      <td>OUT013</td>\n      <td>1987</td>\n      <td>High</td>\n      <td>Tier 3</td>\n      <td>Supermarket Type1</td>\n      <td>994.7052</td>\n    </tr>\n  </tbody>\n</table>\n</div>"
     },
     "execution_count": 27,
     "metadata": {},
     "output_type": "execute_result"
    }
   ],
   "source": [
    "data.head()"
   ]
  },
  {
   "cell_type": "code",
   "execution_count": 28,
   "metadata": {},
   "outputs": [],
   "source": [
    "def convert(price):\n",
    "    price = price/74\n",
    "    price = price + 1.28\n",
    "    return price"
   ]
  },
  {
   "cell_type": "code",
   "execution_count": 40,
   "outputs": [],
   "source": [
    "def convert_to_usd(price):\n",
    "    price = price / 74\n",
    "    price += 1.28\n",
    "    return price"
   ],
   "metadata": {
    "collapsed": false
   }
  },
  {
   "cell_type": "code",
   "execution_count": 41,
   "outputs": [],
   "source": [
    "data['Item_MRP_in_USD'] = data.Item_MRP.apply(lambda x: convert_to_usd(x))"
   ],
   "metadata": {
    "collapsed": false
   }
  },
  {
   "cell_type": "code",
   "execution_count": 38,
   "metadata": {},
   "outputs": [],
   "source": [
    "# data['Item_MRP_in_USD_UPDATED'] = data.Item_MRP.apply(lambda x : convert(x))"
   ]
  },
  {
   "cell_type": "code",
   "execution_count": null,
   "outputs": [],
   "source": [],
   "metadata": {
    "collapsed": false
   }
  },
  {
   "cell_type": "code",
   "execution_count": 42,
   "metadata": {},
   "outputs": [
    {
     "data": {
      "text/plain": "  Item_Identifier  Item_Weight Item_Fat_Content  Item_Visibility  \\\n0           FDA15         9.30               LF         0.016047   \n1           DRC01         5.92                R         0.019278   \n2           FDN15        17.50               LF         0.016760   \n3           FDX07        19.20                R         0.000000   \n4           NCD19         8.93               LF         0.000000   \n\n               Item_Type  Item_MRP Outlet_Identifier  \\\n0                  Dairy  249.8092            OUT049   \n1            Soft Drinks   48.2692            OUT018   \n2                   Meat  141.6180            OUT049   \n3  Fruits and Vegetables  182.0950            OUT010   \n4              Household   53.8614            OUT013   \n\n   Outlet_Establishment_Year Outlet_Size Outlet_Location_Type  \\\n0                       1999      Medium               Tier 1   \n1                       2009      Medium               Tier 3   \n2                       1999      Medium               Tier 1   \n3                       1998      Medium               Tier 3   \n4                       1987        High               Tier 3   \n\n         Outlet_Type  Item_Outlet_Sales  Item_MRP_in_USD_UPDATED  \\\n0  Supermarket Type1          3735.1380                 4.655800   \n1  Supermarket Type2           443.4228                 1.932286   \n2  Supermarket Type1          2097.2700                 3.193757   \n3      Grocery Store           732.3800                 3.740743   \n4  Supermarket Type1           994.7052                 2.007857   \n\n   Item_MRP_in_USD  \n0         4.655800  \n1         1.932286  \n2         3.193757  \n3         3.740743  \n4         2.007857  ",
      "text/html": "<div>\n<style scoped>\n    .dataframe tbody tr th:only-of-type {\n        vertical-align: middle;\n    }\n\n    .dataframe tbody tr th {\n        vertical-align: top;\n    }\n\n    .dataframe thead th {\n        text-align: right;\n    }\n</style>\n<table border=\"1\" class=\"dataframe\">\n  <thead>\n    <tr style=\"text-align: right;\">\n      <th></th>\n      <th>Item_Identifier</th>\n      <th>Item_Weight</th>\n      <th>Item_Fat_Content</th>\n      <th>Item_Visibility</th>\n      <th>Item_Type</th>\n      <th>Item_MRP</th>\n      <th>Outlet_Identifier</th>\n      <th>Outlet_Establishment_Year</th>\n      <th>Outlet_Size</th>\n      <th>Outlet_Location_Type</th>\n      <th>Outlet_Type</th>\n      <th>Item_Outlet_Sales</th>\n      <th>Item_MRP_in_USD_UPDATED</th>\n      <th>Item_MRP_in_USD</th>\n    </tr>\n  </thead>\n  <tbody>\n    <tr>\n      <th>0</th>\n      <td>FDA15</td>\n      <td>9.30</td>\n      <td>LF</td>\n      <td>0.016047</td>\n      <td>Dairy</td>\n      <td>249.8092</td>\n      <td>OUT049</td>\n      <td>1999</td>\n      <td>Medium</td>\n      <td>Tier 1</td>\n      <td>Supermarket Type1</td>\n      <td>3735.1380</td>\n      <td>4.655800</td>\n      <td>4.655800</td>\n    </tr>\n    <tr>\n      <th>1</th>\n      <td>DRC01</td>\n      <td>5.92</td>\n      <td>R</td>\n      <td>0.019278</td>\n      <td>Soft Drinks</td>\n      <td>48.2692</td>\n      <td>OUT018</td>\n      <td>2009</td>\n      <td>Medium</td>\n      <td>Tier 3</td>\n      <td>Supermarket Type2</td>\n      <td>443.4228</td>\n      <td>1.932286</td>\n      <td>1.932286</td>\n    </tr>\n    <tr>\n      <th>2</th>\n      <td>FDN15</td>\n      <td>17.50</td>\n      <td>LF</td>\n      <td>0.016760</td>\n      <td>Meat</td>\n      <td>141.6180</td>\n      <td>OUT049</td>\n      <td>1999</td>\n      <td>Medium</td>\n      <td>Tier 1</td>\n      <td>Supermarket Type1</td>\n      <td>2097.2700</td>\n      <td>3.193757</td>\n      <td>3.193757</td>\n    </tr>\n    <tr>\n      <th>3</th>\n      <td>FDX07</td>\n      <td>19.20</td>\n      <td>R</td>\n      <td>0.000000</td>\n      <td>Fruits and Vegetables</td>\n      <td>182.0950</td>\n      <td>OUT010</td>\n      <td>1998</td>\n      <td>Medium</td>\n      <td>Tier 3</td>\n      <td>Grocery Store</td>\n      <td>732.3800</td>\n      <td>3.740743</td>\n      <td>3.740743</td>\n    </tr>\n    <tr>\n      <th>4</th>\n      <td>NCD19</td>\n      <td>8.93</td>\n      <td>LF</td>\n      <td>0.000000</td>\n      <td>Household</td>\n      <td>53.8614</td>\n      <td>OUT013</td>\n      <td>1987</td>\n      <td>High</td>\n      <td>Tier 3</td>\n      <td>Supermarket Type1</td>\n      <td>994.7052</td>\n      <td>2.007857</td>\n      <td>2.007857</td>\n    </tr>\n  </tbody>\n</table>\n</div>"
     },
     "execution_count": 42,
     "metadata": {},
     "output_type": "execute_result"
    }
   ],
   "source": [
    "data.head()"
   ]
  },
  {
   "cell_type": "code",
   "execution_count": 43,
   "metadata": {},
   "outputs": [
    {
     "data": {
      "text/plain": "      Item_MRP  Item_MRP_in_USD\n0     249.8092         4.655800\n1      48.2692         1.932286\n2     141.6180         3.193757\n3     182.0950         3.740743\n4      53.8614         2.007857\n...        ...              ...\n8518  214.5218         4.178943\n8519  108.1570         2.741581\n8520   85.1224         2.430303\n8521  103.1332         2.673692\n8522   75.4670         2.299824\n\n[8523 rows x 2 columns]",
      "text/html": "<div>\n<style scoped>\n    .dataframe tbody tr th:only-of-type {\n        vertical-align: middle;\n    }\n\n    .dataframe tbody tr th {\n        vertical-align: top;\n    }\n\n    .dataframe thead th {\n        text-align: right;\n    }\n</style>\n<table border=\"1\" class=\"dataframe\">\n  <thead>\n    <tr style=\"text-align: right;\">\n      <th></th>\n      <th>Item_MRP</th>\n      <th>Item_MRP_in_USD</th>\n    </tr>\n  </thead>\n  <tbody>\n    <tr>\n      <th>0</th>\n      <td>249.8092</td>\n      <td>4.655800</td>\n    </tr>\n    <tr>\n      <th>1</th>\n      <td>48.2692</td>\n      <td>1.932286</td>\n    </tr>\n    <tr>\n      <th>2</th>\n      <td>141.6180</td>\n      <td>3.193757</td>\n    </tr>\n    <tr>\n      <th>3</th>\n      <td>182.0950</td>\n      <td>3.740743</td>\n    </tr>\n    <tr>\n      <th>4</th>\n      <td>53.8614</td>\n      <td>2.007857</td>\n    </tr>\n    <tr>\n      <th>...</th>\n      <td>...</td>\n      <td>...</td>\n    </tr>\n    <tr>\n      <th>8518</th>\n      <td>214.5218</td>\n      <td>4.178943</td>\n    </tr>\n    <tr>\n      <th>8519</th>\n      <td>108.1570</td>\n      <td>2.741581</td>\n    </tr>\n    <tr>\n      <th>8520</th>\n      <td>85.1224</td>\n      <td>2.430303</td>\n    </tr>\n    <tr>\n      <th>8521</th>\n      <td>103.1332</td>\n      <td>2.673692</td>\n    </tr>\n    <tr>\n      <th>8522</th>\n      <td>75.4670</td>\n      <td>2.299824</td>\n    </tr>\n  </tbody>\n</table>\n<p>8523 rows × 2 columns</p>\n</div>"
     },
     "execution_count": 43,
     "metadata": {},
     "output_type": "execute_result"
    }
   ],
   "source": [
    "data[['Item_MRP','Item_MRP_in_USD']]"
   ]
  },
  {
   "cell_type": "markdown",
   "metadata": {},
   "source": [
    "---\n",
    "\n",
    "#### `HOW TO CONVERT CATEGORICAL VARIABLES INTO NUMERICAL?`\n",
    "\n",
    "Most of the machine learning algorithms do not take categorical variables so, we need to convert them into numerical ones. In pandas, we have one such function `get_dummies` which will help us in doing such tasks.  It will create a binary column for each of the categories.\n",
    "\n",
    "For example, look at the image below, We have two genders male and female. It will create two binary columns.  \n",
    "![](encode.png)\n",
    "\n",
    "This is also known as `One Hot Encoding`. You will learn more encoding techniques in the data pre-processing module.\n",
    "\n",
    "---\n",
    "\n",
    "#### Let's look at the data again."
   ]
  },
  {
   "cell_type": "code",
   "execution_count": 44,
   "metadata": {},
   "outputs": [
    {
     "data": {
      "text/plain": "  Item_Identifier  Item_Weight Item_Fat_Content  Item_Visibility  \\\n0           FDA15         9.30               LF         0.016047   \n1           DRC01         5.92                R         0.019278   \n2           FDN15        17.50               LF         0.016760   \n3           FDX07        19.20                R         0.000000   \n4           NCD19         8.93               LF         0.000000   \n\n               Item_Type  Item_MRP Outlet_Identifier  \\\n0                  Dairy  249.8092            OUT049   \n1            Soft Drinks   48.2692            OUT018   \n2                   Meat  141.6180            OUT049   \n3  Fruits and Vegetables  182.0950            OUT010   \n4              Household   53.8614            OUT013   \n\n   Outlet_Establishment_Year Outlet_Size Outlet_Location_Type  \\\n0                       1999      Medium               Tier 1   \n1                       2009      Medium               Tier 3   \n2                       1999      Medium               Tier 1   \n3                       1998      Medium               Tier 3   \n4                       1987        High               Tier 3   \n\n         Outlet_Type  Item_Outlet_Sales  Item_MRP_in_USD_UPDATED  \\\n0  Supermarket Type1          3735.1380                 4.655800   \n1  Supermarket Type2           443.4228                 1.932286   \n2  Supermarket Type1          2097.2700                 3.193757   \n3      Grocery Store           732.3800                 3.740743   \n4  Supermarket Type1           994.7052                 2.007857   \n\n   Item_MRP_in_USD  \n0         4.655800  \n1         1.932286  \n2         3.193757  \n3         3.740743  \n4         2.007857  ",
      "text/html": "<div>\n<style scoped>\n    .dataframe tbody tr th:only-of-type {\n        vertical-align: middle;\n    }\n\n    .dataframe tbody tr th {\n        vertical-align: top;\n    }\n\n    .dataframe thead th {\n        text-align: right;\n    }\n</style>\n<table border=\"1\" class=\"dataframe\">\n  <thead>\n    <tr style=\"text-align: right;\">\n      <th></th>\n      <th>Item_Identifier</th>\n      <th>Item_Weight</th>\n      <th>Item_Fat_Content</th>\n      <th>Item_Visibility</th>\n      <th>Item_Type</th>\n      <th>Item_MRP</th>\n      <th>Outlet_Identifier</th>\n      <th>Outlet_Establishment_Year</th>\n      <th>Outlet_Size</th>\n      <th>Outlet_Location_Type</th>\n      <th>Outlet_Type</th>\n      <th>Item_Outlet_Sales</th>\n      <th>Item_MRP_in_USD_UPDATED</th>\n      <th>Item_MRP_in_USD</th>\n    </tr>\n  </thead>\n  <tbody>\n    <tr>\n      <th>0</th>\n      <td>FDA15</td>\n      <td>9.30</td>\n      <td>LF</td>\n      <td>0.016047</td>\n      <td>Dairy</td>\n      <td>249.8092</td>\n      <td>OUT049</td>\n      <td>1999</td>\n      <td>Medium</td>\n      <td>Tier 1</td>\n      <td>Supermarket Type1</td>\n      <td>3735.1380</td>\n      <td>4.655800</td>\n      <td>4.655800</td>\n    </tr>\n    <tr>\n      <th>1</th>\n      <td>DRC01</td>\n      <td>5.92</td>\n      <td>R</td>\n      <td>0.019278</td>\n      <td>Soft Drinks</td>\n      <td>48.2692</td>\n      <td>OUT018</td>\n      <td>2009</td>\n      <td>Medium</td>\n      <td>Tier 3</td>\n      <td>Supermarket Type2</td>\n      <td>443.4228</td>\n      <td>1.932286</td>\n      <td>1.932286</td>\n    </tr>\n    <tr>\n      <th>2</th>\n      <td>FDN15</td>\n      <td>17.50</td>\n      <td>LF</td>\n      <td>0.016760</td>\n      <td>Meat</td>\n      <td>141.6180</td>\n      <td>OUT049</td>\n      <td>1999</td>\n      <td>Medium</td>\n      <td>Tier 1</td>\n      <td>Supermarket Type1</td>\n      <td>2097.2700</td>\n      <td>3.193757</td>\n      <td>3.193757</td>\n    </tr>\n    <tr>\n      <th>3</th>\n      <td>FDX07</td>\n      <td>19.20</td>\n      <td>R</td>\n      <td>0.000000</td>\n      <td>Fruits and Vegetables</td>\n      <td>182.0950</td>\n      <td>OUT010</td>\n      <td>1998</td>\n      <td>Medium</td>\n      <td>Tier 3</td>\n      <td>Grocery Store</td>\n      <td>732.3800</td>\n      <td>3.740743</td>\n      <td>3.740743</td>\n    </tr>\n    <tr>\n      <th>4</th>\n      <td>NCD19</td>\n      <td>8.93</td>\n      <td>LF</td>\n      <td>0.000000</td>\n      <td>Household</td>\n      <td>53.8614</td>\n      <td>OUT013</td>\n      <td>1987</td>\n      <td>High</td>\n      <td>Tier 3</td>\n      <td>Supermarket Type1</td>\n      <td>994.7052</td>\n      <td>2.007857</td>\n      <td>2.007857</td>\n    </tr>\n  </tbody>\n</table>\n</div>"
     },
     "execution_count": 44,
     "metadata": {},
     "output_type": "execute_result"
    }
   ],
   "source": [
    "data.head()"
   ]
  },
  {
   "cell_type": "code",
   "execution_count": 45,
   "metadata": {},
   "outputs": [
    {
     "data": {
      "text/plain": "(8523, 14)"
     },
     "execution_count": 45,
     "metadata": {},
     "output_type": "execute_result"
    }
   ],
   "source": [
    "# currently we have 13 columns in the data\n",
    "data.shape"
   ]
  },
  {
   "cell_type": "markdown",
   "metadata": {},
   "source": [
    "#### `USE GET_DUMMIES`\n",
    "\n",
    "---"
   ]
  },
  {
   "cell_type": "code",
   "execution_count": 50,
   "metadata": {},
   "outputs": [],
   "source": [
    "# convert categorical variables into numerical variables.\n",
    "# data = pd.get_dummies(data)\n",
    "data = pd.get_dummies(data)"
   ]
  },
  {
   "cell_type": "code",
   "execution_count": 51,
   "metadata": {},
   "outputs": [
    {
     "data": {
      "text/plain": "   Item_Weight  Item_Visibility  Item_MRP  Outlet_Establishment_Year  \\\n0         9.30         0.016047  249.8092                       1999   \n1         5.92         0.019278   48.2692                       2009   \n2        17.50         0.016760  141.6180                       1999   \n3        19.20         0.000000  182.0950                       1998   \n4         8.93         0.000000   53.8614                       1987   \n\n   Item_Outlet_Sales  Item_MRP_in_USD_UPDATED  Item_MRP_in_USD  \\\n0          3735.1380                 4.655800         4.655800   \n1           443.4228                 1.932286         1.932286   \n2          2097.2700                 3.193757         3.193757   \n3           732.3800                 3.740743         3.740743   \n4           994.7052                 2.007857         2.007857   \n\n   Item_Identifier_DRA12  Item_Identifier_DRA24  Item_Identifier_DRA59  ...  \\\n0                      0                      0                      0  ...   \n1                      0                      0                      0  ...   \n2                      0                      0                      0  ...   \n3                      0                      0                      0  ...   \n4                      0                      0                      0  ...   \n\n   Outlet_Size_High  Outlet_Size_Medium  Outlet_Size_Small  \\\n0                 0                   1                  0   \n1                 0                   1                  0   \n2                 0                   1                  0   \n3                 0                   1                  0   \n4                 1                   0                  0   \n\n   Outlet_Location_Type_Tier 1  Outlet_Location_Type_Tier 2  \\\n0                            1                            0   \n1                            0                            0   \n2                            1                            0   \n3                            0                            0   \n4                            0                            0   \n\n   Outlet_Location_Type_Tier 3  Outlet_Type_Grocery Store  \\\n0                            0                          0   \n1                            1                          0   \n2                            0                          0   \n3                            1                          1   \n4                            1                          0   \n\n   Outlet_Type_Supermarket Type1  Outlet_Type_Supermarket Type2  \\\n0                              1                              0   \n1                              0                              1   \n2                              1                              0   \n3                              0                              0   \n4                              1                              0   \n\n   Outlet_Type_Supermarket Type3  \n0                              0  \n1                              0  \n2                              0  \n3                              0  \n4                              0  \n\n[5 rows x 1604 columns]",
      "text/html": "<div>\n<style scoped>\n    .dataframe tbody tr th:only-of-type {\n        vertical-align: middle;\n    }\n\n    .dataframe tbody tr th {\n        vertical-align: top;\n    }\n\n    .dataframe thead th {\n        text-align: right;\n    }\n</style>\n<table border=\"1\" class=\"dataframe\">\n  <thead>\n    <tr style=\"text-align: right;\">\n      <th></th>\n      <th>Item_Weight</th>\n      <th>Item_Visibility</th>\n      <th>Item_MRP</th>\n      <th>Outlet_Establishment_Year</th>\n      <th>Item_Outlet_Sales</th>\n      <th>Item_MRP_in_USD_UPDATED</th>\n      <th>Item_MRP_in_USD</th>\n      <th>Item_Identifier_DRA12</th>\n      <th>Item_Identifier_DRA24</th>\n      <th>Item_Identifier_DRA59</th>\n      <th>...</th>\n      <th>Outlet_Size_High</th>\n      <th>Outlet_Size_Medium</th>\n      <th>Outlet_Size_Small</th>\n      <th>Outlet_Location_Type_Tier 1</th>\n      <th>Outlet_Location_Type_Tier 2</th>\n      <th>Outlet_Location_Type_Tier 3</th>\n      <th>Outlet_Type_Grocery Store</th>\n      <th>Outlet_Type_Supermarket Type1</th>\n      <th>Outlet_Type_Supermarket Type2</th>\n      <th>Outlet_Type_Supermarket Type3</th>\n    </tr>\n  </thead>\n  <tbody>\n    <tr>\n      <th>0</th>\n      <td>9.30</td>\n      <td>0.016047</td>\n      <td>249.8092</td>\n      <td>1999</td>\n      <td>3735.1380</td>\n      <td>4.655800</td>\n      <td>4.655800</td>\n      <td>0</td>\n      <td>0</td>\n      <td>0</td>\n      <td>...</td>\n      <td>0</td>\n      <td>1</td>\n      <td>0</td>\n      <td>1</td>\n      <td>0</td>\n      <td>0</td>\n      <td>0</td>\n      <td>1</td>\n      <td>0</td>\n      <td>0</td>\n    </tr>\n    <tr>\n      <th>1</th>\n      <td>5.92</td>\n      <td>0.019278</td>\n      <td>48.2692</td>\n      <td>2009</td>\n      <td>443.4228</td>\n      <td>1.932286</td>\n      <td>1.932286</td>\n      <td>0</td>\n      <td>0</td>\n      <td>0</td>\n      <td>...</td>\n      <td>0</td>\n      <td>1</td>\n      <td>0</td>\n      <td>0</td>\n      <td>0</td>\n      <td>1</td>\n      <td>0</td>\n      <td>0</td>\n      <td>1</td>\n      <td>0</td>\n    </tr>\n    <tr>\n      <th>2</th>\n      <td>17.50</td>\n      <td>0.016760</td>\n      <td>141.6180</td>\n      <td>1999</td>\n      <td>2097.2700</td>\n      <td>3.193757</td>\n      <td>3.193757</td>\n      <td>0</td>\n      <td>0</td>\n      <td>0</td>\n      <td>...</td>\n      <td>0</td>\n      <td>1</td>\n      <td>0</td>\n      <td>1</td>\n      <td>0</td>\n      <td>0</td>\n      <td>0</td>\n      <td>1</td>\n      <td>0</td>\n      <td>0</td>\n    </tr>\n    <tr>\n      <th>3</th>\n      <td>19.20</td>\n      <td>0.000000</td>\n      <td>182.0950</td>\n      <td>1998</td>\n      <td>732.3800</td>\n      <td>3.740743</td>\n      <td>3.740743</td>\n      <td>0</td>\n      <td>0</td>\n      <td>0</td>\n      <td>...</td>\n      <td>0</td>\n      <td>1</td>\n      <td>0</td>\n      <td>0</td>\n      <td>0</td>\n      <td>1</td>\n      <td>1</td>\n      <td>0</td>\n      <td>0</td>\n      <td>0</td>\n    </tr>\n    <tr>\n      <th>4</th>\n      <td>8.93</td>\n      <td>0.000000</td>\n      <td>53.8614</td>\n      <td>1987</td>\n      <td>994.7052</td>\n      <td>2.007857</td>\n      <td>2.007857</td>\n      <td>0</td>\n      <td>0</td>\n      <td>0</td>\n      <td>...</td>\n      <td>1</td>\n      <td>0</td>\n      <td>0</td>\n      <td>0</td>\n      <td>0</td>\n      <td>1</td>\n      <td>0</td>\n      <td>1</td>\n      <td>0</td>\n      <td>0</td>\n    </tr>\n  </tbody>\n</table>\n<p>5 rows × 1604 columns</p>\n</div>"
     },
     "execution_count": 51,
     "metadata": {},
     "output_type": "execute_result"
    }
   ],
   "source": [
    "# view the data\n",
    "data.head()"
   ]
  },
  {
   "cell_type": "code",
   "execution_count": 52,
   "metadata": {},
   "outputs": [
    {
     "data": {
      "text/plain": "(8523, 1604)"
     },
     "execution_count": 52,
     "metadata": {},
     "output_type": "execute_result"
    }
   ],
   "source": [
    "# now, we have 1603 columns\n",
    "data.shape"
   ]
  },
  {
   "cell_type": "code",
   "execution_count": null,
   "metadata": {},
   "outputs": [],
   "source": []
  }
 ],
 "metadata": {
  "kernelspec": {
   "display_name": "Python 3",
   "language": "python",
   "name": "python3"
  },
  "language_info": {
   "codemirror_mode": {
    "name": "ipython",
    "version": 3
   },
   "file_extension": ".py",
   "mimetype": "text/x-python",
   "name": "python",
   "nbconvert_exporter": "python",
   "pygments_lexer": "ipython3",
   "version": "3.7.4"
  }
 },
 "nbformat": 4,
 "nbformat_minor": 2
}
