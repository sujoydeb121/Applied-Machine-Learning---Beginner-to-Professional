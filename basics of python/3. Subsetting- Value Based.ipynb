{
 "nbformat": 4,
 "nbformat_minor": 0,
 "metadata": {
  "kernelspec": {
   "display_name": "Python 3",
   "language": "python",
   "name": "python3"
  },
  "language_info": {
   "codemirror_mode": {
    "name": "ipython",
    "version": 3
   },
   "file_extension": ".py",
   "mimetype": "text/x-python",
   "name": "python",
   "nbconvert_exporter": "python",
   "pygments_lexer": "ipython3",
   "version": "3.7.4"
  },
  "colab": {
   "name": "3. Subsetting- Value Based.ipynb",
   "provenance": [],
   "collapsed_sections": []
  }
 },
 "cells": [
  {
   "cell_type": "markdown",
   "metadata": {
    "id": "09BbE5RLlwTM",
    "colab_type": "text"
   },
   "source": [
    "---\n",
    "---\n",
    "\n",
    "<center><h1> 📍 📍 Subsetting: Value Based 📍 📍 </h1></center>\n",
    "\n",
    "\n",
    "---\n",
    "\n",
    "### `TABLE OF CONTENTS`\n",
    "\n",
    " - How to select rows based on condition?\n",
    " - How to select rows based on multiple conditions?\n",
    " - How to select specific columns from a data?\n",
    " - How to select rows based on a condition and view only the specific columms?\n",
    " - How to select the columns with specific data types?\n",
    "\n",
    "---\n",
    "\n",
    "#### `READ THE DATA`\n",
    "\n",
    "- In this notebook, we are going to use the big mart sales data that we have used previously. It is stored in the folder name `datasets`.\n",
    "\n",
    "---"
   ]
  },
  {
   "cell_type": "code",
   "metadata": {
    "id": "hqhFzAUBlwTQ",
    "colab_type": "code",
    "colab": {}
   },
   "source": [
    "# importing the required libraries\n",
    "import pandas as pd"
   ],
   "execution_count": 1,
   "outputs": []
  },
  {
   "cell_type": "code",
   "metadata": {
    "id": "D_F4Y2kolwTa",
    "colab_type": "code",
    "colab": {}
   },
   "source": [
    "# read the data\n",
    "data = pd.read_csv('datasets/big_mart_sales.csv')"
   ],
   "execution_count": 2,
   "outputs": []
  },
  {
   "cell_type": "code",
   "metadata": {
    "id": "AnhLW7W1lwTf",
    "colab_type": "code",
    "colab": {},
    "outputId": "4e60c197-91fa-4262-b6df-bf1bd6f4af8f"
   },
   "source": [
    "# view the top rows of the data\n",
    "data.head()"
   ],
   "execution_count": 3,
   "outputs": [
    {
     "data": {
      "text/plain": "  Item_Identifier  Item_Weight Item_Fat_Content  Item_Visibility  \\\n0           FDA15         9.30          Low Fat         0.016047   \n1           DRC01         5.92          Regular         0.019278   \n2           FDN15        17.50          Low Fat         0.016760   \n3           FDX07        19.20          Regular         0.000000   \n4           NCD19         8.93          Low Fat         0.000000   \n\n               Item_Type  Item_MRP Outlet_Identifier  \\\n0                  Dairy  249.8092            OUT049   \n1            Soft Drinks   48.2692            OUT018   \n2                   Meat  141.6180            OUT049   \n3  Fruits and Vegetables  182.0950            OUT010   \n4              Household   53.8614            OUT013   \n\n   Outlet_Establishment_Year Outlet_Size Outlet_Location_Type  \\\n0                       1999      Medium               Tier 1   \n1                       2009      Medium               Tier 3   \n2                       1999      Medium               Tier 1   \n3                       1998         NaN               Tier 3   \n4                       1987        High               Tier 3   \n\n         Outlet_Type  Item_Outlet_Sales  \n0  Supermarket Type1          3735.1380  \n1  Supermarket Type2           443.4228  \n2  Supermarket Type1          2097.2700  \n3      Grocery Store           732.3800  \n4  Supermarket Type1           994.7052  ",
      "text/html": "<div>\n<style scoped>\n    .dataframe tbody tr th:only-of-type {\n        vertical-align: middle;\n    }\n\n    .dataframe tbody tr th {\n        vertical-align: top;\n    }\n\n    .dataframe thead th {\n        text-align: right;\n    }\n</style>\n<table border=\"1\" class=\"dataframe\">\n  <thead>\n    <tr style=\"text-align: right;\">\n      <th></th>\n      <th>Item_Identifier</th>\n      <th>Item_Weight</th>\n      <th>Item_Fat_Content</th>\n      <th>Item_Visibility</th>\n      <th>Item_Type</th>\n      <th>Item_MRP</th>\n      <th>Outlet_Identifier</th>\n      <th>Outlet_Establishment_Year</th>\n      <th>Outlet_Size</th>\n      <th>Outlet_Location_Type</th>\n      <th>Outlet_Type</th>\n      <th>Item_Outlet_Sales</th>\n    </tr>\n  </thead>\n  <tbody>\n    <tr>\n      <th>0</th>\n      <td>FDA15</td>\n      <td>9.30</td>\n      <td>Low Fat</td>\n      <td>0.016047</td>\n      <td>Dairy</td>\n      <td>249.8092</td>\n      <td>OUT049</td>\n      <td>1999</td>\n      <td>Medium</td>\n      <td>Tier 1</td>\n      <td>Supermarket Type1</td>\n      <td>3735.1380</td>\n    </tr>\n    <tr>\n      <th>1</th>\n      <td>DRC01</td>\n      <td>5.92</td>\n      <td>Regular</td>\n      <td>0.019278</td>\n      <td>Soft Drinks</td>\n      <td>48.2692</td>\n      <td>OUT018</td>\n      <td>2009</td>\n      <td>Medium</td>\n      <td>Tier 3</td>\n      <td>Supermarket Type2</td>\n      <td>443.4228</td>\n    </tr>\n    <tr>\n      <th>2</th>\n      <td>FDN15</td>\n      <td>17.50</td>\n      <td>Low Fat</td>\n      <td>0.016760</td>\n      <td>Meat</td>\n      <td>141.6180</td>\n      <td>OUT049</td>\n      <td>1999</td>\n      <td>Medium</td>\n      <td>Tier 1</td>\n      <td>Supermarket Type1</td>\n      <td>2097.2700</td>\n    </tr>\n    <tr>\n      <th>3</th>\n      <td>FDX07</td>\n      <td>19.20</td>\n      <td>Regular</td>\n      <td>0.000000</td>\n      <td>Fruits and Vegetables</td>\n      <td>182.0950</td>\n      <td>OUT010</td>\n      <td>1998</td>\n      <td>NaN</td>\n      <td>Tier 3</td>\n      <td>Grocery Store</td>\n      <td>732.3800</td>\n    </tr>\n    <tr>\n      <th>4</th>\n      <td>NCD19</td>\n      <td>8.93</td>\n      <td>Low Fat</td>\n      <td>0.000000</td>\n      <td>Household</td>\n      <td>53.8614</td>\n      <td>OUT013</td>\n      <td>1987</td>\n      <td>High</td>\n      <td>Tier 3</td>\n      <td>Supermarket Type1</td>\n      <td>994.7052</td>\n    </tr>\n  </tbody>\n</table>\n</div>"
     },
     "execution_count": 3,
     "metadata": {},
     "output_type": "execute_result"
    }
   ]
  },
  {
   "cell_type": "markdown",
   "metadata": {
    "id": "A2m1xO-_lwTm",
    "colab_type": "text"
   },
   "source": [
    "---\n",
    "\n",
    "#### `HOW TO SELECT ROWS BASED ON CONDITION?`\n",
    "\n",
    "- Select all rows where the value of `Outlet_Establishment_Year` is 1987\n",
    "\n",
    "---"
   ]
  },
  {
   "cell_type": "code",
   "metadata": {
    "scrolled": false,
    "id": "UOMcQIWmlwTo",
    "colab_type": "code",
    "colab": {},
    "outputId": "3ebf02d0-7467-4716-f9de-6bf9f23e3503"
   },
   "source": [
    "# filter rows with condition\n",
    "# data.loc[data.Outlet_Establishment_Year == 1987]\n",
    "# data[data.Outlet_Establishment_Year == 1987]\n",
    "# data.loc[data.Outlet_Establishment_Year == 1987]\n",
    "data[data.Outlet_Establishment_Year ==1986]"
   ],
   "execution_count": 6,
   "outputs": [
    {
     "data": {
      "text/plain": "Empty DataFrame\nColumns: [Item_Identifier, Item_Weight, Item_Fat_Content, Item_Visibility, Item_Type, Item_MRP, Outlet_Identifier, Outlet_Establishment_Year, Outlet_Size, Outlet_Location_Type, Outlet_Type, Item_Outlet_Sales]\nIndex: []",
      "text/html": "<div>\n<style scoped>\n    .dataframe tbody tr th:only-of-type {\n        vertical-align: middle;\n    }\n\n    .dataframe tbody tr th {\n        vertical-align: top;\n    }\n\n    .dataframe thead th {\n        text-align: right;\n    }\n</style>\n<table border=\"1\" class=\"dataframe\">\n  <thead>\n    <tr style=\"text-align: right;\">\n      <th></th>\n      <th>Item_Identifier</th>\n      <th>Item_Weight</th>\n      <th>Item_Fat_Content</th>\n      <th>Item_Visibility</th>\n      <th>Item_Type</th>\n      <th>Item_MRP</th>\n      <th>Outlet_Identifier</th>\n      <th>Outlet_Establishment_Year</th>\n      <th>Outlet_Size</th>\n      <th>Outlet_Location_Type</th>\n      <th>Outlet_Type</th>\n      <th>Item_Outlet_Sales</th>\n    </tr>\n  </thead>\n  <tbody>\n  </tbody>\n</table>\n</div>"
     },
     "execution_count": 6,
     "metadata": {},
     "output_type": "execute_result"
    }
   ]
  },
  {
   "cell_type": "markdown",
   "metadata": {
    "id": "AkdAgVTVlwTt",
    "colab_type": "text"
   },
   "source": [
    "---\n",
    "\n",
    "#### `HOW TO SELECT ROWS BASED ON MULTIPLE CONDITIONS?`\n",
    "\n",
    "- When passing multiple conditions make sure that you put each of the condition in a parenthesis ().\n",
    "- Select all rows where the value of `Outlet_Establishment_Year` is 2009 and value of `Outlet_Size` is Medium.\n",
    "\n",
    "---"
   ]
  },
  {
   "cell_type": "code",
   "metadata": {
    "id": "ClYFLqW3lwTv",
    "colab_type": "code",
    "colab": {},
    "outputId": "e3d96fb6-029b-4e2c-e26f-4330d249fa13"
   },
   "source": [
    "# filter data based on multiple conditions\n",
    "# and &\n",
    "# or |\n",
    "# not !\n",
    "data.loc[(data.Outlet_Establishment_Year == 2009) & (data.Outlet_Size == 'Medium')]\n",
    "# data[(data.Outlet_Establishment_Year != 2009)] #and, or\n",
    "data[(data.Outlet_Establishment_Year == 2009  ) & (data.Outlet_Size =='Medium')] # | &\n"
   ],
   "execution_count": 12,
   "outputs": [
    {
     "data": {
      "text/plain": "     Item_Identifier  Item_Weight Item_Fat_Content  Item_Visibility  \\\n1              DRC01        5.920          Regular         0.019278   \n5              FDP36       10.395          Regular         0.000000   \n16             NCB42       11.800          Low Fat         0.008596   \n31             NCS17       18.600          Low Fat         0.080829   \n32             FDP33       18.700          Low Fat         0.000000   \n...              ...          ...              ...              ...   \n8506           DRF37       17.250          Low Fat         0.084676   \n8511           FDF05       17.500          Low Fat         0.026980   \n8515           FDH24       20.700          Low Fat         0.021518   \n8516           NCJ19       18.600          Low Fat         0.118661   \n8521           FDN46        7.210          Regular         0.145221   \n\n               Item_Type  Item_MRP Outlet_Identifier  \\\n1            Soft Drinks   48.2692            OUT018   \n5           Baking Goods   51.4008            OUT018   \n16    Health and Hygiene  115.3492            OUT018   \n31    Health and Hygiene   96.4436            OUT018   \n32           Snack Foods  256.6672            OUT018   \n...                  ...       ...               ...   \n8506         Soft Drinks  263.1910            OUT018   \n8511        Frozen Foods  262.5910            OUT018   \n8515        Baking Goods  157.5288            OUT018   \n8516              Others   58.7588            OUT018   \n8521         Snack Foods  103.1332            OUT018   \n\n      Outlet_Establishment_Year Outlet_Size Outlet_Location_Type  \\\n1                          2009      Medium               Tier 3   \n5                          2009      Medium               Tier 3   \n16                         2009      Medium               Tier 3   \n31                         2009      Medium               Tier 3   \n32                         2009      Medium               Tier 3   \n...                         ...         ...                  ...   \n8506                       2009      Medium               Tier 3   \n8511                       2009      Medium               Tier 3   \n8515                       2009      Medium               Tier 3   \n8516                       2009      Medium               Tier 3   \n8521                       2009      Medium               Tier 3   \n\n            Outlet_Type  Item_Outlet_Sales  \n1     Supermarket Type2           443.4228  \n5     Supermarket Type2           556.6088  \n16    Supermarket Type2          1621.8888  \n31    Supermarket Type2          2741.7644  \n32    Supermarket Type2          3068.0064  \n...                 ...                ...  \n8506  Supermarket Type2          3944.8650  \n8511  Supermarket Type2          4207.8560  \n8515  Supermarket Type2          1571.2880  \n8516  Supermarket Type2           858.8820  \n8521  Supermarket Type2          1845.5976  \n\n[928 rows x 12 columns]",
      "text/html": "<div>\n<style scoped>\n    .dataframe tbody tr th:only-of-type {\n        vertical-align: middle;\n    }\n\n    .dataframe tbody tr th {\n        vertical-align: top;\n    }\n\n    .dataframe thead th {\n        text-align: right;\n    }\n</style>\n<table border=\"1\" class=\"dataframe\">\n  <thead>\n    <tr style=\"text-align: right;\">\n      <th></th>\n      <th>Item_Identifier</th>\n      <th>Item_Weight</th>\n      <th>Item_Fat_Content</th>\n      <th>Item_Visibility</th>\n      <th>Item_Type</th>\n      <th>Item_MRP</th>\n      <th>Outlet_Identifier</th>\n      <th>Outlet_Establishment_Year</th>\n      <th>Outlet_Size</th>\n      <th>Outlet_Location_Type</th>\n      <th>Outlet_Type</th>\n      <th>Item_Outlet_Sales</th>\n    </tr>\n  </thead>\n  <tbody>\n    <tr>\n      <th>1</th>\n      <td>DRC01</td>\n      <td>5.920</td>\n      <td>Regular</td>\n      <td>0.019278</td>\n      <td>Soft Drinks</td>\n      <td>48.2692</td>\n      <td>OUT018</td>\n      <td>2009</td>\n      <td>Medium</td>\n      <td>Tier 3</td>\n      <td>Supermarket Type2</td>\n      <td>443.4228</td>\n    </tr>\n    <tr>\n      <th>5</th>\n      <td>FDP36</td>\n      <td>10.395</td>\n      <td>Regular</td>\n      <td>0.000000</td>\n      <td>Baking Goods</td>\n      <td>51.4008</td>\n      <td>OUT018</td>\n      <td>2009</td>\n      <td>Medium</td>\n      <td>Tier 3</td>\n      <td>Supermarket Type2</td>\n      <td>556.6088</td>\n    </tr>\n    <tr>\n      <th>16</th>\n      <td>NCB42</td>\n      <td>11.800</td>\n      <td>Low Fat</td>\n      <td>0.008596</td>\n      <td>Health and Hygiene</td>\n      <td>115.3492</td>\n      <td>OUT018</td>\n      <td>2009</td>\n      <td>Medium</td>\n      <td>Tier 3</td>\n      <td>Supermarket Type2</td>\n      <td>1621.8888</td>\n    </tr>\n    <tr>\n      <th>31</th>\n      <td>NCS17</td>\n      <td>18.600</td>\n      <td>Low Fat</td>\n      <td>0.080829</td>\n      <td>Health and Hygiene</td>\n      <td>96.4436</td>\n      <td>OUT018</td>\n      <td>2009</td>\n      <td>Medium</td>\n      <td>Tier 3</td>\n      <td>Supermarket Type2</td>\n      <td>2741.7644</td>\n    </tr>\n    <tr>\n      <th>32</th>\n      <td>FDP33</td>\n      <td>18.700</td>\n      <td>Low Fat</td>\n      <td>0.000000</td>\n      <td>Snack Foods</td>\n      <td>256.6672</td>\n      <td>OUT018</td>\n      <td>2009</td>\n      <td>Medium</td>\n      <td>Tier 3</td>\n      <td>Supermarket Type2</td>\n      <td>3068.0064</td>\n    </tr>\n    <tr>\n      <th>...</th>\n      <td>...</td>\n      <td>...</td>\n      <td>...</td>\n      <td>...</td>\n      <td>...</td>\n      <td>...</td>\n      <td>...</td>\n      <td>...</td>\n      <td>...</td>\n      <td>...</td>\n      <td>...</td>\n      <td>...</td>\n    </tr>\n    <tr>\n      <th>8506</th>\n      <td>DRF37</td>\n      <td>17.250</td>\n      <td>Low Fat</td>\n      <td>0.084676</td>\n      <td>Soft Drinks</td>\n      <td>263.1910</td>\n      <td>OUT018</td>\n      <td>2009</td>\n      <td>Medium</td>\n      <td>Tier 3</td>\n      <td>Supermarket Type2</td>\n      <td>3944.8650</td>\n    </tr>\n    <tr>\n      <th>8511</th>\n      <td>FDF05</td>\n      <td>17.500</td>\n      <td>Low Fat</td>\n      <td>0.026980</td>\n      <td>Frozen Foods</td>\n      <td>262.5910</td>\n      <td>OUT018</td>\n      <td>2009</td>\n      <td>Medium</td>\n      <td>Tier 3</td>\n      <td>Supermarket Type2</td>\n      <td>4207.8560</td>\n    </tr>\n    <tr>\n      <th>8515</th>\n      <td>FDH24</td>\n      <td>20.700</td>\n      <td>Low Fat</td>\n      <td>0.021518</td>\n      <td>Baking Goods</td>\n      <td>157.5288</td>\n      <td>OUT018</td>\n      <td>2009</td>\n      <td>Medium</td>\n      <td>Tier 3</td>\n      <td>Supermarket Type2</td>\n      <td>1571.2880</td>\n    </tr>\n    <tr>\n      <th>8516</th>\n      <td>NCJ19</td>\n      <td>18.600</td>\n      <td>Low Fat</td>\n      <td>0.118661</td>\n      <td>Others</td>\n      <td>58.7588</td>\n      <td>OUT018</td>\n      <td>2009</td>\n      <td>Medium</td>\n      <td>Tier 3</td>\n      <td>Supermarket Type2</td>\n      <td>858.8820</td>\n    </tr>\n    <tr>\n      <th>8521</th>\n      <td>FDN46</td>\n      <td>7.210</td>\n      <td>Regular</td>\n      <td>0.145221</td>\n      <td>Snack Foods</td>\n      <td>103.1332</td>\n      <td>OUT018</td>\n      <td>2009</td>\n      <td>Medium</td>\n      <td>Tier 3</td>\n      <td>Supermarket Type2</td>\n      <td>1845.5976</td>\n    </tr>\n  </tbody>\n</table>\n<p>928 rows × 12 columns</p>\n</div>"
     },
     "execution_count": 12,
     "metadata": {},
     "output_type": "execute_result"
    }
   ]
  },
  {
   "cell_type": "markdown",
   "metadata": {
    "id": "O35smcQQlwT1",
    "colab_type": "text"
   },
   "source": [
    "***If you want to filter for a list of values from a column then instead of writing multiple conditions use the `isin` function.***\n",
    "\n",
    "---\n",
    "#### `HOW TO FILTER FOR A LIST OF VALUES?`\n",
    "---"
   ]
  },
  {
   "cell_type": "code",
   "metadata": {
    "id": "EjSalcvolwT3",
    "colab_type": "code",
    "colab": {},
    "outputId": "599f5f50-f3cf-4199-d025-6ae277057fa4"
   },
   "source": [
    "# get rows for 3 years 1987, 1988, 1999\n",
    "data[(data.Outlet_Establishment_Year == 1987) | (data.Outlet_Establishment_Year == 1988) | (data.Outlet_Establishment_Year == 1999)]"
   ],
   "execution_count": 13,
   "outputs": [
    {
     "data": {
      "text/plain": "     Item_Identifier  Item_Weight Item_Fat_Content  Item_Visibility  \\\n0              FDA15        9.300          Low Fat         0.016047   \n2              FDN15       17.500          Low Fat         0.016760   \n4              NCD19        8.930          Low Fat         0.000000   \n6              FDO10       13.650          Regular         0.012741   \n10             FDY07       11.800          Low Fat         0.000000   \n...              ...          ...              ...              ...   \n8475           NCS17       18.600          Low Fat         0.080627   \n8479           FDL10        8.395          Low Fat         0.039554   \n8484           DRJ49        6.865          Low Fat         0.000000   \n8512           FDR26       20.700          Low Fat         0.042801   \n8518           FDF22        6.865          Low Fat         0.056783   \n\n                  Item_Type  Item_MRP Outlet_Identifier  \\\n0                     Dairy  249.8092            OUT049   \n2                      Meat  141.6180            OUT049   \n4                 Household   53.8614            OUT013   \n6               Snack Foods   57.6588            OUT013   \n10    Fruits and Vegetables   45.5402            OUT049   \n...                     ...       ...               ...   \n8475     Health and Hygiene   92.5436            OUT049   \n8479            Snack Foods   99.1042            OUT049   \n8484            Soft Drinks  129.9652            OUT013   \n8512                  Dairy  178.3028            OUT013   \n8518            Snack Foods  214.5218            OUT013   \n\n      Outlet_Establishment_Year Outlet_Size Outlet_Location_Type  \\\n0                          1999      Medium               Tier 1   \n2                          1999      Medium               Tier 1   \n4                          1987        High               Tier 3   \n6                          1987        High               Tier 3   \n10                         1999      Medium               Tier 1   \n...                         ...         ...                  ...   \n8475                       1999      Medium               Tier 1   \n8479                       1999      Medium               Tier 1   \n8484                       1987        High               Tier 3   \n8512                       1987        High               Tier 3   \n8518                       1987        High               Tier 3   \n\n            Outlet_Type  Item_Outlet_Sales  \n0     Supermarket Type1          3735.1380  \n2     Supermarket Type1          2097.2700  \n4     Supermarket Type1           994.7052  \n6     Supermarket Type1           343.5528  \n10    Supermarket Type1          1516.0266  \n...                 ...                ...  \n8475  Supermarket Type1           378.1744  \n8479  Supermarket Type1          2579.3092  \n8484  Supermarket Type1          2324.9736  \n8512  Supermarket Type1          2479.4392  \n8518  Supermarket Type1          2778.3834  \n\n[1862 rows x 12 columns]",
      "text/html": "<div>\n<style scoped>\n    .dataframe tbody tr th:only-of-type {\n        vertical-align: middle;\n    }\n\n    .dataframe tbody tr th {\n        vertical-align: top;\n    }\n\n    .dataframe thead th {\n        text-align: right;\n    }\n</style>\n<table border=\"1\" class=\"dataframe\">\n  <thead>\n    <tr style=\"text-align: right;\">\n      <th></th>\n      <th>Item_Identifier</th>\n      <th>Item_Weight</th>\n      <th>Item_Fat_Content</th>\n      <th>Item_Visibility</th>\n      <th>Item_Type</th>\n      <th>Item_MRP</th>\n      <th>Outlet_Identifier</th>\n      <th>Outlet_Establishment_Year</th>\n      <th>Outlet_Size</th>\n      <th>Outlet_Location_Type</th>\n      <th>Outlet_Type</th>\n      <th>Item_Outlet_Sales</th>\n    </tr>\n  </thead>\n  <tbody>\n    <tr>\n      <th>0</th>\n      <td>FDA15</td>\n      <td>9.300</td>\n      <td>Low Fat</td>\n      <td>0.016047</td>\n      <td>Dairy</td>\n      <td>249.8092</td>\n      <td>OUT049</td>\n      <td>1999</td>\n      <td>Medium</td>\n      <td>Tier 1</td>\n      <td>Supermarket Type1</td>\n      <td>3735.1380</td>\n    </tr>\n    <tr>\n      <th>2</th>\n      <td>FDN15</td>\n      <td>17.500</td>\n      <td>Low Fat</td>\n      <td>0.016760</td>\n      <td>Meat</td>\n      <td>141.6180</td>\n      <td>OUT049</td>\n      <td>1999</td>\n      <td>Medium</td>\n      <td>Tier 1</td>\n      <td>Supermarket Type1</td>\n      <td>2097.2700</td>\n    </tr>\n    <tr>\n      <th>4</th>\n      <td>NCD19</td>\n      <td>8.930</td>\n      <td>Low Fat</td>\n      <td>0.000000</td>\n      <td>Household</td>\n      <td>53.8614</td>\n      <td>OUT013</td>\n      <td>1987</td>\n      <td>High</td>\n      <td>Tier 3</td>\n      <td>Supermarket Type1</td>\n      <td>994.7052</td>\n    </tr>\n    <tr>\n      <th>6</th>\n      <td>FDO10</td>\n      <td>13.650</td>\n      <td>Regular</td>\n      <td>0.012741</td>\n      <td>Snack Foods</td>\n      <td>57.6588</td>\n      <td>OUT013</td>\n      <td>1987</td>\n      <td>High</td>\n      <td>Tier 3</td>\n      <td>Supermarket Type1</td>\n      <td>343.5528</td>\n    </tr>\n    <tr>\n      <th>10</th>\n      <td>FDY07</td>\n      <td>11.800</td>\n      <td>Low Fat</td>\n      <td>0.000000</td>\n      <td>Fruits and Vegetables</td>\n      <td>45.5402</td>\n      <td>OUT049</td>\n      <td>1999</td>\n      <td>Medium</td>\n      <td>Tier 1</td>\n      <td>Supermarket Type1</td>\n      <td>1516.0266</td>\n    </tr>\n    <tr>\n      <th>...</th>\n      <td>...</td>\n      <td>...</td>\n      <td>...</td>\n      <td>...</td>\n      <td>...</td>\n      <td>...</td>\n      <td>...</td>\n      <td>...</td>\n      <td>...</td>\n      <td>...</td>\n      <td>...</td>\n      <td>...</td>\n    </tr>\n    <tr>\n      <th>8475</th>\n      <td>NCS17</td>\n      <td>18.600</td>\n      <td>Low Fat</td>\n      <td>0.080627</td>\n      <td>Health and Hygiene</td>\n      <td>92.5436</td>\n      <td>OUT049</td>\n      <td>1999</td>\n      <td>Medium</td>\n      <td>Tier 1</td>\n      <td>Supermarket Type1</td>\n      <td>378.1744</td>\n    </tr>\n    <tr>\n      <th>8479</th>\n      <td>FDL10</td>\n      <td>8.395</td>\n      <td>Low Fat</td>\n      <td>0.039554</td>\n      <td>Snack Foods</td>\n      <td>99.1042</td>\n      <td>OUT049</td>\n      <td>1999</td>\n      <td>Medium</td>\n      <td>Tier 1</td>\n      <td>Supermarket Type1</td>\n      <td>2579.3092</td>\n    </tr>\n    <tr>\n      <th>8484</th>\n      <td>DRJ49</td>\n      <td>6.865</td>\n      <td>Low Fat</td>\n      <td>0.000000</td>\n      <td>Soft Drinks</td>\n      <td>129.9652</td>\n      <td>OUT013</td>\n      <td>1987</td>\n      <td>High</td>\n      <td>Tier 3</td>\n      <td>Supermarket Type1</td>\n      <td>2324.9736</td>\n    </tr>\n    <tr>\n      <th>8512</th>\n      <td>FDR26</td>\n      <td>20.700</td>\n      <td>Low Fat</td>\n      <td>0.042801</td>\n      <td>Dairy</td>\n      <td>178.3028</td>\n      <td>OUT013</td>\n      <td>1987</td>\n      <td>High</td>\n      <td>Tier 3</td>\n      <td>Supermarket Type1</td>\n      <td>2479.4392</td>\n    </tr>\n    <tr>\n      <th>8518</th>\n      <td>FDF22</td>\n      <td>6.865</td>\n      <td>Low Fat</td>\n      <td>0.056783</td>\n      <td>Snack Foods</td>\n      <td>214.5218</td>\n      <td>OUT013</td>\n      <td>1987</td>\n      <td>High</td>\n      <td>Tier 3</td>\n      <td>Supermarket Type1</td>\n      <td>2778.3834</td>\n    </tr>\n  </tbody>\n</table>\n<p>1862 rows × 12 columns</p>\n</div>"
     },
     "execution_count": 13,
     "metadata": {},
     "output_type": "execute_result"
    }
   ]
  },
  {
   "cell_type": "code",
   "metadata": {
    "id": "fPXVUeqVlwT8",
    "colab_type": "code",
    "colab": {},
    "outputId": "ef0a19d2-f2dc-41f9-97a2-ab8e21ce2135"
   },
   "source": [
    "# filter for a list of values\n",
    "# data.loc[data.Outlet_Establishment_Year.isin([1987, 1988, 1999])]\n",
    "# data[data.Outlet_Establishment_Year.isin([1987, 1988])]\n",
    "data[data.Outlet_Establishment_Year.isin([1987, 2001, 1999, 1988])]"
   ],
   "execution_count": 14,
   "outputs": [
    {
     "data": {
      "text/plain": "     Item_Identifier  Item_Weight Item_Fat_Content  Item_Visibility  \\\n0              FDA15        9.300          Low Fat         0.016047   \n2              FDN15       17.500          Low Fat         0.016760   \n4              NCD19        8.930          Low Fat         0.000000   \n6              FDO10       13.650          Regular         0.012741   \n10             FDY07       11.800          Low Fat         0.000000   \n...              ...          ...              ...              ...   \n8475           NCS17       18.600          Low Fat         0.080627   \n8479           FDL10        8.395          Low Fat         0.039554   \n8484           DRJ49        6.865          Low Fat         0.000000   \n8512           FDR26       20.700          Low Fat         0.042801   \n8518           FDF22        6.865          Low Fat         0.056783   \n\n                  Item_Type  Item_MRP Outlet_Identifier  \\\n0                     Dairy  249.8092            OUT049   \n2                      Meat  141.6180            OUT049   \n4                 Household   53.8614            OUT013   \n6               Snack Foods   57.6588            OUT013   \n10    Fruits and Vegetables   45.5402            OUT049   \n...                     ...       ...               ...   \n8475     Health and Hygiene   92.5436            OUT049   \n8479            Snack Foods   99.1042            OUT049   \n8484            Soft Drinks  129.9652            OUT013   \n8512                  Dairy  178.3028            OUT013   \n8518            Snack Foods  214.5218            OUT013   \n\n      Outlet_Establishment_Year Outlet_Size Outlet_Location_Type  \\\n0                          1999      Medium               Tier 1   \n2                          1999      Medium               Tier 1   \n4                          1987        High               Tier 3   \n6                          1987        High               Tier 3   \n10                         1999      Medium               Tier 1   \n...                         ...         ...                  ...   \n8475                       1999      Medium               Tier 1   \n8479                       1999      Medium               Tier 1   \n8484                       1987        High               Tier 3   \n8512                       1987        High               Tier 3   \n8518                       1987        High               Tier 3   \n\n            Outlet_Type  Item_Outlet_Sales  \n0     Supermarket Type1          3735.1380  \n2     Supermarket Type1          2097.2700  \n4     Supermarket Type1           994.7052  \n6     Supermarket Type1           343.5528  \n10    Supermarket Type1          1516.0266  \n...                 ...                ...  \n8475  Supermarket Type1           378.1744  \n8479  Supermarket Type1          2579.3092  \n8484  Supermarket Type1          2324.9736  \n8512  Supermarket Type1          2479.4392  \n8518  Supermarket Type1          2778.3834  \n\n[1862 rows x 12 columns]",
      "text/html": "<div>\n<style scoped>\n    .dataframe tbody tr th:only-of-type {\n        vertical-align: middle;\n    }\n\n    .dataframe tbody tr th {\n        vertical-align: top;\n    }\n\n    .dataframe thead th {\n        text-align: right;\n    }\n</style>\n<table border=\"1\" class=\"dataframe\">\n  <thead>\n    <tr style=\"text-align: right;\">\n      <th></th>\n      <th>Item_Identifier</th>\n      <th>Item_Weight</th>\n      <th>Item_Fat_Content</th>\n      <th>Item_Visibility</th>\n      <th>Item_Type</th>\n      <th>Item_MRP</th>\n      <th>Outlet_Identifier</th>\n      <th>Outlet_Establishment_Year</th>\n      <th>Outlet_Size</th>\n      <th>Outlet_Location_Type</th>\n      <th>Outlet_Type</th>\n      <th>Item_Outlet_Sales</th>\n    </tr>\n  </thead>\n  <tbody>\n    <tr>\n      <th>0</th>\n      <td>FDA15</td>\n      <td>9.300</td>\n      <td>Low Fat</td>\n      <td>0.016047</td>\n      <td>Dairy</td>\n      <td>249.8092</td>\n      <td>OUT049</td>\n      <td>1999</td>\n      <td>Medium</td>\n      <td>Tier 1</td>\n      <td>Supermarket Type1</td>\n      <td>3735.1380</td>\n    </tr>\n    <tr>\n      <th>2</th>\n      <td>FDN15</td>\n      <td>17.500</td>\n      <td>Low Fat</td>\n      <td>0.016760</td>\n      <td>Meat</td>\n      <td>141.6180</td>\n      <td>OUT049</td>\n      <td>1999</td>\n      <td>Medium</td>\n      <td>Tier 1</td>\n      <td>Supermarket Type1</td>\n      <td>2097.2700</td>\n    </tr>\n    <tr>\n      <th>4</th>\n      <td>NCD19</td>\n      <td>8.930</td>\n      <td>Low Fat</td>\n      <td>0.000000</td>\n      <td>Household</td>\n      <td>53.8614</td>\n      <td>OUT013</td>\n      <td>1987</td>\n      <td>High</td>\n      <td>Tier 3</td>\n      <td>Supermarket Type1</td>\n      <td>994.7052</td>\n    </tr>\n    <tr>\n      <th>6</th>\n      <td>FDO10</td>\n      <td>13.650</td>\n      <td>Regular</td>\n      <td>0.012741</td>\n      <td>Snack Foods</td>\n      <td>57.6588</td>\n      <td>OUT013</td>\n      <td>1987</td>\n      <td>High</td>\n      <td>Tier 3</td>\n      <td>Supermarket Type1</td>\n      <td>343.5528</td>\n    </tr>\n    <tr>\n      <th>10</th>\n      <td>FDY07</td>\n      <td>11.800</td>\n      <td>Low Fat</td>\n      <td>0.000000</td>\n      <td>Fruits and Vegetables</td>\n      <td>45.5402</td>\n      <td>OUT049</td>\n      <td>1999</td>\n      <td>Medium</td>\n      <td>Tier 1</td>\n      <td>Supermarket Type1</td>\n      <td>1516.0266</td>\n    </tr>\n    <tr>\n      <th>...</th>\n      <td>...</td>\n      <td>...</td>\n      <td>...</td>\n      <td>...</td>\n      <td>...</td>\n      <td>...</td>\n      <td>...</td>\n      <td>...</td>\n      <td>...</td>\n      <td>...</td>\n      <td>...</td>\n      <td>...</td>\n    </tr>\n    <tr>\n      <th>8475</th>\n      <td>NCS17</td>\n      <td>18.600</td>\n      <td>Low Fat</td>\n      <td>0.080627</td>\n      <td>Health and Hygiene</td>\n      <td>92.5436</td>\n      <td>OUT049</td>\n      <td>1999</td>\n      <td>Medium</td>\n      <td>Tier 1</td>\n      <td>Supermarket Type1</td>\n      <td>378.1744</td>\n    </tr>\n    <tr>\n      <th>8479</th>\n      <td>FDL10</td>\n      <td>8.395</td>\n      <td>Low Fat</td>\n      <td>0.039554</td>\n      <td>Snack Foods</td>\n      <td>99.1042</td>\n      <td>OUT049</td>\n      <td>1999</td>\n      <td>Medium</td>\n      <td>Tier 1</td>\n      <td>Supermarket Type1</td>\n      <td>2579.3092</td>\n    </tr>\n    <tr>\n      <th>8484</th>\n      <td>DRJ49</td>\n      <td>6.865</td>\n      <td>Low Fat</td>\n      <td>0.000000</td>\n      <td>Soft Drinks</td>\n      <td>129.9652</td>\n      <td>OUT013</td>\n      <td>1987</td>\n      <td>High</td>\n      <td>Tier 3</td>\n      <td>Supermarket Type1</td>\n      <td>2324.9736</td>\n    </tr>\n    <tr>\n      <th>8512</th>\n      <td>FDR26</td>\n      <td>20.700</td>\n      <td>Low Fat</td>\n      <td>0.042801</td>\n      <td>Dairy</td>\n      <td>178.3028</td>\n      <td>OUT013</td>\n      <td>1987</td>\n      <td>High</td>\n      <td>Tier 3</td>\n      <td>Supermarket Type1</td>\n      <td>2479.4392</td>\n    </tr>\n    <tr>\n      <th>8518</th>\n      <td>FDF22</td>\n      <td>6.865</td>\n      <td>Low Fat</td>\n      <td>0.056783</td>\n      <td>Snack Foods</td>\n      <td>214.5218</td>\n      <td>OUT013</td>\n      <td>1987</td>\n      <td>High</td>\n      <td>Tier 3</td>\n      <td>Supermarket Type1</td>\n      <td>2778.3834</td>\n    </tr>\n  </tbody>\n</table>\n<p>1862 rows × 12 columns</p>\n</div>"
     },
     "execution_count": 14,
     "metadata": {},
     "output_type": "execute_result"
    }
   ]
  },
  {
   "cell_type": "markdown",
   "metadata": {
    "id": "7B2EGblRlwUB",
    "colab_type": "text"
   },
   "source": [
    "#### `HOW TO SELECT SPECIFIC COLUMNS FROM A DATA?`\n",
    "\n",
    "- ***You just need to pass a list of columns that you need.***\n",
    "\n",
    "\n",
    "---"
   ]
  },
  {
   "cell_type": "code",
   "metadata": {
    "id": "4ClHcCr_lwUC",
    "colab_type": "code",
    "colab": {},
    "outputId": "985768a8-1709-4821-ea8d-4bc6ade0ad32"
   },
   "source": [
    "# list of columns\n",
    "# select_columns = ['Item_Identifier', 'Item_MRP', 'Outlet_Establishment_Year', 'Outlet_Size']\n",
    "\n",
    "selected_columns = ['Item_Identifier', 'Item_MRP', 'Outlet_Establishment_Year', 'Outlet_Size']\n",
    "# dataframe with specific columns\n",
    "# data[select_columns]\n",
    "data[selected_columns]"
   ],
   "execution_count": 16,
   "outputs": [
    {
     "data": {
      "text/plain": "     Item_Identifier  Item_MRP  Outlet_Establishment_Year Outlet_Size\n0              FDA15  249.8092                       1999      Medium\n1              DRC01   48.2692                       2009      Medium\n2              FDN15  141.6180                       1999      Medium\n3              FDX07  182.0950                       1998         NaN\n4              NCD19   53.8614                       1987        High\n...              ...       ...                        ...         ...\n8518           FDF22  214.5218                       1987        High\n8519           FDS36  108.1570                       2002         NaN\n8520           NCJ29   85.1224                       2004       Small\n8521           FDN46  103.1332                       2009      Medium\n8522           DRG01   75.4670                       1997       Small\n\n[8523 rows x 4 columns]",
      "text/html": "<div>\n<style scoped>\n    .dataframe tbody tr th:only-of-type {\n        vertical-align: middle;\n    }\n\n    .dataframe tbody tr th {\n        vertical-align: top;\n    }\n\n    .dataframe thead th {\n        text-align: right;\n    }\n</style>\n<table border=\"1\" class=\"dataframe\">\n  <thead>\n    <tr style=\"text-align: right;\">\n      <th></th>\n      <th>Item_Identifier</th>\n      <th>Item_MRP</th>\n      <th>Outlet_Establishment_Year</th>\n      <th>Outlet_Size</th>\n    </tr>\n  </thead>\n  <tbody>\n    <tr>\n      <th>0</th>\n      <td>FDA15</td>\n      <td>249.8092</td>\n      <td>1999</td>\n      <td>Medium</td>\n    </tr>\n    <tr>\n      <th>1</th>\n      <td>DRC01</td>\n      <td>48.2692</td>\n      <td>2009</td>\n      <td>Medium</td>\n    </tr>\n    <tr>\n      <th>2</th>\n      <td>FDN15</td>\n      <td>141.6180</td>\n      <td>1999</td>\n      <td>Medium</td>\n    </tr>\n    <tr>\n      <th>3</th>\n      <td>FDX07</td>\n      <td>182.0950</td>\n      <td>1998</td>\n      <td>NaN</td>\n    </tr>\n    <tr>\n      <th>4</th>\n      <td>NCD19</td>\n      <td>53.8614</td>\n      <td>1987</td>\n      <td>High</td>\n    </tr>\n    <tr>\n      <th>...</th>\n      <td>...</td>\n      <td>...</td>\n      <td>...</td>\n      <td>...</td>\n    </tr>\n    <tr>\n      <th>8518</th>\n      <td>FDF22</td>\n      <td>214.5218</td>\n      <td>1987</td>\n      <td>High</td>\n    </tr>\n    <tr>\n      <th>8519</th>\n      <td>FDS36</td>\n      <td>108.1570</td>\n      <td>2002</td>\n      <td>NaN</td>\n    </tr>\n    <tr>\n      <th>8520</th>\n      <td>NCJ29</td>\n      <td>85.1224</td>\n      <td>2004</td>\n      <td>Small</td>\n    </tr>\n    <tr>\n      <th>8521</th>\n      <td>FDN46</td>\n      <td>103.1332</td>\n      <td>2009</td>\n      <td>Medium</td>\n    </tr>\n    <tr>\n      <th>8522</th>\n      <td>DRG01</td>\n      <td>75.4670</td>\n      <td>1997</td>\n      <td>Small</td>\n    </tr>\n  </tbody>\n</table>\n<p>8523 rows × 4 columns</p>\n</div>"
     },
     "execution_count": 16,
     "metadata": {},
     "output_type": "execute_result"
    }
   ]
  },
  {
   "cell_type": "markdown",
   "metadata": {
    "id": "34WQJ-AflwUI",
    "colab_type": "text"
   },
   "source": [
    "#### `HOW TO SELECT ROWS BASED ON A CONDITION AND VIEW ONLY THE SPECIFIC COLUMMS?`\n",
    "\n",
    "---\n",
    "\n",
    "***Using Square brackets***"
   ]
  },
  {
   "cell_type": "code",
   "metadata": {
    "id": "JYbPANJllwUJ",
    "colab_type": "code",
    "colab": {},
    "outputId": "fb5ec69c-fb37-4fd8-b908-bfc5d4c02a13"
   },
   "source": [
    "# list of specific columns\n",
    "# select_columns = ['Item_Identifier', 'Item_MRP', 'Outlet_Establishment_Year', 'Outlet_Size']\n",
    "\n",
    "# filter the data\n",
    "# data[(data.Outlet_Establishment_Year == 1987) & (data.Outlet_Size == 'High')][select_columns]\n",
    "\n",
    "data[(data.Outlet_Establishment_Year ==1987) & (data.Outlet_Size == 'High')][selected_columns]"
   ],
   "execution_count": 17,
   "outputs": [
    {
     "data": {
      "text/plain": "     Item_Identifier  Item_MRP  Outlet_Establishment_Year Outlet_Size\n4              NCD19   53.8614                       1987        High\n6              FDO10   57.6588                       1987        High\n14             FDF32  196.4426                       1987        High\n20             FDN22  250.8724                       1987        High\n27             DRJ59   39.1164                       1987        High\n...              ...       ...                        ...         ...\n8462           FDQ31   85.9856                       1987        High\n8466           FDJ32   61.2536                       1987        High\n8484           DRJ49  129.9652                       1987        High\n8512           FDR26  178.3028                       1987        High\n8518           FDF22  214.5218                       1987        High\n\n[932 rows x 4 columns]",
      "text/html": "<div>\n<style scoped>\n    .dataframe tbody tr th:only-of-type {\n        vertical-align: middle;\n    }\n\n    .dataframe tbody tr th {\n        vertical-align: top;\n    }\n\n    .dataframe thead th {\n        text-align: right;\n    }\n</style>\n<table border=\"1\" class=\"dataframe\">\n  <thead>\n    <tr style=\"text-align: right;\">\n      <th></th>\n      <th>Item_Identifier</th>\n      <th>Item_MRP</th>\n      <th>Outlet_Establishment_Year</th>\n      <th>Outlet_Size</th>\n    </tr>\n  </thead>\n  <tbody>\n    <tr>\n      <th>4</th>\n      <td>NCD19</td>\n      <td>53.8614</td>\n      <td>1987</td>\n      <td>High</td>\n    </tr>\n    <tr>\n      <th>6</th>\n      <td>FDO10</td>\n      <td>57.6588</td>\n      <td>1987</td>\n      <td>High</td>\n    </tr>\n    <tr>\n      <th>14</th>\n      <td>FDF32</td>\n      <td>196.4426</td>\n      <td>1987</td>\n      <td>High</td>\n    </tr>\n    <tr>\n      <th>20</th>\n      <td>FDN22</td>\n      <td>250.8724</td>\n      <td>1987</td>\n      <td>High</td>\n    </tr>\n    <tr>\n      <th>27</th>\n      <td>DRJ59</td>\n      <td>39.1164</td>\n      <td>1987</td>\n      <td>High</td>\n    </tr>\n    <tr>\n      <th>...</th>\n      <td>...</td>\n      <td>...</td>\n      <td>...</td>\n      <td>...</td>\n    </tr>\n    <tr>\n      <th>8462</th>\n      <td>FDQ31</td>\n      <td>85.9856</td>\n      <td>1987</td>\n      <td>High</td>\n    </tr>\n    <tr>\n      <th>8466</th>\n      <td>FDJ32</td>\n      <td>61.2536</td>\n      <td>1987</td>\n      <td>High</td>\n    </tr>\n    <tr>\n      <th>8484</th>\n      <td>DRJ49</td>\n      <td>129.9652</td>\n      <td>1987</td>\n      <td>High</td>\n    </tr>\n    <tr>\n      <th>8512</th>\n      <td>FDR26</td>\n      <td>178.3028</td>\n      <td>1987</td>\n      <td>High</td>\n    </tr>\n    <tr>\n      <th>8518</th>\n      <td>FDF22</td>\n      <td>214.5218</td>\n      <td>1987</td>\n      <td>High</td>\n    </tr>\n  </tbody>\n</table>\n<p>932 rows × 4 columns</p>\n</div>"
     },
     "execution_count": 17,
     "metadata": {},
     "output_type": "execute_result"
    }
   ]
  },
  {
   "cell_type": "markdown",
   "metadata": {
    "id": "6jtRCblXlwUO",
    "colab_type": "text"
   },
   "source": [
    "***Using loc***\n",
    "\n",
    "- Using loc, we can provide columns to select within the same square bracket.\n",
    "\n",
    "---"
   ]
  },
  {
   "cell_type": "code",
   "metadata": {
    "id": "yABf-ruhlwUQ",
    "colab_type": "code",
    "colab": {},
    "outputId": "225efdc0-79f9-4bef-a872-12dbb2b515ee"
   },
   "source": [
    "# data.loc[(data.Outlet_Establishment_Year == 1987) & (data.Outlet_Size == 'High'), select_columns]\n",
    "data.loc[(data.Outlet_Establishment_Year ==1987) & (data.Outlet_Size == 'High'), selected_columns] #[selected_columns]\n",
    "\n"
   ],
   "execution_count": 19,
   "outputs": [
    {
     "data": {
      "text/plain": "     Item_Identifier  Item_MRP  Outlet_Establishment_Year Outlet_Size\n4              NCD19   53.8614                       1987        High\n6              FDO10   57.6588                       1987        High\n14             FDF32  196.4426                       1987        High\n20             FDN22  250.8724                       1987        High\n27             DRJ59   39.1164                       1987        High\n...              ...       ...                        ...         ...\n8462           FDQ31   85.9856                       1987        High\n8466           FDJ32   61.2536                       1987        High\n8484           DRJ49  129.9652                       1987        High\n8512           FDR26  178.3028                       1987        High\n8518           FDF22  214.5218                       1987        High\n\n[932 rows x 4 columns]",
      "text/html": "<div>\n<style scoped>\n    .dataframe tbody tr th:only-of-type {\n        vertical-align: middle;\n    }\n\n    .dataframe tbody tr th {\n        vertical-align: top;\n    }\n\n    .dataframe thead th {\n        text-align: right;\n    }\n</style>\n<table border=\"1\" class=\"dataframe\">\n  <thead>\n    <tr style=\"text-align: right;\">\n      <th></th>\n      <th>Item_Identifier</th>\n      <th>Item_MRP</th>\n      <th>Outlet_Establishment_Year</th>\n      <th>Outlet_Size</th>\n    </tr>\n  </thead>\n  <tbody>\n    <tr>\n      <th>4</th>\n      <td>NCD19</td>\n      <td>53.8614</td>\n      <td>1987</td>\n      <td>High</td>\n    </tr>\n    <tr>\n      <th>6</th>\n      <td>FDO10</td>\n      <td>57.6588</td>\n      <td>1987</td>\n      <td>High</td>\n    </tr>\n    <tr>\n      <th>14</th>\n      <td>FDF32</td>\n      <td>196.4426</td>\n      <td>1987</td>\n      <td>High</td>\n    </tr>\n    <tr>\n      <th>20</th>\n      <td>FDN22</td>\n      <td>250.8724</td>\n      <td>1987</td>\n      <td>High</td>\n    </tr>\n    <tr>\n      <th>27</th>\n      <td>DRJ59</td>\n      <td>39.1164</td>\n      <td>1987</td>\n      <td>High</td>\n    </tr>\n    <tr>\n      <th>...</th>\n      <td>...</td>\n      <td>...</td>\n      <td>...</td>\n      <td>...</td>\n    </tr>\n    <tr>\n      <th>8462</th>\n      <td>FDQ31</td>\n      <td>85.9856</td>\n      <td>1987</td>\n      <td>High</td>\n    </tr>\n    <tr>\n      <th>8466</th>\n      <td>FDJ32</td>\n      <td>61.2536</td>\n      <td>1987</td>\n      <td>High</td>\n    </tr>\n    <tr>\n      <th>8484</th>\n      <td>DRJ49</td>\n      <td>129.9652</td>\n      <td>1987</td>\n      <td>High</td>\n    </tr>\n    <tr>\n      <th>8512</th>\n      <td>FDR26</td>\n      <td>178.3028</td>\n      <td>1987</td>\n      <td>High</td>\n    </tr>\n    <tr>\n      <th>8518</th>\n      <td>FDF22</td>\n      <td>214.5218</td>\n      <td>1987</td>\n      <td>High</td>\n    </tr>\n  </tbody>\n</table>\n<p>932 rows × 4 columns</p>\n</div>"
     },
     "execution_count": 19,
     "metadata": {},
     "output_type": "execute_result"
    }
   ]
  },
  {
   "cell_type": "markdown",
   "metadata": {
    "id": "agYvFKeqlwUV",
    "colab_type": "text"
   },
   "source": [
    "---\n",
    "\n",
    "#### `HOW TO SELECT THE COLUMNS WITH SPECIFIC DATA TYPES?`\n",
    "\n",
    "\n",
    "- ***Let's first see the data type of each column using `dtypes` function.***\n",
    "\n",
    "---"
   ]
  },
  {
   "cell_type": "code",
   "metadata": {
    "id": "Gp3tID2DlwUW",
    "colab_type": "code",
    "colab": {},
    "outputId": "46df3048-1bc2-40fd-fda3-98cf56802f30"
   },
   "source": [
    "# check the data types of the columns\n",
    "data.dtypes"
   ],
   "execution_count": 20,
   "outputs": [
    {
     "data": {
      "text/plain": "Item_Identifier               object\nItem_Weight                  float64\nItem_Fat_Content              object\nItem_Visibility              float64\nItem_Type                     object\nItem_MRP                     float64\nOutlet_Identifier             object\nOutlet_Establishment_Year      int64\nOutlet_Size                   object\nOutlet_Location_Type          object\nOutlet_Type                   object\nItem_Outlet_Sales            float64\ndtype: object"
     },
     "execution_count": 20,
     "metadata": {},
     "output_type": "execute_result"
    }
   ]
  },
  {
   "cell_type": "markdown",
   "metadata": {
    "id": "T9MAJy77lwUb",
    "colab_type": "text"
   },
   "source": [
    "---\n",
    "\n",
    "\n",
    "#### `Select the columns with object data type (categorical variables) only`\n",
    "\n",
    "---"
   ]
  },
  {
   "cell_type": "code",
   "metadata": {
    "id": "KLMsJmg-lwUc",
    "colab_type": "code",
    "colab": {},
    "outputId": "ee721848-d26c-41b1-877e-eb5790bdaf09"
   },
   "source": [
    "# select the columns where data type = object\n",
    "# data.select_dtypes('object')\n",
    "data.select_dtypes('object')"
   ],
   "execution_count": 22,
   "outputs": [
    {
     "data": {
      "text/plain": "     Item_Identifier Item_Fat_Content              Item_Type  \\\n0              FDA15          Low Fat                  Dairy   \n1              DRC01          Regular            Soft Drinks   \n2              FDN15          Low Fat                   Meat   \n3              FDX07          Regular  Fruits and Vegetables   \n4              NCD19          Low Fat              Household   \n...              ...              ...                    ...   \n8518           FDF22          Low Fat            Snack Foods   \n8519           FDS36          Regular           Baking Goods   \n8520           NCJ29          Low Fat     Health and Hygiene   \n8521           FDN46          Regular            Snack Foods   \n8522           DRG01          Low Fat            Soft Drinks   \n\n     Outlet_Identifier Outlet_Size Outlet_Location_Type        Outlet_Type  \n0               OUT049      Medium               Tier 1  Supermarket Type1  \n1               OUT018      Medium               Tier 3  Supermarket Type2  \n2               OUT049      Medium               Tier 1  Supermarket Type1  \n3               OUT010         NaN               Tier 3      Grocery Store  \n4               OUT013        High               Tier 3  Supermarket Type1  \n...                ...         ...                  ...                ...  \n8518            OUT013        High               Tier 3  Supermarket Type1  \n8519            OUT045         NaN               Tier 2  Supermarket Type1  \n8520            OUT035       Small               Tier 2  Supermarket Type1  \n8521            OUT018      Medium               Tier 3  Supermarket Type2  \n8522            OUT046       Small               Tier 1  Supermarket Type1  \n\n[8523 rows x 7 columns]",
      "text/html": "<div>\n<style scoped>\n    .dataframe tbody tr th:only-of-type {\n        vertical-align: middle;\n    }\n\n    .dataframe tbody tr th {\n        vertical-align: top;\n    }\n\n    .dataframe thead th {\n        text-align: right;\n    }\n</style>\n<table border=\"1\" class=\"dataframe\">\n  <thead>\n    <tr style=\"text-align: right;\">\n      <th></th>\n      <th>Item_Identifier</th>\n      <th>Item_Fat_Content</th>\n      <th>Item_Type</th>\n      <th>Outlet_Identifier</th>\n      <th>Outlet_Size</th>\n      <th>Outlet_Location_Type</th>\n      <th>Outlet_Type</th>\n    </tr>\n  </thead>\n  <tbody>\n    <tr>\n      <th>0</th>\n      <td>FDA15</td>\n      <td>Low Fat</td>\n      <td>Dairy</td>\n      <td>OUT049</td>\n      <td>Medium</td>\n      <td>Tier 1</td>\n      <td>Supermarket Type1</td>\n    </tr>\n    <tr>\n      <th>1</th>\n      <td>DRC01</td>\n      <td>Regular</td>\n      <td>Soft Drinks</td>\n      <td>OUT018</td>\n      <td>Medium</td>\n      <td>Tier 3</td>\n      <td>Supermarket Type2</td>\n    </tr>\n    <tr>\n      <th>2</th>\n      <td>FDN15</td>\n      <td>Low Fat</td>\n      <td>Meat</td>\n      <td>OUT049</td>\n      <td>Medium</td>\n      <td>Tier 1</td>\n      <td>Supermarket Type1</td>\n    </tr>\n    <tr>\n      <th>3</th>\n      <td>FDX07</td>\n      <td>Regular</td>\n      <td>Fruits and Vegetables</td>\n      <td>OUT010</td>\n      <td>NaN</td>\n      <td>Tier 3</td>\n      <td>Grocery Store</td>\n    </tr>\n    <tr>\n      <th>4</th>\n      <td>NCD19</td>\n      <td>Low Fat</td>\n      <td>Household</td>\n      <td>OUT013</td>\n      <td>High</td>\n      <td>Tier 3</td>\n      <td>Supermarket Type1</td>\n    </tr>\n    <tr>\n      <th>...</th>\n      <td>...</td>\n      <td>...</td>\n      <td>...</td>\n      <td>...</td>\n      <td>...</td>\n      <td>...</td>\n      <td>...</td>\n    </tr>\n    <tr>\n      <th>8518</th>\n      <td>FDF22</td>\n      <td>Low Fat</td>\n      <td>Snack Foods</td>\n      <td>OUT013</td>\n      <td>High</td>\n      <td>Tier 3</td>\n      <td>Supermarket Type1</td>\n    </tr>\n    <tr>\n      <th>8519</th>\n      <td>FDS36</td>\n      <td>Regular</td>\n      <td>Baking Goods</td>\n      <td>OUT045</td>\n      <td>NaN</td>\n      <td>Tier 2</td>\n      <td>Supermarket Type1</td>\n    </tr>\n    <tr>\n      <th>8520</th>\n      <td>NCJ29</td>\n      <td>Low Fat</td>\n      <td>Health and Hygiene</td>\n      <td>OUT035</td>\n      <td>Small</td>\n      <td>Tier 2</td>\n      <td>Supermarket Type1</td>\n    </tr>\n    <tr>\n      <th>8521</th>\n      <td>FDN46</td>\n      <td>Regular</td>\n      <td>Snack Foods</td>\n      <td>OUT018</td>\n      <td>Medium</td>\n      <td>Tier 3</td>\n      <td>Supermarket Type2</td>\n    </tr>\n    <tr>\n      <th>8522</th>\n      <td>DRG01</td>\n      <td>Low Fat</td>\n      <td>Soft Drinks</td>\n      <td>OUT046</td>\n      <td>Small</td>\n      <td>Tier 1</td>\n      <td>Supermarket Type1</td>\n    </tr>\n  </tbody>\n</table>\n<p>8523 rows × 7 columns</p>\n</div>"
     },
     "execution_count": 22,
     "metadata": {},
     "output_type": "execute_result"
    }
   ]
  },
  {
   "cell_type": "markdown",
   "metadata": {
    "id": "LLWuG_DIlwUi",
    "colab_type": "text"
   },
   "source": [
    "#### `Select the columns with float64 datatype`\n",
    "\n",
    "---"
   ]
  },
  {
   "cell_type": "code",
   "metadata": {
    "id": "XPD5FDFclwUk",
    "colab_type": "code",
    "colab": {},
    "outputId": "3f8272bf-ef12-4b33-8e90-43e2c17e279b"
   },
   "source": [
    "# select numerical datatype\n",
    "data.select_dtypes('int64')"
   ],
   "execution_count": 23,
   "outputs": [
    {
     "data": {
      "text/plain": "      Outlet_Establishment_Year\n0                          1999\n1                          2009\n2                          1999\n3                          1998\n4                          1987\n...                         ...\n8518                       1987\n8519                       2002\n8520                       2004\n8521                       2009\n8522                       1997\n\n[8523 rows x 1 columns]",
      "text/html": "<div>\n<style scoped>\n    .dataframe tbody tr th:only-of-type {\n        vertical-align: middle;\n    }\n\n    .dataframe tbody tr th {\n        vertical-align: top;\n    }\n\n    .dataframe thead th {\n        text-align: right;\n    }\n</style>\n<table border=\"1\" class=\"dataframe\">\n  <thead>\n    <tr style=\"text-align: right;\">\n      <th></th>\n      <th>Outlet_Establishment_Year</th>\n    </tr>\n  </thead>\n  <tbody>\n    <tr>\n      <th>0</th>\n      <td>1999</td>\n    </tr>\n    <tr>\n      <th>1</th>\n      <td>2009</td>\n    </tr>\n    <tr>\n      <th>2</th>\n      <td>1999</td>\n    </tr>\n    <tr>\n      <th>3</th>\n      <td>1998</td>\n    </tr>\n    <tr>\n      <th>4</th>\n      <td>1987</td>\n    </tr>\n    <tr>\n      <th>...</th>\n      <td>...</td>\n    </tr>\n    <tr>\n      <th>8518</th>\n      <td>1987</td>\n    </tr>\n    <tr>\n      <th>8519</th>\n      <td>2002</td>\n    </tr>\n    <tr>\n      <th>8520</th>\n      <td>2004</td>\n    </tr>\n    <tr>\n      <th>8521</th>\n      <td>2009</td>\n    </tr>\n    <tr>\n      <th>8522</th>\n      <td>1997</td>\n    </tr>\n  </tbody>\n</table>\n<p>8523 rows × 1 columns</p>\n</div>"
     },
     "execution_count": 23,
     "metadata": {},
     "output_type": "execute_result"
    }
   ]
  },
  {
   "cell_type": "markdown",
   "metadata": {
    "id": "HmJoTJKAlwUp",
    "colab_type": "text"
   },
   "source": [
    "#### `df[] VS df.loc[] WHEN TO USE WHICH?`\n",
    "\n",
    "---\n",
    "\n",
    " - `df.loc[]` provides simpler syntax over `df[]`\n",
    " - Both have similar performance in terms of execution time\n",
    " - `df.loc[]` also works with label based subsetting\n",
    " - `df[]` sometimes has unwanted behavior, hence as a good practice it is recommended to use `df.loc[]`. \n",
    " \n",
    " Read here for more info: https://stackoverflow.com/a/38886211"
   ]
  },
  {
   "cell_type": "code",
   "metadata": {
    "id": "0wwh3OMFlwUq",
    "colab_type": "code",
    "colab": {}
   },
   "source": [],
   "execution_count": 0,
   "outputs": []
  }
 ]
}
